{
 "cells": [
  {
   "cell_type": "code",
   "execution_count": 1,
   "metadata": {},
   "outputs": [],
   "source": [
    "import sys \n",
    "# locate to the working folder\n",
    "# sys.path.append(\"D:\\\\GitHub\\\\Clone\\\\planning\\\\ruixuan\")\n",
    "from ruixuan.turning_scene import *\n",
    "from l5kit.rasterization.rasterizer_builder import _load_metadata\n",
    "import time\n",
    "import pickle\n",
    "import math\n",
    "from collections import deque"
   ]
  },
  {
   "cell_type": "code",
   "execution_count": 3,
   "metadata": {},
   "outputs": [
    {
     "name": "stdout",
     "output_type": "stream",
     "text": [
      "{'format_version': 4, 'model_params': {'model_architecture': 'resnet50', 'history_num_frames': 0, 'future_num_frames': 50, 'step_time': 0.1}, 'raster_params': {'raster_size': [320, 320], 'pixel_size': [0.5, 0.5], 'ego_center': [0.6, 0.5], 'map_type': 'py_semantic', 'satellite_map_key': 'aerial_map/aerial_map.png', 'semantic_map_key': 'semantic_map/semantic_map.pb', 'dataset_meta_key': 'meta.json', 'filter_agents_threshold': 0.5, 'disable_traffic_light_faces': False, 'set_origin_to_bottom': True}, 'val_data_loader': {'key': 'scenes/train.zarr', 'batch_size': 12, 'shuffle': False, 'num_workers': 16}}\n",
      "+------------+------------+------------+---------------+-----------------+----------------------+----------------------+----------------------+---------------------+\n",
      "| Num Scenes | Num Frames | Num Agents | Num TR lights | Total Time (hr) | Avg Frames per Scene | Avg Agents per Frame | Avg Scene Time (sec) | Avg Frame frequency |\n",
      "+------------+------------+------------+---------------+-----------------+----------------------+----------------------+----------------------+---------------------+\n",
      "|   16265    |  4039527   | 320124624  |    38735988   |      112.19     |        248.36        |        79.25         |        24.83         |        10.00        |\n",
      "+------------+------------+------------+---------------+-----------------+----------------------+----------------------+----------------------+---------------------+\n"
     ]
    }
   ],
   "source": [
    "# set env variable for data\n",
    "os.environ[\"L5KIT_DATA_FOLDER\"] = \"/home/lab1/repo/planning/prediction-dataset\"\n",
    "# get config\n",
    "cfg = load_config_data(\"/home/lab1/repo/planning/ruixuan/visualisation_config.yaml\")\n",
    "print(cfg)\n",
    "\n",
    "dm = LocalDataManager()\n",
    "dataset_path = dm.require(cfg[\"val_data_loader\"][\"key\"])\n",
    "zarr_dataset = ChunkedDataset(dataset_path)\n",
    "zarr_dataset.open()\n",
    "print(zarr_dataset)\n",
    "\n",
    "rast = build_rasterizer(cfg, dm)\n",
    "ego_dataset = EgoDataset(cfg, zarr_dataset, rast)\n",
    "\n",
    "semantic_map_filepath = dm.require(cfg[\"raster_params\"][\"semantic_map_key\"])\n",
    "dataset_meta = _load_metadata(cfg[\"raster_params\"][\"dataset_meta_key\"], dm)\n",
    "world_to_ecef = np.array(dataset_meta[\"world_to_ecef\"], dtype=np.float64)\n",
    "Map_Api = MapAPI(semantic_map_filepath, world_to_ecef)"
   ]
  },
  {
   "cell_type": "code",
   "execution_count": 4,
   "metadata": {},
   "outputs": [],
   "source": [
    "junction_lane_merge = np.load('ruixuan/target_scene_index/lane_merge/scene_index(lane_merge)_Pedestrian.npy',allow_pickle = True)\n",
    "junction_8KfB = np.load('ruixuan/target_scene_index/8KfB/scene_index(8KfB)_Pedestrian.npy',allow_pickle = True)"
   ]
  },
  {
   "cell_type": "code",
   "execution_count": 5,
   "metadata": {},
   "outputs": [],
   "source": [
    "class Trajectory(Scene):\n",
    "    \n",
    "    def __init__(self, dataset, Map_Api):\n",
    "        super(Trajectory, self).__init__(dataset, Map_Api)\n",
    "        self.label_name = ['Car','Van','Tram','Bus','Truck','EV','OV','Bicycle',\\\n",
    "                           'Motorcycle','Cyclist','Motorcyclist','Pedestrian']\n",
    "        self.label_idx = list(range(3,15))\n",
    "        self.label_dict = dict(zip(self.label_name, self.label_idx))\n",
    "        self.all_traffic_control = None\n",
    "        self.Traffic_Control = None\n",
    "\n",
    "    def generate_info_from_MAP(self):\n",
    "        self.all_junctions = self.get_elements(\"junction\")\n",
    "        self.all_lanes = self.get_elements(\"lane\")\n",
    "        self.all_traffic_control = self.get_elements(\"traffic_control_element\")\n",
    "        self.Lane = {self.map_api.id_as_str(lane.id):lane.element.lane for lane in self.all_lanes}\n",
    "        self.Junction = {self.map_api.id_as_str(junction.id):junction for junction in self.all_junctions}\n",
    "        self.Traffic_Control = {self.map_api.id_as_str(traffic_control.id):traffic_control.element for traffic_control in self.all_traffic_control}\n",
    "        \n",
    "        for junction in self.all_junctions:\n",
    "            self.Junction_Lane[self.map_api.id_as_str(junction.id)] = []\n",
    "\n",
    "            for lane in junction.element.junction.lanes:\n",
    "                self.Junction_Lane[self.map_api.id_as_str(junction.id)].append(self.map_api.id_as_str(lane))\n",
    "\n",
    "            self.Junction_Lane[self.map_api.id_as_str(junction.id)] = set(self.Junction_Lane[self.map_api.id_as_str(junction.id)])\n",
    "        \n",
    "        self.junction_scene = dict.fromkeys(list(self.Junction.keys()), [])\n",
    "        self.junction_turning_scene = dict.fromkeys(list(self.Junction.keys()), {})\n",
    "        for key in self.Junction.keys():\n",
    "            self.junction_turning_scene[key] = {'Turning Left': [], 'Turning Right': []}    \n",
    "        \n",
    "        \n",
    "    def label_loc_check(self, target_label):\n",
    "    \n",
    "        agent_id_list = self.agent_list[self.label_dict[target_label]-3]\n",
    "\n",
    "        for agent_id in agent_id_list:\n",
    "            agent_loc = self.agent_centroid[np.where(self.agent_id==agent_id)[0]]\n",
    "            for centroid in agent_loc:\n",
    "                if self.Junction_region.contains(Point(centroid[0],centroid[1])):\n",
    "                    return True\n",
    "    \n",
    "    def junction_lane_visualize(self, junction_id):\n",
    "        \n",
    "        plt.figure(figsize=(18,18))\n",
    "        \n",
    "        lane_list = self.Junction_Lane[junction_id]\n",
    "        \n",
    "        for lane in lane_list:\n",
    "            plt.plot(self.map_api.get_lane_coords(lane)['xyz_left'][:,0].tolist()+ self.map_api.get_lane_coords(lane)['xyz_right'][:,0].tolist(),\n",
    "                        self.map_api.get_lane_coords(lane)['xyz_left'][:,1].tolist()+ self.map_api.get_lane_coords(lane)['xyz_right'][:,1].tolist(),\n",
    "                        marker='x', label = lane)\n",
    "\n",
    "        plt.axis(\"equal\")\n",
    "        plt.grid(which='both')\n",
    "        plt.legend(fontsize=20)\n",
    "        axes = plt.gca()  \n",
    "    \n",
    "                \n",
    "    def agent_trajectory(self, scene, target_label, junction_boundary):\n",
    "\n",
    "        self.scene = scene\n",
    "        self.target_label = target_label\n",
    "#         self.junction = junction\n",
    "        # region for junction \"sGK1\"\n",
    "#         junction_boundary = {junction:[(300,-1150),[300,-1100],(340,-1100),(340,-1150)]}\n",
    "\n",
    "        # region for junction \"8KfB\"\n",
    "#         junction_boundary = {junction:[(500,-2420),(500,-2360),(560,-2360),(560,-2420)]}\n",
    "        \n",
    "        # region for lane merge\n",
    "#         junction_boundary = {junction:[(-940,1380),(-940,1480),(-880,1380),(-880,1480)]}\n",
    "\n",
    "        self.Junction_region = Polygon(junction_boundary)\n",
    "\n",
    "        self.agent_list = []\n",
    "        frame_interval = self.dataset.scenes[scene]['frame_index_interval']\n",
    "        agent_interval_begin = self.dataset.frames[frame_interval[0]]['agent_index_interval'][0]\n",
    "        agent_interval_end = self.dataset.frames[frame_interval[1]-1]['agent_index_interval'][1]\n",
    "        self.agent_id = self.dataset.agents[agent_interval_begin:agent_interval_end]['track_id']\n",
    "        agent_label_prob = self.dataset.agents[agent_interval_begin:agent_interval_end]['label_probabilities']\n",
    "        self.agent_centroid = self.dataset.agents[agent_interval_begin:agent_interval_end]['centroid']\n",
    "\n",
    "        for label in self.label_idx:\n",
    "            valid_idx = np.where(agent_label_prob[:,label]>0.5)[0]\n",
    "            valid_id = set(self.agent_id[valid_idx])\n",
    "            self.agent_list.append(list(valid_id))\n",
    "\n",
    "        if len(self.agent_list[self.label_dict[target_label]-3])>0 and self.label_loc_check(target_label):\n",
    "            return [scene]\n",
    "        else:\n",
    "            # print('Not feasible scene')\n",
    "            return []\n",
    "        \n",
    "    def get_agent_traj(self, scene, target_label, junction, lane_list):\n",
    "        veh_traj, ped_traj, cyclist_traj=[], [], [] \n",
    "        print(self.label_dict, self.label_dict[target_label])\n",
    "        for idx, agent_label in enumerate(self.agent_list):\n",
    "            print(\"xxx\", idx, agent_label)\n",
    "            for agent in agent_label:\n",
    "                agent_loc = self.agent_centroid[np.where(self.agent_id==agent)[0]]\n",
    "                if idx != self.label_dict[target_label]-3 and agent_loc.shape[0] > 200  \\\n",
    "                and np.linalg.norm(agent_loc[0,:]-agent_loc[-1,:]) > 5:\n",
    "                    veh_traj.append(agent_loc)\n",
    "#                     plt.plot(agent_loc[:,0],agent_loc[:,1],label='Agent ID '+str(agent)+': '\\\n",
    "#                              +self.label_name[idx], color=colors[idx])\n",
    "\n",
    "                elif idx== self.label_dict[target_label]-3 and agent_loc.shape[0] > 100:\n",
    "                    ped_traj.append(agent_loc)\n",
    "        veh_traj, ped_traj, cyclist_traj = np.array(veh_traj), np.array(ped_traj), np.array(cyclist_traj)\n",
    "        return veh_traj, ped_traj,cyclist_traj\n",
    "#                     plt.plot(agent_loc[:,0],agent_loc[:,1], color=colors[idx], marker='*')\n",
    "            \n",
    "            \n",
    "            \n",
    "    def trajectory_junction_visualize(self, scene, target_label, junction, lane_list):\n",
    "        \n",
    "        frame_interval = self.dataset.scenes[scene]['frame_index_interval']\n",
    "        \n",
    "        plt.figure(figsize=(18,18))\n",
    "\n",
    "        for lane in lane_list:\n",
    "            plt.plot(self.map_api.get_lane_coords(lane)['xyz_right'][:,0], self.map_api.get_lane_coords(lane)['xyz_right'][:,1],\n",
    "                     color='k',linewidth=5, alpha=0.2)\n",
    "            plt.plot(self.map_api.get_lane_coords(lane)['xyz_left'][:,0], self.map_api.get_lane_coords(lane)['xyz_left'][:,1],\n",
    "                     color='k',linewidth=5, alpha=0.2)\n",
    "\n",
    "        cmap = plt.get_cmap('gnuplot')    \n",
    "        colors = ['#1f77b4', '#ff7f0e', '#2ca02c', '#d62728', '#9467bd',\n",
    "         '#8c564b', '#e377c2', '#7f7f7f', '#bcbd22', '#17becf','maple','yellowgreen'] \n",
    "\n",
    "        for idx, agent_label in enumerate(self.agent_list):\n",
    "            for agent in agent_label:\n",
    "                agent_loc = self.agent_centroid[np.where(self.agent_id==agent)[0]]\n",
    "                if idx != self.label_dict[target_label]-3 and agent_loc.shape[0] > 100  and np.linalg.norm(agent_loc[0,:]-agent_loc[-1,:]) > 5:\n",
    "                    plt.plot(agent_loc[:,0],agent_loc[:,1],label='Agent ID '+str(agent)+': '+self.label_name[idx], color=colors[idx])\n",
    "\n",
    "                elif idx== self.label_dict[target_label]-3 and  agent_loc.shape[0] > 100:\n",
    "                    plt.plot(agent_loc[:,0],agent_loc[:,1], color=colors[idx], marker='*')\n",
    "\n",
    "        ego_translation = self.frames[frame_interval[0]:frame_interval[1]]['ego_translation']\n",
    "        plt.plot(ego_translation[:,0],ego_translation[:,1],label='Ego',color='r')\n",
    "        turn = ' Left Turn' if rotation33_as_yaw(self.frames[frame_interval[0]]['ego_rotation']) - rotation33_as_yaw(self.frames[frame_interval[1]-1]['ego_rotation']) < 0 else ' Right Turn'\n",
    "\n",
    "        plt.axis(\"equal\")\n",
    "        plt.grid(which='both')\n",
    "        plt.legend(fontsize=20,loc='best')\n",
    "        plt.title('Trajectory : Scene '+str(scene)+turn+' at Junction '+junction, fontsize=30)\n",
    "        axes = plt.gca()\n"
   ]
  },
  {
   "cell_type": "code",
   "execution_count": 6,
   "metadata": {},
   "outputs": [],
   "source": [
    "def get_trajectory(intersection_id, scene, lane_list, junction_boundary):\n",
    "    \n",
    "    Test.agent_trajectory(scene, 'Pedestrian', junction_boundary[intersection_id])\n",
    "    veh_traj, ped_traj,cyclist_traj = Test.get_agent_traj(scene, 'Pedestrian', intersection_id, lane_list[intersection_id])\n",
    "    return veh_traj, ped_traj,cyclist_traj"
   ]
  },
  {
   "cell_type": "code",
   "execution_count": 7,
   "metadata": {},
   "outputs": [],
   "source": [
    "lane_list = {}\n",
    "junction_boundary = {}\n",
    "# extend lane sequences\n",
    "lane_list['lane_merge'] = ['ADrl',\"oFEC\",'m0JU','iQgg','M5V5','/Pgg','FFEC','XHTU']\n",
    "lane_list['8KfB'] = ['/24B','6p63','FV1O','MV/U','SxVb','TG2b','TZZv','ZnUV','bH1o','dddQ','nXc0','zHjP','SD8o','vC8o']\n",
    "junction_boundary['lane_merge'] = [(-940,1380),(-940,1480),(-880,1380),(-880,1480)]\n",
    "junction_boundary['8KfB'] = [(500,-2420),(500,-2360),(560,-2360),(560,-2420)]\n",
    "# junction_boundary['8KfB'] = [(450,-2400),(500,-2360),(560,-2360),(560,-2420)]\n",
    "\n",
    "grid_boundary={}\n",
    "grid_boundary['8KfB']={'X':[450,600], 'Y':[-2450, -2300]}"
   ]
  },
  {
   "cell_type": "code",
   "execution_count": 8,
   "metadata": {},
   "outputs": [],
   "source": [
    "Test = Trajectory(zarr_dataset, Map_Api)\n",
    "Test.generate_info_from_MAP()"
   ]
  },
  {
   "cell_type": "code",
   "execution_count": 9,
   "metadata": {},
   "outputs": [],
   "source": [
    "def get_grid(intersection_id,grid_boundary):\n",
    "    x = grid_boundary[intersection_id]['X']\n",
    "    y = grid_boundary[intersection_id]['Y']\n",
    "    x_ = np.linspace(x[0], x[1],150)\n",
    "    y_ = np.linspace(y[0], y[1],150)\n",
    "    x_mesh, y_mesh = np.meshgrid(x_, y_)\n",
    "    return x_mesh, y_mesh\n",
    "\n",
    "def locate_in_mesh(x_mesh, y_mesh, point):\n",
    "    x, y = point[0], point[1]\n",
    "    result=[]\n",
    "#     print(x, y, x_mesh[0], x_mesh[-1], y_mesh[0], y_mesh[-1])\n",
    "    if x>x_mesh[-1] or x<x_mesh[0] or y>y_mesh[-1] or y<y_mesh[0]:\n",
    "        return None\n",
    "    result = [math.floor(x-x_mesh[0]), math.floor(y-y_mesh[0])]\n",
    "    return result\n",
    "\n",
    "def plot_scene_on_grid(intersection_id, lane_list, grid_boundary, veh=None, ped=None, cyc=None):\n",
    "    \"\"\"\n",
    "    plt agent trajectories in the grid map for a scene\n",
    "    \"\"\"\n",
    "    plt.figure(figsize=(18,18))\n",
    "    plt.xlim(grid_boundary['8KfB']['X'][0],grid_boundary['8KfB']['X'][1])\n",
    "    plt.ylim(grid_boundary['8KfB']['Y'][0],grid_boundary['8KfB']['Y'][1])\n",
    "    for lane in lane_list[intersection_id]:\n",
    "        plt.plot(Test.map_api.get_lane_coords(lane)['xyz_right'][:,0], Test.map_api.get_lane_coords(lane)['xyz_right'][:,1],\n",
    "                 color='g',linewidth=1,label=lane)\n",
    "        plt.plot(Test.map_api.get_lane_coords(lane)['xyz_left'][:,0], Test.map_api.get_lane_coords(lane)['xyz_left'][:,1],\n",
    "                 color='g',linewidth=1)\n",
    "#         print(\"lane coordinates right\", Test.map_api.get_lane_coords(lane)['xyz_right'][:,0])\n",
    "    x_mesh, y_mesh = get_grid(intersection_id, grid_boundary)\n",
    "#     print(x_mesh.shape, y_mesh[:,1])\n",
    "    plt.plot(x_mesh, y_mesh, c='grey', linewidth=0.1) # use plot, not scatter\n",
    "    plt.plot(np.transpose(x_mesh), np.transpose(y_mesh),c='grey', linewidth=0.1) # add this here\n",
    "#     plt.title(intersection_id,fontsize=30)\n",
    "\n",
    "    if veh is not None:\n",
    "        for traj in veh: plt.plot(traj[:,0],traj[:,1], c='b',linewidth=0.5)\n",
    "    if ped is not None:\n",
    "        for traj in ped: plt.scatter(traj[:,0],traj[:,1], c='orange',linewidth=0.5)\n",
    "    if cyc is not None:\n",
    "        for traj in cyc: plt.plot(traj[:,0],traj[:,1], c='cyan',linewidth=0.5)\n",
    "    plt.axis('off')\n",
    "    plt.show()\n",
    "    "
   ]
  },
  {
   "cell_type": "code",
   "execution_count": 10,
   "metadata": {},
   "outputs": [],
   "source": [
    "def extract_trajectory_in_scene(scene, Test, zarr_dataset, intersection_id, grid_boundary):\n",
    "    \"\"\"\n",
    "    get downsampled trajectory in a scene\n",
    "    return: ego, veh, ped, cyc trajectories\n",
    "    \"\"\"\n",
    "    frame_interval = zarr_dataset.scenes[scene]['frame_index_interval']\n",
    "    length = frame_interval[1] - frame_interval[0]\n",
    "#     print(length)\n",
    "    \n",
    "    if length<245:\n",
    "        return [], [], []\n",
    "\n",
    "    AV_data = zarr_dataset.frames[frame_interval[0]:frame_interval[1]]\n",
    "    # store the AV state \n",
    "    ego = AV_data['ego_translation'][:,:2]\n",
    "\n",
    "    Test.agent_trajectory(scene, 'Pedestrian', junction_boundary[intersection_id])\n",
    "\n",
    "    # filter the agents\n",
    "    car_id_list = []\n",
    "    for car_id in Test.agent_list[0]:\n",
    "        agent_loc = Test.agent_centroid[np.where(Test.agent_id==car_id)[0]]\n",
    "        if agent_loc.shape[0] > 100 and np.linalg.norm(agent_loc[0,:]-agent_loc[-1,:]) > 5:\n",
    "            car_id_list.append(car_id)\n",
    "#     print(\"caridlist\",car_id_list)\n",
    "    \n",
    "    pedestrian_id_list = []\n",
    "    for pedestrian_id in Test.agent_list[-1]:\n",
    "        agent_loc = Test.agent_centroid[np.where(Test.agent_id==pedestrian_id)[0]]\n",
    "        if agent_loc.shape[0] > 100:  # more than 20 sec\n",
    "            pedestrian_id_list.append(pedestrian_id)\n",
    "#     print(\"pedidlist\",pedestrian_id_list)\n",
    "    cyc_id_list = []\n",
    "    clist=[]\n",
    "    for c in Test.agent_list[-3]:\n",
    "        clist.append(c)\n",
    "    for c in Test.agent_list[-5]:\n",
    "        clist.append(c)\n",
    "    for cyc_id in clist:\n",
    "        agent_loc = Test.agent_centroid[np.where(Test.agent_id==cyc_id)[0]]\n",
    "        if agent_loc.shape[0] > 100:  # more than 10 sec\n",
    "            cyc_id_list.append(cyc_id)\n",
    "#     print(\"cycidlist\",cyc_id_list)\n",
    "      \n",
    "\n",
    "    sampling_id=range(0, 240,5)\n",
    "    \n",
    "    all_veh_traj=[]\n",
    "    all_ped_traj=[]\n",
    "    all_cyc_traj=[]\n",
    "    \n",
    "    \n",
    "    for car_idx, car_id in enumerate(car_id_list):\n",
    "        temp_traj=[]\n",
    "        for enum_idx, frame in enumerate(sampling_id):\n",
    "            frame = frame_interval[0] + frame\n",
    "#             print('frame', frame, \"frame interval\", Test.frames[frame]['agent_index_interval'])\n",
    "            agents_info = zarr_dataset.agents[Test.frames[frame]['agent_index_interval'][0]:Test.frames[frame]['agent_index_interval'][1]]\n",
    "            if car_id in agents_info['track_id']:    \n",
    "                loc = agents_info[np.where(agents_info['track_id']==car_id)[0]]['centroid'][0]\n",
    "                temp_traj.append(loc)\n",
    "            if len(temp_traj)==20: # if a long trajectory is longer than 10s, we treat the rest as trajectory from other agent\n",
    "                all_veh_traj.append(temp_traj)\n",
    "                temp_traj=[]\n",
    "              \n",
    "         \n",
    "    for ped_idx, ped_id in enumerate(pedestrian_id_list):\n",
    "        temp_traj=[]\n",
    "        for enum_idx, frame in enumerate(sampling_id):\n",
    "            frame = frame_interval[0] + frame\n",
    "#             print('frame', frame, \"frame interval\", Test.frames[frame]['agent_index_interval'])\n",
    "            agents_info = zarr_dataset.agents[Test.frames[frame]['agent_index_interval'][0]:Test.frames[frame]['agent_index_interval'][1]]\n",
    "            if ped_id in agents_info['track_id']:    \n",
    "                loc = agents_info[np.where(agents_info['track_id']==ped_id)[0]]['centroid'][0]\n",
    "                temp_traj.append(loc)\n",
    "            if len(temp_traj)==20:\n",
    "                all_ped_traj.append(temp_traj)\n",
    "                temp_traj=[]\n",
    "\n",
    "    for cyc_idx, cyc_id in enumerate(cyc_id_list):\n",
    "        temp_traj=[]\n",
    "        for enum_idx, frame in enumerate(sampling_id):\n",
    "            frame = frame_interval[0] + frame\n",
    "#             print('frame', frame, \"frame interval\", Test.frames[frame]['agent_index_interval'])\n",
    "            agents_info = zarr_dataset.agents[Test.frames[frame]['agent_index_interval'][0]:Test.frames[frame]['agent_index_interval'][1]]\n",
    "            if cyc_id in agents_info['track_id']:    \n",
    "                loc = agents_info[np.where(agents_info['track_id']==cyc_id)[0]]['centroid'][0]\n",
    "                temp_traj.append(loc)\n",
    "            if len(temp_traj)==20:\n",
    "                all_cyc_traj.append(temp_traj)\n",
    "                temp_traj=[]\n",
    "    return np.array(all_veh_traj), np.array(all_ped_traj), np.array(all_cyc_traj)"
   ]
  },
  {
   "cell_type": "code",
   "execution_count": 11,
   "metadata": {},
   "outputs": [
    {
     "name": "stdout",
     "output_type": "stream",
     "text": [
      "(5, 20, 2)\n"
     ]
    }
   ],
   "source": [
    "# run an example\n",
    "all_veh_traj, all_ped_traj, all_cyc_traj = extract_trajectory_in_scene(3609, Test, zarr_dataset, '8KfB', grid_boundary=grid_boundary) # 2148, 5532\n",
    "print(all_veh_traj.shape)"
   ]
  },
  {
   "cell_type": "code",
   "execution_count": 15,
   "metadata": {},
   "outputs": [],
   "source": [
    "def get_allscenes_intersection(junction_scenes=junction_8KfB):\n",
    "    final_veh, final_ped, final_cyc=None, None, None\n",
    "    all_scene_dict={}\n",
    "    for _, scene in enumerate(junction_scenes):\n",
    "        scene_dict={'veh':[], 'ped':[], 'cyc':[]}\n",
    "        print(\"i-th, scene\", _, scene)\n",
    "        all_veh_traj, all_ped_traj, all_cyc_traj = extract_trajectory_in_scene(scene, Test, zarr_dataset, '8KfB', grid_boundary=grid_boundary) # 3134\n",
    "\n",
    "        if len(all_veh_traj)>0:\n",
    "            scene_dict['veh']=all_veh_traj\n",
    "            if final_veh is None:\n",
    "                final_veh = all_veh_traj\n",
    "            else:\n",
    "                final_veh = np.vstack((final_veh, all_veh_traj))\n",
    "\n",
    "        if len(all_ped_traj)>0:\n",
    "            scene_dict['ped']=all_ped_traj\n",
    "            if final_ped is None:\n",
    "                final_ped = all_ped_traj\n",
    "            else:\n",
    "                final_ped = np.vstack((final_ped, all_ped_traj))\n",
    "\n",
    "        if len(all_cyc_traj)>0:\n",
    "            scene_dict['cyc']=all_cyc_traj\n",
    "            if final_cyc is None:\n",
    "                final_cyc = all_cyc_traj\n",
    "            else:\n",
    "                final_cyc = np.vstack((final_cyc, all_cyc_traj))\n",
    "        all_scene_dict[_]=scene_dict\n",
    "    #     if _>3:\n",
    "    #         break\n",
    "#     np.save(\"saved_tensor/8kfb_alltraj_veh\", final_veh)\n",
    "#     np.save(\"saved_tensor/8kfb_alltraj_ped\", final_ped)\n",
    "#     np.save(\"saved_tensor/8kfb_alltraj_cyc\", final_cyc)\n",
    "    print('saved')\n",
    "    \n",
    "    return final_veh, final_ped, final_cyc, all_scene_dict"
   ]
  },
  {
   "cell_type": "code",
   "execution_count": 16,
   "metadata": {
    "scrolled": true
   },
   "outputs": [
    {
     "name": "stdout",
     "output_type": "stream",
     "text": [
      "i-th, scene 0 82\n",
      "i-th, scene 1 347\n",
      "i-th, scene 2 380\n",
      "i-th, scene 3 924\n",
      "i-th, scene 4 978\n",
      "i-th, scene 5 1041\n",
      "i-th, scene 6 1274\n",
      "i-th, scene 7 1571\n",
      "i-th, scene 8 1656\n",
      "i-th, scene 9 1861\n",
      "i-th, scene 10 2024\n",
      "i-th, scene 11 2046\n",
      "i-th, scene 12 2097\n",
      "i-th, scene 13 2148\n",
      "i-th, scene 14 2208\n",
      "i-th, scene 15 2209\n",
      "i-th, scene 16 2387\n",
      "i-th, scene 17 2582\n",
      "i-th, scene 18 2725\n",
      "i-th, scene 19 2838\n",
      "i-th, scene 20 3080\n",
      "i-th, scene 21 3134\n",
      "i-th, scene 22 3193\n",
      "i-th, scene 23 3435\n",
      "i-th, scene 24 3470\n",
      "i-th, scene 25 3518\n",
      "i-th, scene 26 3608\n",
      "i-th, scene 27 3609\n",
      "i-th, scene 28 3657\n",
      "i-th, scene 29 3658\n",
      "i-th, scene 30 3716\n",
      "i-th, scene 31 3774\n",
      "i-th, scene 32 3775\n",
      "i-th, scene 33 3873\n",
      "i-th, scene 34 4990\n",
      "i-th, scene 35 5021\n",
      "i-th, scene 36 5022\n",
      "i-th, scene 37 5081\n",
      "i-th, scene 38 5082\n",
      "i-th, scene 39 5366\n",
      "i-th, scene 40 5367\n",
      "i-th, scene 41 5423\n",
      "i-th, scene 42 5532\n",
      "i-th, scene 43 5582\n",
      "i-th, scene 44 5781\n",
      "i-th, scene 45 5844\n",
      "i-th, scene 46 5900\n",
      "i-th, scene 47 5958\n",
      "i-th, scene 48 6014\n",
      "i-th, scene 49 6095\n",
      "i-th, scene 50 6328\n",
      "i-th, scene 51 6409\n",
      "i-th, scene 52 6472\n",
      "i-th, scene 53 6730\n",
      "i-th, scene 54 6731\n",
      "i-th, scene 55 7032\n",
      "i-th, scene 56 7033\n",
      "i-th, scene 57 7092\n",
      "i-th, scene 58 7154\n",
      "i-th, scene 59 7192\n",
      "i-th, scene 60 7244\n",
      "i-th, scene 61 7356\n",
      "i-th, scene 62 7411\n",
      "i-th, scene 63 7463\n",
      "i-th, scene 64 7485\n",
      "i-th, scene 65 7539\n",
      "i-th, scene 66 7639\n",
      "i-th, scene 67 7641\n",
      "i-th, scene 68 7828\n",
      "i-th, scene 69 7920\n",
      "i-th, scene 70 7980\n",
      "i-th, scene 71 8071\n",
      "i-th, scene 72 8121\n",
      "i-th, scene 73 8170\n",
      "i-th, scene 74 8328\n",
      "i-th, scene 75 8434\n",
      "i-th, scene 76 8486\n",
      "i-th, scene 77 8538\n",
      "i-th, scene 78 8952\n",
      "i-th, scene 79 9006\n",
      "i-th, scene 80 9063\n",
      "i-th, scene 81 9115\n",
      "i-th, scene 82 9211\n",
      "i-th, scene 83 9250\n",
      "i-th, scene 84 9351\n",
      "i-th, scene 85 10106\n",
      "i-th, scene 86 10292\n",
      "i-th, scene 87 10446\n",
      "i-th, scene 88 10949\n",
      "i-th, scene 89 11177\n",
      "i-th, scene 90 11233\n",
      "i-th, scene 91 11462\n",
      "i-th, scene 92 11593\n",
      "i-th, scene 93 11639\n",
      "i-th, scene 94 11691\n",
      "i-th, scene 95 11859\n",
      "i-th, scene 96 11971\n",
      "i-th, scene 97 12034\n",
      "i-th, scene 98 12160\n",
      "i-th, scene 99 12284\n",
      "i-th, scene 100 12606\n",
      "i-th, scene 101 12926\n",
      "i-th, scene 102 12980\n",
      "i-th, scene 103 13043\n",
      "i-th, scene 104 13066\n",
      "i-th, scene 105 13390\n",
      "i-th, scene 106 13448\n",
      "i-th, scene 107 13449\n",
      "i-th, scene 108 13544\n",
      "i-th, scene 109 13597\n",
      "i-th, scene 110 13712\n",
      "i-th, scene 111 13811\n",
      "i-th, scene 112 13812\n",
      "i-th, scene 113 13916\n",
      "i-th, scene 114 13965\n",
      "i-th, scene 115 14013\n",
      "i-th, scene 116 14168\n",
      "i-th, scene 117 14221\n",
      "i-th, scene 118 14275\n",
      "i-th, scene 119 14371\n",
      "i-th, scene 120 14423\n",
      "i-th, scene 121 14670\n",
      "i-th, scene 122 14726\n",
      "i-th, scene 123 14776\n",
      "i-th, scene 124 14823\n",
      "i-th, scene 125 14881\n",
      "i-th, scene 126 14934\n",
      "i-th, scene 127 15023\n",
      "i-th, scene 128 15073\n",
      "i-th, scene 129 15198\n",
      "i-th, scene 130 15246\n",
      "i-th, scene 131 15291\n",
      "i-th, scene 132 15449\n",
      "i-th, scene 133 15497\n",
      "i-th, scene 134 15599\n",
      "i-th, scene 135 15600\n",
      "i-th, scene 136 15646\n",
      "i-th, scene 137 15647\n",
      "i-th, scene 138 15877\n",
      "i-th, scene 139 15956\n",
      "i-th, scene 140 15957\n",
      "i-th, scene 141 16213\n",
      "saved\n",
      "(464, 20, 2) (260, 20, 2) (9, 20, 2)\n"
     ]
    }
   ],
   "source": [
    "final_veh, final_ped, final_cyc, all_scene_dict = get_allscenes_intersection()\n",
    "print(final_veh.shape, final_ped.shape, final_cyc.shape)"
   ]
  },
  {
   "cell_type": "code",
   "execution_count": 198,
   "metadata": {},
   "outputs": [],
   "source": [
    "from sklearn.mixture import BayesianGaussianMixture\n",
    "from tabulate import tabulate\n",
    "\n",
    "def crop(array, max_n_agent=10, is_cyc=False):\n",
    "    \n",
    "    if len(array)>=max_n_agent:\n",
    "        return np.array(array[:max_n_agent])\n",
    "    if len(array)<max_n_agent:\n",
    "        complement = np.zeros(shape=(max_n_agent-len(array), 20, 2))\n",
    "        if len(array)==0:return complement\n",
    "#         if is_cyc:\n",
    "#             replica = math.ceil(max_n_agent/len(array))\n",
    "#             array=list(array)*replica\n",
    "#             return np.array(array[:max_n_agent])\n",
    "        array = np.vstack((array, complement))\n",
    "        return array\n",
    "    else:\n",
    "        return array\n",
    "\n",
    "def _get_models(all_scene_dict):\n",
    "    \"\"\"\n",
    "    1. convert trajectories in a scene into a sample [20, 20, 2]-> [20, 40]\n",
    "    2. BGM\n",
    "    3. distribution genetation\n",
    "    \"\"\"\n",
    "    training_veh, training_ped, training_cyc = [], [], []\n",
    "    for scene, scene_dict in all_scene_dict.items():\n",
    "        veh, ped, cyc = np.array(scene_dict['veh']), np.array(scene_dict['ped']), np.array(scene_dict['cyc'])\n",
    "        if len(veh)>0:    \n",
    "            veh = crop(veh)\n",
    "        if len(ped)>0:\n",
    "            ped = crop(ped)\n",
    "        if len(cyc)>0:\n",
    "            cyc = crop(cyc,is_cyc=True)\n",
    "        \n",
    "\n",
    "        training_veh.append(veh.flatten())\n",
    "        training_ped.append(ped.flatten())\n",
    "        training_cyc.append(cyc.flatten())\n",
    "    print(\"...\", np.array(training_veh).shape)\n",
    "    training_veh = np.array(training_veh)\n",
    "    training_ped = np.array(training_ped)\n",
    "    training_cyc = np.array(training_cyc)\n",
    "    \n",
    "    print(\"training veh\")\n",
    "    bgm_veh = BayesianGaussianMixture(n_components=3, random_state=10, reg_covar=1e-5, n_init=3).fit(training_veh)\n",
    "    print(\"training ped\")\n",
    "    bgm_ped = BayesianGaussianMixture(n_components=3, random_state=20, reg_covar=1e-5, n_init=3).fit(training_ped)\n",
    "    print(\"training cyc\")\n",
    "    bgm_cyc = BayesianGaussianMixture(n_components=3, random_state=30, reg_covar=1e10, max_iter=200,n_init=3).fit(training_cyc)\n",
    "    \n",
    "    return bgm_veh, bgm_ped, bgm_cyc\n",
    "    \n",
    "def _get_veh_model(all_scene_dict, k):\n",
    "    training= []\n",
    "    for scene, scene_dict in all_scene_dict.items():\n",
    "        veh = np.array(scene_dict['veh'])\n",
    "#         if len(veh)>0:\n",
    "        veh = crop(veh)\n",
    "        training.append(veh.flatten())\n",
    "    \n",
    "#     print(\"...\", np.array(training).shape)\n",
    "    training = np.array(training)\n",
    "    \n",
    "#     print(\"training veh\")\n",
    "    bgm_veh = BayesianGaussianMixture(n_components=k,  reg_covar=1e-5).fit(training)\n",
    "  \n",
    "    return bgm_veh\n",
    "\n",
    "def _get_ped_model(all_scene_dict, k):\n",
    "    training= []\n",
    "    for scene, scene_dict in all_scene_dict.items():\n",
    "        ped = np.array(scene_dict['ped'])\n",
    "#         if len(ped)>0:\n",
    "        ped = crop(ped)\n",
    "\n",
    "        training.append(ped.flatten())\n",
    "    \n",
    "#     print(\"...\", np.array(training).shape)\n",
    "    training = np.array(training)\n",
    "    \n",
    "#     print(\"training ped\")\n",
    "    bgm_ped = BayesianGaussianMixture(n_components=k, reg_covar=1e-5 ).fit(training)\n",
    "  \n",
    "    return bgm_ped\n",
    "\n",
    "def _get_cyc_model(all_scene_dict, k):\n",
    "    training= []\n",
    "    for scene, scene_dict in all_scene_dict.items():\n",
    "        cyc = np.array(scene_dict['cyc'])\n",
    "#         if len(cyc)>0:\n",
    "        cyc = crop(cyc, is_cyc=True)\n",
    "\n",
    "        training.append(cyc.flatten())\n",
    "        \n",
    "#     print(\"...\", np.array(training).shape)\n",
    "    training = np.array(training)\n",
    "    \n",
    "#     print(\"training cyc\")\n",
    "    bgm_cyc = BayesianGaussianMixture(n_components=k, \\\n",
    "                                      random_state=30, reg_covar=1e10, max_iter=200).fit(training)\n",
    "  \n",
    "    return bgm_cyc\n",
    "\n",
    "def _get_scene_encodings(all_scene_dict, veh_model, ped_model, cyc_model):\n",
    "    \n",
    "    \n",
    "    scene_encoding=[]\n",
    "    veh_pool, ped_pool, cyc_pool={}, {}, {}\n",
    "    for scene, scene_dict in all_scene_dict.items():\n",
    "        veh, ped, cyc = np.array(scene_dict['veh']), np.array(scene_dict['ped']), np.array(scene_dict['cyc'])\n",
    "        \n",
    "        veh_p = crop(veh)\n",
    "        ped_p = crop(ped)\n",
    "        cyc_p = crop(cyc,is_cyc=True)\n",
    "        x = veh_model.predict([veh_p.flatten()])\n",
    "        y = ped_model.predict([ped_p.flatten()])\n",
    "        z = cyc_model.predict([cyc_p.flatten()])\n",
    "        scene_encoding.append([x[0],y[0],z[0]])\n",
    "#         print(x[0], y[0], z[0], \"len:\",len(cyc))\n",
    "        if x[0] in veh_pool and len(veh)>0:\n",
    "            veh_pool[x[0]] = np.vstack((veh_pool[x[0]], veh))\n",
    "        elif len(veh)>0:\n",
    "            veh_pool[x[0]]= veh\n",
    "            \n",
    "        \n",
    "        if y[0] in ped_pool and len(ped)>0:\n",
    "            ped_pool[y[0]] = np.vstack((ped_pool[y[0]], ped))\n",
    "        elif len(ped)>0:\n",
    "            ped_pool[y[0]]= ped\n",
    "            \n",
    "        if z[0] in cyc_pool and len(cyc)>0:\n",
    "#             print(cyc_pool[z[0]], \"cyc\", cyc)\n",
    "            cyc_pool[z[0]] = np.vstack((cyc_pool[z[0]], cyc))\n",
    "        elif len(cyc)>0:\n",
    "            cyc_pool[z[0]]= cyc\n",
    "        \n",
    "    return np.array(scene_encoding), veh_pool, ped_pool, cyc_pool\n",
    "\n",
    "def _get_distribution(encodings):\n",
    "    \"\"\"\n",
    "    compute #p(Y/X), P(Z/X), P(X/Y,Z)\n",
    "    \"\"\"\n",
    "     \n",
    "    Pxy, Pxz=[],[]\n",
    "#     headers = [\"X=0\", \"X=1\", \"X=2\"]\n",
    "    veh_encoding = np.unique(encodings[:,0])\n",
    "    ped_encoding = np.unique(encodings[:,1])\n",
    "    cyc_encoding = np.unique(encodings[:,2])\n",
    "#     print(veh_encoding, ped_encoding, cyc_encoding)\n",
    "    n=len(encodings)\n",
    "#     for x  in range(3):\n",
    "    for x in veh_encoding:\n",
    "        idx = np.where(encodings[:,0]==x)\n",
    "        arr = encodings[idx]\n",
    "#         print('-',len(arr))\n",
    "        pxy=[]\n",
    "        for y in range(3):\n",
    "#         for y in ped_encoding:\n",
    "            p_arr_idx = np.where(arr[:,1]==y)\n",
    "            p_arr = arr[p_arr_idx]\n",
    "#             print('--', len(p_arr))\n",
    "            p = len(p_arr)/n\n",
    "            pxy.append(p)\n",
    "        Pxy.append(pxy)\n",
    "\n",
    "        pxz=[]\n",
    "        for z in range(3):\n",
    "#         for z in cyc_encoding:\n",
    "            c_arr_idx = np.where(arr[:,2]==z)\n",
    "            c_arr = arr[c_arr_idx]\n",
    "            p = len(c_arr)/n\n",
    "            pxz.append(p)\n",
    "        Pxz.append(pxz)\n",
    "#     print(np.array(Pxy), np.sum(Pxy))\n",
    "    \n",
    "    Pyzx=[]\n",
    "    \n",
    "#     for pi in range(3):\n",
    "    for pi in ped_encoding:\n",
    "        pp=[]\n",
    "        arr_idx= np.where(encodings[:,1]==pi)\n",
    "        pi_arr=encodings[arr_idx]\n",
    "        for zi in range(3):\n",
    "#         for zi in cyc_encoding:\n",
    "            pz=[]\n",
    "            if len(pi_arr)==0:\n",
    "                pz.append(0)\n",
    "            else:    \n",
    "                zarr_idx = np.where(pi_arr[:,2]==zi)\n",
    "                if len(arr_idx)==0:\n",
    "                    pz.append(0)\n",
    "                else:\n",
    "                    zi_arr = pi_arr[zarr_idx]\n",
    "#                     for xi in range(3):\n",
    "                    for xi in veh_encoding:\n",
    "                        xarr_idx= np.where(zi_arr[:,0]==xi)\n",
    "                        xi_arr=zi_arr[xarr_idx]\n",
    "                        pz.append(len(xi_arr)/n)\n",
    "            pp.append(pz)\n",
    "        Pyzx.append(pp)\n",
    "#     print(Pyzx, np.sum(Pyzx))\n",
    "    m = np.array([['X=0'], ['X=1'], ['X=2']])\n",
    "    m=[]\n",
    "    headers = [\"Y=0\", \"Y=1\", \"Y=2\"]\n",
    "    headers=[]\n",
    "    for _ in veh_encoding:\n",
    "        tag = 'X=' + str(_)\n",
    "        m.append([tag])\n",
    "    m=np.array(m)\n",
    "    \n",
    "    for _ in ped_encoding:\n",
    "        tag = 'Y=' + str(_)\n",
    "        headers.append(tag)\n",
    "\n",
    "    table_value = np.hstack((m, Pxy))\n",
    "    table = tabulate(table_value, headers, tablefmt=\"fancy_grid\")\n",
    "    print(table)\n",
    "    \n",
    "    headers2 = [\"Z=0\", \"Z=1\", \"Z=2\"]\n",
    "#     headers2=[]\n",
    "#     for _ in cyc_encoding:\n",
    "#         tag = 'Z=' + str(_)\n",
    "#         headers2.append(tag)\n",
    "    \n",
    "    table_value2 = np.hstack((m, Pxz))\n",
    "    table2 = tabulate(table_value2, headers2, tablefmt=\"fancy_grid\")\n",
    "    print(table2)\n",
    "\n",
    "    return np.array(Pxy), np.array(Pxz), np.array(Pyzx)\n",
    "\n",
    "\n",
    "\n",
    "    "
   ]
  },
  {
   "cell_type": "code",
   "execution_count": 199,
   "metadata": {},
   "outputs": [
    {
     "name": "stdout",
     "output_type": "stream",
     "text": [
      "╒═════╤══════════╤═══════════╤═══════════╕\n",
      "│     │      Y=0 │       Y=1 │       Y=2 │\n",
      "╞═════╪══════════╪═══════════╪═══════════╡\n",
      "│ X=0 │ 0.169014 │ 0.0633803 │ 0.0985915 │\n",
      "├─────┼──────────┼───────────┼───────────┤\n",
      "│ X=1 │ 0.28169  │ 0.056338  │ 0.105634  │\n",
      "├─────┼──────────┼───────────┼───────────┤\n",
      "│ X=2 │ 0.112676 │ 0.0633803 │ 0.0492958 │\n",
      "╘═════╧══════════╧═══════════╧═══════════╛\n",
      "╒═════╤═══════╤═══════╤══════════╕\n",
      "│     │   Z=0 │   Z=1 │      Z=2 │\n",
      "╞═════╪═══════╪═══════╪══════════╡\n",
      "│ X=0 │     0 │     0 │ 0.330986 │\n",
      "├─────┼───────┼───────┼──────────┤\n",
      "│ X=1 │     0 │     0 │ 0.443662 │\n",
      "├─────┼───────┼───────┼──────────┤\n",
      "│ X=2 │     0 │     0 │ 0.225352 │\n",
      "╘═════╧═══════╧═══════╧══════════╛\n",
      "(3, 3, 3)\n"
     ]
    }
   ],
   "source": [
    "import warnings\n",
    "warnings.filterwarnings('ignore')\n",
    "# veh_model, ped_model, cyc_model = _get_models(all_scene_dict = all_scene_dict)\n",
    "veh_model = _get_veh_model(all_scene_dict = all_scene_dict, k=3)\n",
    "ped_model = _get_ped_model(all_scene_dict = all_scene_dict, k=3)\n",
    "cyc_model = _get_cyc_model(all_scene_dict = all_scene_dict, k=3)\n",
    "encoding, veh_pool, ped_pool, cyc_pool = _get_scene_encodings(all_scene_dict = all_scene_dict, \\\n",
    "                                                              veh_model=veh_model, ped_model=ped_model, cyc_model=cyc_model)\n",
    "# print(encoding)\n",
    "Pxy, Pxz, Pyzx = _get_distribution(encodings=encoding)\n",
    "print(Pyzx.shape)"
   ]
  },
  {
   "cell_type": "code",
   "execution_count": 200,
   "metadata": {},
   "outputs": [
    {
     "name": "stdout",
     "output_type": "stream",
     "text": [
      "[[[0.         0.         0.        ]\n",
      "  [0.         0.         0.        ]\n",
      "  [0.16901408 0.28169014 0.11267606]]\n",
      "\n",
      " [[0.         0.         0.        ]\n",
      "  [0.         0.         0.        ]\n",
      "  [0.06338028 0.05633803 0.06338028]]\n",
      "\n",
      " [[0.         0.         0.        ]\n",
      "  [0.         0.         0.        ]\n",
      "  [0.09859155 0.1056338  0.04929577]]]\n"
     ]
    }
   ],
   "source": [
    "print(Pyzx)"
   ]
  },
  {
   "cell_type": "code",
   "execution_count": 148,
   "metadata": {},
   "outputs": [
    {
     "data": {
      "text/plain": [
       "dict_keys([2, 1, 0])"
      ]
     },
     "execution_count": 148,
     "metadata": {},
     "output_type": "execute_result"
    }
   ],
   "source": [
    "ped_pool.keys()"
   ]
  },
  {
   "cell_type": "markdown",
   "metadata": {},
   "source": [
    "# sampling"
   ]
  },
  {
   "cell_type": "code",
   "execution_count": 149,
   "metadata": {},
   "outputs": [],
   "source": [
    "# utility functions\n",
    "def get_distance(a,b):\n",
    "    return np.linalg.norm(a - b, axis=1)\n",
    "def get_socially_acceptable_wrate(veh):\n",
    "    \"\"\"\n",
    "    greedy algorithm\n",
    "    \"\"\"\n",
    "    result_veh=[]\n",
    "    n = len(veh)\n",
    "    x = np.zeros(shape=(n,n))\n",
    "    wrate=0\n",
    "    for i in range(n):\n",
    "        for j in range(i,n):\n",
    "#             print(i,j)\n",
    "            distance = get_distance(veh[i], veh[j])\n",
    "            x[i][j] = np.min(distance)\n",
    "#             if np.min(distance)<4:\n",
    "#                 break\n",
    "    # add all that is distance> 4 with the first sample\n",
    "    result_veh.append(veh[0])\n",
    "    for i in range(1,n):\n",
    "        if x[0][i]>4:\n",
    "            result_veh.append(veh[i])\n",
    "        else:\n",
    "            wrate+=1\n",
    "    return result_veh, wrate\n",
    "\n",
    "def get_socially_acceptable_different_types_wrate(type1, type2):\n",
    "    \"\"\"\n",
    "    greedy algorithm, type1 is the anchor type \n",
    "    \"\"\"\n",
    "    result=[]\n",
    "    all_pass=True\n",
    "    wrate=0\n",
    "    for type2_traj in type2:\n",
    "        for type1_traj in type1:\n",
    "            distance = get_distance(type1_traj, type2_traj)\n",
    "            if min(distance)<4:\n",
    "                all_pass=False\n",
    "                wrate+=1\n",
    "                break \n",
    "        if all_pass:\n",
    "            result.append(type2_traj)\n",
    "    return result, wrate\n",
    "\n",
    "def socially_acceptance_check_wrate(veh, ped, cyc):\n",
    "    n_agents = len(veh) + len(ped) + len(cyc)\n",
    "    #check socially acceptable trajectories\n",
    "    veh_s, wrate1 = get_socially_acceptable_wrate(veh)\n",
    "    ped_s, wrate2 = get_socially_acceptable_wrate(ped)\n",
    "    cyc_s, wrate3 = get_socially_acceptable_wrate(cyc)\n",
    "    \n",
    "    # check constrains on ped_s\n",
    "    ped_s, wrate4 = get_socially_acceptable_different_types_wrate(veh_s, ped_s)\n",
    "    \n",
    "    #check socially acceptable trajectories considering environment\n",
    "    cyc_s, wrate5 = get_socially_acceptable_different_types_wrate(ped_s, cyc_s)\n",
    "    cyc_s, wrate6 = get_socially_acceptable_different_types_wrate(veh_s, cyc_s)\n",
    "#     print(len(veh_s), len(ped_s), len(cyc_s))\n",
    "    \n",
    "    removing_rate = (wrate1 + wrate2 + wrate3 + wrate4 + wrate5 +wrate6)/n_agents\n",
    "    return np.array(veh_s), np.array(ped_s), np.array(cyc_s), removing_rate"
   ]
  },
  {
   "cell_type": "code",
   "execution_count": 162,
   "metadata": {},
   "outputs": [],
   "source": [
    "def Gibbs_sampling_checkn(max_scene=1000,Pxy=Pxy, Pxz=Pxz, Pyzx=Pyzx, \\\n",
    "                   poolv=veh_pool, poolp=ped_pool, poolc=cyc_pool,\\\n",
    "                   veh_model=veh_model, ped_model=ped_model, cyc_model=cyc_model, \\\n",
    "                   max_n_veh=20, max_n_ped=3, max_n_cyc=3):\n",
    "    sampling_result={}\n",
    "    \n",
    "    # initialization\n",
    "    veh_0, ped_0, cyc_0 = poolv[list(poolv.keys())[0]], poolp[list(poolp.keys())[0]], poolc[list(poolc.keys())[0]], \n",
    "    veh =veh_0[np.random.choice(veh_0.shape[0], max_n_veh, replace=False)]\n",
    "    ped =ped_0[np.random.choice(ped_0.shape[0], max_n_ped, replace=False)]\n",
    "    cyc =cyc_0[np.random.choice(cyc_0.shape[0], max_n_cyc, replace=False)]\n",
    "    \n",
    "    n_scene=0\n",
    "    result_removing=0\n",
    "    while n_scene < max_scene:\n",
    "        scene_data={}\n",
    "        veh_p = crop(veh)\n",
    "        ped_p = crop(ped)\n",
    "        cyc_p = crop(cyc,is_cyc=True)\n",
    "        \n",
    "        x = veh_model.predict([veh_p.flatten()])[0]\n",
    "        y = ped_model.predict([ped_p.flatten()])[0]\n",
    "        z = cyc_model.predict([cyc_p.flatten()])[0]\n",
    "\n",
    "        try:\n",
    "            x = list(poolv.keys()).index(x)\n",
    "        except:\n",
    "            np.random.choice(list(poolv.keys()))\n",
    "            \n",
    "        try:\n",
    "            y = list(poolp.keys()).index(y)\n",
    "        except:\n",
    "            y = np.random.choice(list(poolp.keys()))\n",
    "        try:\n",
    "            z = list(poolc.keys()).index(z)\n",
    "        except:\n",
    "            z=np.random.choice(list(poolc.keys()))\n",
    "        pxy = Pxy[x]/np.linalg.norm(Pxz[x], ord=1)\n",
    "#         print(list(poolp.keys()), x, pxy)\n",
    "        try:\n",
    "            ped_category = np.random.choice(list(poolp.keys()), p=pxy)\n",
    "        except:\n",
    "            ped_category = np.random.choice(list(poolp.keys()))\n",
    "#         print(\"ped category\",ped_category)\n",
    "        #sample trajectories\n",
    "        ped_under_category = poolp[ped_category]\n",
    "        ped =ped_under_category[np.random.choice(ped_under_category.shape[0], max_n_ped, replace=False)]\n",
    "#         ped = poolp[ped_category][ped_idx]\n",
    "#         print(ped.shape)\n",
    "        \n",
    "        pxz = Pxz[x]/np.linalg.norm(Pxz[x], ord=1)\n",
    "        key_list= list(poolc.keys())\n",
    "#         print(key_list, pxz)\n",
    "#         if len(key_list)!= len(pxz):\n",
    "#             key_list=range(len(pxz))\n",
    "        try:\n",
    "            cyc_category = np.random.choice(key_list, p=pxz)\n",
    "        except:\n",
    "            cyc_category = np.random.choice(key_list)\n",
    "        cyc_under_category = poolc[cyc_category]\n",
    "#         print('cyc category', cyc_category)\n",
    "        cyc =cyc_under_category[np.random.choice(cyc_under_category.shape[0], max_n_cyc, replace=False)]\n",
    "        \n",
    "#         print(Pyzx.shape, Pyzx[y][z].shape)\n",
    "        pyzx = Pyzx[y][z]/np.linalg.norm(Pyzx[y][z], ord=1)\n",
    "        try:\n",
    "            v_category = np.random.choice(list(poolv.keys()), p=pyzx)\n",
    "        except:\n",
    "            v_category = np.random.choice(list(poolv.keys()))\n",
    "#         print('veh category', v_category)\n",
    "        veh_under_category = poolv[v_category]\n",
    "        veh =veh_under_category[np.random.choice(veh_under_category.shape[0], max_n_veh, replace=False)]\n",
    "        \n",
    "        \n",
    "        \n",
    "        veh, ped, cyc, removing_rate = socially_acceptance_check_wrate(veh, ped, cyc)\n",
    "        result_removing += removing_rate\n",
    "#         if len(veh)==0 or len(ped)==0 or len(cyc)==0:\n",
    "#             continue\n",
    "        scene_data['ped']=ped\n",
    "        scene_data['cyc']=cyc\n",
    "        scene_data['veh']=veh\n",
    "        sampling_result[n_scene] = scene_data\n",
    "        n_scene+=1\n",
    "        \n",
    "    return sampling_result, result_removing/max_scene"
   ]
  },
  {
   "cell_type": "code",
   "execution_count": 151,
   "metadata": {},
   "outputs": [
    {
     "name": "stdout",
     "output_type": "stream",
     "text": [
      "0.26544999999999996\n"
     ]
    }
   ],
   "source": [
    "_, rate = Gibbs_sampling_checkn()\n",
    "print(rate)"
   ]
  },
  {
   "cell_type": "markdown",
   "metadata": {},
   "source": [
    "# wrap together"
   ]
  },
  {
   "cell_type": "code",
   "execution_count": 163,
   "metadata": {},
   "outputs": [
    {
     "name": "stdout",
     "output_type": "stream",
     "text": [
      "components for veh/ped/cyc: 2 2 1\n",
      "0.26179999999999964\n"
     ]
    },
    {
     "name": "stderr",
     "output_type": "stream",
     "text": [
      "/home/lab1/miniconda3/lib/python3.7/site-packages/sklearn/mixture/_base.py:269: ConvergenceWarning: Initialization 1 did not converge. Try different init parameters, or increase max_iter, tol or check for degenerate data.\n",
      "  % (init + 1), ConvergenceWarning)\n"
     ]
    },
    {
     "name": "stdout",
     "output_type": "stream",
     "text": [
      "components for veh/ped/cyc: 2 2 2\n",
      "0.26075000000000015\n"
     ]
    },
    {
     "name": "stderr",
     "output_type": "stream",
     "text": [
      "/home/lab1/miniconda3/lib/python3.7/site-packages/sklearn/mixture/_base.py:269: ConvergenceWarning: Initialization 1 did not converge. Try different init parameters, or increase max_iter, tol or check for degenerate data.\n",
      "  % (init + 1), ConvergenceWarning)\n"
     ]
    },
    {
     "name": "stdout",
     "output_type": "stream",
     "text": [
      "components for veh/ped/cyc: 2 2 3\n",
      "0.2666500000000003\n",
      "components for veh/ped/cyc: 2 3 1\n",
      "0.2593500000000003\n"
     ]
    },
    {
     "name": "stderr",
     "output_type": "stream",
     "text": [
      "/home/lab1/miniconda3/lib/python3.7/site-packages/sklearn/mixture/_base.py:269: ConvergenceWarning: Initialization 1 did not converge. Try different init parameters, or increase max_iter, tol or check for degenerate data.\n",
      "  % (init + 1), ConvergenceWarning)\n"
     ]
    },
    {
     "name": "stdout",
     "output_type": "stream",
     "text": [
      "components for veh/ped/cyc: 2 3 2\n",
      "0.26074999999999987\n"
     ]
    },
    {
     "name": "stderr",
     "output_type": "stream",
     "text": [
      "/home/lab1/miniconda3/lib/python3.7/site-packages/sklearn/mixture/_base.py:269: ConvergenceWarning: Initialization 1 did not converge. Try different init parameters, or increase max_iter, tol or check for degenerate data.\n",
      "  % (init + 1), ConvergenceWarning)\n"
     ]
    },
    {
     "name": "stdout",
     "output_type": "stream",
     "text": [
      "components for veh/ped/cyc: 2 3 3\n",
      "0.2617\n",
      "components for veh/ped/cyc: 2 4 1\n",
      "0.2633000000000001\n"
     ]
    },
    {
     "name": "stderr",
     "output_type": "stream",
     "text": [
      "/home/lab1/miniconda3/lib/python3.7/site-packages/sklearn/mixture/_base.py:269: ConvergenceWarning: Initialization 1 did not converge. Try different init parameters, or increase max_iter, tol or check for degenerate data.\n",
      "  % (init + 1), ConvergenceWarning)\n"
     ]
    },
    {
     "name": "stdout",
     "output_type": "stream",
     "text": [
      "components for veh/ped/cyc: 2 4 2\n",
      "0.26309999999999995\n"
     ]
    },
    {
     "name": "stderr",
     "output_type": "stream",
     "text": [
      "/home/lab1/miniconda3/lib/python3.7/site-packages/sklearn/mixture/_base.py:269: ConvergenceWarning: Initialization 1 did not converge. Try different init parameters, or increase max_iter, tol or check for degenerate data.\n",
      "  % (init + 1), ConvergenceWarning)\n"
     ]
    },
    {
     "name": "stdout",
     "output_type": "stream",
     "text": [
      "components for veh/ped/cyc: 2 4 3\n",
      "0.2667499999999997\n",
      "components for veh/ped/cyc: 2 5 1\n",
      "0.26910000000000006\n"
     ]
    },
    {
     "name": "stderr",
     "output_type": "stream",
     "text": [
      "/home/lab1/miniconda3/lib/python3.7/site-packages/sklearn/mixture/_base.py:269: ConvergenceWarning: Initialization 1 did not converge. Try different init parameters, or increase max_iter, tol or check for degenerate data.\n",
      "  % (init + 1), ConvergenceWarning)\n"
     ]
    },
    {
     "name": "stdout",
     "output_type": "stream",
     "text": [
      "components for veh/ped/cyc: 2 5 2\n",
      "0.2655499999999999\n"
     ]
    },
    {
     "name": "stderr",
     "output_type": "stream",
     "text": [
      "/home/lab1/miniconda3/lib/python3.7/site-packages/sklearn/mixture/_base.py:269: ConvergenceWarning: Initialization 1 did not converge. Try different init parameters, or increase max_iter, tol or check for degenerate data.\n",
      "  % (init + 1), ConvergenceWarning)\n"
     ]
    },
    {
     "name": "stdout",
     "output_type": "stream",
     "text": [
      "components for veh/ped/cyc: 2 5 3\n",
      "0.26585000000000003\n",
      "components for veh/ped/cyc: 3 2 1\n",
      "0.22719999999999996\n"
     ]
    },
    {
     "name": "stderr",
     "output_type": "stream",
     "text": [
      "/home/lab1/miniconda3/lib/python3.7/site-packages/sklearn/mixture/_base.py:269: ConvergenceWarning: Initialization 1 did not converge. Try different init parameters, or increase max_iter, tol or check for degenerate data.\n",
      "  % (init + 1), ConvergenceWarning)\n"
     ]
    },
    {
     "name": "stdout",
     "output_type": "stream",
     "text": [
      "components for veh/ped/cyc: 3 2 2\n",
      "0.22929999999999978\n"
     ]
    },
    {
     "name": "stderr",
     "output_type": "stream",
     "text": [
      "/home/lab1/miniconda3/lib/python3.7/site-packages/sklearn/mixture/_base.py:269: ConvergenceWarning: Initialization 1 did not converge. Try different init parameters, or increase max_iter, tol or check for degenerate data.\n",
      "  % (init + 1), ConvergenceWarning)\n"
     ]
    },
    {
     "name": "stdout",
     "output_type": "stream",
     "text": [
      "components for veh/ped/cyc: 3 2 3\n",
      "0.22839999999999996\n",
      "components for veh/ped/cyc: 3 3 1\n",
      "0.22174999999999978\n"
     ]
    },
    {
     "name": "stderr",
     "output_type": "stream",
     "text": [
      "/home/lab1/miniconda3/lib/python3.7/site-packages/sklearn/mixture/_base.py:269: ConvergenceWarning: Initialization 1 did not converge. Try different init parameters, or increase max_iter, tol or check for degenerate data.\n",
      "  % (init + 1), ConvergenceWarning)\n"
     ]
    },
    {
     "name": "stdout",
     "output_type": "stream",
     "text": [
      "components for veh/ped/cyc: 3 3 2\n",
      "0.22419999999999998\n"
     ]
    },
    {
     "name": "stderr",
     "output_type": "stream",
     "text": [
      "/home/lab1/miniconda3/lib/python3.7/site-packages/sklearn/mixture/_base.py:269: ConvergenceWarning: Initialization 1 did not converge. Try different init parameters, or increase max_iter, tol or check for degenerate data.\n",
      "  % (init + 1), ConvergenceWarning)\n"
     ]
    },
    {
     "name": "stdout",
     "output_type": "stream",
     "text": [
      "components for veh/ped/cyc: 3 3 3\n",
      "0.22785\n",
      "components for veh/ped/cyc: 3 4 1\n",
      "0.22624999999999967\n"
     ]
    },
    {
     "name": "stderr",
     "output_type": "stream",
     "text": [
      "/home/lab1/miniconda3/lib/python3.7/site-packages/sklearn/mixture/_base.py:269: ConvergenceWarning: Initialization 1 did not converge. Try different init parameters, or increase max_iter, tol or check for degenerate data.\n",
      "  % (init + 1), ConvergenceWarning)\n"
     ]
    },
    {
     "name": "stdout",
     "output_type": "stream",
     "text": [
      "components for veh/ped/cyc: 3 4 2\n",
      "0.22730000000000003\n"
     ]
    },
    {
     "name": "stderr",
     "output_type": "stream",
     "text": [
      "/home/lab1/miniconda3/lib/python3.7/site-packages/sklearn/mixture/_base.py:269: ConvergenceWarning: Initialization 1 did not converge. Try different init parameters, or increase max_iter, tol or check for degenerate data.\n",
      "  % (init + 1), ConvergenceWarning)\n"
     ]
    },
    {
     "name": "stdout",
     "output_type": "stream",
     "text": [
      "components for veh/ped/cyc: 3 4 3\n",
      "0.23145\n",
      "components for veh/ped/cyc: 3 5 1\n",
      "0.22484999999999977\n"
     ]
    },
    {
     "name": "stderr",
     "output_type": "stream",
     "text": [
      "/home/lab1/miniconda3/lib/python3.7/site-packages/sklearn/mixture/_base.py:269: ConvergenceWarning: Initialization 1 did not converge. Try different init parameters, or increase max_iter, tol or check for degenerate data.\n",
      "  % (init + 1), ConvergenceWarning)\n"
     ]
    },
    {
     "name": "stdout",
     "output_type": "stream",
     "text": [
      "components for veh/ped/cyc: 3 5 2\n",
      "0.22684999999999983\n"
     ]
    },
    {
     "name": "stderr",
     "output_type": "stream",
     "text": [
      "/home/lab1/miniconda3/lib/python3.7/site-packages/sklearn/mixture/_base.py:269: ConvergenceWarning: Initialization 1 did not converge. Try different init parameters, or increase max_iter, tol or check for degenerate data.\n",
      "  % (init + 1), ConvergenceWarning)\n"
     ]
    },
    {
     "name": "stdout",
     "output_type": "stream",
     "text": [
      "components for veh/ped/cyc: 3 5 3\n",
      "0.22515000000000024\n",
      "components for veh/ped/cyc: 4 2 1\n",
      "0.26664999999999983\n"
     ]
    },
    {
     "name": "stderr",
     "output_type": "stream",
     "text": [
      "/home/lab1/miniconda3/lib/python3.7/site-packages/sklearn/mixture/_base.py:269: ConvergenceWarning: Initialization 1 did not converge. Try different init parameters, or increase max_iter, tol or check for degenerate data.\n",
      "  % (init + 1), ConvergenceWarning)\n"
     ]
    },
    {
     "name": "stdout",
     "output_type": "stream",
     "text": [
      "components for veh/ped/cyc: 4 2 2\n",
      "0.26479999999999965\n"
     ]
    },
    {
     "name": "stderr",
     "output_type": "stream",
     "text": [
      "/home/lab1/miniconda3/lib/python3.7/site-packages/sklearn/mixture/_base.py:269: ConvergenceWarning: Initialization 1 did not converge. Try different init parameters, or increase max_iter, tol or check for degenerate data.\n",
      "  % (init + 1), ConvergenceWarning)\n"
     ]
    },
    {
     "name": "stdout",
     "output_type": "stream",
     "text": [
      "components for veh/ped/cyc: 4 2 3\n",
      "0.26494999999999985\n",
      "components for veh/ped/cyc: 4 3 1\n",
      "0.2535\n"
     ]
    },
    {
     "name": "stderr",
     "output_type": "stream",
     "text": [
      "/home/lab1/miniconda3/lib/python3.7/site-packages/sklearn/mixture/_base.py:269: ConvergenceWarning: Initialization 1 did not converge. Try different init parameters, or increase max_iter, tol or check for degenerate data.\n",
      "  % (init + 1), ConvergenceWarning)\n"
     ]
    },
    {
     "name": "stdout",
     "output_type": "stream",
     "text": [
      "components for veh/ped/cyc: 4 3 2\n",
      "0.25969999999999976\n"
     ]
    },
    {
     "name": "stderr",
     "output_type": "stream",
     "text": [
      "/home/lab1/miniconda3/lib/python3.7/site-packages/sklearn/mixture/_base.py:269: ConvergenceWarning: Initialization 1 did not converge. Try different init parameters, or increase max_iter, tol or check for degenerate data.\n",
      "  % (init + 1), ConvergenceWarning)\n"
     ]
    },
    {
     "name": "stdout",
     "output_type": "stream",
     "text": [
      "components for veh/ped/cyc: 4 3 3\n",
      "0.25934999999999997\n",
      "components for veh/ped/cyc: 4 4 1\n",
      "0.2686000000000002\n"
     ]
    },
    {
     "name": "stderr",
     "output_type": "stream",
     "text": [
      "/home/lab1/miniconda3/lib/python3.7/site-packages/sklearn/mixture/_base.py:269: ConvergenceWarning: Initialization 1 did not converge. Try different init parameters, or increase max_iter, tol or check for degenerate data.\n",
      "  % (init + 1), ConvergenceWarning)\n"
     ]
    },
    {
     "name": "stdout",
     "output_type": "stream",
     "text": [
      "components for veh/ped/cyc: 4 4 2\n",
      "0.26660000000000034\n"
     ]
    },
    {
     "name": "stderr",
     "output_type": "stream",
     "text": [
      "/home/lab1/miniconda3/lib/python3.7/site-packages/sklearn/mixture/_base.py:269: ConvergenceWarning: Initialization 1 did not converge. Try different init parameters, or increase max_iter, tol or check for degenerate data.\n",
      "  % (init + 1), ConvergenceWarning)\n"
     ]
    },
    {
     "name": "stdout",
     "output_type": "stream",
     "text": [
      "components for veh/ped/cyc: 4 4 3\n",
      "0.2649000000000002\n",
      "components for veh/ped/cyc: 4 5 1\n",
      "0.2572999999999998\n"
     ]
    },
    {
     "name": "stderr",
     "output_type": "stream",
     "text": [
      "/home/lab1/miniconda3/lib/python3.7/site-packages/sklearn/mixture/_base.py:269: ConvergenceWarning: Initialization 1 did not converge. Try different init parameters, or increase max_iter, tol or check for degenerate data.\n",
      "  % (init + 1), ConvergenceWarning)\n"
     ]
    },
    {
     "name": "stdout",
     "output_type": "stream",
     "text": [
      "components for veh/ped/cyc: 4 5 2\n",
      "0.26070000000000004\n"
     ]
    },
    {
     "name": "stderr",
     "output_type": "stream",
     "text": [
      "/home/lab1/miniconda3/lib/python3.7/site-packages/sklearn/mixture/_base.py:269: ConvergenceWarning: Initialization 1 did not converge. Try different init parameters, or increase max_iter, tol or check for degenerate data.\n",
      "  % (init + 1), ConvergenceWarning)\n"
     ]
    },
    {
     "name": "stdout",
     "output_type": "stream",
     "text": [
      "components for veh/ped/cyc: 4 5 3\n",
      "0.26179999999999964\n",
      "components for veh/ped/cyc: 5 2 1\n",
      "0.2542500000000001\n"
     ]
    },
    {
     "name": "stderr",
     "output_type": "stream",
     "text": [
      "/home/lab1/miniconda3/lib/python3.7/site-packages/sklearn/mixture/_base.py:269: ConvergenceWarning: Initialization 1 did not converge. Try different init parameters, or increase max_iter, tol or check for degenerate data.\n",
      "  % (init + 1), ConvergenceWarning)\n"
     ]
    },
    {
     "name": "stdout",
     "output_type": "stream",
     "text": [
      "components for veh/ped/cyc: 5 2 2\n",
      "0.25434999999999997\n"
     ]
    },
    {
     "name": "stderr",
     "output_type": "stream",
     "text": [
      "/home/lab1/miniconda3/lib/python3.7/site-packages/sklearn/mixture/_base.py:269: ConvergenceWarning: Initialization 1 did not converge. Try different init parameters, or increase max_iter, tol or check for degenerate data.\n",
      "  % (init + 1), ConvergenceWarning)\n"
     ]
    },
    {
     "name": "stdout",
     "output_type": "stream",
     "text": [
      "components for veh/ped/cyc: 5 2 3\n",
      "0.25185\n",
      "components for veh/ped/cyc: 5 3 1\n",
      "0.25819999999999976\n"
     ]
    },
    {
     "name": "stderr",
     "output_type": "stream",
     "text": [
      "/home/lab1/miniconda3/lib/python3.7/site-packages/sklearn/mixture/_base.py:269: ConvergenceWarning: Initialization 1 did not converge. Try different init parameters, or increase max_iter, tol or check for degenerate data.\n",
      "  % (init + 1), ConvergenceWarning)\n"
     ]
    },
    {
     "name": "stdout",
     "output_type": "stream",
     "text": [
      "components for veh/ped/cyc: 5 3 2\n",
      "0.25824999999999987\n"
     ]
    },
    {
     "name": "stderr",
     "output_type": "stream",
     "text": [
      "/home/lab1/miniconda3/lib/python3.7/site-packages/sklearn/mixture/_base.py:269: ConvergenceWarning: Initialization 1 did not converge. Try different init parameters, or increase max_iter, tol or check for degenerate data.\n",
      "  % (init + 1), ConvergenceWarning)\n"
     ]
    },
    {
     "name": "stdout",
     "output_type": "stream",
     "text": [
      "components for veh/ped/cyc: 5 3 3\n",
      "0.24994999999999992\n",
      "components for veh/ped/cyc: 5 4 1\n",
      "0.25685\n"
     ]
    },
    {
     "name": "stderr",
     "output_type": "stream",
     "text": [
      "/home/lab1/miniconda3/lib/python3.7/site-packages/sklearn/mixture/_base.py:269: ConvergenceWarning: Initialization 1 did not converge. Try different init parameters, or increase max_iter, tol or check for degenerate data.\n",
      "  % (init + 1), ConvergenceWarning)\n"
     ]
    },
    {
     "name": "stdout",
     "output_type": "stream",
     "text": [
      "components for veh/ped/cyc: 5 4 2\n",
      "0.26284999999999953\n"
     ]
    },
    {
     "name": "stderr",
     "output_type": "stream",
     "text": [
      "/home/lab1/miniconda3/lib/python3.7/site-packages/sklearn/mixture/_base.py:269: ConvergenceWarning: Initialization 1 did not converge. Try different init parameters, or increase max_iter, tol or check for degenerate data.\n",
      "  % (init + 1), ConvergenceWarning)\n"
     ]
    },
    {
     "name": "stdout",
     "output_type": "stream",
     "text": [
      "components for veh/ped/cyc: 5 4 3\n",
      "0.25674999999999953\n",
      "components for veh/ped/cyc: 5 5 1\n",
      "0.2618499999999998\n"
     ]
    },
    {
     "name": "stderr",
     "output_type": "stream",
     "text": [
      "/home/lab1/miniconda3/lib/python3.7/site-packages/sklearn/mixture/_base.py:269: ConvergenceWarning: Initialization 1 did not converge. Try different init parameters, or increase max_iter, tol or check for degenerate data.\n",
      "  % (init + 1), ConvergenceWarning)\n"
     ]
    },
    {
     "name": "stdout",
     "output_type": "stream",
     "text": [
      "components for veh/ped/cyc: 5 5 2\n",
      "0.2531000000000002\n"
     ]
    },
    {
     "name": "stderr",
     "output_type": "stream",
     "text": [
      "/home/lab1/miniconda3/lib/python3.7/site-packages/sklearn/mixture/_base.py:269: ConvergenceWarning: Initialization 1 did not converge. Try different init parameters, or increase max_iter, tol or check for degenerate data.\n",
      "  % (init + 1), ConvergenceWarning)\n"
     ]
    },
    {
     "name": "stdout",
     "output_type": "stream",
     "text": [
      "components for veh/ped/cyc: 5 5 3\n",
      "0.2557999999999999\n",
      "components for veh/ped/cyc: 6 2 1\n",
      "0.25910000000000005\n"
     ]
    },
    {
     "name": "stderr",
     "output_type": "stream",
     "text": [
      "/home/lab1/miniconda3/lib/python3.7/site-packages/sklearn/mixture/_base.py:269: ConvergenceWarning: Initialization 1 did not converge. Try different init parameters, or increase max_iter, tol or check for degenerate data.\n",
      "  % (init + 1), ConvergenceWarning)\n"
     ]
    },
    {
     "name": "stdout",
     "output_type": "stream",
     "text": [
      "components for veh/ped/cyc: 6 2 2\n",
      "0.25835000000000014\n"
     ]
    },
    {
     "name": "stderr",
     "output_type": "stream",
     "text": [
      "/home/lab1/miniconda3/lib/python3.7/site-packages/sklearn/mixture/_base.py:269: ConvergenceWarning: Initialization 1 did not converge. Try different init parameters, or increase max_iter, tol or check for degenerate data.\n",
      "  % (init + 1), ConvergenceWarning)\n"
     ]
    },
    {
     "name": "stdout",
     "output_type": "stream",
     "text": [
      "components for veh/ped/cyc: 6 2 3\n",
      "0.2617499999999999\n",
      "components for veh/ped/cyc: 6 3 1\n",
      "0.2540499999999998\n"
     ]
    },
    {
     "name": "stderr",
     "output_type": "stream",
     "text": [
      "/home/lab1/miniconda3/lib/python3.7/site-packages/sklearn/mixture/_base.py:269: ConvergenceWarning: Initialization 1 did not converge. Try different init parameters, or increase max_iter, tol or check for degenerate data.\n",
      "  % (init + 1), ConvergenceWarning)\n"
     ]
    },
    {
     "name": "stdout",
     "output_type": "stream",
     "text": [
      "components for veh/ped/cyc: 6 3 2\n",
      "0.25709999999999983\n"
     ]
    },
    {
     "name": "stderr",
     "output_type": "stream",
     "text": [
      "/home/lab1/miniconda3/lib/python3.7/site-packages/sklearn/mixture/_base.py:269: ConvergenceWarning: Initialization 1 did not converge. Try different init parameters, or increase max_iter, tol or check for degenerate data.\n",
      "  % (init + 1), ConvergenceWarning)\n"
     ]
    },
    {
     "name": "stdout",
     "output_type": "stream",
     "text": [
      "components for veh/ped/cyc: 6 3 3\n",
      "0.26009999999999994\n",
      "components for veh/ped/cyc: 6 4 1\n",
      "0.26670000000000016\n"
     ]
    },
    {
     "name": "stderr",
     "output_type": "stream",
     "text": [
      "/home/lab1/miniconda3/lib/python3.7/site-packages/sklearn/mixture/_base.py:269: ConvergenceWarning: Initialization 1 did not converge. Try different init parameters, or increase max_iter, tol or check for degenerate data.\n",
      "  % (init + 1), ConvergenceWarning)\n"
     ]
    },
    {
     "name": "stdout",
     "output_type": "stream",
     "text": [
      "components for veh/ped/cyc: 6 4 2\n",
      "0.25775000000000037\n"
     ]
    },
    {
     "name": "stderr",
     "output_type": "stream",
     "text": [
      "/home/lab1/miniconda3/lib/python3.7/site-packages/sklearn/mixture/_base.py:269: ConvergenceWarning: Initialization 1 did not converge. Try different init parameters, or increase max_iter, tol or check for degenerate data.\n",
      "  % (init + 1), ConvergenceWarning)\n"
     ]
    },
    {
     "name": "stdout",
     "output_type": "stream",
     "text": [
      "components for veh/ped/cyc: 6 4 3\n",
      "0.26134999999999986\n",
      "components for veh/ped/cyc: 6 5 1\n",
      "0.26040000000000024\n"
     ]
    },
    {
     "name": "stderr",
     "output_type": "stream",
     "text": [
      "/home/lab1/miniconda3/lib/python3.7/site-packages/sklearn/mixture/_base.py:269: ConvergenceWarning: Initialization 1 did not converge. Try different init parameters, or increase max_iter, tol or check for degenerate data.\n",
      "  % (init + 1), ConvergenceWarning)\n"
     ]
    },
    {
     "name": "stdout",
     "output_type": "stream",
     "text": [
      "components for veh/ped/cyc: 6 5 2\n",
      "0.2595500000000001\n"
     ]
    },
    {
     "name": "stderr",
     "output_type": "stream",
     "text": [
      "/home/lab1/miniconda3/lib/python3.7/site-packages/sklearn/mixture/_base.py:269: ConvergenceWarning: Initialization 1 did not converge. Try different init parameters, or increase max_iter, tol or check for degenerate data.\n",
      "  % (init + 1), ConvergenceWarning)\n"
     ]
    },
    {
     "name": "stdout",
     "output_type": "stream",
     "text": [
      "components for veh/ped/cyc: 6 5 3\n",
      "0.25749999999999984\n",
      "components for veh/ped/cyc: 7 2 1\n",
      "0.2621999999999998\n"
     ]
    },
    {
     "name": "stderr",
     "output_type": "stream",
     "text": [
      "/home/lab1/miniconda3/lib/python3.7/site-packages/sklearn/mixture/_base.py:269: ConvergenceWarning: Initialization 1 did not converge. Try different init parameters, or increase max_iter, tol or check for degenerate data.\n",
      "  % (init + 1), ConvergenceWarning)\n"
     ]
    },
    {
     "name": "stdout",
     "output_type": "stream",
     "text": [
      "components for veh/ped/cyc: 7 2 2\n",
      "0.2647\n"
     ]
    },
    {
     "name": "stderr",
     "output_type": "stream",
     "text": [
      "/home/lab1/miniconda3/lib/python3.7/site-packages/sklearn/mixture/_base.py:269: ConvergenceWarning: Initialization 1 did not converge. Try different init parameters, or increase max_iter, tol or check for degenerate data.\n",
      "  % (init + 1), ConvergenceWarning)\n"
     ]
    },
    {
     "name": "stdout",
     "output_type": "stream",
     "text": [
      "components for veh/ped/cyc: 7 2 3\n",
      "0.2657\n",
      "components for veh/ped/cyc: 7 3 1\n",
      "0.2576\n"
     ]
    },
    {
     "name": "stderr",
     "output_type": "stream",
     "text": [
      "/home/lab1/miniconda3/lib/python3.7/site-packages/sklearn/mixture/_base.py:269: ConvergenceWarning: Initialization 1 did not converge. Try different init parameters, or increase max_iter, tol or check for degenerate data.\n",
      "  % (init + 1), ConvergenceWarning)\n"
     ]
    },
    {
     "name": "stdout",
     "output_type": "stream",
     "text": [
      "components for veh/ped/cyc: 7 3 2\n",
      "0.2528999999999997\n"
     ]
    },
    {
     "name": "stderr",
     "output_type": "stream",
     "text": [
      "/home/lab1/miniconda3/lib/python3.7/site-packages/sklearn/mixture/_base.py:269: ConvergenceWarning: Initialization 1 did not converge. Try different init parameters, or increase max_iter, tol or check for degenerate data.\n",
      "  % (init + 1), ConvergenceWarning)\n"
     ]
    },
    {
     "name": "stdout",
     "output_type": "stream",
     "text": [
      "components for veh/ped/cyc: 7 3 3\n",
      "0.2529\n",
      "components for veh/ped/cyc: 7 4 1\n",
      "0.2616\n"
     ]
    },
    {
     "name": "stderr",
     "output_type": "stream",
     "text": [
      "/home/lab1/miniconda3/lib/python3.7/site-packages/sklearn/mixture/_base.py:269: ConvergenceWarning: Initialization 1 did not converge. Try different init parameters, or increase max_iter, tol or check for degenerate data.\n",
      "  % (init + 1), ConvergenceWarning)\n"
     ]
    },
    {
     "name": "stdout",
     "output_type": "stream",
     "text": [
      "components for veh/ped/cyc: 7 4 2\n",
      "0.2617999999999998\n"
     ]
    },
    {
     "name": "stderr",
     "output_type": "stream",
     "text": [
      "/home/lab1/miniconda3/lib/python3.7/site-packages/sklearn/mixture/_base.py:269: ConvergenceWarning: Initialization 1 did not converge. Try different init parameters, or increase max_iter, tol or check for degenerate data.\n",
      "  % (init + 1), ConvergenceWarning)\n"
     ]
    },
    {
     "name": "stdout",
     "output_type": "stream",
     "text": [
      "components for veh/ped/cyc: 7 4 3\n",
      "0.26465000000000044\n",
      "components for veh/ped/cyc: 7 5 1\n",
      "0.25634999999999986\n"
     ]
    },
    {
     "name": "stderr",
     "output_type": "stream",
     "text": [
      "/home/lab1/miniconda3/lib/python3.7/site-packages/sklearn/mixture/_base.py:269: ConvergenceWarning: Initialization 1 did not converge. Try different init parameters, or increase max_iter, tol or check for degenerate data.\n",
      "  % (init + 1), ConvergenceWarning)\n"
     ]
    },
    {
     "name": "stdout",
     "output_type": "stream",
     "text": [
      "components for veh/ped/cyc: 7 5 2\n",
      "0.25339999999999996\n"
     ]
    },
    {
     "name": "stderr",
     "output_type": "stream",
     "text": [
      "/home/lab1/miniconda3/lib/python3.7/site-packages/sklearn/mixture/_base.py:269: ConvergenceWarning: Initialization 1 did not converge. Try different init parameters, or increase max_iter, tol or check for degenerate data.\n",
      "  % (init + 1), ConvergenceWarning)\n"
     ]
    },
    {
     "name": "stdout",
     "output_type": "stream",
     "text": [
      "components for veh/ped/cyc: 7 5 3\n",
      "0.25450000000000006\n",
      "components for veh/ped/cyc: 8 2 1\n",
      "0.24615\n"
     ]
    },
    {
     "name": "stderr",
     "output_type": "stream",
     "text": [
      "/home/lab1/miniconda3/lib/python3.7/site-packages/sklearn/mixture/_base.py:269: ConvergenceWarning: Initialization 1 did not converge. Try different init parameters, or increase max_iter, tol or check for degenerate data.\n",
      "  % (init + 1), ConvergenceWarning)\n"
     ]
    },
    {
     "name": "stdout",
     "output_type": "stream",
     "text": [
      "components for veh/ped/cyc: 8 2 2\n",
      "0.25074999999999986\n"
     ]
    },
    {
     "name": "stderr",
     "output_type": "stream",
     "text": [
      "/home/lab1/miniconda3/lib/python3.7/site-packages/sklearn/mixture/_base.py:269: ConvergenceWarning: Initialization 1 did not converge. Try different init parameters, or increase max_iter, tol or check for degenerate data.\n",
      "  % (init + 1), ConvergenceWarning)\n"
     ]
    },
    {
     "name": "stdout",
     "output_type": "stream",
     "text": [
      "components for veh/ped/cyc: 8 2 3\n",
      "0.25169999999999976\n",
      "components for veh/ped/cyc: 8 3 1\n",
      "0.2565499999999996\n"
     ]
    },
    {
     "name": "stderr",
     "output_type": "stream",
     "text": [
      "/home/lab1/miniconda3/lib/python3.7/site-packages/sklearn/mixture/_base.py:269: ConvergenceWarning: Initialization 1 did not converge. Try different init parameters, or increase max_iter, tol or check for degenerate data.\n",
      "  % (init + 1), ConvergenceWarning)\n"
     ]
    },
    {
     "name": "stdout",
     "output_type": "stream",
     "text": [
      "components for veh/ped/cyc: 8 3 2\n",
      "0.25209999999999977\n"
     ]
    },
    {
     "name": "stderr",
     "output_type": "stream",
     "text": [
      "/home/lab1/miniconda3/lib/python3.7/site-packages/sklearn/mixture/_base.py:269: ConvergenceWarning: Initialization 1 did not converge. Try different init parameters, or increase max_iter, tol or check for degenerate data.\n",
      "  % (init + 1), ConvergenceWarning)\n"
     ]
    },
    {
     "name": "stdout",
     "output_type": "stream",
     "text": [
      "components for veh/ped/cyc: 8 3 3\n",
      "0.24905000000000002\n",
      "components for veh/ped/cyc: 8 4 1\n",
      "0.24564999999999965\n"
     ]
    },
    {
     "name": "stderr",
     "output_type": "stream",
     "text": [
      "/home/lab1/miniconda3/lib/python3.7/site-packages/sklearn/mixture/_base.py:269: ConvergenceWarning: Initialization 1 did not converge. Try different init parameters, or increase max_iter, tol or check for degenerate data.\n",
      "  % (init + 1), ConvergenceWarning)\n"
     ]
    },
    {
     "name": "stdout",
     "output_type": "stream",
     "text": [
      "components for veh/ped/cyc: 8 4 2\n",
      "0.24950000000000006\n"
     ]
    },
    {
     "name": "stderr",
     "output_type": "stream",
     "text": [
      "/home/lab1/miniconda3/lib/python3.7/site-packages/sklearn/mixture/_base.py:269: ConvergenceWarning: Initialization 1 did not converge. Try different init parameters, or increase max_iter, tol or check for degenerate data.\n",
      "  % (init + 1), ConvergenceWarning)\n"
     ]
    },
    {
     "name": "stdout",
     "output_type": "stream",
     "text": [
      "components for veh/ped/cyc: 8 4 3\n",
      "0.2465000000000003\n",
      "components for veh/ped/cyc: 8 5 1\n",
      "0.24334999999999996\n"
     ]
    },
    {
     "name": "stderr",
     "output_type": "stream",
     "text": [
      "/home/lab1/miniconda3/lib/python3.7/site-packages/sklearn/mixture/_base.py:269: ConvergenceWarning: Initialization 1 did not converge. Try different init parameters, or increase max_iter, tol or check for degenerate data.\n",
      "  % (init + 1), ConvergenceWarning)\n"
     ]
    },
    {
     "name": "stdout",
     "output_type": "stream",
     "text": [
      "components for veh/ped/cyc: 8 5 2\n",
      "0.24894999999999967\n"
     ]
    },
    {
     "name": "stderr",
     "output_type": "stream",
     "text": [
      "/home/lab1/miniconda3/lib/python3.7/site-packages/sklearn/mixture/_base.py:269: ConvergenceWarning: Initialization 1 did not converge. Try different init parameters, or increase max_iter, tol or check for degenerate data.\n",
      "  % (init + 1), ConvergenceWarning)\n"
     ]
    },
    {
     "name": "stdout",
     "output_type": "stream",
     "text": [
      "components for veh/ped/cyc: 8 5 3\n",
      "0.25189999999999985\n",
      "components for veh/ped/cyc: 9 2 1\n",
      "0.2503499999999996\n"
     ]
    },
    {
     "name": "stderr",
     "output_type": "stream",
     "text": [
      "/home/lab1/miniconda3/lib/python3.7/site-packages/sklearn/mixture/_base.py:269: ConvergenceWarning: Initialization 1 did not converge. Try different init parameters, or increase max_iter, tol or check for degenerate data.\n",
      "  % (init + 1), ConvergenceWarning)\n"
     ]
    },
    {
     "name": "stdout",
     "output_type": "stream",
     "text": [
      "components for veh/ped/cyc: 9 2 2\n",
      "0.24954999999999988\n"
     ]
    },
    {
     "name": "stderr",
     "output_type": "stream",
     "text": [
      "/home/lab1/miniconda3/lib/python3.7/site-packages/sklearn/mixture/_base.py:269: ConvergenceWarning: Initialization 1 did not converge. Try different init parameters, or increase max_iter, tol or check for degenerate data.\n",
      "  % (init + 1), ConvergenceWarning)\n"
     ]
    },
    {
     "name": "stdout",
     "output_type": "stream",
     "text": [
      "components for veh/ped/cyc: 9 2 3\n",
      "0.25164999999999976\n",
      "components for veh/ped/cyc: 9 3 1\n",
      "0.24664999999999992\n"
     ]
    },
    {
     "name": "stderr",
     "output_type": "stream",
     "text": [
      "/home/lab1/miniconda3/lib/python3.7/site-packages/sklearn/mixture/_base.py:269: ConvergenceWarning: Initialization 1 did not converge. Try different init parameters, or increase max_iter, tol or check for degenerate data.\n",
      "  % (init + 1), ConvergenceWarning)\n"
     ]
    },
    {
     "name": "stdout",
     "output_type": "stream",
     "text": [
      "components for veh/ped/cyc: 9 3 2\n",
      "0.25164999999999976\n"
     ]
    },
    {
     "name": "stderr",
     "output_type": "stream",
     "text": [
      "/home/lab1/miniconda3/lib/python3.7/site-packages/sklearn/mixture/_base.py:269: ConvergenceWarning: Initialization 1 did not converge. Try different init parameters, or increase max_iter, tol or check for degenerate data.\n",
      "  % (init + 1), ConvergenceWarning)\n"
     ]
    },
    {
     "name": "stdout",
     "output_type": "stream",
     "text": [
      "components for veh/ped/cyc: 9 3 3\n",
      "0.24689999999999993\n",
      "components for veh/ped/cyc: 9 4 1\n",
      "0.24794999999999995\n"
     ]
    },
    {
     "name": "stderr",
     "output_type": "stream",
     "text": [
      "/home/lab1/miniconda3/lib/python3.7/site-packages/sklearn/mixture/_base.py:269: ConvergenceWarning: Initialization 1 did not converge. Try different init parameters, or increase max_iter, tol or check for degenerate data.\n",
      "  % (init + 1), ConvergenceWarning)\n"
     ]
    },
    {
     "name": "stdout",
     "output_type": "stream",
     "text": [
      "components for veh/ped/cyc: 9 4 2\n",
      "0.24804999999999974\n"
     ]
    },
    {
     "name": "stderr",
     "output_type": "stream",
     "text": [
      "/home/lab1/miniconda3/lib/python3.7/site-packages/sklearn/mixture/_base.py:269: ConvergenceWarning: Initialization 1 did not converge. Try different init parameters, or increase max_iter, tol or check for degenerate data.\n",
      "  % (init + 1), ConvergenceWarning)\n"
     ]
    },
    {
     "name": "stdout",
     "output_type": "stream",
     "text": [
      "components for veh/ped/cyc: 9 4 3\n",
      "0.25390000000000007\n",
      "components for veh/ped/cyc: 9 5 1\n",
      "0.2513499999999999\n"
     ]
    },
    {
     "name": "stderr",
     "output_type": "stream",
     "text": [
      "/home/lab1/miniconda3/lib/python3.7/site-packages/sklearn/mixture/_base.py:269: ConvergenceWarning: Initialization 1 did not converge. Try different init parameters, or increase max_iter, tol or check for degenerate data.\n",
      "  % (init + 1), ConvergenceWarning)\n"
     ]
    },
    {
     "name": "stdout",
     "output_type": "stream",
     "text": [
      "components for veh/ped/cyc: 9 5 2\n",
      "0.2445999999999999\n"
     ]
    },
    {
     "name": "stderr",
     "output_type": "stream",
     "text": [
      "/home/lab1/miniconda3/lib/python3.7/site-packages/sklearn/mixture/_base.py:269: ConvergenceWarning: Initialization 1 did not converge. Try different init parameters, or increase max_iter, tol or check for degenerate data.\n",
      "  % (init + 1), ConvergenceWarning)\n"
     ]
    },
    {
     "name": "stdout",
     "output_type": "stream",
     "text": [
      "components for veh/ped/cyc: 9 5 3\n",
      "0.24759999999999993\n"
     ]
    }
   ],
   "source": [
    "result=[]\n",
    "for vk in range(2, 10):\n",
    "    veh_model = _get_veh_model(all_scene_dict = all_scene_dict, k=vk)\n",
    "    for pk in range(2,6):\n",
    "        ped_model = _get_ped_model(all_scene_dict = all_scene_dict, k=pk)\n",
    "        for ck in range(1,4):\n",
    "            cyc_model = _get_cyc_model(all_scene_dict = all_scene_dict, k=ck)\n",
    "            print(\"components for veh/ped/cyc:\", vk, pk, ck)\n",
    "            encoding, veh_pool, ped_pool, cyc_pool = _get_scene_encodings(all_scene_dict = all_scene_dict, \\\n",
    "                                                              veh_model=veh_model, ped_model=ped_model, cyc_model=cyc_model)\n",
    "            # print(encoding)\n",
    "            Pxy, Pxz, Pyzx = _get_distribution(encodings=encoding)\n",
    "            _, rate = Gibbs_sampling_checkn(max_scene=1000,Pxy=Pxy, Pxz=Pxz, Pyzx=Pyzx, \\\n",
    "                   poolv=veh_pool, poolp=ped_pool, poolc=cyc_pool,\\\n",
    "                   veh_model=veh_model, ped_model=ped_model, cyc_model=cyc_model, \\\n",
    "                   max_n_veh=10, max_n_ped=5, max_n_cyc=5)\n",
    "            print(rate)\n",
    "            result.append([vk,pk,ck, rate])"
   ]
  },
  {
   "cell_type": "code",
   "execution_count": 172,
   "metadata": {},
   "outputs": [
    {
     "name": "stdout",
     "output_type": "stream",
     "text": [
      "[[3, 3, 1, 0.22174999999999978], [3, 3, 2, 0.22419999999999998], [3, 5, 1, 0.22484999999999977], [3, 5, 3, 0.22515000000000024], [3, 4, 1, 0.22624999999999967]]\n"
     ]
    }
   ],
   "source": [
    "result.sort(key=lambda x: x[3])\n",
    "print(result[0:5])"
   ]
  },
  {
   "cell_type": "code",
   "execution_count": 267,
   "metadata": {},
   "outputs": [
    {
     "name": "stdout",
     "output_type": "stream",
     "text": [
      "[0.2637208333333333, 0.22671249999999996, 0.2624041666666666, 0.2561708333333332, 0.25947499999999996, 0.25902499999999995, 0.24934583333333324, 0.2491833333333332]\n"
     ]
    }
   ],
   "source": [
    "# original_result = np.load('SensAnalysis.npy')\n",
    "result = np.array(result)\n",
    "vvk=[]\n",
    "for vk in range(2,10):\n",
    "    arr_id = np.where(result[:,0]==vk)\n",
    "    arr = result[arr_id]\n",
    "    avg = np.mean(arr[:,3])\n",
    "    vvk.append(avg)\n",
    "print(vvk)"
   ]
  },
  {
   "cell_type": "code",
   "execution_count": 268,
   "metadata": {},
   "outputs": [
    {
     "data": {
      "image/png": "[encoded data removed]",
      "text/plain": [
       "<Figure size 432x288 with 1 Axes>"
      ]
     },
     "metadata": {
      "needs_background": "light"
     },
     "output_type": "display_data"
    }
   ],
   "source": [
    "xdim = np.arange(2,10).astype(int).astype(str)\n",
    "plt.plot(xdim, vvk)\n",
    "plt.xlabel('$K_v$', fontsize=18)\n",
    "plt.ylabel('Agent removing rate', fontsize=18)\n",
    "plt.xticks(fontsize=16)\n",
    "plt.yticks(fontsize=12)\n",
    "plt.ylim(0.225,0.265)\n",
    "plt.tight_layout()\n",
    "plt.savefig('sens_bgm_veh', dpi=100)\n",
    "plt.show()"
   ]
  },
  {
   "cell_type": "code",
   "execution_count": 262,
   "metadata": {},
   "outputs": [
    {
     "data": {
      "image/png": "[encoded data removed]",
      "text/plain": [
       "<Figure size 720x576 with 2 Axes>"
      ]
     },
     "metadata": {
      "needs_background": "light"
     },
     "output_type": "display_data"
    }
   ],
   "source": [
    "from mpl_toolkits.mplot3d import Axes3D\n",
    "from matplotlib.ticker import MaxNLocator\n",
    "\n",
    "\n",
    "\n",
    "fig = plt.figure(figsize=(10,8))\n",
    "ax = fig.add_subplot(111, projection='3d')\n",
    "\n",
    "\n",
    "img = ax.scatter(result[:,0], result[:,1], result[:,2], c=result[:,3], s=result[:,3]*1000, cmap=plt.get_cmap('afmhot'))\n",
    "fig.colorbar(img)\n",
    "ax.set_xlabel('$K_v$', fontsize=18)\n",
    "ax.set_ylabel('$K_p$', fontsize=18)\n",
    "ax.set_zlabel('$K_c$', fontsize=18)\n",
    "# plt.title('Sensitivity anslysis on # components')\n",
    "plt.tight_layout()\n",
    "# ax = plt.figure().gca()\n",
    "\n",
    "ax.xaxis.set_major_locator(MaxNLocator(integer=True))\n",
    "ax.yaxis.set_major_locator(MaxNLocator(integer=True))\n",
    "ax.zaxis.set_major_locator(MaxNLocator(integer=True))\n",
    "ax.tick_params(axis='x', labelsize= 14)\n",
    "ax.tick_params(axis='y', labelsize= 14)\n",
    "ax.tick_params(axis='z', labelsize= 14)\n",
    "\n",
    "plt.savefig(\"sensAnalysis\")\n",
    "plt.show()"
   ]
  },
  {
   "cell_type": "code",
   "execution_count": 201,
   "metadata": {},
   "outputs": [],
   "source": [
    "np.save('SensAnalysis', result)"
   ]
  },
  {
   "cell_type": "code",
   "execution_count": null,
   "metadata": {},
   "outputs": [],
   "source": []
  }
 ],
 "metadata": {
  "kernelspec": {
   "display_name": "Python 3",
   "language": "python",
   "name": "python3"
  },
  "language_info": {
   "codemirror_mode": {
    "name": "ipython",
    "version": 3
   },
   "file_extension": ".py",
   "mimetype": "text/x-python",
   "name": "python",
   "nbconvert_exporter": "python",
   "pygments_lexer": "ipython3",
   "version": "3.7.7"
  }
 },
 "nbformat": 4,
 "nbformat_minor": 4
}
