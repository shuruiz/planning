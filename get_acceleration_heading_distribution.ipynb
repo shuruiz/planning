{
 "cells": [
  {
   "cell_type": "code",
   "execution_count": 126,
   "metadata": {},
   "outputs": [],
   "source": [
    "import numpy as np\n",
    "import math \n",
    "import matplotlib.pyplot as plt \n",
    "import pickle"
   ]
  },
  {
   "cell_type": "code",
   "execution_count": 127,
   "metadata": {},
   "outputs": [],
   "source": [
    "poolv = pickle.load(open(\"/home/lab1/repo/planning/saved_gibbs/8kfb_veh_pool.pickle\",'rb'))"
   ]
  },
  {
   "cell_type": "code",
   "execution_count": 128,
   "metadata": {},
   "outputs": [
    {
     "data": {
      "text/plain": [
       "{2: array([[[  629.74658203, -2250.74169922],\n",
       "         [  626.14746094, -2256.24243164],\n",
       "         [  623.23803711, -2260.68237305],\n",
       "         ...,\n",
       "         [  589.33453369, -2320.19042969],\n",
       "         [  587.24108887, -2324.35693359],\n",
       "         [  585.06555176, -2328.69677734]],\n",
       " \n",
       "        [[  582.79241943, -2333.0480957 ],\n",
       "         [  580.39691162, -2337.41308594],\n",
       "         [  577.96166992, -2341.65136719],\n",
       "         ...,\n",
       "         [  541.02270508, -2379.08691406],\n",
       "         [  539.57574463, -2380.02075195],\n",
       "         [  538.40289307, -2380.77563477]],\n",
       " \n",
       "        [[  546.06811523, -2412.45117188],\n",
       "         [  545.78515625, -2411.83129883],\n",
       "         [  545.81494141, -2411.8605957 ],\n",
       "         ...,\n",
       "         [  541.03741455, -2401.99145508],\n",
       "         [  541.01953125, -2401.93286133],\n",
       "         [  541.12359619, -2402.11547852]],\n",
       " \n",
       "        ...,\n",
       " \n",
       "        [[  540.72607422, -2400.99902344],\n",
       "         [  540.62365723, -2400.78149414],\n",
       "         [  540.45123291, -2400.3190918 ],\n",
       "         ...,\n",
       "         [  536.34954834, -2388.54638672],\n",
       "         [  536.73370361, -2386.89672852],\n",
       "         [  538.1348877 , -2384.88867188]],\n",
       " \n",
       "        [[  565.16033936, -2355.45581055],\n",
       "         [  561.31201172, -2358.90771484],\n",
       "         [  558.43762207, -2361.63452148],\n",
       "         ...,\n",
       "         [  491.39959717, -2397.32348633],\n",
       "         [  486.62908936, -2398.35327148],\n",
       "         [  482.10003662, -2399.15405273]],\n",
       " \n",
       "        [[  545.49169922, -2414.53613281],\n",
       "         [  544.89263916, -2412.86889648],\n",
       "         [  544.43969727, -2411.62719727],\n",
       "         ...,\n",
       "         [  540.88549805, -2402.84375   ],\n",
       "         [  540.79119873, -2402.61401367],\n",
       "         [  540.90106201, -2402.49658203]]]),\n",
       " 0: array([[[  539.79486084, -2422.02124023],\n",
       "         [  539.69604492, -2421.80273438],\n",
       "         [  539.72052002, -2421.80151367],\n",
       "         ...,\n",
       "         [  542.81677246, -2420.49804688],\n",
       "         [  543.59436035, -2420.52563477],\n",
       "         [  543.92956543, -2420.53198242]],\n",
       " \n",
       "        [[  547.10308838, -2419.38989258],\n",
       "         [  546.86730957, -2418.79980469],\n",
       "         [  546.68591309, -2418.58081055],\n",
       "         ...,\n",
       "         [  543.7109375 , -2410.8671875 ],\n",
       "         [  543.59362793, -2410.62329102],\n",
       "         [  543.46209717, -2410.2331543 ]],\n",
       " \n",
       "        [[  543.44219971, -2410.02832031],\n",
       "         [  543.30767822, -2409.77197266],\n",
       "         [  543.21893311, -2409.44702148],\n",
       "         ...,\n",
       "         [  541.91192627, -2405.04858398],\n",
       "         [  541.5925293 , -2404.43652344],\n",
       "         [  541.31970215, -2403.76538086]],\n",
       " \n",
       "        ...,\n",
       " \n",
       "        [[  538.97509766, -2397.43505859],\n",
       "         [  539.06494141, -2398.20117188],\n",
       "         [  539.10174561, -2398.38769531],\n",
       "         ...,\n",
       "         [  539.2008667 , -2398.47241211],\n",
       "         [  539.26715088, -2398.51391602],\n",
       "         [  539.27667236, -2398.52880859]],\n",
       " \n",
       "        [[  532.65411377, -2390.21240234],\n",
       "         [  533.16809082, -2391.19726562],\n",
       "         [  533.30151367, -2392.71923828],\n",
       "         ...,\n",
       "         [  542.91943359, -2415.74584961],\n",
       "         [  543.08392334, -2416.1965332 ],\n",
       "         [  543.21569824, -2416.51635742]],\n",
       " \n",
       "        [[  543.2434082 , -2416.69116211],\n",
       "         [  543.24468994, -2416.7097168 ],\n",
       "         [  543.2286377 , -2416.66381836],\n",
       "         ...,\n",
       "         [  552.12878418, -2436.58691406],\n",
       "         [  553.81396484, -2440.18261719],\n",
       "         [  555.31884766, -2443.21289062]]]),\n",
       " 1: array([[[  545.26074219, -2411.40771484],\n",
       "         [  544.57470703, -2410.00634766],\n",
       "         [  544.40148926, -2409.44091797],\n",
       "         ...,\n",
       "         [  541.03662109, -2401.73217773],\n",
       "         [  541.07427979, -2401.79321289],\n",
       "         [  540.98651123, -2401.69189453]],\n",
       " \n",
       "        [[  540.67541504, -2401.14453125],\n",
       "         [  540.60333252, -2400.87304688],\n",
       "         [  540.36456299, -2400.33032227],\n",
       "         ...,\n",
       "         [  537.57324219, -2394.33129883],\n",
       "         [  537.02001953, -2393.14575195],\n",
       "         [  536.42645264, -2391.75854492]],\n",
       " \n",
       "        [[  522.9309082 , -2392.42871094],\n",
       "         [  525.70678711, -2391.99707031],\n",
       "         [  527.98474121, -2391.91650391],\n",
       "         ...,\n",
       "         [  545.39422607, -2423.7644043 ],\n",
       "         [  546.63574219, -2426.38671875],\n",
       "         [  547.93481445, -2429.39282227]],\n",
       " \n",
       "        ...,\n",
       " \n",
       "        [[  541.22119141, -2401.99243164],\n",
       "         [  540.93841553, -2401.28051758],\n",
       "         [  540.52606201, -2400.20483398],\n",
       "         ...,\n",
       "         [  539.61340332, -2383.58422852],\n",
       "         [  542.34820557, -2381.73950195],\n",
       "         [  544.54302979, -2380.34716797]],\n",
       " \n",
       "        [[  606.37646484, -2285.98291016],\n",
       "         [  601.75054932, -2295.71386719],\n",
       "         [  597.28192139, -2304.4609375 ],\n",
       "         ...,\n",
       "         [  490.78259277, -2397.734375  ],\n",
       "         [  481.25042725, -2399.7409668 ],\n",
       "         [  471.63873291, -2401.21240234]],\n",
       " \n",
       "        [[  658.1741333 , -2209.31811523],\n",
       "         [  655.52075195, -2214.28564453],\n",
       "         [  653.18963623, -2218.83813477],\n",
       "         ...,\n",
       "         [  639.41796875, -2240.4987793 ],\n",
       "         [  639.41522217, -2240.58129883],\n",
       "         [  639.74371338, -2240.0637207 ]]])}"
      ]
     },
     "execution_count": 128,
     "metadata": {},
     "output_type": "execute_result"
    }
   ],
   "source": [
    "poolv"
   ]
  },
  {
   "cell_type": "code",
   "execution_count": 129,
   "metadata": {},
   "outputs": [],
   "source": [
    "def _get_av(prev2, prev, curr):\n",
    "    v10 = np.linalg.norm(curr - prev)/0.5\n",
    "    v9 = np.linalg.norm(prev - prev2)/0.5\n",
    "    a = (v10-v9)/0.5\n",
    "    return a, v10\n",
    "\n",
    "# def _get_theta(prev,curr):\n",
    "#     try:\n",
    "#         diff = curr[0]-prev[0] \n",
    "#         if diff !=0:\n",
    "#             tan = (curr[1]-prev[1])/diff\n",
    "#             return math.atan(tan)\n",
    "#         else:\n",
    "#             return 90\n",
    "#     except:\n",
    "#         return 90\n",
    "    \n",
    "def _get_theta(prev,curr):\n",
    "    diff_x = curr[0]-prev[0] \n",
    "    diff_y = curr[1]-prev[1]\n",
    "    indicator=1\n",
    "    if diff_x<=0 and diff_y>=0:\n",
    "        indicator=2\n",
    "    elif diff_x<=0 and diff_y<=0:\n",
    "        indicator=3\n",
    "    else:\n",
    "        indicator=4\n",
    "    try:\n",
    "        if diff_x !=0:\n",
    "            tan = diff_y/diff_x\n",
    "#             print(\"tan\", tan, math.atan(tan)*180/math.pi)\n",
    "            return math.atan(tan)*180/math.pi, indicator\n",
    "        else:\n",
    "            return 90, indicator\n",
    "    except:\n",
    "        return 90, indicator"
   ]
  },
  {
   "cell_type": "code",
   "execution_count": 130,
   "metadata": {},
   "outputs": [
    {
     "name": "stdout",
     "output_type": "stream",
     "text": [
      "(1104, 20, 2)\n",
      "(3098, 20, 2)\n",
      "(3190, 20, 2)\n"
     ]
    }
   ],
   "source": [
    "for key in poolv.keys():\n",
    "    trajset = poolv[key]\n",
    "    print(trajset.shape)"
   ]
  },
  {
   "cell_type": "code",
   "execution_count": 131,
   "metadata": {},
   "outputs": [],
   "source": [
    "delta_a, delta_theta=[],[]\n",
    "for key in poolv.keys():\n",
    "    trajset = poolv[key]\n",
    "    for traj in trajset:\n",
    "        prev_a=None\n",
    "        prev_theta=None\n",
    "        for i in range(2, len(traj)):\n",
    "            prev2 = traj[i-2]\n",
    "            prev = traj[i-1]\n",
    "            curr = traj[i]\n",
    "            a, v = _get_av(prev2, prev, curr)\n",
    "            if prev_a is None:\n",
    "                prev_a = a\n",
    "            else:\n",
    "                da = a-prev_a\n",
    "                delta_a.append(da)\n",
    "            theta,_ = _get_theta(prev, curr)\n",
    "            if prev_theta is None:\n",
    "                prev_theta = theta\n",
    "            else:\n",
    "                dtheta = theta-prev_theta\n",
    "                delta_theta.append(dtheta)\n",
    "            "
   ]
  },
  {
   "cell_type": "code",
   "execution_count": 132,
   "metadata": {},
   "outputs": [
    {
     "name": "stdout",
     "output_type": "stream",
     "text": [
      "125664 125664\n"
     ]
    }
   ],
   "source": [
    "print(len(delta_a), len(delta_theta))"
   ]
  },
  {
   "cell_type": "code",
   "execution_count": 133,
   "metadata": {},
   "outputs": [],
   "source": [
    "import numpy as np\n",
    "import scipy.stats\n",
    "\n",
    "def mean_confidence_interval(data, confidence=0.9999):\n",
    "    a = 1.0 * np.array(data)\n",
    "    n = len(a)\n",
    "    m, se = np.mean(a), scipy.stats.sem(a)\n",
    "    h = se * scipy.stats.t.ppf((1 + confidence) / 2., n-1)\n",
    "    return m, m-h, m+h"
   ]
  },
  {
   "cell_type": "code",
   "execution_count": 134,
   "metadata": {},
   "outputs": [
    {
     "data": {
      "image/png": "[encoded data removed]",
      "text/plain": [
       "<Figure size 432x288 with 1 Axes>"
      ]
     },
     "metadata": {
      "needs_background": "light"
     },
     "output_type": "display_data"
    }
   ],
   "source": [
    "# xx = np.arange(-3,3,0.1)\n",
    "plt.hist(delta_a, bins=1000)\n",
    "plt.xlim(-10,10)\n",
    "plt.show()"
   ]
  },
  {
   "cell_type": "code",
   "execution_count": 135,
   "metadata": {},
   "outputs": [
    {
     "name": "stdout",
     "output_type": "stream",
     "text": [
      "0.8123104408688374 0.7568494735514654 0.8677714081862095\n"
     ]
    }
   ],
   "source": [
    "a,b,c = mean_confidence_interval(delta_a, 0.999999999)\n",
    "print(a, b,c)"
   ]
  },
  {
   "cell_type": "code",
   "execution_count": 140,
   "metadata": {},
   "outputs": [
    {
     "data": {
      "image/png": "[encoded data removed]",
      "text/plain": [
       "<Figure size 432x288 with 1 Axes>"
      ]
     },
     "metadata": {
      "needs_background": "light"
     },
     "output_type": "display_data"
    }
   ],
   "source": [
    "plt.hist(delta_theta, bins=1000)\n",
    "plt.xlim(-90,90)\n",
    "plt.show()"
   ]
  },
  {
   "cell_type": "code",
   "execution_count": 142,
   "metadata": {},
   "outputs": [
    {
     "name": "stdout",
     "output_type": "stream",
     "text": [
      "0.8949461928851749 0.10770025488779666 1.682192130882553\n"
     ]
    }
   ],
   "source": [
    "a,b,c = mean_confidence_interval(delta_theta, 0.999999999)\n",
    "print(a, b,c)"
   ]
  },
  {
   "cell_type": "code",
   "execution_count": 39,
   "metadata": {},
   "outputs": [
    {
     "name": "stdout",
     "output_type": "stream",
     "text": [
      "480\n"
     ]
    }
   ],
   "source": [
    "import itertools\n",
    "action_dict = list(itertools.product(np.round(np.arange(-3,3,0.1), decimals=1), np.round(np.arange(-2,2,0.5), decimals=1)))\n",
    "print(len(action_dict))"
   ]
  },
  {
   "cell_type": "markdown",
   "metadata": {},
   "source": [
    "## reload"
   ]
  },
  {
   "cell_type": "code",
   "execution_count": 143,
   "metadata": {},
   "outputs": [
    {
     "name": "stdout",
     "output_type": "stream",
     "text": [
      "(20, 2)\n"
     ]
    }
   ],
   "source": [
    "\n",
    "tasks = pickle.load(open(\"/home/lab1/repo/planning/tasks/task.pickle\",'rb'))\n",
    "print(tasks[0].shape)"
   ]
  },
  {
   "cell_type": "code",
   "execution_count": 144,
   "metadata": {},
   "outputs": [],
   "source": [
    "def _get_av(prev2, prev, curr):\n",
    "    v10 = np.linalg.norm(curr - prev)/0.5\n",
    "    v9 = np.linalg.norm(prev - prev2)/0.5\n",
    "    a = (v10-v9)/0.5\n",
    "    return a, (v10+v9)/2\n",
    "\n",
    "def _get_theta(prev,curr):\n",
    "    diff_x = curr[0]-prev[0] \n",
    "    diff_y = curr[1]-prev[1]\n",
    "    indicator=1\n",
    "    if diff_x<=0 and diff_y>=0:\n",
    "        indicator=2\n",
    "    elif diff_x<=0 and diff_y<=0:\n",
    "        indicator=3\n",
    "    else:\n",
    "        indicator=4\n",
    "    try:\n",
    "        if diff_x !=0:\n",
    "            tan = diff_y/diff_x\n",
    "            print(\"tan\", tan, math.atan(tan)*180/math.pi)\n",
    "            return math.atan(tan)*180/math.pi, indicator\n",
    "        else:\n",
    "            return 90, indicator\n",
    "    except:\n",
    "        return 90, indicator"
   ]
  },
  {
   "cell_type": "code",
   "execution_count": 146,
   "metadata": {},
   "outputs": [
    {
     "name": "stdout",
     "output_type": "stream",
     "text": [
      "tan 0.8671141617038458 40.929021868007084\n",
      "tan 0.8306801043736385 39.71573791967779\n",
      "tan 0.7119846148715497 35.45028110637137\n",
      "tan 0.6576295664161224 33.33010242890589\n",
      "tan 0.6056905397956155 31.202892951948336\n",
      "tan 0.5163429943336147 27.309251743558217\n",
      "tan 0.47710653395092145 25.506114380621007\n",
      "tan 0.4307463795024137 23.30378617530467\n",
      "tan 0.32764438644586086 18.141092493312904\n",
      "tan 0.28263420287634033 15.782106666569984\n",
      "10 [[0.034677749016960746, 40.929021868007084, 3], [0.9053716228351476, 39.71573791967779, 3], [0.4437373803422382, 35.45028110637137, 3], [-0.25243820554160834, 33.33010242890589, 3], [0.2177503561583407, 31.202892951948336, 3], [0.08378682734997156, 27.309251743558217, 3], [0.4389231150954771, 25.506114380621007, 3], [-0.2449449895566893, 23.30378617530467, 3], [-0.8223339236409899, 18.141092493312904, 3], [0.10686495956812792, 15.782106666569984, 3]]\n"
     ]
    }
   ],
   "source": [
    "def get_guide(traj):\n",
    "    guide=[]\n",
    "    for i in range(9,19):\n",
    "        a,_ = _get_av(traj[i-1], traj[i], traj[i+1])\n",
    "        theta, indicator = _get_theta(traj[i], traj[i+1])\n",
    "        guide.append([a, theta, indicator])\n",
    "    return guide\n",
    "guide = get_guide(tasks[0])\n",
    "print(len(guide),guide)"
   ]
  },
  {
   "cell_type": "code",
   "execution_count": 147,
   "metadata": {},
   "outputs": [
    {
     "name": "stdout",
     "output_type": "stream",
     "text": [
      "45.0\n",
      "[1, 2.0, 3, 2.1, 1, 1.0]\n"
     ]
    }
   ],
   "source": [
    "print(math.atan(1) *180/math.pi)\n",
    "print([1,2.0,3]+ [2.1,1]+[1.0])\n"
   ]
  },
  {
   "cell_type": "code",
   "execution_count": 115,
   "metadata": {
    "scrolled": false
   },
   "outputs": [
    {
     "name": "stdout",
     "output_type": "stream",
     "text": [
      "0.034677749016960746 12.796792439167263\n",
      "tan 0.8671141617038458 40.929021868007084\n",
      "dist 6.402730938210752 0.034677749016960746\n",
      "rad 40.929021868007084 0.7143461912174837\n",
      "dxdy 4.83740234375 4.194580078125002\n",
      "tan 0.8671141617038458 40.929021868007084\n",
      "new theta  (40.929021868007084, 3) gt 40.929021868007084\n",
      "dist to gt 0.0\n",
      "dist to prev 6.402730938210751\n",
      "gt 6.402730938210751\n"
     ]
    },
    {
     "data": {
      "image/png": "[encoded data removed]",
      "text/plain": [
       "<Figure size 432x288 with 1 Axes>"
      ]
     },
     "metadata": {
      "needs_background": "light"
     },
     "output_type": "display_data"
    },
    {
     "name": "stdout",
     "output_type": "stream",
     "text": [
      "dist 6.520237109692265 0.9053716228351476\n",
      "rad 39.71573791967779 0.6931703915575407\n",
      "dxdy 5.015523328369862 4.166295441898695\n",
      "tan 0.8306801043736735 39.71573791967897\n",
      "new theta  (39.71573791967897, 3) gt 39.71573791967779\n",
      "dist to gt 0.10883673422709951\n",
      "dist to prev 6.520237109692438\n",
      "gt 6.629073843919538\n"
     ]
    },
    {
     "data": {
      "image/png": "[encoded data removed]",
      "text/plain": [
       "<Figure size 432x288 with 1 Axes>"
      ]
     },
     "metadata": {
      "needs_background": "light"
     },
     "output_type": "display_data"
    },
    {
     "name": "stdout",
     "output_type": "stream",
     "text": [
      "dist 6.688875735089438 0.4437373803422382\n",
      "rad 35.45028110637137 0.6187241260637186\n",
      "dxdy 5.44888607608512 3.8795230543604147\n",
      "tan 0.7119846148715716 35.4502811063722\n",
      "new theta  (35.4502811063722, 3) gt 35.45028110637137\n",
      "dist to gt 0.15987280037895368\n",
      "dist to prev 6.580345440752029\n",
      "gt 6.740008189005097\n"
     ]
    },
    {
     "data": {
      "image/png": "[encoded data removed]",
      "text/plain": [
       "<Figure size 432x288 with 1 Axes>"
      ]
     },
     "metadata": {
      "needs_background": "light"
     },
     "output_type": "display_data"
    },
    {
     "name": "stdout",
     "output_type": "stream",
     "text": [
      "dist 6.712788131939517 -0.25243820554160834\n",
      "rad 33.33010242890589 0.581720027411367\n",
      "dxdy 5.608660663519972 3.6884210803257993\n",
      "tan 0.657629566416143 33.33010242890672\n",
      "new theta  (33.33010242890672, 3) gt 33.33010242890589\n",
      "dist to gt 0.1241608724148159\n",
      "dist to prev 6.553544135110999\n",
      "gt 6.676898637619695\n"
     ]
    },
    {
     "data": {
      "image/png": "[encoded data removed]",
      "text/plain": [
       "<Figure size 432x288 with 1 Axes>"
      ]
     },
     "metadata": {
      "needs_background": "light"
     },
     "output_type": "display_data"
    },
    {
     "name": "stdout",
     "output_type": "stream",
     "text": [
      "dist 6.708452150766608 0.2177503561583407\n",
      "rad 31.202892951948336 0.5445932181588312\n",
      "dxdy 5.737994737309983 3.4754491297856847\n",
      "tan 0.6056905397956356 31.20289295194917\n",
      "new theta  (31.20289295194917, 3) gt 31.202892951948336\n",
      "dist to gt 0.14682753853468636\n",
      "dist to prev 6.585713413949471\n",
      "gt 6.73133622665928\n"
     ]
    },
    {
     "data": {
      "image/png": "[encoded data removed]",
      "text/plain": [
       "<Figure size 432x288 with 1 Axes>"
      ]
     },
     "metadata": {
      "needs_background": "light"
     },
     "output_type": "display_data"
    },
    {
     "name": "stdout",
     "output_type": "stream",
     "text": [
      "dist 6.746144298705147 0.08378682734997156\n",
      "rad 27.309251743558217 0.476636359181093\n",
      "dxdy 5.99424038225448 3.0950840277287495\n",
      "tan 0.5163429943336098 27.30925174355799\n",
      "new theta  (27.30925174355799, 3) gt 27.309251743558217\n",
      "dist to gt 0.15285475160522302\n",
      "dist to prev 6.602153363399031\n",
      "gt 6.752282933496773\n"
     ]
    },
    {
     "data": {
      "image/png": "[encoded data removed]",
      "text/plain": [
       "<Figure size 432x288 with 1 Axes>"
      ]
     },
     "metadata": {
      "needs_background": "light"
     },
     "output_type": "display_data"
    },
    {
     "name": "stdout",
     "output_type": "stream",
     "text": [
      "dist 6.8114830415108285 0.4389231150954771\n",
      "rad 25.506114380621007 0.4451656753321107\n",
      "dxdy 6.147631386614071 2.9330751028753363\n",
      "tan 0.4771065339508882 25.506114380619454\n",
      "new theta  (25.506114380619454, 3) gt 25.506114380621007\n",
      "dist to gt 0.20248093615794888\n",
      "dist to prev 6.66234309236741\n",
      "gt 6.862013712270643\n"
     ]
    },
    {
     "data": {
      "image/png": "[encoded data removed]",
      "text/plain": [
       "<Figure size 432x288 with 1 Axes>"
      ]
     },
     "metadata": {
      "needs_background": "light"
     },
     "output_type": "display_data"
    },
    {
     "name": "stdout",
     "output_type": "stream",
     "text": [
      "dist 6.8357303072031765 -0.2449449895566893\n",
      "rad 23.30378617530467 0.406727796939803\n",
      "dxdy 6.278073077563451 2.7042572484120324\n",
      "tan 0.43074637950240313 23.303786175304165\n",
      "new theta  (23.303786175304165, 3) gt 23.30378617530467\n",
      "dist to gt 0.16839139924438265\n",
      "dist to prev 6.637523089292616\n",
      "gt 6.80077746488147\n"
     ]
    },
    {
     "data": {
      "image/png": "[encoded data removed]",
      "text/plain": [
       "<Figure size 432x288 with 1 Axes>"
      ]
     },
     "metadata": {
      "needs_background": "light"
     },
     "output_type": "display_data"
    },
    {
     "name": "stdout",
     "output_type": "stream",
     "text": [
      "dist 6.702320443053467 -0.8223339236409899\n",
      "rad 18.141092493312904 0.3166217939171376\n",
      "dxdy 6.369165990810578 2.0868214832309753\n",
      "tan 0.32764438644582955 18.141092493311284\n",
      "new theta  (18.141092493311284, 3) gt 18.141092493312904\n",
      "dist to gt 0.07586394923781609\n",
      "dist to prev 6.543506676577353\n",
      "gt 6.595193983971223\n"
     ]
    },
    {
     "data": {
      "image/png": "[encoded data removed]",
      "text/plain": [
       "<Figure size 432x288 with 1 Axes>"
      ]
     },
     "metadata": {
      "needs_background": "light"
     },
     "output_type": "display_data"
    },
    {
     "name": "stdout",
     "output_type": "stream",
     "text": [
      "dist 6.612886822544359 0.10686495956812792\n",
      "rad 15.782106666569984 0.2754497242325931\n",
      "dxdy 6.363600689576372 1.7985712083217475\n",
      "tan 0.282634202876357 15.782106666570868\n",
      "new theta  (15.782106666570868, 3) gt 15.782106666569984\n",
      "dist to gt 0.08204808899312967\n",
      "dist to prev 6.563537461927175\n",
      "gt 6.621910223863255\n"
     ]
    },
    {
     "data": {
      "image/png": "[encoded data removed]",
      "text/plain": [
       "<Figure size 432x288 with 1 Axes>"
      ]
     },
     "metadata": {
      "needs_background": "light"
     },
     "output_type": "display_data"
    }
   ],
   "source": [
    "# distance = self.target.v*0.5+0.5*self.target.a*0.25\n",
    "# \t\tradian = self.target.theta*math.pi/180\n",
    "# \t\tdx, dy = distance*math.cos(radian), distance*math.sin(radian)\n",
    "\t\t\n",
    "# \t\t#update state\n",
    "# \t\tself.target.pos =[self.target.pos[0]+dx, self.target.pos[1]+dy]\n",
    "# \t\tself.target.v = self.target.v+self.target.a*0.5\n",
    "import matplotlib.pyplot as plt  \n",
    "route = tasks[0]\n",
    "a, v = _get_av(route[8],route[9] ,route[10])\n",
    "print(a, v)\n",
    "theta = _get_theta(route[9], route[10])\n",
    "pos = route[9]\n",
    "res = []\n",
    "for i, ele in enumerate(guide):\n",
    "\n",
    "    distance = v*0.5 + 0.5 * ele[0]* 0.25\n",
    "    print(\"dist\",distance, ele[0])\n",
    "    radian = ele[1]*math.pi/180\n",
    "    print(\"rad\", ele[1], radian)\n",
    "    dx, dy = distance*math.cos(radian), distance*math.sin(radian)\n",
    "    print(\"dxdy\", dx, dy)\n",
    "    if ele[2]==1: # zone 1\n",
    "        new_pos =[pos[0]+dx, pos[1]+dy]\n",
    "    elif ele[2]==2:\n",
    "        new_pos =[pos[0]-dx, pos[1]+dy]\n",
    "    elif ele[2]==3:\n",
    "        new_pos =[pos[0]-dx, pos[1]-dy]\n",
    "    else:\n",
    "        new_pos =[pos[0]+dx, pos[1]-dy]\n",
    "    print(\"new theta \", _get_theta(pos, new_pos), 'gt',ele[1])\n",
    "    pos=new_pos\n",
    "#     ta,_ =  _get_av(route[-2], route[-1], new_pos)\n",
    "#     print(ta)\n",
    "    \n",
    "    \n",
    "    print(\"dist to gt\",np.linalg.norm(new_pos - route[i+10]))\n",
    "    \n",
    "    print(\"dist to prev\",np.linalg.norm(new_pos - route[i+9]))\n",
    "    print(\"gt\",np.linalg.norm(route[i+10] - route[i+9]))\n",
    "    plt.scatter(np.array(route[:10])[:,0], np.array(route[:10])[:,1], c='k')\n",
    "    plt.scatter(route[i+10][0], route[i+10][1], c='g')\n",
    "    plt.scatter(route[i+9][0], route[i+9][1], c='r')\n",
    "    plt.scatter(new_pos[0], new_pos[1], c='blue')\n",
    "    plt.show()\n",
    "#     break\n",
    "    v = v + ele[0]*0.5\n",
    "    res.append(pos)\n",
    "    "
   ]
  },
  {
   "cell_type": "code",
   "execution_count": 25,
   "metadata": {},
   "outputs": [
    {
     "name": "stdout",
     "output_type": "stream",
     "text": [
      "(20, 2)\n",
      "[-5.09924316 -4.23583984]\n"
     ]
    }
   ],
   "source": [
    "print(tasks[0].shape)\n",
    "print(tasks[0][11] - tasks[0][10])"
   ]
  },
  {
   "cell_type": "code",
   "execution_count": 116,
   "metadata": {},
   "outputs": [
    {
     "name": "stdout",
     "output_type": "stream",
     "text": [
      "6.629073843919538\n",
      "[[551.1021118164062, -2367.8818359375], [546.0865884880363, -2372.048131379399], [540.6377024119512, -2375.9276544337595], [535.0290417484312, -2379.6160755140854], [529.2910470111211, -2383.0915246438713], [523.2968066288666, -2386.1866086716], [517.1491752422526, -2389.119683774475], [510.8711021646891, -2391.823941022887], [504.5019361738785, -2393.910762506118], [498.13833548430216, -2395.7093337144397]]\n",
      "[[  551.10211182 -2367.88183594]\n",
      " [  546.00286865 -2372.11767578]\n",
      " [  540.5123291  -2376.02685547]\n",
      " [  534.93365479 -2379.69555664]\n",
      " [  529.17608643 -2383.18286133]\n",
      " [  523.1763916  -2386.28076172]\n",
      " [  516.9831543  -2389.2355957 ]\n",
      " [  510.73718262 -2391.92602539]\n",
      " [  504.46981812 -2393.97949219]\n",
      " [  498.09753418 -2395.78051758]]\n",
      "0.08204808899312967\n"
     ]
    }
   ],
   "source": [
    "print(np.linalg.norm(tasks[0][11] - tasks[0][10]))\n",
    "print(res)\n",
    "print(tasks[0][10:])\n",
    "print(np.linalg.norm(res[-1] - tasks[0][-1]))"
   ]
  },
  {
   "cell_type": "code",
   "execution_count": null,
   "metadata": {},
   "outputs": [],
   "source": []
  }
 ],
 "metadata": {
  "kernelspec": {
   "display_name": "Python 3",
   "language": "python",
   "name": "python3"
  },
  "language_info": {
   "codemirror_mode": {
    "name": "ipython",
    "version": 3
   },
   "file_extension": ".py",
   "mimetype": "text/x-python",
   "name": "python",
   "nbconvert_exporter": "python",
   "pygments_lexer": "ipython3",
   "version": "3.7.7"
  }
 },
 "nbformat": 4,
 "nbformat_minor": 4
}
