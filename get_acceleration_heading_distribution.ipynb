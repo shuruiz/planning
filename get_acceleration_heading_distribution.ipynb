{
 "cells": [
  {
   "cell_type": "code",
   "execution_count": 3,
   "metadata": {},
   "outputs": [],
   "source": [
    "import numpy as np\n",
    "import math \n",
    "import matplotlib.pyplot as plt \n",
    "import pickle"
   ]
  },
  {
   "cell_type": "code",
   "execution_count": 4,
   "metadata": {},
   "outputs": [],
   "source": [
    "poolv = pickle.load(open(\"/home/lab1/repo/planning/saved_gibbs/8kfb_veh_pool.pickle\",'rb'))"
   ]
  },
  {
   "cell_type": "code",
   "execution_count": 5,
   "metadata": {},
   "outputs": [
    {
     "data": {
      "text/plain": [
       "{2: array([[[  629.74658203, -2250.74169922],\n",
       "         [  626.14746094, -2256.24243164],\n",
       "         [  623.23803711, -2260.68237305],\n",
       "         ...,\n",
       "         [  589.33453369, -2320.19042969],\n",
       "         [  587.24108887, -2324.35693359],\n",
       "         [  585.06555176, -2328.69677734]],\n",
       " \n",
       "        [[  582.79241943, -2333.0480957 ],\n",
       "         [  580.39691162, -2337.41308594],\n",
       "         [  577.96166992, -2341.65136719],\n",
       "         ...,\n",
       "         [  541.02270508, -2379.08691406],\n",
       "         [  539.57574463, -2380.02075195],\n",
       "         [  538.40289307, -2380.77563477]],\n",
       " \n",
       "        [[  546.06811523, -2412.45117188],\n",
       "         [  545.78515625, -2411.83129883],\n",
       "         [  545.81494141, -2411.8605957 ],\n",
       "         ...,\n",
       "         [  541.03741455, -2401.99145508],\n",
       "         [  541.01953125, -2401.93286133],\n",
       "         [  541.12359619, -2402.11547852]],\n",
       " \n",
       "        ...,\n",
       " \n",
       "        [[  540.72607422, -2400.99902344],\n",
       "         [  540.62365723, -2400.78149414],\n",
       "         [  540.45123291, -2400.3190918 ],\n",
       "         ...,\n",
       "         [  536.34954834, -2388.54638672],\n",
       "         [  536.73370361, -2386.89672852],\n",
       "         [  538.1348877 , -2384.88867188]],\n",
       " \n",
       "        [[  565.16033936, -2355.45581055],\n",
       "         [  561.31201172, -2358.90771484],\n",
       "         [  558.43762207, -2361.63452148],\n",
       "         ...,\n",
       "         [  491.39959717, -2397.32348633],\n",
       "         [  486.62908936, -2398.35327148],\n",
       "         [  482.10003662, -2399.15405273]],\n",
       " \n",
       "        [[  545.49169922, -2414.53613281],\n",
       "         [  544.89263916, -2412.86889648],\n",
       "         [  544.43969727, -2411.62719727],\n",
       "         ...,\n",
       "         [  540.88549805, -2402.84375   ],\n",
       "         [  540.79119873, -2402.61401367],\n",
       "         [  540.90106201, -2402.49658203]]]),\n",
       " 0: array([[[  539.79486084, -2422.02124023],\n",
       "         [  539.69604492, -2421.80273438],\n",
       "         [  539.72052002, -2421.80151367],\n",
       "         ...,\n",
       "         [  542.81677246, -2420.49804688],\n",
       "         [  543.59436035, -2420.52563477],\n",
       "         [  543.92956543, -2420.53198242]],\n",
       " \n",
       "        [[  547.10308838, -2419.38989258],\n",
       "         [  546.86730957, -2418.79980469],\n",
       "         [  546.68591309, -2418.58081055],\n",
       "         ...,\n",
       "         [  543.7109375 , -2410.8671875 ],\n",
       "         [  543.59362793, -2410.62329102],\n",
       "         [  543.46209717, -2410.2331543 ]],\n",
       " \n",
       "        [[  543.44219971, -2410.02832031],\n",
       "         [  543.30767822, -2409.77197266],\n",
       "         [  543.21893311, -2409.44702148],\n",
       "         ...,\n",
       "         [  541.91192627, -2405.04858398],\n",
       "         [  541.5925293 , -2404.43652344],\n",
       "         [  541.31970215, -2403.76538086]],\n",
       " \n",
       "        ...,\n",
       " \n",
       "        [[  538.97509766, -2397.43505859],\n",
       "         [  539.06494141, -2398.20117188],\n",
       "         [  539.10174561, -2398.38769531],\n",
       "         ...,\n",
       "         [  539.2008667 , -2398.47241211],\n",
       "         [  539.26715088, -2398.51391602],\n",
       "         [  539.27667236, -2398.52880859]],\n",
       " \n",
       "        [[  532.65411377, -2390.21240234],\n",
       "         [  533.16809082, -2391.19726562],\n",
       "         [  533.30151367, -2392.71923828],\n",
       "         ...,\n",
       "         [  542.91943359, -2415.74584961],\n",
       "         [  543.08392334, -2416.1965332 ],\n",
       "         [  543.21569824, -2416.51635742]],\n",
       " \n",
       "        [[  543.2434082 , -2416.69116211],\n",
       "         [  543.24468994, -2416.7097168 ],\n",
       "         [  543.2286377 , -2416.66381836],\n",
       "         ...,\n",
       "         [  552.12878418, -2436.58691406],\n",
       "         [  553.81396484, -2440.18261719],\n",
       "         [  555.31884766, -2443.21289062]]]),\n",
       " 1: array([[[  545.26074219, -2411.40771484],\n",
       "         [  544.57470703, -2410.00634766],\n",
       "         [  544.40148926, -2409.44091797],\n",
       "         ...,\n",
       "         [  541.03662109, -2401.73217773],\n",
       "         [  541.07427979, -2401.79321289],\n",
       "         [  540.98651123, -2401.69189453]],\n",
       " \n",
       "        [[  540.67541504, -2401.14453125],\n",
       "         [  540.60333252, -2400.87304688],\n",
       "         [  540.36456299, -2400.33032227],\n",
       "         ...,\n",
       "         [  537.57324219, -2394.33129883],\n",
       "         [  537.02001953, -2393.14575195],\n",
       "         [  536.42645264, -2391.75854492]],\n",
       " \n",
       "        [[  522.9309082 , -2392.42871094],\n",
       "         [  525.70678711, -2391.99707031],\n",
       "         [  527.98474121, -2391.91650391],\n",
       "         ...,\n",
       "         [  545.39422607, -2423.7644043 ],\n",
       "         [  546.63574219, -2426.38671875],\n",
       "         [  547.93481445, -2429.39282227]],\n",
       " \n",
       "        ...,\n",
       " \n",
       "        [[  541.22119141, -2401.99243164],\n",
       "         [  540.93841553, -2401.28051758],\n",
       "         [  540.52606201, -2400.20483398],\n",
       "         ...,\n",
       "         [  539.61340332, -2383.58422852],\n",
       "         [  542.34820557, -2381.73950195],\n",
       "         [  544.54302979, -2380.34716797]],\n",
       " \n",
       "        [[  606.37646484, -2285.98291016],\n",
       "         [  601.75054932, -2295.71386719],\n",
       "         [  597.28192139, -2304.4609375 ],\n",
       "         ...,\n",
       "         [  490.78259277, -2397.734375  ],\n",
       "         [  481.25042725, -2399.7409668 ],\n",
       "         [  471.63873291, -2401.21240234]],\n",
       " \n",
       "        [[  658.1741333 , -2209.31811523],\n",
       "         [  655.52075195, -2214.28564453],\n",
       "         [  653.18963623, -2218.83813477],\n",
       "         ...,\n",
       "         [  639.41796875, -2240.4987793 ],\n",
       "         [  639.41522217, -2240.58129883],\n",
       "         [  639.74371338, -2240.0637207 ]]])}"
      ]
     },
     "execution_count": 5,
     "metadata": {},
     "output_type": "execute_result"
    }
   ],
   "source": [
    "poolv"
   ]
  },
  {
   "cell_type": "code",
   "execution_count": 7,
   "metadata": {},
   "outputs": [],
   "source": [
    "def _get_av(prev2, prev, curr):\n",
    "    v10 = np.linalg.norm(curr - prev)/0.5\n",
    "    v9 = np.linalg.norm(prev - prev2)/0.5\n",
    "    a = (v10-v9)/0.5\n",
    "    return a, v10\n",
    "\n",
    "def _get_theta(prev,curr):\n",
    "    try:\n",
    "        diff = curr[0]-prev[0] \n",
    "        if diff !=0:\n",
    "            tan = (curr[1]-prev[1])/diff\n",
    "            return math.atan(tan)\n",
    "        else:\n",
    "            return 90\n",
    "    except:\n",
    "        return 90"
   ]
  },
  {
   "cell_type": "code",
   "execution_count": 8,
   "metadata": {},
   "outputs": [
    {
     "name": "stdout",
     "output_type": "stream",
     "text": [
      "(1104, 20, 2)\n",
      "(3098, 20, 2)\n",
      "(3190, 20, 2)\n"
     ]
    }
   ],
   "source": [
    "for key in poolv.keys():\n",
    "    trajset = poolv[key]\n",
    "    print(trajset.shape)"
   ]
  },
  {
   "cell_type": "code",
   "execution_count": 10,
   "metadata": {},
   "outputs": [],
   "source": [
    "delta_a, delta_theta=[],[]\n",
    "for key in poolv.keys():\n",
    "    trajset = poolv[key]\n",
    "    for traj in trajset:\n",
    "        prev_a=None\n",
    "        prev_theta=None\n",
    "        for i in range(2, len(traj)):\n",
    "            prev2 = traj[i-2]\n",
    "            prev = traj[i-1]\n",
    "            curr = traj[i]\n",
    "            a, v = _get_av(prev2, prev, curr)\n",
    "            if prev_a is None:\n",
    "                prev_a = a\n",
    "            else:\n",
    "                da = a-prev_a\n",
    "                delta_a.append(da)\n",
    "            theta = _get_theta(prev, curr)\n",
    "            if prev_theta is None:\n",
    "                prev_theta = theta\n",
    "            else:\n",
    "                dtheta = theta-prev_theta\n",
    "                delta_theta.append(dtheta)\n",
    "            "
   ]
  },
  {
   "cell_type": "code",
   "execution_count": 11,
   "metadata": {},
   "outputs": [
    {
     "name": "stdout",
     "output_type": "stream",
     "text": [
      "125664 125664\n"
     ]
    }
   ],
   "source": [
    "print(len(delta_a), len(delta_theta))"
   ]
  },
  {
   "cell_type": "code",
   "execution_count": 32,
   "metadata": {},
   "outputs": [],
   "source": [
    "import numpy as np\n",
    "import scipy.stats\n",
    "\n",
    "def mean_confidence_interval(data, confidence=0.9999):\n",
    "    a = 1.0 * np.array(data)\n",
    "    n = len(a)\n",
    "    m, se = np.mean(a), scipy.stats.sem(a)\n",
    "    h = se * scipy.stats.t.ppf((1 + confidence) / 2., n-1)\n",
    "    return m, m-h, m+h"
   ]
  },
  {
   "cell_type": "code",
   "execution_count": 37,
   "metadata": {},
   "outputs": [
    {
     "data": {
      "image/png": "[encoded data removed]",
      "text/plain": [
       "<Figure size 432x288 with 1 Axes>"
      ]
     },
     "metadata": {
      "needs_background": "light"
     },
     "output_type": "display_data"
    }
   ],
   "source": [
    "# xx = np.arange(-3,3,0.1)\n",
    "plt.hist(delta_a, bins=1000)\n",
    "plt.xlim(-10,10)\n",
    "plt.show()"
   ]
  },
  {
   "cell_type": "code",
   "execution_count": 34,
   "metadata": {},
   "outputs": [
    {
     "name": "stdout",
     "output_type": "stream",
     "text": [
      "0.8123104408688374 0.7568494735514654 0.8677714081862095\n"
     ]
    }
   ],
   "source": [
    "a,b,c = mean_confidence_interval(delta_a, 0.999999999)\n",
    "print(a, b,c)"
   ]
  },
  {
   "cell_type": "code",
   "execution_count": 35,
   "metadata": {},
   "outputs": [
    {
     "data": {
      "image/png": "[encoded data removed]",
      "text/plain": [
       "<Figure size 432x288 with 1 Axes>"
      ]
     },
     "metadata": {
      "needs_background": "light"
     },
     "output_type": "display_data"
    }
   ],
   "source": [
    "plt.hist(delta_theta, bins=1000)\n",
    "plt.xlim(-3,3)\n",
    "plt.show()"
   ]
  },
  {
   "cell_type": "code",
   "execution_count": 36,
   "metadata": {},
   "outputs": [
    {
     "name": "stdout",
     "output_type": "stream",
     "text": [
      "0.02617519166954127 0.004310439107671607 0.04803994423141093\n"
     ]
    }
   ],
   "source": [
    "a,b,c = mean_confidence_interval(delta_theta, 0.999999999)\n",
    "print(a, b,c)"
   ]
  },
  {
   "cell_type": "code",
   "execution_count": 39,
   "metadata": {},
   "outputs": [
    {
     "name": "stdout",
     "output_type": "stream",
     "text": [
      "480\n"
     ]
    }
   ],
   "source": [
    "import itertools\n",
    "action_dict = list(itertools.product(np.round(np.arange(-3,3,0.1), decimals=1), np.round(np.arange(-2,2,0.5), decimals=1)))\n",
    "print(len(action_dict))"
   ]
  },
  {
   "cell_type": "code",
   "execution_count": null,
   "metadata": {},
   "outputs": [],
   "source": []
  }
 ],
 "metadata": {
  "kernelspec": {
   "display_name": "Python 3",
   "language": "python",
   "name": "python3"
  },
  "language_info": {
   "codemirror_mode": {
    "name": "ipython",
    "version": 3
   },
   "file_extension": ".py",
   "mimetype": "text/x-python",
   "name": "python",
   "nbconvert_exporter": "python",
   "pygments_lexer": "ipython3",
   "version": "3.7.7"
  }
 },
 "nbformat": 4,
 "nbformat_minor": 4
}
