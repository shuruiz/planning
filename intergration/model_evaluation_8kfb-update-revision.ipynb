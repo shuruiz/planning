{
 "cells": [
  {
   "cell_type": "code",
   "execution_count": 1,
   "metadata": {},
   "outputs": [
    {
     "name": "stdout",
     "output_type": "stream",
     "text": [
      "[LogicalDevice(name='/device:GPU:0', device_type='GPU')]\n"
     ]
    }
   ],
   "source": [
    "import numpy as np\n",
    "import tensorflow as tf\n",
    "from tensorflow import keras\n",
    "from tensorflow.keras import layers\n",
    "# from model import _build_model, _build_simple_model, _build_simple_model2\n",
    "from model_reduced import _build_model, _build_simple_model, _build_simple_model2, _build_reduced_model, _build_reduced_model2\n",
    "from core_eval_8kfb import Graph\n",
    "import itertools\n",
    "import os\n",
    "os.environ[\"CUDA_DEVICE_ORDER\"]=\"PCI_BUS_ID\"   \n",
    "os.environ[\"CUDA_VISIBLE_DEVICES\"]=\"1\"\n",
    "\n",
    "gpus = tf.config.experimental.list_logical_devices('GPU')\n",
    "print(gpus)"
   ]
  },
  {
   "cell_type": "code",
   "execution_count": 2,
   "metadata": {},
   "outputs": [
    {
     "name": "stdout",
     "output_type": "stream",
     "text": [
      "WARNING:tensorflow:No training configuration found in save file, so the model was *not* compiled. Compile it manually.\n"
     ]
    }
   ],
   "source": [
    "# model =keras.models.load_model('reduced_modelxe_universal') \n",
    "# initialize env\n",
    "# model =keras.models.load_model('/home/lab1/repo/planning/intergration/reduced_modelxIII_universal') \n",
    "\n",
    "# action_dict = list(itertools.product(np.round(np.arange(-0.2,0.21,0.01), decimals=2), \\\n",
    "#                                      np.round(np.arange(-5,6,1), decimals=0)))\n",
    "\n",
    "model =keras.models.load_model('/home/lab1/repo/planning/intergration/reduced_modelxe_universal') \n",
    "action_dict = list(itertools.product(np.round(np.arange(-0.1,0.15,0.05), decimals=2), \\\n",
    "                                     np.round(np.arange(-3,4,1), decimals=0)))"
   ]
  },
  {
   "cell_type": "code",
   "execution_count": 3,
   "metadata": {},
   "outputs": [
    {
     "name": "stderr",
     "output_type": "stream",
     "text": [
      "/home/lab1/miniconda3/lib/python3.7/site-packages/sklearn/base.py:334: UserWarning: Trying to unpickle estimator BayesianGaussianMixture from version 0.24.1 when using version 0.23.1. This might lead to breaking code or invalid results. Use at your own risk.\n",
      "  UserWarning)\n"
     ]
    },
    {
     "name": "stdout",
     "output_type": "stream",
     "text": [
      "--------------\n",
      "0 16 (0.0, -1) 0.49862648283763505 False feasible 4.271407847536836 4.289800599780641 inf\n",
      "====================\n",
      "--------------\n",
      "1 16 (0.0, -1) 0.3231462013962044 False feasible 3.2658135280508884 3.400186529261458 inf\n",
      "====================\n",
      "--------------\n",
      "2 16 (0.0, -1) 0.291132302651008 False feasible 3.3170030147710907 3.359050753409349 inf\n",
      "====================\n",
      "--------------\n",
      "3 16 (0.0, -1) 0.32973746314545405 False feasible 5.203473935747302 5.2021742737925125 inf\n",
      "====================\n",
      "--------------\n",
      "4 16 (0.0, -1) 0.38480509424795584 False feasible 6.378757324118996 6.785762647596544 inf\n",
      "====================\n",
      "--------------\n",
      "5 16 (0.0, -1) 0.3738543018547969 False feasible 6.744923498454066 7.120669778882098 inf\n",
      "====================\n",
      "--------------\n",
      "6 16 (0.0, -1) 0.3583998731353929 False feasible 6.972798864157896 7.416453025465404 inf\n",
      "====================\n",
      "--------------\n",
      "7 16 (0.0, -1) 0.3528912849813708 False feasible 7.211954520100664 7.302459438286561 inf\n",
      "====================\n",
      "--------------\n",
      "8 16 (0.0, -1) 0.33763267298370764 False feasible 6.352359719033561 6.352135616123186 inf\n",
      "====================\n",
      "--------------\n",
      "9 16 (0.0, -1) 0.3554817053934368 True time_out 4.976881754673263 5.677472135858275 3.2658135280508884\n",
      "[[0, 538.655, -2397.263, -1.5678679193092302, -51.606777200015955], [1, 538.398750058083, -2396.9396144644443, -1.7578679193092301, -51.606777200015955], [2, 538.3524764275606, -2396.9187659056374, -1.136938302404161, -24.25391972428324], [3, 538.463082003621, -2397.038851959646, -0.5751796299506656, -47.3532968660961], [4, 538.7422901934895, -2397.025341885942, -0.35500877045402424, 2.7702157973489627], [5, 538.8646598522912, -2396.682706841303, -0.31936160286713156, 70.34617594162248], [6, 538.8790326051037, -2396.2946425153564, 0.12336764477817791, 87.8789036033921], [7, 538.74784188156, -2396.0340959035634, 0.649584302773631, -63.27377968537223], [8, 538.6599777814562, -2395.8679778393043, 0.18071744475663037, -62.12448961349013], [9, 538.6389198312182, -2395.806095277992, 0.7997333438554393, -71.20712929110648], [10, 538.5880642001928, -2395.707739971288, 0.6090066453352563, -62.658306993289216]]\n",
      "4.976881754673263\n",
      "5.677472135858275\n",
      "dmin 3.2658135280508884\n"
     ]
    }
   ],
   "source": [
    "env2=Graph()\n",
    "timesteps = 10\n",
    "state = env2.reset()\n",
    "for timestep in range(timesteps):\n",
    "    subject_tensor = tf.convert_to_tensor(state[0])\n",
    "    subject_tensor = tf.expand_dims(subject_tensor, 0)\n",
    "\n",
    "    veh_tensor = tf.convert_to_tensor(state[1])  \n",
    "    veh_tensor = tf.expand_dims(veh_tensor, 0)\n",
    "\n",
    "    ped_tensor = tf.convert_to_tensor(state[2])  \n",
    "    ped_tensor = tf.expand_dims(ped_tensor, 0)\n",
    "\n",
    "    cyc_tensor = tf.convert_to_tensor(state[3])  \n",
    "    cyc_tensor = tf.expand_dims(cyc_tensor, 0)\n",
    "\n",
    "    edge_tensor = tf.convert_to_tensor(state[4])   \n",
    "    edge_tensor = tf.expand_dims(edge_tensor, 0) \n",
    "\n",
    "    # state_tensor = tf.expand_dims(state_tensor, 0)\n",
    "    state_tensor = [subject_tensor, veh_tensor, ped_tensor, cyc_tensor, edge_tensor]\n",
    "    action_probs = model(state_tensor, training=False)\n",
    "    # Take best action\n",
    "#     print(action_probs)\n",
    "    print('--------------')\n",
    "    action = tf.argmax(action_probs[0]).numpy()\n",
    "    state_next, reward, done,_, hs, ms, dmin = env2.step(action)\n",
    "   \n",
    "    print(timestep, action, action_dict[action], reward,done, _,hs, ms, dmin)\n",
    "    if done:\n",
    "        break\n",
    "    state = state_next\n",
    "#     print(state)\n",
    "    print(\"====================\")\n",
    "#     if timestep>2:break\n",
    "print(env2.target.history)\n",
    "print(hs)\n",
    "print(ms)\n",
    "print('dmin', dmin)"
   ]
  },
  {
   "cell_type": "code",
   "execution_count": 4,
   "metadata": {},
   "outputs": [
    {
     "name": "stdout",
     "output_type": "stream",
     "text": [
      "(10, 2) (11, 2)\n"
     ]
    }
   ],
   "source": [
    "sample = env2.sample\n",
    "# print(sample)\n",
    "target_obs = env2.target.traj[:10]\n",
    "target_planned = np.array(env2.target.history)[:,1:3]\n",
    "print(target_obs.shape, target_planned.shape)"
   ]
  },
  {
   "cell_type": "markdown",
   "metadata": {},
   "source": [
    "# visualization"
   ]
  },
  {
   "cell_type": "code",
   "execution_count": 5,
   "metadata": {},
   "outputs": [],
   "source": [
    "import sys \n",
    "from ruixuan.turning_scene import *\n",
    "from l5kit.rasterization.rasterizer_builder import _load_metadata\n",
    "import time\n",
    "import pickle\n",
    "import math\n",
    "from collections import deque"
   ]
  },
  {
   "cell_type": "code",
   "execution_count": 6,
   "metadata": {},
   "outputs": [
    {
     "name": "stdout",
     "output_type": "stream",
     "text": [
      "{'format_version': 4, 'model_params': {'model_architecture': 'resnet50', 'history_num_frames': 0, 'future_num_frames': 50, 'step_time': 0.1}, 'raster_params': {'raster_size': [320, 320], 'pixel_size': [0.5, 0.5], 'ego_center': [0.6, 0.5], 'map_type': 'py_semantic', 'satellite_map_key': 'aerial_map/aerial_map.png', 'semantic_map_key': 'semantic_map/semantic_map.pb', 'dataset_meta_key': 'meta.json', 'filter_agents_threshold': 0.5, 'disable_traffic_light_faces': False, 'set_origin_to_bottom': True}, 'val_data_loader': {'key': 'scenes/train.zarr', 'batch_size': 12, 'shuffle': False, 'num_workers': 16}}\n",
      "+------------+------------+------------+---------------+-----------------+----------------------+----------------------+----------------------+---------------------+\n",
      "| Num Scenes | Num Frames | Num Agents | Num TR lights | Total Time (hr) | Avg Frames per Scene | Avg Agents per Frame | Avg Scene Time (sec) | Avg Frame frequency |\n",
      "+------------+------------+------------+---------------+-----------------+----------------------+----------------------+----------------------+---------------------+\n",
      "|   16265    |  4039527   | 320124624  |    38735988   |      112.19     |        248.36        |        79.25         |        24.83         |        10.00        |\n",
      "+------------+------------+------------+---------------+-----------------+----------------------+----------------------+----------------------+---------------------+\n"
     ]
    }
   ],
   "source": [
    "# set env variable for data\n",
    "os.environ[\"L5KIT_DATA_FOLDER\"] = \"/home/lab1/repo/planning/prediction-dataset\"\n",
    "# get config\n",
    "cfg = load_config_data(\"/home/lab1/repo/planning/ruixuan/visualisation_config.yaml\")\n",
    "print(cfg)\n",
    "\n",
    "dm = LocalDataManager()\n",
    "dataset_path = dm.require(cfg[\"val_data_loader\"][\"key\"])\n",
    "zarr_dataset = ChunkedDataset(dataset_path)\n",
    "zarr_dataset.open()\n",
    "print(zarr_dataset)\n",
    "\n",
    "rast = build_rasterizer(cfg, dm)\n",
    "ego_dataset = EgoDataset(cfg, zarr_dataset, rast)\n",
    "\n",
    "semantic_map_filepath = dm.require(cfg[\"raster_params\"][\"semantic_map_key\"])\n",
    "dataset_meta = _load_metadata(cfg[\"raster_params\"][\"dataset_meta_key\"], dm)\n",
    "world_to_ecef = np.array(dataset_meta[\"world_to_ecef\"], dtype=np.float64)\n",
    "Map_Api = MapAPI(semantic_map_filepath, world_to_ecef)"
   ]
  },
  {
   "cell_type": "code",
   "execution_count": 7,
   "metadata": {},
   "outputs": [],
   "source": [
    "class Trajectory(Scene):\n",
    "    \n",
    "    def __init__(self, dataset, Map_Api):\n",
    "        super(Trajectory, self).__init__(dataset, Map_Api)\n",
    "        self.label_name = ['Car','Van','Tram','Bus','Truck','EV','OV','Bicycle',\\\n",
    "                           'Motorcycle','Cyclist','Motorcyclist','Pedestrian']\n",
    "        self.label_idx = list(range(3,15))\n",
    "        self.label_dict = dict(zip(self.label_name, self.label_idx))\n",
    "        self.all_traffic_control = None\n",
    "        self.Traffic_Control = None\n",
    "\n",
    "    def generate_info_from_MAP(self):\n",
    "        self.all_junctions = self.get_elements(\"junction\")\n",
    "        self.all_lanes = self.get_elements(\"lane\")\n",
    "        self.all_traffic_control = self.get_elements(\"traffic_control_element\")\n",
    "        self.Lane = {self.map_api.id_as_str(lane.id):lane.element.lane for lane in self.all_lanes}\n",
    "        self.Junction = {self.map_api.id_as_str(junction.id):junction for junction in self.all_junctions}\n",
    "        self.Traffic_Control = {self.map_api.id_as_str(traffic_control.id):traffic_control.element for traffic_control in self.all_traffic_control}\n",
    "        \n",
    "        for junction in self.all_junctions:\n",
    "            self.Junction_Lane[self.map_api.id_as_str(junction.id)] = []\n",
    "\n",
    "            for lane in junction.element.junction.lanes:\n",
    "                self.Junction_Lane[self.map_api.id_as_str(junction.id)].append(self.map_api.id_as_str(lane))\n",
    "\n",
    "            self.Junction_Lane[self.map_api.id_as_str(junction.id)] = set(self.Junction_Lane[self.map_api.id_as_str(junction.id)])\n",
    "        \n",
    "        self.junction_scene = dict.fromkeys(list(self.Junction.keys()), [])\n",
    "        self.junction_turning_scene = dict.fromkeys(list(self.Junction.keys()), {})\n",
    "        for key in self.Junction.keys():\n",
    "            self.junction_turning_scene[key] = {'Turning Left': [], 'Turning Right': []}    \n",
    "        \n",
    "        \n",
    "    def label_loc_check(self, target_label):\n",
    "    \n",
    "        agent_id_list = self.agent_list[self.label_dict[target_label]-3]\n",
    "\n",
    "        for agent_id in agent_id_list:\n",
    "            agent_loc = self.agent_centroid[np.where(self.agent_id==agent_id)[0]]\n",
    "            for centroid in agent_loc:\n",
    "                if self.Junction_region.contains(Point(centroid[0],centroid[1])):\n",
    "                    return True\n",
    "    \n",
    "    def junction_lane_visualize(self, junction_id):\n",
    "        \n",
    "        plt.figure(figsize=(18,18))\n",
    "        \n",
    "        lane_list = self.Junction_Lane[junction_id]\n",
    "        \n",
    "        for lane in lane_list:\n",
    "            plt.plot(self.map_api.get_lane_coords(lane)['xyz_left'][:,0].tolist()+ self.map_api.get_lane_coords(lane)['xyz_right'][:,0].tolist(),\n",
    "                        self.map_api.get_lane_coords(lane)['xyz_left'][:,1].tolist()+ self.map_api.get_lane_coords(lane)['xyz_right'][:,1].tolist(),\n",
    "                        marker='x', label = lane)\n",
    "\n",
    "        plt.axis(\"equal\")\n",
    "        plt.grid(which='both')\n",
    "        plt.legend(fontsize=20)\n",
    "        axes = plt.gca()  \n",
    "    \n",
    "                \n",
    "    def agent_trajectory(self, scene, target_label, junction_boundary):\n",
    "\n",
    "        self.scene = scene\n",
    "        self.target_label = target_label\n",
    "#         self.junction = junction\n",
    "        # region for junction \"sGK1\"\n",
    "#         junction_boundary = {junction:[(300,-1150),[300,-1100],(340,-1100),(340,-1150)]}\n",
    "\n",
    "        # region for junction \"8KfB\"\n",
    "#         junction_boundary = {junction:[(500,-2420),(500,-2360),(560,-2360),(560,-2420)]}\n",
    "        \n",
    "        # region for lane merge\n",
    "#         junction_boundary = {junction:[(-940,1380),(-940,1480),(-880,1380),(-880,1480)]}\n",
    "\n",
    "        self.Junction_region = Polygon(junction_boundary)\n",
    "\n",
    "        self.agent_list = []\n",
    "        frame_interval = self.dataset.scenes[scene]['frame_index_interval']\n",
    "        agent_interval_begin = self.dataset.frames[frame_interval[0]]['agent_index_interval'][0]\n",
    "        agent_interval_end = self.dataset.frames[frame_interval[1]-1]['agent_index_interval'][1]\n",
    "        self.agent_id = self.dataset.agents[agent_interval_begin:agent_interval_end]['track_id']\n",
    "        agent_label_prob = self.dataset.agents[agent_interval_begin:agent_interval_end]['label_probabilities']\n",
    "        self.agent_centroid = self.dataset.agents[agent_interval_begin:agent_interval_end]['centroid']\n",
    "\n",
    "        for label in self.label_idx:\n",
    "            valid_idx = np.where(agent_label_prob[:,label]>0.5)[0]\n",
    "            valid_id = set(self.agent_id[valid_idx])\n",
    "            self.agent_list.append(list(valid_id))\n",
    "\n",
    "        if len(self.agent_list[self.label_dict[target_label]-3])>0 and self.label_loc_check(target_label):\n",
    "            return [scene]\n",
    "        else:\n",
    "            # print('Not feasible scene')\n",
    "            return []\n",
    "        \n",
    "    def get_agent_traj(self, scene, target_label, junction, lane_list):\n",
    "        veh_traj, ped_traj, cyclist_traj=[], [], [] \n",
    "        print(self.label_dict, self.label_dict[target_label])\n",
    "        for idx, agent_label in enumerate(self.agent_list):\n",
    "            print(\"xxx\", idx, agent_label)\n",
    "            for agent in agent_label:\n",
    "                agent_loc = self.agent_centroid[np.where(self.agent_id==agent)[0]]\n",
    "                if idx != self.label_dict[target_label]-3 and agent_loc.shape[0] > 200  \\\n",
    "                and np.linalg.norm(agent_loc[0,:]-agent_loc[-1,:]) > 5:\n",
    "                    veh_traj.append(agent_loc)\n",
    "#                     plt.plot(agent_loc[:,0],agent_loc[:,1],label='Agent ID '+str(agent)+': '\\\n",
    "#                              +self.label_name[idx], color=colors[idx])\n",
    "\n",
    "                elif idx== self.label_dict[target_label]-3 and agent_loc.shape[0] > 100:\n",
    "                    ped_traj.append(agent_loc)\n",
    "        veh_traj, ped_traj, cyclist_traj = np.array(veh_traj), np.array(ped_traj), np.array(cyclist_traj)\n",
    "        return veh_traj, ped_traj,cyclist_traj\n",
    "#                     plt.plot(agent_loc[:,0],agent_loc[:,1], color=colors[idx], marker='*')\n",
    "            \n",
    "            \n",
    "            \n",
    "    def trajectory_junction_visualize(self, scene, target_label, junction, lane_list):\n",
    "        \n",
    "        frame_interval = self.dataset.scenes[scene]['frame_index_interval']\n",
    "        \n",
    "        plt.figure(figsize=(18,18))\n",
    "\n",
    "        for lane in lane_list:\n",
    "            plt.plot(self.map_api.get_lane_coords(lane)['xyz_right'][:,0], self.map_api.get_lane_coords(lane)['xyz_right'][:,1],\n",
    "                     color='k',linewidth=5, alpha=0.2)\n",
    "            plt.plot(self.map_api.get_lane_coords(lane)['xyz_left'][:,0], self.map_api.get_lane_coords(lane)['xyz_left'][:,1],\n",
    "                     color='k',linewidth=5, alpha=0.2)\n",
    "\n",
    "        cmap = plt.get_cmap('gnuplot')    \n",
    "        colors = ['#1f77b4', '#ff7f0e', '#2ca02c', '#d62728', '#9467bd',\n",
    "         '#8c564b', '#e377c2', '#7f7f7f', '#bcbd22', '#17becf','maple','yellowgreen'] \n",
    "\n",
    "        for idx, agent_label in enumerate(self.agent_list):\n",
    "            for agent in agent_label:\n",
    "                agent_loc = self.agent_centroid[np.where(self.agent_id==agent)[0]]\n",
    "                if idx != self.label_dict[target_label]-3 and agent_loc.shape[0] > 100  and np.linalg.norm(agent_loc[0,:]-agent_loc[-1,:]) > 5:\n",
    "                    plt.plot(agent_loc[:,0],agent_loc[:,1],label='Agent ID '+str(agent)+': '+self.label_name[idx], color=colors[idx])\n",
    "\n",
    "                elif idx== self.label_dict[target_label]-3 and  agent_loc.shape[0] > 100:\n",
    "                    plt.plot(agent_loc[:,0],agent_loc[:,1], color=colors[idx], marker='*')\n",
    "\n",
    "        ego_translation = self.frames[frame_interval[0]:frame_interval[1]]['ego_translation']\n",
    "        plt.plot(ego_translation[:,0],ego_translation[:,1],label='Ego',color='r')\n",
    "        turn = ' Left Turn' if rotation33_as_yaw(self.frames[frame_interval[0]]['ego_rotation']) - rotation33_as_yaw(self.frames[frame_interval[1]-1]['ego_rotation']) < 0 else ' Right Turn'\n",
    "\n",
    "        plt.axis(\"equal\")\n",
    "        plt.grid(which='both')\n",
    "        plt.legend(fontsize=20,loc='best')\n",
    "        plt.title('Trajectory : Scene '+str(scene)+turn+' at Junction '+junction, fontsize=30)\n",
    "        axes = plt.gca()\n"
   ]
  },
  {
   "cell_type": "code",
   "execution_count": 8,
   "metadata": {},
   "outputs": [],
   "source": [
    "junction_lane_merge = np.load('ruixuan/target_scene_index/lane_merge/scene_index(lane_merge)_Pedestrian.npy',allow_pickle = True)\n",
    "junction_8KfB = np.load('ruixuan/target_scene_index/8KfB/scene_index(8KfB)_Pedestrian.npy',allow_pickle = True)"
   ]
  },
  {
   "cell_type": "code",
   "execution_count": 9,
   "metadata": {},
   "outputs": [],
   "source": [
    "lane_list = {}\n",
    "junction_boundary = {}\n",
    "# extend lane sequences\n",
    "lane_list['lane_merge'] = ['ADrl',\"oFEC\",'m0JU','iQgg','M5V5','/Pgg','FFEC','XHTU']\n",
    "lane_list['8KfB'] = ['/24B','6p63','FV1O','MV/U','SxVb','TG2b','TZZv','ZnUV','bH1o','dddQ','nXc0','zHjP','SD8o','vC8o']\n",
    "junction_boundary['lane_merge'] = [(-940,1380),(-940,1480),(-880,1380),(-880,1480)]\n",
    "junction_boundary['8KfB'] = [(500,-2420),(500,-2360),(560,-2360),(560,-2420)]\n",
    "# junction_boundary['8KfB'] = [(450,-2400),(500,-2360),(560,-2360),(560,-2420)]\n",
    "grid_boundary={}\n",
    "grid_boundary['lane_merge']={'X':[-990, -850], 'Y':[1390, 1490]}\n",
    "grid_boundary['8KfB']={'X':[450,600], 'Y':[-2450, -2300]}"
   ]
  },
  {
   "cell_type": "code",
   "execution_count": 10,
   "metadata": {},
   "outputs": [],
   "source": [
    "Test = Trajectory(zarr_dataset, Map_Api)\n",
    "Test.generate_info_from_MAP()"
   ]
  },
  {
   "cell_type": "code",
   "execution_count": 11,
   "metadata": {},
   "outputs": [],
   "source": [
    "def get_grid(intersection_id,grid_boundary):\n",
    "    x = grid_boundary[intersection_id]['X']\n",
    "    y = grid_boundary[intersection_id]['Y']\n",
    "    x_ = np.linspace(x[0], x[1],150)\n",
    "    y_ = np.linspace(y[0], y[1],150)\n",
    "    x_mesh, y_mesh = np.meshgrid(x_, y_)\n",
    "    return x_mesh, y_mesh\n",
    "\n",
    "def locate_in_mesh(x_mesh, y_mesh, point):\n",
    "    x, y = point[0], point[1]\n",
    "    result=[]\n",
    "#     print(x, y, x_mesh[0], x_mesh[-1], y_mesh[0], y_mesh[-1])\n",
    "    if x>x_mesh[-1] or x<x_mesh[0] or y>y_mesh[-1] or y<y_mesh[0]:\n",
    "        return None\n",
    "    result = [math.floor(x-x_mesh[0]), math.floor(y-y_mesh[0])]\n",
    "    return result\n",
    "\n",
    "def plot_scene_on_grid(intersection_id, lane_list, grid_boundary, veh=None, ped=None, cyc=None):\n",
    "    \"\"\"\n",
    "    plt agent trajectories in the grid map for a scene\n",
    "    \"\"\"\n",
    "    plt.figure(figsize=(18,18))\n",
    "    plt.xlim(grid_boundary[intersection_id]['X'][0],grid_boundary[intersection_id]['X'][1])\n",
    "    plt.ylim(grid_boundary[intersection_id]['Y'][0],grid_boundary[intersection_id]['Y'][1])\n",
    "    for lane in lane_list[intersection_id]:\n",
    "        plt.plot(Test.map_api.get_lane_coords(lane)['xyz_right'][:,0], Test.map_api.get_lane_coords(lane)['xyz_right'][:,1],\n",
    "                 color='g',linewidth=1,label=lane)\n",
    "        plt.plot(Test.map_api.get_lane_coords(lane)['xyz_left'][:,0], Test.map_api.get_lane_coords(lane)['xyz_left'][:,1],\n",
    "                 color='g',linewidth=1)\n",
    "#         print(\"lane coordinates right\", Test.map_api.get_lane_coords(lane)['xyz_right'][:,0])\n",
    "    x_mesh, y_mesh = get_grid(intersection_id, grid_boundary)\n",
    "#     print(x_mesh.shape, y_mesh[:,1])\n",
    "    plt.plot(x_mesh, y_mesh, c='grey', linewidth=0.1) # use plot, not scatter\n",
    "    plt.plot(np.transpose(x_mesh), np.transpose(y_mesh),c='grey', linewidth=0.1) # add this here\n",
    "#     plt.title(intersection_id,fontsize=30)\n",
    "\n",
    "    if veh is not None:\n",
    "        for traj in veh: plt.plot(traj[:,0],traj[:,1], c='b',linewidth=0.5)\n",
    "    if ped is not None:\n",
    "        for traj in ped: plt.scatter(traj[:,0],traj[:,1], c='orange',linewidth=0.5)\n",
    "    if cyc is not None:\n",
    "        for traj in cyc: plt.plot(traj[:,0],traj[:,1], c='cyan',linewidth=0.5)\n",
    "    plt.axis('off')\n",
    "    plt.show()\n",
    "    \n",
    "def plot_planned_on_grid(intersection_id, lane_list, grid_boundary, veh=None, ped=None, cyc=None,\\\n",
    "                        target_obs=None, planned=None, other_planned=None):\n",
    "    \"\"\"\n",
    "    plt agent trajectories in the grid map for a scene\n",
    "    \"\"\"\n",
    "    plt.figure(figsize=(18,18))\n",
    "    plt.xlim(grid_boundary[intersection_id]['X'][0],grid_boundary[intersection_id]['X'][1])\n",
    "    plt.ylim(grid_boundary[intersection_id]['Y'][0],grid_boundary[intersection_id]['Y'][1])\n",
    "    for lane in lane_list[intersection_id]:\n",
    "        plt.plot(Test.map_api.get_lane_coords(lane)['xyz_right'][:,0], Test.map_api.get_lane_coords(lane)['xyz_right'][:,1],\n",
    "                 color='g',linewidth=1,label=lane)\n",
    "        plt.plot(Test.map_api.get_lane_coords(lane)['xyz_left'][:,0], Test.map_api.get_lane_coords(lane)['xyz_left'][:,1],\n",
    "                 color='g',linewidth=1)\n",
    "#         print(\"lane coordinates right\", Test.map_api.get_lane_coords(lane)['xyz_right'][:,0])\n",
    "    x_mesh, y_mesh = get_grid(intersection_id, grid_boundary)\n",
    "#     print(x_mesh.shape, y_mesh[:,1])\n",
    "    plt.plot(x_mesh, y_mesh, c='grey', linewidth=0.1) # use plot, not scatter\n",
    "    plt.plot(np.transpose(x_mesh), np.transpose(y_mesh),c='grey', linewidth=0.1) # add this here\n",
    "#     plt.title(intersection_id,fontsize=30)\n",
    "\n",
    "    if veh is not None:\n",
    "        for traj in veh: plt.plot(traj[:,0],traj[:,1], c='b',linewidth=0.5)\n",
    "    if ped is not None:\n",
    "        for traj in ped: plt.scatter(traj[:,0],traj[:,1], c='orange',linewidth=0.5)\n",
    "    if cyc is not None:\n",
    "        for traj in cyc: plt.plot(traj[:,0],traj[:,1], c='cyan',linewidth=0.5)\n",
    "    if target_obs is not None:\n",
    "        plt.plot(target_obs[:,0],target_obs[:,1], c='green',linewidth=1)\n",
    "    if planned is not None:\n",
    "        plt.plot(planned[:,0],planned[:,1], c='red',linewidth=1)\n",
    "    if other_planned is not None:\n",
    "        plt.plot(planned[:,0],planned[:,1], c='pink',linewidth=1)\n",
    "    plt.axis('off')\n",
    "    plt.show()\n",
    "    "
   ]
  },
  {
   "cell_type": "code",
   "execution_count": 12,
   "metadata": {},
   "outputs": [],
   "source": [
    "def animate_planned_on_grid(intersection_id, lane_list, grid_boundary, veh=None, ped=None,\\\n",
    "                            cyc=None, target_obs=None, planned=None):\n",
    "    \"\"\"\n",
    "    plt agent trajectories in the grid map for a scene\n",
    "    \"\"\"\n",
    "    for idx in range(20):\n",
    "        plt.figure(figsize=(18,18),frameon=False)\n",
    "        plt.xlim(grid_boundary[intersection_id]['X'][0],grid_boundary[intersection_id]['X'][1])\n",
    "        plt.ylim(grid_boundary[intersection_id]['Y'][0],grid_boundary[intersection_id]['Y'][1])\n",
    "        for lane in lane_list[intersection_id]:\n",
    "            plt.plot(Test.map_api.get_lane_coords(lane)['xyz_right'][:,0], Test.map_api.get_lane_coords(lane)['xyz_right'][:,1],\n",
    "                     color='g',linewidth=1,label=lane)\n",
    "            plt.plot(Test.map_api.get_lane_coords(lane)['xyz_left'][:,0], Test.map_api.get_lane_coords(lane)['xyz_left'][:,1],\n",
    "                     color='g',linewidth=1)\n",
    "    #         print(\"lane coordinates right\", Test.map_api.get_lane_coords(lane)['xyz_right'][:,0])\n",
    "        x_mesh, y_mesh = get_grid(intersection_id, grid_boundary)\n",
    "    #     print(x_mesh.shape, y_mesh[:,1])\n",
    "        plt.plot(x_mesh, y_mesh, c='grey', linewidth=0.1) # use plot, not scatter\n",
    "        plt.plot(np.transpose(x_mesh), np.transpose(y_mesh),c='grey', linewidth=0.1) # add this here\n",
    "    #     plt.title(intersection_id,fontsize=30)\n",
    "\n",
    "    \n",
    "        if veh is not None:\n",
    "            for traj in veh: \n",
    "                plt.plot(traj[:idx,0],traj[:idx,1], c='b',linewidth=1)\n",
    "        if ped is not None:\n",
    "            for traj in ped: \n",
    "                plt.plot(traj[:idx,0],traj[:idx,1], c='orange',linewidth=1)\n",
    "        if cyc is not None:\n",
    "            for traj in cyc: \n",
    "                plt.plot(traj[:idx,0],traj[:idx,1], c='cyan',linewidth=1)\n",
    "                \n",
    "        if target_obs is not None and planned is not None:\n",
    "            if idx<10:\n",
    "                plt.plot(target_obs[:idx,0],target_obs[:idx,1], c='green',linewidth=1)\n",
    "            else:\n",
    "                plt.plot(target_obs[:10,0],target_obs[:10,1], c='green',linewidth=1)\n",
    "                plt.plot(planned[:idx-9,0],planned[:idx-9,1], c='red',linewidth=2)\n",
    "\n",
    "        plt.axis('off')\n",
    "        plt.ioff()\n",
    "#         plt.savefig(\"animation_fig/%s.png\" %(str(idx)),  bbox_inches='tight',pad_inches = 0)\n",
    "        plt.show()"
   ]
  },
  {
   "cell_type": "code",
   "execution_count": 13,
   "metadata": {},
   "outputs": [],
   "source": [
    "\n",
    "    \n",
    "def get_aseq(traj):\n",
    "    aseq=[]\n",
    "    vseq=[]\n",
    "    for i in range(9,len(traj)-1):\n",
    "        curr = traj[i+1]\n",
    "        prev = traj[i]\n",
    "        prev2= traj[i-1]\n",
    "        v10 = np.linalg.norm(curr - prev)/0.5\n",
    "        v9 = np.linalg.norm(prev - prev2)/0.5\n",
    "        a = (v10-v9)/0.5\n",
    "        aseq.append(a)\n",
    "        vseq.append((v10+v9)/2)\n",
    "    return aseq, vseq\n",
    "    \n",
    "def get_jerkness(traj):\n",
    "    \"\"\"\n",
    "    compute the jerkness of the trajectory of 20 points\n",
    "    \"\"\"\n",
    "   \n",
    "    history_a,history_v = get_aseq(traj)\n",
    "    jerk=[]\n",
    "    for i in range(1,len(history_a)):\n",
    "        jerk.append(abs((history_a[i]-history_a[i-1])/0.5))\n",
    "    return jerk\n",
    "\n",
    "def get_energy_consumption(vseq, aseq):\n",
    "    # ref: https://www.sciencedirect.com/science/article/pii/S1361920915301280?casa_token=8cxvEOX36HEAAAAA:pb0MizZnGEW4ZMZKnRPgURXOsd6COFG_IuWO-8oVWkXSLcY3D0t9oFXuRogrHWTsnW_jFKgYtw\n",
    "    E=[]\n",
    "    accumulated_e=[0]\n",
    "    for t in range(len(vseq)):\n",
    "        v, a=vseq[t], aseq[t]\n",
    "        if a<=0:\n",
    "            accumulated_e.append(accumulated_e[-1])\n",
    "            continue # break, no energy consumed\n",
    "        #ford\n",
    "        p = 1110*v-96.61*(v**2)+2.745*(v**3) + 1439*v*a\n",
    "        E.append(p*0.5)\n",
    "        accumulated_e.append(accumulated_e[-1] + p*0.5)\n",
    "#         E.append(accumulated_e)\n",
    "    return accumulated_e"
   ]
  },
  {
   "cell_type": "code",
   "execution_count": 45,
   "metadata": {},
   "outputs": [],
   "source": [
    "def get_ICE_energy_consumption(vseq, aseq):\n",
    "    E=[]\n",
    "    accumulated_e=[0]\n",
    "    for t in range(len(vseq)):\n",
    "        v, a=vseq[t], aseq[t]\n",
    "        v = v*3.6\n",
    "        if a<=0:\n",
    "            accumulated_e.append(accumulated_e[-1])\n",
    "            continue # break, no energy consumed\n",
    "        #ford\n",
    "        p = 0.009246*a*v -0.00046*a*v**2 + 4e-6*a*v**3 + \\\n",
    "            0.037039*a**2*v -0.00618*a**2*v + 2.96e-4*a**2*v**2 -1.86e-06*a**2*v**3 - \\\n",
    "            0.000468*a**3*v -1.79e-58*a**3*v**2 +3.86e-08*a**3*v**3 -0.87605 +0.03627*v- 0.00045*v**2 +2.55e-06*v**3+ \\\n",
    "            0.081221*a + 0.037039*a**2 - 0.00255*a**3\n",
    "        E.append(p)\n",
    "        accumulated_e.append(accumulated_e[-1]+p)\n",
    "#         E.append(accumulated_e)\n",
    "    return accumulated_e"
   ]
  },
  {
   "cell_type": "code",
   "execution_count": 46,
   "metadata": {},
   "outputs": [
    {
     "data": {
      "image/png": "[encoded data removed]",
      "text/plain": [
       "<Figure size 432x288 with 1 Axes>"
      ]
     },
     "metadata": {
      "needs_background": "light"
     },
     "output_type": "display_data"
    },
    {
     "data": {
      "image/png": "[encoded data removed]",
      "text/plain": [
       "<Figure size 432x288 with 1 Axes>"
      ]
     },
     "metadata": {
      "needs_background": "light"
     },
     "output_type": "display_data"
    },
    {
     "name": "stdout",
     "output_type": "stream",
     "text": [
      "e_human [0, 0.18985828474661426, 0.4131813911444886, 0.5674187944185425, 0.5674187944185425, 2.7477955867189654, 4.459166827521413, 4.459166827521413, 4.571327567276259, 8.487556751422638, 8.487321768369032]\n",
      "e_planned [0, 0.09146518741237479, 0.12333190606218777, 0.14348667020143865, 0.14348667020143865, 0.20337557645721943, 1.4889793957572324, 1.4889793957572324, 1.4889793957572324, 2.2867063993001278, 2.8321331480110743]\n"
     ]
    },
    {
     "data": {
      "image/png": "[encoded data removed]",
      "text/plain": [
       "<Figure size 432x288 with 1 Axes>"
      ]
     },
     "metadata": {
      "needs_background": "light"
     },
     "output_type": "display_data"
    },
    {
     "name": "stdout",
     "output_type": "stream",
     "text": [
      "Total energy consumed for human/model 34.95021259355791 10.290923744917558\n"
     ]
    }
   ],
   "source": [
    "jerk_human = get_jerkness(env2.target.traj)\n",
    "# print(\"jerk_human\",jerk_human)\n",
    "jerk_planned = get_jerkness(np.vstack((target_obs, target_planned[1:])))\n",
    "# print(\"jerk_planned\",jerk_planned)\n",
    "x = np.arange(len(jerk_human))\n",
    "plt.title('Jerkiness overtime')\n",
    "plt.plot(np.arange(len(jerk_human)), jerk_human, label='Human driver (simulated)')\n",
    "plt.plot(np.arange(len(jerk_planned)), jerk_planned, label= \"Predictive planned\")\n",
    "plt.legend()\n",
    "# plt.savefig('result_fig/jerk')\n",
    "plt.show()\n",
    "\n",
    "\n",
    "acc_human, v_human = get_aseq(env2.target.traj)\n",
    "acc_planned, v_planned = get_aseq(np.vstack((target_obs, target_planned[1:])))\n",
    "# print(\"acc_human\", acc_human)\n",
    "# print(\"v_human\", v_human)\n",
    "# print(\"acc_planned\", acc_planned)\n",
    "# print(\"v_planned\", v_planned)\n",
    "x = np.arange(len(acc_human))\n",
    "plt.title(\"Acceleration over time\")\n",
    "plt.plot(np.arange(len(acc_human)), acc_human, label='Human driver (simulated)')\n",
    "plt.plot(np.arange(len(acc_planned)), acc_planned, label= \"Predictive planned\")\n",
    "plt.legend()\n",
    "# plt.savefig('result_fig/acc')\n",
    "plt.show()\n",
    "\n",
    "e_human  = get_ICE_energy_consumption(v_human, acc_human)\n",
    "e_planned = get_ICE_energy_consumption(v_planned, acc_planned)\n",
    "print(\"e_human\", e_human)\n",
    "print(\"e_planned\", e_planned)\n",
    "# print(\"energy consumption by human/planned\",e_human, e_planned)\n",
    "plt.plot(np.arange(len(e_planned)),e_human ,label='Human driver (simulated)')\n",
    "plt.plot(np.arange(len(e_planned)),e_planned, label= \"Predictive planned\" )\n",
    "plt.legend()\n",
    "plt.title(\"Accumulated energy consumption\")\n",
    "plt.show()\n",
    "print('Total energy consumed for human/model', sum(e_human), sum(e_planned))"
   ]
  },
  {
   "cell_type": "code",
   "execution_count": 47,
   "metadata": {},
   "outputs": [
    {
     "data": {
      "image/png": "[encoded data removed]",
      "text/plain": [
       "<Figure size 1296x1296 with 1 Axes>"
      ]
     },
     "metadata": {
      "needs_background": "light"
     },
     "output_type": "display_data"
    }
   ],
   "source": [
    "plot_planned_on_grid('8KfB', lane_list=lane_list, \\\n",
    "                           grid_boundary=grid_boundary, veh=sample['veh'][:], ped=sample['ped'], cyc=sample['cyc'],\n",
    "                    target_obs=target_obs, planned=target_planned, other_planned=None)"
   ]
  },
  {
   "cell_type": "code",
   "execution_count": 48,
   "metadata": {},
   "outputs": [],
   "source": [
    "# pickle.dump(sample, open(\"some_scenes/collision_with_ped_scene\", 'wb'))\n",
    "# pickle.dump(target_obs, open(\"some_scenes/collision_with_ped_target_obs\", 'wb'))\n",
    "# pickle.dump(target_planned, open(\"some_scenes/collision_with_ped_target_planned\", 'wb'))"
   ]
  },
  {
   "cell_type": "markdown",
   "metadata": {},
   "source": [
    "# investigate group behavior"
   ]
  },
  {
   "cell_type": "code",
   "execution_count": 54,
   "metadata": {},
   "outputs": [
    {
     "name": "stderr",
     "output_type": "stream",
     "text": [
      "/home/lab1/miniconda3/lib/python3.7/site-packages/sklearn/base.py:334: UserWarning: Trying to unpickle estimator BayesianGaussianMixture from version 0.24.1 when using version 0.23.1. This might lead to breaking code or invalid results. Use at your own risk.\n",
      "  UserWarning)\n"
     ]
    },
    {
     "name": "stdout",
     "output_type": "stream",
     "text": [
      "0 out of 1000\n",
      "100 out of 1000\n",
      "200 out of 1000\n",
      "200 out of 1000\n",
      "300 out of 1000\n",
      "400 out of 1000\n",
      "500 out of 1000\n",
      "600 out of 1000\n",
      "700 out of 1000\n",
      "800 out of 1000\n",
      "900 out of 1000\n",
      "Done\n"
     ]
    }
   ],
   "source": [
    "env2=Graph()\n",
    "num_scenes =1000\n",
    "hjerkiness_all=[]\n",
    "hacceleration_all=[]\n",
    "henergy_all =[]\n",
    "mjerkiness_all=[]\n",
    "macceleration_all=[]\n",
    "menergy_all =[]\n",
    "\n",
    "mspeed_all=[]\n",
    "hspeed_all=[]\n",
    "\n",
    "hs_all=[]\n",
    "ms_all=[]\n",
    "total_time=[]\n",
    "nscenes=0\n",
    "dmin=[]\n",
    "\n",
    "while nscenes < num_scenes:\n",
    "    if nscenes%100==0: print(nscenes, \"out of\", num_scenes)\n",
    "    \n",
    "    timesteps = 10\n",
    "    state = env2.reset()\n",
    "    tt=0\n",
    "    series_hs, series_ms=[],[]\n",
    "    for timestep in range(timesteps):\n",
    "        tt+=1\n",
    "        subject_tensor = tf.convert_to_tensor(state[0])\n",
    "        subject_tensor = tf.expand_dims(subject_tensor, 0)\n",
    "\n",
    "        veh_tensor = tf.convert_to_tensor(state[1])  \n",
    "        veh_tensor = tf.expand_dims(veh_tensor, 0)\n",
    "\n",
    "        ped_tensor = tf.convert_to_tensor(state[2])  \n",
    "        ped_tensor = tf.expand_dims(ped_tensor, 0)\n",
    "\n",
    "        cyc_tensor = tf.convert_to_tensor(state[3])  \n",
    "        cyc_tensor = tf.expand_dims(cyc_tensor, 0)\n",
    "\n",
    "        edge_tensor = tf.convert_to_tensor(state[4])   \n",
    "        edge_tensor = tf.expand_dims(edge_tensor, 0) \n",
    "\n",
    "        # state_tensor = tf.expand_dims(state_tensor, 0)\n",
    "        state_tensor = [subject_tensor, veh_tensor, ped_tensor, cyc_tensor, edge_tensor]\n",
    "        action_probs = model(state_tensor, training=False)\n",
    "        # Take best action\n",
    "    #     print(action_probs)\n",
    "#         print('--------------')\n",
    "        action = tf.argmax(action_probs[0]).numpy()\n",
    "        state_next, reward, done,_, hs, ms, d_min = env2.step(action)\n",
    "        series_hs.append(hs)\n",
    "        series_ms.append(ms)\n",
    "#         print(timestep, action, action_dict[action], reward,done, _)\n",
    "        if done:\n",
    "#             print(\"stressor\",hs, ms)\n",
    "            break\n",
    "        state = state_next\n",
    "    #     print(state)\n",
    "#         print(\"====================\")\n",
    "    #     if timestep>2:break\n",
    "#     print(env2.target.history)\n",
    "#     print(tt)\n",
    "    if tt<10: \n",
    "        del series_hs[-1]\n",
    "        del series_ms[-1]\n",
    "        continue # too short, not the kind of task we want to investigate\n",
    "    nscenes+=1\n",
    "    total_time.append(tt) # time for planning, human is always 5s \n",
    "#     print(hs)\n",
    "#     print(ms)\n",
    "    dmin.append(d_min)\n",
    "    hs_all.append(series_hs)\n",
    "    ms_all.append(series_ms)\n",
    "    \n",
    "    sample = env2.sample\n",
    "    # print(sample)\n",
    "    target_obs = env2.target.traj[:10]\n",
    "    target_planned = np.array(env2.target.history)[:,1:3]\n",
    "    \n",
    "    jerk_human = get_jerkness(env2.target.traj)\n",
    "    jerk_planned = get_jerkness(np.vstack((target_obs, target_planned[1:])))\n",
    "    \n",
    "    hjerkiness_all.append(jerk_human)\n",
    "    mjerkiness_all.append(jerk_planned)\n",
    "    \n",
    "    acc_human, v_human = get_aseq(env2.target.traj)\n",
    "    acc_planned, v_planned = get_aseq(np.vstack((target_obs, target_planned[1:])))\n",
    "    \n",
    "    mspeed_all.append(v_planned)\n",
    "    hspeed_all.append(v_human)\n",
    "    \n",
    "    hacceleration_all.append(acc_human)\n",
    "    macceleration_all.append(acc_planned)\n",
    "    \n",
    "    e_human  = get_ICE_energy_consumption(v_human, acc_human)\n",
    "    e_planned = get_ICE_energy_consumption(v_planned, acc_planned)\n",
    "    \n",
    "    henergy_all.append(e_human)\n",
    "    menergy_all.append(e_planned)\n",
    "print(\"Done\")\n",
    "\n",
    "    "
   ]
  },
  {
   "cell_type": "code",
   "execution_count": 56,
   "metadata": {},
   "outputs": [
    {
     "name": "stdout",
     "output_type": "stream",
     "text": [
      "[13.495676614733735, 8.186843586502418, 5.271408344379424, 8.051327313786741, 13.405686284404936, 19.162756363573365, 24.40484712416559, 29.75659962409632, 34.97844191055659, 41.48394626359104] [8.01335138465951, 7.5959240488361965, 7.116295205135205, 6.4616107932893545, 5.8186723513194725, 5.228779508863775, 4.296811242227978, 3.7646322742318095, 4.6051197810168265, 6.096398008444883]\n"
     ]
    }
   ],
   "source": [
    "print(ms_all[0],mspeed_all[0])"
   ]
  },
  {
   "cell_type": "code",
   "execution_count": 20,
   "metadata": {},
   "outputs": [
    {
     "name": "stdout",
     "output_type": "stream",
     "text": [
      "8.566806736217393 8.756059984897306 8.566806736217393\n"
     ]
    }
   ],
   "source": [
    "hs_ele=[]\n",
    "ms_ele=[]\n",
    "\n",
    "for s in hs_all:\n",
    "    hs_ele.append(np.min(s))\n",
    "for s in ms_all:\n",
    "    ms_ele.append(np.min(s))\n",
    "\n",
    "print(sum(hs_ele)/len(hs_ele), sum(ms_ele)/len(ms_ele), sum(dmin)/len(dmin))"
   ]
  },
  {
   "cell_type": "code",
   "execution_count": 66,
   "metadata": {},
   "outputs": [
    {
     "name": "stdout",
     "output_type": "stream",
     "text": [
      "24\n",
      "6\n"
     ]
    }
   ],
   "source": [
    "count=0\n",
    "for i in range(len(hs_all)):\n",
    "    dlist = hs_all[i]\n",
    "    vlist =hspeed_all[i]\n",
    "    for d, v in zip(dlist, vlist):\n",
    "        if d <1 and d/v<0.5:\n",
    "            count +=1 \n",
    "            break\n",
    "print(count)\n",
    "\n",
    "count=0\n",
    "for i in range(len(ms_all)):\n",
    "    dlist = ms_all[i]\n",
    "    vlist =hspeed_all[i]\n",
    "    for d, v in zip(dlist, vlist):\n",
    "        if d <1 and d/v<0.5:\n",
    "            count +=1 \n",
    "            break\n",
    "print(count)"
   ]
  },
  {
   "cell_type": "code",
   "execution_count": 52,
   "metadata": {},
   "outputs": [
    {
     "name": "stdout",
     "output_type": "stream",
     "text": [
      "114.43631334502206 125.31231057459779\n",
      "11 30\n"
     ]
    }
   ],
   "source": [
    "# close hull\n",
    "model_closehull=0\n",
    "human_closehull=0\n",
    "print(max(dmin), max(ms_ele))\n",
    "for ele in ms_ele:\n",
    "    if ele<1:\n",
    "        model_closehull +=1\n",
    "for ele in hs_ele:\n",
    "    if ele <1:\n",
    "        human_closehull +=1\n",
    "print(model_closehull, human_closehull)"
   ]
  },
  {
   "cell_type": "code",
   "execution_count": 35,
   "metadata": {},
   "outputs": [
    {
     "name": "stdout",
     "output_type": "stream",
     "text": [
      "[32.41108052811548, 3.473767119425417, 3.5461957080792517, 2.3887042512623955, 2.660803638000934, 43.09340994862208, 5.3677863221254345, 3.102327674504863, 4.83259102345743, 3.9553949233924963]\n",
      "[32.41108052811548, 3.473767119425417, 3.5461957080792517, 2.3887042512623955, 2.660803638000934, 43.09340994862208, 5.3677863221254345, 3.102327674504863, 4.83259102345743, 3.9553949233924963]\n",
      "[32.869210173204685, 3.6034789304444117, 3.2867017119977726, 1.7435088357166917, 2.640063385123822, 43.0203783012562, 5.322742343639155, 3.4953390324970335, 4.808957287908277, 4.152535260143802]\n"
     ]
    }
   ],
   "source": [
    "print(dmin[:10])\n",
    "print(hs_ele[:10])\n",
    "print(ms_ele[:10])"
   ]
  },
  {
   "cell_type": "code",
   "execution_count": 36,
   "metadata": {},
   "outputs": [
    {
     "name": "stdout",
     "output_type": "stream",
     "text": [
      "1000 13.70518490470767 13.967415073898508\n",
      "Ttest_relResult(statistic=-6.267034709794029, pvalue=5.463867126026724e-10)\n",
      "8.696117327277323 8.901592253556856\n"
     ]
    }
   ],
   "source": [
    "import scipy\n",
    "print(len(ms_ele), np.std(hs_ele), np.std(ms_ele))\n",
    "ttest_score = scipy.stats.ttest_rel(hs_ele, ms_ele)\n",
    "print(ttest_score)\n",
    "print(sum(hs_ele)/len(hs_ele), sum(ms_ele)/len(ms_ele))"
   ]
  },
  {
   "cell_type": "code",
   "execution_count": 50,
   "metadata": {},
   "outputs": [],
   "source": [
    "def fill_array(arr, length=11, catagory='energy'):\n",
    "    res=[]\n",
    "    if catagory=='energy':\n",
    "        for ele in arr:\n",
    "            if len(ele)<1:continue\n",
    "            if len(ele)<length: # energy\n",
    "    #             print(len(ele), ele)\n",
    "                ele = ele + [ele[-1]]*(length-len(ele))\n",
    "            res.append(ele)\n",
    "    else:\n",
    "        for ele in arr:\n",
    "            if len(ele)<1:continue\n",
    "            if len(ele)<length: # energy\n",
    "    #             print(len(ele), ele)\n",
    "                ele = ele + [0]*(length-len(ele))\n",
    "            res.append(ele)\n",
    "    return np.array(res)\n",
    "\n",
    "henergy_all= np.array(henergy_all)\n",
    "menergy_all = fill_array(menergy_all)\n",
    "# menergy_all=np.array(menergy_all)\n",
    "\n",
    "hjerkiness_all = np.array(hjerkiness_all)\n",
    "hacceleration_all = np.array(hacceleration_all)\n",
    "\n"
   ]
  },
  {
   "cell_type": "code",
   "execution_count": 38,
   "metadata": {},
   "outputs": [
    {
     "name": "stdout",
     "output_type": "stream",
     "text": [
      "(1000, 11) (1000, 10) (1000, 9)\n"
     ]
    }
   ],
   "source": [
    "\n",
    "macceleration_all = fill_array(macceleration_all, 10, 'acceleration')\n",
    "mjerkiness_all = fill_array(mjerkiness_all,9, 'jerkiness')\n",
    "print(menergy_all.shape, macceleration_all.shape, mjerkiness_all.shape)"
   ]
  },
  {
   "cell_type": "code",
   "execution_count": 39,
   "metadata": {},
   "outputs": [
    {
     "name": "stdout",
     "output_type": "stream",
     "text": [
      "(1000, 9) (1000, 9)\n",
      "3.9301427165501375 1.783324533571954\n",
      "Ttest_relResult(statistic=16.18704023228091, pvalue=1.6364088674224014e-52)\n",
      "=======\n",
      "3.4674133702919296 1.613890929645361\n",
      "Ttest_relResult(statistic=18.154972396515515, pvalue=8.704648918105554e-08)\n"
     ]
    }
   ],
   "source": [
    "print(hjerkiness_all.shape, mjerkiness_all.shape)\n",
    "ttest_score_j = scipy.stats.ttest_rel(hjerkiness_all[:,-1], mjerkiness_all[:,-1])\n",
    "print(sum(hjerkiness_all[:,-1])/len(hjerkiness_all[:,-1]), sum(mjerkiness_all[:,-1])/len(mjerkiness_all[:,-1]))\n",
    "print(ttest_score_j)\n",
    "print(\"=======\")\n",
    "ttest_score_j2 = scipy.stats.ttest_rel(np.mean(hjerkiness_all, axis=0), np.mean(mjerkiness_all, axis=0))\n",
    "print(np.mean(hjerkiness_all), np.mean(mjerkiness_all))\n",
    "\n",
    "print(ttest_score_j2)"
   ]
  },
  {
   "cell_type": "code",
   "execution_count": 51,
   "metadata": {},
   "outputs": [
    {
     "name": "stdout",
     "output_type": "stream",
     "text": [
      "(1000, 11) (1000, 11)\n",
      "13.260173281964168 4.195710886143112\n",
      "Ttest_relResult(statistic=15.351707432364464, pvalue=6.490415509281466e-48)\n"
     ]
    }
   ],
   "source": [
    "import scipy\n",
    "print(henergy_all.shape, menergy_all.shape)\n",
    "ttest_score_j = scipy.stats.ttest_rel(henergy_all[:,-1], menergy_all[:,-1])\n",
    "print(sum(henergy_all[:,-1])/len(henergy_all[:,-1]), sum(menergy_all[:,-1])/len(menergy_all[:,-1]))\n",
    "print(ttest_score_j)"
   ]
  },
  {
   "cell_type": "code",
   "execution_count": 43,
   "metadata": {},
   "outputs": [
    {
     "name": "stdout",
     "output_type": "stream",
     "text": [
      "Average human/mode energy consumption per timestep (0.5s):  0.2589277824484682 0.05847644846914627\n"
     ]
    }
   ],
   "source": [
    "henergy_per_timestep=np.sum(henergy_all[:,-1])/(len(menergy_all)*10)\n",
    "menergy_per_timestep=np.sum(menergy_all[:,-1])/sum(total_time)\n",
    "print(\"Average human/mode energy consumption per timestep (0.5s): \" ,henergy_per_timestep, menergy_per_timestep)"
   ]
  },
  {
   "cell_type": "code",
   "execution_count": 45,
   "metadata": {},
   "outputs": [
    {
     "name": "stdout",
     "output_type": "stream",
     "text": [
      "(1000, 11) (1000, 10) (1000, 9)\n"
     ]
    },
    {
     "data": {
      "text/plain": [
       "<Figure size 720x576 with 0 Axes>"
      ]
     },
     "metadata": {},
     "output_type": "display_data"
    },
    {
     "data": {
      "image/png": "[encoded data removed]",
      "text/plain": [
       "<Figure size 432x288 with 1 Axes>"
      ]
     },
     "metadata": {
      "needs_background": "light"
     },
     "output_type": "display_data"
    },
    {
     "data": {
      "image/png": "[encoded data removed]",
      "text/plain": [
       "<Figure size 432x288 with 1 Axes>"
      ]
     },
     "metadata": {
      "needs_background": "light"
     },
     "output_type": "display_data"
    },
    {
     "data": {
      "image/png": "[encoded data removed]",
      "text/plain": [
       "<Figure size 432x288 with 1 Axes>"
      ]
     },
     "metadata": {
      "needs_background": "light"
     },
     "output_type": "display_data"
    }
   ],
   "source": [
    "import scipy.stats\n",
    "import matplotlib.pyplot as plt \n",
    "fig=plt.figure(figsize=(10,8))\n",
    "plt.rcParams.update({'font.size': 12})\n",
    "def mean_confidence_interval(data, confidence=0.95):\n",
    "    a = np.array(data)\n",
    "#     print(a.shape)\n",
    "    n = len(a)\n",
    "    m, se = np.mean(a,axis=0), scipy.stats.sem(a)\n",
    "    h = se * scipy.stats.t.ppf((1 + confidence) / 2., n-1)\n",
    "    return m, m-h, m+h\n",
    "\n",
    "\n",
    "def conf_plot(arr1, arr2, timerange, catagory = 'Jerkiness', savefig=None, filename = 'jerkiness'):\n",
    "    low, high, mean = [],[],[]\n",
    "    m_low, m_high, m_mean = [], [],[]\n",
    "    for j in range(timerange):\n",
    "        m,l,h=mean_confidence_interval(arr1[:,j])\n",
    "        low.append(l)\n",
    "        high.append(h)\n",
    "        mean.append(m)\n",
    "\n",
    "        m,l,h=mean_confidence_interval(arr2[:,j])\n",
    "        m_low.append(l)\n",
    "        m_high.append(h)\n",
    "        m_mean.append(m)\n",
    "        \n",
    "    fig, ax1 = plt.subplots(1, 1, sharex=True)\n",
    "    \n",
    "    \n",
    "    \n",
    "    x = np.arange(0,(timerange)*0.5,0.5)\n",
    "    ax1.fill_between(x, low, high,facecolor='gray',alpha=0.1)\n",
    "    plt.plot(x, mean,c='blue', label='Human-driven trajectories')\n",
    "\n",
    "    ax1.fill_between(x, m_low, m_high,facecolor='cyan',alpha=0.1)\n",
    "    \n",
    "    if catagory =='Jerkiness':\n",
    "        plt.xticks(np.arange(0,(timerange)*0.5,0.5), np.arange(0.5,(timerange)*0.5+0.5,0.5))\n",
    "        \n",
    "    else:\n",
    "        plt.xticks(np.arange(0,(timerange)*0.5,0.5))\n",
    "#     plt.xticks(np.arange(0,(timerange)*0.5,0.5))\n",
    "\n",
    "    plt.plot(x, m_mean,c='green', label='Planned trajectories')\n",
    "\n",
    "    ax1.set_ylabel(catagory,fontsize=16)\n",
    "    ax1.set_xlabel('Planning horizon (s)', fontsize=16)\n",
    "\n",
    "    plt.plot(x, mean,c='blue')\n",
    "    plt.legend()\n",
    "#     plt.legend(loc= 'upper left')\n",
    "    plt.tight_layout()\n",
    "    pth = 'paper/'+filename\n",
    "    plt.savefig(pth,dpi=100)\n",
    "    plt.show()\n",
    "\n",
    "\n",
    "    \n",
    "#     return low, high, mean, m_low, m_high, m_mean\n",
    "print(menergy_all.shape, macceleration_all.shape, mjerkiness_all.shape)\n",
    "conf_plot(hjerkiness_all, mjerkiness_all, 9)\n",
    "conf_plot(henergy_all, menergy_all, 11, 'Energy consumption', filename='energy')\n",
    "conf_plot(hacceleration_all, macceleration_all, 10, 'Acceleration', filename='acceleration')\n",
    "\n",
    "# fig, ax1 = plt.subplots(1, 1, sharex=True)\n",
    "# x = np.arange(0.5,5,0.5)\n",
    "# print(len(x))\n",
    "# ax1.fill_between(x, low, high,facecolor='gray',alpha=0.3)\n",
    "# # plt.xticks(np.arange(0.5, 5.5, step=0.5))\n",
    "# # ax1.set_ylabel('Jerkiness',fontsize=14)\n",
    "# # ax1.set_xlabel('Planning time', fontsize=14)\n",
    "\n",
    "# plt.plot(x, mean,c='blue', label='Human driver')\n",
    "\n",
    "# ax1.fill_between(x, m_low, m_high,facecolor='gray',alpha=0.3)\n",
    "# plt.xticks(np.arange(0.5, 5.5, step=0.5))\n",
    "\n",
    "# plt.plot(x, m_mean,c='green', label='Planned')\n",
    "\n",
    "\n",
    "# ax1.set_ylabel('Jerkiness',fontsize=14)\n",
    "# ax1.set_xlabel('Planning time', fontsize=14)\n",
    "\n",
    "# plt.plot(x, mean,c='blue')\n",
    "# plt.legend()\n",
    "# # plt.savefig(\"ade_wconf.png\",dpi=100)\n",
    "# plt.show()"
   ]
  },
  {
   "cell_type": "code",
   "execution_count": null,
   "metadata": {},
   "outputs": [],
   "source": []
  },
  {
   "cell_type": "markdown",
   "metadata": {},
   "source": [
    "# visualize action space"
   ]
  },
  {
   "cell_type": "code",
   "execution_count": 39,
   "metadata": {},
   "outputs": [],
   "source": []
  },
  {
   "cell_type": "code",
   "execution_count": 15,
   "metadata": {},
   "outputs": [],
   "source": [
    "def _get_av2( prev2, prev, curr):\n",
    "    v10 = np.linalg.norm(curr - prev)/0.5\n",
    "    v9 = np.linalg.norm(prev - prev2)/0.5\n",
    "    a = (v10-v9)/0.5\n",
    "    return a, (v10+v9)/2\n",
    "    \n",
    "def _get_theta2(prev,curr):\n",
    "    diff_x = curr[0]-prev[0] \n",
    "    diff_y = curr[1]-prev[1]\n",
    "\n",
    "    if diff_x>0 and diff_y>0:\n",
    "        indicator=1\n",
    "    elif diff_x<=0 and diff_y>=0:\n",
    "        indicator=2\n",
    "    elif diff_x<=0 and diff_y<=0:\n",
    "        indicator = 3\n",
    "    else:\n",
    "        indicator=4\n",
    "    try:\n",
    "        if diff_x !=0:\n",
    "            tan = diff_y/diff_x\n",
    "            # print(\"tan\", tan, math.atan(tan)*180/math.pi)\n",
    "            return math.atan(tan)*180/math.pi, indicator\n",
    "        else:\n",
    "            return 90, indicator\n",
    "    except:\n",
    "        return 90, indicator\n",
    "    \n",
    "        \n",
    "        \n",
    "def _get_guide(traj):\n",
    "    guide=[]\n",
    "    for i in range(9,19):\n",
    "        a,_ = _get_av2(traj[i-1], traj[i], traj[i+1])\n",
    "        theta, indicator = _get_theta2(traj[i], traj[i+1])\n",
    "        guide.append([a, theta, indicator])\n",
    "    return guide\n",
    "    \n",
    "\n",
    "def max_move(traj, guide, unit=5):\n",
    "    # [0.1, -3] [0.1, 3]\n",
    "    traj_max=[]\n",
    "    v1 =  np.linalg.norm(traj[10] - traj[9])/0.5\n",
    "    v2 = np.linalg.norm(traj[9] - traj[8])/0.5\n",
    "    v = (v1+v2)/2\n",
    "    pos = traj[9]\n",
    "    for t in range(10):\n",
    "        traj_max.append(pos)\n",
    "        guide_a, guide_theta, guide_indicator  = guide[t]\n",
    "\n",
    "        a = guide_a+0.2\n",
    "        theta=guide_theta+unit # 5 is the max\n",
    "\n",
    "\n",
    "        distance = v*0.5+0.5*a*0.25\n",
    "        radian = theta*math.pi/180\n",
    "        dx, dy = abs(distance*math.cos(radian)), abs(distance*math.sin(radian))\n",
    "        #update state\n",
    "        if guide_indicator==1: # zone 1\n",
    "            pos =[pos[0]+dx, pos[1]+dy]\n",
    "        elif guide_indicator==2:\n",
    "            pos =[pos[0]-dx, pos[1]+dy]\n",
    "        elif guide_indicator==3:\n",
    "            pos =[pos[0]-dx, pos[1]-dy]\n",
    "        else:\n",
    "            pos =[pos[0]+dx, pos[1]-dy]\n",
    "\n",
    "\n",
    "        v = v+a*0.5\n",
    "    traj_max.append(pos)\n",
    "    return np.array(traj_max)\n",
    "\n",
    "def min_move(traj, guide, unit=-5):\n",
    "    # [0.1, -3] [0.1, 3]\n",
    "    traj_min=[]\n",
    "    v1 =  np.linalg.norm(traj[10] - traj[9])/0.5\n",
    "    v2 = np.linalg.norm(traj[9] - traj[8])/0.5\n",
    "    v = (v1+v2)/2\n",
    "    pos = traj[9]\n",
    "    for t in range(10):\n",
    "        traj_min.append(pos)\n",
    "        guide_a, guide_theta, guide_indicator  = guide[t]\n",
    "\n",
    "        a = guide_a-0.2\n",
    "        theta=guide_theta+unit\n",
    "\n",
    "\n",
    "        distance = v*0.5+0.5*a*0.25\n",
    "        radian = theta*math.pi/180\n",
    "        dx, dy = abs(distance*math.cos(radian)), abs(distance*math.sin(radian))\n",
    "        #update state\n",
    "        if guide_indicator==1: # zone 1\n",
    "            pos =[pos[0]+dx, pos[1]+dy]\n",
    "        elif guide_indicator==2:\n",
    "            pos =[pos[0]-dx, pos[1]+dy]\n",
    "        elif guide_indicator==3:\n",
    "            pos =[pos[0]-dx, pos[1]-dy]\n",
    "        else:\n",
    "            pos =[pos[0]+dx, pos[1]-dy]\n",
    "\n",
    "\n",
    "        v = v+a*0.5\n",
    "    traj_min.append(pos)\n",
    "    return np.array(traj_min)\n",
    "\n",
    "def show_move(traj, guide, unit_a = -0.2, unit=-5):\n",
    "    # [0.1, -3] [0.1, 3]\n",
    "    traj_min=[]\n",
    "    v1 =  np.linalg.norm(traj[10] - traj[9])/0.5\n",
    "    v2 = np.linalg.norm(traj[9] - traj[8])/0.5\n",
    "    v = (v1+v2)/2\n",
    "    pos = traj[9]\n",
    "    for t in range(10):\n",
    "        traj_min.append(pos)\n",
    "        guide_a, guide_theta, guide_indicator  = guide[t]\n",
    "\n",
    "        a = guide_a+unit_a\n",
    "        theta=guide_theta+unit\n",
    "\n",
    "\n",
    "        distance = v*0.5+0.5*a*0.25\n",
    "        radian = theta*math.pi/180\n",
    "        dx, dy = abs(distance*math.cos(radian)), abs(distance*math.sin(radian))\n",
    "        #update state\n",
    "        if guide_indicator==1: # zone 1\n",
    "            pos =[pos[0]+dx, pos[1]+dy]\n",
    "        elif guide_indicator==2:\n",
    "            pos =[pos[0]-dx, pos[1]+dy]\n",
    "        elif guide_indicator==3:\n",
    "            pos =[pos[0]-dx, pos[1]-dy]\n",
    "        else:\n",
    "            pos =[pos[0]+dx, pos[1]-dy]\n",
    "\n",
    "\n",
    "        v = v+a*0.5\n",
    "    traj_min.append(pos)\n",
    "    return np.array(traj_min)\n",
    "\n",
    "def action_move(traj, guide, unit =5):\n",
    "    traj_min=[]\n",
    "    \n",
    "    for t in range(10):\n",
    "        v1 =  np.linalg.norm(traj[t+10] - traj[t+9])/0.5\n",
    "        v2 = np.linalg.norm(traj[t+9] - traj[t+8])/0.5\n",
    "        v = (v1+v2)/2\n",
    "        ref_pos = traj[t+9]\n",
    "        guide_a, guide_theta, guide_indicator  = guide[t]\n",
    "        traj_min.append(ref_pos)\n",
    "        for unit_a in np.arange(-0.2,0.21,0.01):\n",
    "            \n",
    "            a = guide_a+unit_a\n",
    "            theta=guide_theta+unit\n",
    "            distance = v*0.5+0.5*a*0.25\n",
    "            radian = theta*math.pi/180\n",
    "            dx, dy = abs(distance*math.cos(radian)), abs(distance*math.sin(radian))\n",
    "            #update state\n",
    "            if guide_indicator==1: # zone 1\n",
    "                pos =[ref_pos[0]+dx, ref_pos[1]+dy]\n",
    "            elif guide_indicator==2:\n",
    "                pos =[ref_pos[0]-dx, ref_pos[1]+dy]\n",
    "            elif guide_indicator==3:\n",
    "                pos =[ref_pos[0]-dx, ref_pos[1]-dy]\n",
    "            else:\n",
    "                pos =[ref_pos[0]+dx, ref_pos[1]-dy]\n",
    "            traj_min.append(pos)\n",
    "#         v = v+a*0.5\n",
    "#     traj_min.append(ref_pos)\n",
    "    traj_min = np.array(traj_min)\n",
    "#     print(traj_min.shape)\n",
    "    return traj_min\n"
   ]
  },
  {
   "cell_type": "code",
   "execution_count": 41,
   "metadata": {},
   "outputs": [
    {
     "name": "stdout",
     "output_type": "stream",
     "text": [
      "10\n",
      "[  536.544 -2391.638] [  536.544 -2391.638]\n",
      "[  536.09930545 -2390.42802562] [  536.32500791 -2390.41840038]\n",
      "[  535.95430423 -2388.79687749] [  536.19742514 -2388.93630117]\n",
      "[  536.34259886 -2387.01181288] [  536.79504277 -2387.47713104]\n",
      "[  537.48186863 -2385.20296544] [  537.99598708 -2386.15286125]\n",
      "[  539.5355526  -2382.86553373] [  540.07315446 -2384.48890109]\n",
      "[  542.44723836 -2380.29382316] [  542.91798612 -2382.74885202]\n",
      "[  545.40208286 -2377.67956439] [  545.7276872  -2381.02704064]\n",
      "[  548.64151745 -2374.74664914] [  548.79225842 -2379.10038592]\n",
      "[  552.45382265 -2371.0328674 ] [  552.48893617 -2376.58340877]\n"
     ]
    }
   ],
   "source": [
    "guide =_get_guide(task)\n",
    "print(len(guide))\n",
    "move1 = max_move(task, guide)\n",
    "move2 = min_move(task, guide)\n",
    "# move1.shape\n",
    "for i in range(10):\n",
    "    print(move1[i], move2[i])"
   ]
  },
  {
   "cell_type": "code",
   "execution_count": 32,
   "metadata": {},
   "outputs": [],
   "source": [
    "# # for unit in np.arange(-5,5.05, 0.05):\n",
    "# #     move = max_move(task, guide, unit)\n",
    "# #     plt.plot(move[:,0], move[:,1], color='cyan', alpha=0.3)\n",
    "# # # plt.plot(task[9:,0], task[9:,1], color='g')\n",
    "# # # # plt.show()\n",
    "\n",
    "# # for unit in np.arange(-5,5.05, 0.05):\n",
    "# #     move = min_move(task, guide, unit)\n",
    "# #     plt.plot(move[:,0], move[:,1], color='cyan', alpha=0.3)\n",
    "# # plt.plot(task[9:,0], task[9:,1], color='g')\n",
    "# # plt.show()\n",
    "\n",
    "# # for unit in np.arange(-5,5.05, 0.05):\n",
    "# #     move = action_move(task, guide, unit)\n",
    "# # #     print(move.shape)\n",
    "# #     plt.scatter(move[:,0], move[:,1], color='cyan', alpha=0.3)\n",
    "# # plt.plot(task[9:,0], task[9:,1], color='g')\n",
    "# # plt.show()\n",
    "\n",
    "# # visualize action space \n",
    "# for ua in np.arange(-0.2, 0.21, 0.01):\n",
    "#     for unit in np.arange(-5,5.05, 0.05):\n",
    "#         move = show_move(task, guide, ua, unit)\n",
    "#     #     print(move.shape)\n",
    "#         plt.plot(move[:,0], move[:,1], color='cyan', alpha=0.3)\n",
    "# plt.plot(task[9:,0], task[9:,1], color='g')\n",
    "# plt.show()"
   ]
  },
  {
   "cell_type": "code",
   "execution_count": 16,
   "metadata": {},
   "outputs": [],
   "source": [
    "\n",
    "def plot_action_with_bound(intersection_id, lane_list, grid_boundary, veh=None, ped=None, cyc=None,\\\n",
    "                        target_obs=None, planned=None, task=None):\n",
    "    \"\"\"\n",
    "    plt action space on the scene\n",
    "    \"\"\"\n",
    "    plt.figure(figsize=(18,18))\n",
    "    plt.xlim(grid_boundary[intersection_id]['X'][0],grid_boundary[intersection_id]['X'][1])\n",
    "    plt.ylim(grid_boundary[intersection_id]['Y'][0],grid_boundary[intersection_id]['Y'][1])\n",
    "    for lane in lane_list[intersection_id]:\n",
    "        plt.plot(Test.map_api.get_lane_coords(lane)['xyz_right'][:,0], Test.map_api.get_lane_coords(lane)['xyz_right'][:,1],\n",
    "                 color='g',linewidth=1, alpha=0.3, label=lane)\n",
    "        plt.plot(Test.map_api.get_lane_coords(lane)['xyz_left'][:,0], Test.map_api.get_lane_coords(lane)['xyz_left'][:,1],\n",
    "                 color='g',alpha =0.3, linewidth=1)\n",
    "#         print(\"lane coordinates right\", Test.map_api.get_lane_coords(lane)['xyz_right'][:,0])\n",
    "    x_mesh, y_mesh = get_grid(intersection_id, grid_boundary)\n",
    "#     print(x_mesh.shape, y_mesh[:,1])\n",
    "#     plt.plot(x_mesh, y_mesh, c='grey', linewidth=0.1) # use plot, not scatter\n",
    "#     plt.plot(np.transpose(x_mesh), np.transpose(y_mesh),c='grey', linewidth=0.1) # add this here\n",
    "#     plt.title(intersection_id,fontsize=30)\n",
    "    \n",
    "    guide =_get_guide(task)\n",
    "    \n",
    "#     for ua in np.arange(-0.2, 0.21, 0.01):\n",
    "#         for unit in np.arange(-5,5.05, 0.01):\n",
    "#             move = show_move(task, guide, ua, unit)\n",
    "#             plt.plot(move[:,0], move[:,1], color='cyan', alpha=0.1)\n",
    "            \n",
    "    if veh is not None:\n",
    "        for traj in veh: \n",
    "            plt.plot(traj[:10,0],traj[:10,1], c='b',alpha=0.3,linewidth=1)\n",
    "            plt.scatter(traj[9][0], traj[9][1], marker='o', color='b')\n",
    "    if ped is not None:\n",
    "        for traj in ped: \n",
    "            plt.plot(traj[:10,0],traj[:10,1], c='orange',linewidth=1)\n",
    "            plt.scatter(traj[9][0], traj[9][1], marker='o', color='orange')\n",
    "    if cyc is not None:\n",
    "        for traj in cyc: \n",
    "            plt.plot(traj[:10,0],traj[:10,1], c='gray',linewidth=1)\n",
    "            plt.scatter(traj[9][0], traj[9][1], marker='o',  color='gray')\n",
    "    if target_obs is not None:\n",
    "        plt.plot(target_obs[:,0],target_obs[:,1], c='red',linewidth=1)\n",
    "        plt.scatter(target_obs[-1][0], target_obs[-1][1], marker='o', color='red')\n",
    "    if planned is not None:\n",
    "        plt.plot(planned[:,0],planned[:,1], c='k',linewidth=1)\n",
    "        \n",
    "    \n",
    "#     plt.plot(task[9:,0], task[9:,1], color='g')  # human driving trajectory\n",
    "    # old action space plot \n",
    "#     for unit in np.arange(-5,6, 0.05):\n",
    "#         move = min_move(task, guide, unit)\n",
    "#         plt.plot(move[:,0], move[:,1], color='gray', alpha=0.1)\n",
    "#     plt.plot(task[9:,0], task[9:,1], color='k',alpha=0.5 ) # reference line \n",
    "\n",
    "#     if planned is not None:\n",
    "#         plt.plot(planned[:,0],planned[:,1], c='red',linewidth=1)\n",
    "        \n",
    "        \n",
    "        \n",
    "    plt.axis('off')\n",
    "#     plt.savefig(\"paper/thru_free_t\")\n",
    "    plt.show()\n",
    "    \n",
    "def plot_planning_result(intersection_id, lane_list, grid_boundary, veh=None, ped=None, cyc=None,\\\n",
    "                        target_obs=None, planned=None, task=None):\n",
    "    \"\"\"\n",
    "    plt action space on the scene\n",
    "    \"\"\"\n",
    "    plt.figure(figsize=(18,18))\n",
    "    plt.xlim(grid_boundary[intersection_id]['X'][0],grid_boundary[intersection_id]['X'][1])\n",
    "    plt.ylim(grid_boundary[intersection_id]['Y'][0],grid_boundary[intersection_id]['Y'][1])\n",
    "    for lane in lane_list[intersection_id]:\n",
    "        plt.plot(Test.map_api.get_lane_coords(lane)['xyz_right'][:,0], Test.map_api.get_lane_coords(lane)['xyz_right'][:,1],\n",
    "                 color='g',linewidth=1, alpha=0.3, label=lane)\n",
    "        plt.plot(Test.map_api.get_lane_coords(lane)['xyz_left'][:,0], Test.map_api.get_lane_coords(lane)['xyz_left'][:,1],\n",
    "                 color='g',alpha =0.3, linewidth=1)\n",
    "#         print(\"lane coordinates right\", Test.map_api.get_lane_coords(lane)['xyz_right'][:,0])\n",
    "    x_mesh, y_mesh = get_grid(intersection_id, grid_boundary)\n",
    "#     print(x_mesh.shape, y_mesh[:,1])\n",
    "#     plt.plot(x_mesh, y_mesh, c='grey', linewidth=0.1) # use plot, not scatter\n",
    "#     plt.plot(np.transpose(x_mesh), np.transpose(y_mesh),c='grey', linewidth=0.1) # add this here\n",
    "#     plt.title(intersection_id,fontsize=30)\n",
    "    \n",
    "    guide =_get_guide(task)\n",
    "    \n",
    "   \n",
    "        \n",
    "    if veh is not None:\n",
    "        for traj in veh: \n",
    "            plt.plot(traj[9:,0],traj[9:,1], c='b',alpha=0.3, linewidth=1)\n",
    "            plt.scatter(traj[9][0], traj[9][1], marker='o', color='b')\n",
    "    if ped is not None:\n",
    "        for traj in ped: \n",
    "            plt.plot(traj[9:,0],traj[9:,1], c='orange',linewidth=1)\n",
    "            plt.scatter(traj[9][0], traj[9][1], marker='o', color='orange')\n",
    "    if cyc is not None:\n",
    "        for traj in cyc: \n",
    "            plt.plot(traj[9:,0],traj[9:,1], c='gray',linewidth=1)\n",
    "            plt.scatter(traj[9][0], traj[9][1], marker='o',  color='gray')\n",
    "    if target_obs is not None:\n",
    "        plt.plot(target_obs[:,0],target_obs[:,1], c='red',linewidth=1)\n",
    "        plt.scatter(target_obs[-1][0], target_obs[-1][1], marker='o', color='red')\n",
    "    if planned is not None:\n",
    "        plt.plot(planned[:,0],planned[:,1], c='k',linewidth=1)\n",
    "        \n",
    "    \n",
    "#     plt.plot(task[9:,0], task[9:,1], color='g')  # human driving trajectory\n",
    "    # old action space plot \n",
    "#     for unit in np.arange(-5,6, 0.05):\n",
    "#         move = min_move(task, guide, unit)\n",
    "#         plt.plot(move[:,0], move[:,1], color='gray', alpha=0.1)\n",
    "#     plt.plot(task[9:,0], task[9:,1], color='k', alpha=0.5) # reference line \n",
    "\n",
    "#     if planned is not None:\n",
    "#         plt.plot(planned[:,0],planned[:,1], c='red',linewidth=1)\n",
    "        \n",
    "        \n",
    "        \n",
    "    plt.axis('off')\n",
    "#     plt.savefig(\"paper/action_space_lm\")\n",
    "    plt.show()\n",
    "    \n",
    "def plot_action_space(intersection_id, lane_list, grid_boundary, task):\n",
    "    \"\"\"\n",
    "    plt action space with target veh only\n",
    "    \"\"\"\n",
    "    plt.figure(figsize=(18,18))\n",
    "    plt.xlim(grid_boundary[intersection_id]['X'][0],grid_boundary[intersection_id]['X'][1])\n",
    "    plt.ylim(grid_boundary[intersection_id]['Y'][0],grid_boundary[intersection_id]['Y'][1])\n",
    "    for lane in lane_list[intersection_id]:\n",
    "        plt.plot(Test.map_api.get_lane_coords(lane)['xyz_right'][:,0], Test.map_api.get_lane_coords(lane)['xyz_right'][:,1],\n",
    "                 color='g',linewidth=1,alpha=0.2,label=lane)\n",
    "        plt.plot(Test.map_api.get_lane_coords(lane)['xyz_left'][:,0], Test.map_api.get_lane_coords(lane)['xyz_left'][:,1],\n",
    "                 color='g',linewidth=1, alpha=0.2,)\n",
    "#         print(\"lane coordinates right\", Test.map_api.get_lane_coords(lane)['xyz_right'][:,0])\n",
    "    x_mesh, y_mesh = get_grid(intersection_id, grid_boundary)\n",
    "#     print(x_mesh.shape, y_mesh[:,1])\n",
    "#     plt.plot(x_mesh, y_mesh, c='grey', linewidth=0.1) # use plot, not scatter\n",
    "#     plt.plot(np.transpose(x_mesh), np.transpose(y_mesh),c='grey', linewidth=0.1) # add this here\n",
    "#     plt.title(intersection_id,fontsize=30)\n",
    "\n",
    "    guide =_get_guide(task)\n",
    "    \n",
    "    for ua in np.arange(-0.2, 0.21, 0.01):\n",
    "        for unit in np.arange(-5,5.05, 0.01):\n",
    "            move = show_move(task, guide, ua, unit)\n",
    "            plt.plot(move[:,0], move[:,1], color='cyan', alpha=0.1)\n",
    "            \n",
    "#     for unit in np.arange(-5,6, 0.05):\n",
    "#         move = show_move(task, guide, unit)\n",
    "#         plt.plot(move[:,0], move[:,1], color='cyan', alpha=0.3)\n",
    "        \n",
    "    plt.plot(task[:,0], task[:,1], color='orange')\n",
    "\n",
    "    plt.axis('off')\n",
    "#     plt.savefig(\"result_fig/action_space\")\n",
    "    plt.show()\n",
    "    "
   ]
  },
  {
   "cell_type": "code",
   "execution_count": 429,
   "metadata": {},
   "outputs": [
    {
     "name": "stderr",
     "output_type": "stream",
     "text": [
      "/home/lab1/miniconda3/lib/python3.7/site-packages/sklearn/base.py:334: UserWarning: Trying to unpickle estimator BayesianGaussianMixture from version 0.24.1 when using version 0.23.1. This might lead to breaking code or invalid results. Use at your own risk.\n",
      "  UserWarning)\n"
     ]
    },
    {
     "name": "stdout",
     "output_type": "stream",
     "text": [
      "--------------\n",
      "0 16 (0.0, -1) 0.5099358046963921 False feasible 11.677773075377086 11.654046717243189 inf\n",
      "====================\n",
      "--------------\n",
      "1 16 (0.0, -1) 0.09304094916395204 False feasible 6.282232803709249 6.575904504764393 inf\n",
      "====================\n",
      "--------------\n",
      "2 16 (0.0, -1) 0.025702640883780787 False feasible 6.689955530494836 6.938458496949281 inf\n",
      "====================\n",
      "--------------\n",
      "3 16 (0.0, -1) 0.04147561017039707 False feasible 10.840371303604126 11.089651010112568 inf\n",
      "====================\n",
      "--------------\n",
      "4 16 (0.0, -1) 0.04315125954081101 False feasible 15.567939169973732 14.828671758243454 inf\n",
      "====================\n",
      "--------------\n",
      "5 16 (0.0, -1) 0.028963456287737166 False feasible 16.90910772335437 16.11318145964703 inf\n",
      "====================\n",
      "--------------\n",
      "6 16 (0.0, -1) 0.03137814576893998 False feasible 17.786605803244477 16.835237096713097 inf\n",
      "====================\n",
      "--------------\n",
      "7 16 (0.0, -1) 0.01984937756775441 False feasible 17.69688698613393 17.638473018452757 inf\n",
      "====================\n",
      "--------------\n",
      "8 16 (0.0, -1) 0.01118925825304252 False feasible 14.388903780344137 15.827012428262686 inf\n",
      "====================\n",
      "--------------\n",
      "9 16 (0.0, -1) 0.009003165065483184 True reach_goal 10.571505569217678 12.537795309063332 6.282232803709249\n",
      "[[0, 537.523, -2395.297, 0.6782335011442213, -60.60874906136178], [1, 537.0316558044482, -2394.4246931080957, 0.4882335011442213, -60.60874906136178], [2, 536.5876428662036, -2393.1416263086094, 2.3641909088228394, -70.91151549640206], [3, 536.0982799438732, -2391.641182968241, -0.6001328250229547, -71.93649349044662], [4, 536.1389811616344, -2390.1204374682543, 0.14462259233240843, 88.46690230317608], [5, 536.3017564112511, -2388.399193546667, 1.5164447656028872, 84.59769729614497], [6, 537.1229416065013, -2386.8216281126824, -1.1198426072043, 62.5012398962716], [7, 538.3747741244802, -2385.7189865934215, 0.23748069645981967, 41.37430631684668], [8, 540.1353069777799, -2384.473424419012, 3.6696494337288095, 35.27908534383511], [9, 542.2473308388533, -2383.0948306449814, -0.7453267056437185, 33.13392662028], [10, 544.4634788439164, -2381.487286908742, 2.470587278992761, 35.95628380510795]]\n",
      "10.571505569217678\n",
      "12.537795309063332\n",
      "dmin 6.282232803709249\n"
     ]
    }
   ],
   "source": [
    "env2=Graph()\n",
    "timesteps = 10\n",
    "state = env2.reset()\n",
    "for timestep in range(timesteps):\n",
    "    subject_tensor = tf.convert_to_tensor(state[0])\n",
    "    subject_tensor = tf.expand_dims(subject_tensor, 0)\n",
    "\n",
    "    veh_tensor = tf.convert_to_tensor(state[1])  \n",
    "    veh_tensor = tf.expand_dims(veh_tensor, 0)\n",
    "\n",
    "    ped_tensor = tf.convert_to_tensor(state[2])  \n",
    "    ped_tensor = tf.expand_dims(ped_tensor, 0)\n",
    "\n",
    "    cyc_tensor = tf.convert_to_tensor(state[3])  \n",
    "    cyc_tensor = tf.expand_dims(cyc_tensor, 0)\n",
    "\n",
    "    edge_tensor = tf.convert_to_tensor(state[4])   \n",
    "    edge_tensor = tf.expand_dims(edge_tensor, 0) \n",
    "\n",
    "    # state_tensor = tf.expand_dims(state_tensor, 0)\n",
    "    state_tensor = [subject_tensor, veh_tensor, ped_tensor, cyc_tensor, edge_tensor]\n",
    "    action_probs = model(state_tensor, training=False)\n",
    "    # Take best action\n",
    "#     print(action_probs)\n",
    "    print('--------------')\n",
    "    action = tf.argmax(action_probs[0]).numpy()\n",
    "    state_next, reward, done,_, hs, ms, dmin = env2.step(action)\n",
    "   \n",
    "    print(timestep, action, action_dict[action], reward,done, _,hs, ms, dmin)\n",
    "    if done:\n",
    "        break\n",
    "    state = state_next\n",
    "#     print(state)\n",
    "    print(\"====================\")\n",
    "#     if timestep>2:break\n",
    "print(env2.target.history)\n",
    "\n",
    "print(hs)\n",
    "print(ms)\n",
    "print('dmin', dmin)"
   ]
  },
  {
   "cell_type": "code",
   "execution_count": 430,
   "metadata": {},
   "outputs": [
    {
     "name": "stdout",
     "output_type": "stream",
     "text": [
      "(10, 2) (11, 2)\n"
     ]
    }
   ],
   "source": [
    "sample = env2.sample\n",
    "# print(sample)\n",
    "target_obs = env2.target.traj[:10]\n",
    "target_planned = np.array(env2.target.history)[:,1:3]\n",
    "print(target_obs.shape, target_planned.shape)"
   ]
  },
  {
   "cell_type": "code",
   "execution_count": 431,
   "metadata": {},
   "outputs": [
    {
     "data": {
      "image/png": "[encoded data removed]",
      "text/plain": [
       "<Figure size 1296x1296 with 1 Axes>"
      ]
     },
     "metadata": {
      "needs_background": "light"
     },
     "output_type": "display_data"
    }
   ],
   "source": [
    "# task= pickle.load(open(\"/home/lab1/repo/planning/tasks/task.pickle\",'rb'))[0]\n",
    "task = sample['veh'][0]\n",
    "\n",
    "# plot_action_space('8KfB', lane_list=lane_list, grid_boundary=grid_boundary,task=task)\n",
    "# plot_action_with_bound('8KfB', lane_list=lane_list, \\\n",
    "#                            grid_boundary=grid_boundary, veh=sample['veh'][1:], ped=sample['ped'], cyc=sample['cyc'],\n",
    "#                     target_obs=target_obs, planned=target_planned, task=task)\n",
    "\n",
    "plot_planning_result('8KfB', lane_list=lane_list, \\\n",
    "                           grid_boundary=grid_boundary, veh=sample['veh'][1:], ped=sample['ped'], cyc=sample['cyc'],\n",
    "                    target_obs=target_obs, planned=target_planned, task=task)"
   ]
  },
  {
   "cell_type": "code",
   "execution_count": 434,
   "metadata": {},
   "outputs": [
    {
     "data": {
      "image/png": "[encoded data removed]",
      "text/plain": [
       "<Figure size 432x288 with 1 Axes>"
      ]
     },
     "metadata": {
      "needs_background": "light"
     },
     "output_type": "display_data"
    }
   ],
   "source": [
    "acc_human, v_human = get_aseq(env2.target.traj)\n",
    "acc_planned, v_planned = get_aseq(np.vstack((target_obs, target_planned[1:])))\n",
    "# print(\"acc_human\", acc_human)\n",
    "# print(\"v_human\", v_human)\n",
    "# print(\"acc_planned\", acc_planned)\n",
    "# print(\"v_planned\", v_planned)\n",
    "x = np.arange(len(acc_human))\n",
    "plt.title(\"Velocity over time\")\n",
    "plt.plot(np.arange(len(v_human)), v_human, label='Human driver (simulated)')\n",
    "plt.plot(np.arange(len(v_planned)), v_planned, label= \"Predictive planned\")\n",
    "plt.legend()\n",
    "# plt.savefig('result_fig/acc')\n",
    "plt.show()"
   ]
  },
  {
   "cell_type": "code",
   "execution_count": 433,
   "metadata": {},
   "outputs": [],
   "source": [
    "pickle.dump(env2, open(\"/home/lab1/repo/planning/intergration/paper/new_env_t_slow_for_thru2.pickle\",'wb'))"
   ]
  },
  {
   "cell_type": "code",
   "execution_count": null,
   "metadata": {},
   "outputs": [],
   "source": []
  }
 ],
 "metadata": {
  "kernelspec": {
   "display_name": "Python 3",
   "language": "python",
   "name": "python3"
  },
  "language_info": {
   "codemirror_mode": {
    "name": "ipython",
    "version": 3
   },
   "file_extension": ".py",
   "mimetype": "text/x-python",
   "name": "python",
   "nbconvert_exporter": "python",
   "pygments_lexer": "ipython3",
   "version": "3.7.7"
  }
 },
 "nbformat": 4,
 "nbformat_minor": 4
}
