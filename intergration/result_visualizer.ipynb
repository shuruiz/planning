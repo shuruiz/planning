{
 "cells": [
  {
   "cell_type": "code",
   "execution_count": 1,
   "metadata": {},
   "outputs": [],
   "source": [
    "import numpy as np\n",
    "import tensorflow as tf\n",
    "from tensorflow import keras\n",
    "from tensorflow.keras import layers\n",
    "from model import _build_model\n",
    "from core import Graph\n",
    "\n",
    "import sys \n",
    "from ruixuan.turning_scene import *\n",
    "from l5kit.rasterization.rasterizer_builder import _load_metadata\n",
    "import time\n",
    "import pickle\n",
    "import math\n",
    "from collections import deque\n",
    "import numpy as np\n",
    "from sklearn.mixture import BayesianGaussianMixture\n",
    "from tabulate import tabulate\n",
    "from utils import Gibbs_sampling, get_smoothness, get_distance_pt\n",
    "from config import Config\n",
    "from visualizer import plot_scene_on_grid\n",
    "import itertools"
   ]
  },
  {
   "cell_type": "code",
   "execution_count": null,
   "metadata": {},
   "outputs": [],
   "source": [
    "# new a graph  \n",
    "env = Graph()\n",
    "sample = env.sample\n",
    "# act/plan the 10 steps\n",
    "\n",
    "# add use the history info in target to sample\n",
    "\n",
    "# visualize the sample"
   ]
  },
  {
   "cell_type": "code",
   "execution_count": 459,
   "metadata": {},
   "outputs": [
    {
     "data": {
      "image/png": "[encoded data removed]",
      "text/plain": [
       "<Figure size 432x288 with 1 Axes>"
      ]
     },
     "metadata": {
      "needs_background": "light"
     },
     "output_type": "display_data"
    }
   ],
   "source": [
    "import matplotlib.pyplot as plt\n",
    "import numpy as np\n",
    "# reward_history = np.load('episode_history_collision_g2.npy', allow_pickle=True)\n",
    "# reward_history = np.load('simple_model2_episode_history.npy', allow_pickle=True) \n",
    "# reward_history = np.load('simple_model_episode_history_lowc.npy', allow_pickle=True)\n",
    "# reward_history = np.load('rightturn_episode_history.npy', allow_pickle=True)\n",
    "# reward_history = np.load('through_episode_history.npy', allow_pickle=True)\n",
    "# reward_history = np.load('through2_episode_history.npy', allow_pickle=True) \n",
    "# reward_history = np.load('guided_exp_episode_history.npy', allow_pickle=True)\n",
    "# reward_history = np.load('guided2_exp_episode_history.npy', allow_pickle=True)\n",
    "# reward_history = np.load('guided3_exp_episode_history.npy', allow_pickle=True)\n",
    "# reward_history = np.load('guided3x_exp_episode_history.npy', allow_pickle=True)\n",
    "# reward_history = np.load('guided3y_exp_episode_history.npy', allow_pickle=True)\n",
    "# reward_history = np.load('guided3a_exp_episode_history.npy', allow_pickle=True)\n",
    "# reward_history = np.load('guided3z_exp_episode_history.npy', allow_pickle=True)\n",
    "# reward_history = np.load('guided3y1_exp_episode_history.npy', allow_pickle=True)\n",
    "# reward_history = np.load('model4_thru_episode_history.npy', allow_pickle=True)\n",
    "# reward_history = np.load('model6_thru_episode_history.npy', allow_pickle=True)\n",
    "# reward_history = np.load('model5_thru_episode_history.npy', allow_pickle=True)\n",
    "# reward_history = np.load('model7_thru_episode_history.npy', allow_pickle=True)\n",
    "# reward_history = np.load('model8_thru_episode_history.npy', allow_pickle=True)\n",
    "reward_history = np.load('model9_all_episode_history.npy', allow_pickle=True)[1000:]\n",
    "# reward_history = np.load('model8a_thru_episode_history.npy', allow_pickle=True)\n",
    "# reward_history = np.load('model8b_thru_episode_history.npy', allow_pickle=True)\n",
    "# reward_history = np.load('modelx_thru_episode_history.npy', allow_pickle=True)\n",
    "# reward_history = np.load('modelx1_thru_episode_history.npy', allow_pickle=True)\n",
    "x=[]\n",
    "step=1000\n",
    "for i in range(0, len(reward_history), step):\n",
    "    x.append(sum(reward_history[i:i+step])/step)\n",
    "# print(x.shape)\n",
    "plt.plot(range(len(x)), x)\n",
    "plt.show()"
   ]
  },
  {
   "cell_type": "code",
   "execution_count": 351,
   "metadata": {},
   "outputs": [],
   "source": [
    "# import itertools\n",
    "# a=list(itertools.product(np.round(np.arange(-0.1,0.15,0.05), decimals=2), np.round(np.arange(-3,4,1), decimals=0)))\n",
    "# print(len(a),'\\n' ,a)"
   ]
  },
  {
   "cell_type": "code",
   "execution_count": 439,
   "metadata": {},
   "outputs": [
    {
     "name": "stdout",
     "output_type": "stream",
     "text": [
      "0.9\n",
      "0.37000000001272343\n",
      "0.37000000001272343 0.7209946046574617\n"
     ]
    }
   ],
   "source": [
    "epsilon_min = 0.1\n",
    "epsilon_max = 1.0  # Maximum epsilon greedy parameter\n",
    "epsilon = 1\n",
    "epsilon_interval = (\n",
    "    epsilon_max - epsilon_min\n",
    ")\n",
    "print(epsilon_interval)\n",
    "i=0\n",
    "while i<700000: \n",
    "    epsilon -= epsilon_interval / 1000000\n",
    "    i+=1\n",
    "print(epsilon)\n",
    "epsilon = max(epsilon, epsilon_min)\n",
    "print(epsilon , np.random.rand(1)[0])"
   ]
  },
  {
   "cell_type": "code",
   "execution_count": null,
   "metadata": {},
   "outputs": [],
   "source": []
  }
 ],
 "metadata": {
  "kernelspec": {
   "display_name": "Python 3",
   "language": "python",
   "name": "python3"
  },
  "language_info": {
   "codemirror_mode": {
    "name": "ipython",
    "version": 3
   },
   "file_extension": ".py",
   "mimetype": "text/x-python",
   "name": "python",
   "nbconvert_exporter": "python",
   "pygments_lexer": "ipython3",
   "version": "3.7.7"
  }
 },
 "nbformat": 4,
 "nbformat_minor": 4
}
