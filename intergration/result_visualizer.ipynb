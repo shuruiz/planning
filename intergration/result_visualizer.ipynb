{
 "cells": [
  {
   "cell_type": "code",
   "execution_count": 1,
   "metadata": {},
   "outputs": [],
   "source": [
    "import numpy as np\n",
    "import tensorflow as tf\n",
    "from tensorflow import keras\n",
    "from tensorflow.keras import layers\n",
    "from model import _build_model\n",
    "from core import Graph\n",
    "\n",
    "import sys \n",
    "from ruixuan.turning_scene import *\n",
    "from l5kit.rasterization.rasterizer_builder import _load_metadata\n",
    "import time\n",
    "import pickle\n",
    "import math\n",
    "from collections import deque\n",
    "import numpy as np\n",
    "from sklearn.mixture import BayesianGaussianMixture\n",
    "from tabulate import tabulate\n",
    "from utils import Gibbs_sampling, get_smoothness, get_distance_pt\n",
    "from config import Config\n",
    "from visualizer import plot_scene_on_grid\n",
    "import itertools"
   ]
  },
  {
   "cell_type": "code",
   "execution_count": null,
   "metadata": {},
   "outputs": [],
   "source": [
    "# new a graph  \n",
    "env = Graph()\n",
    "sample = env.sample\n",
    "# act/plan the 10 steps\n",
    "\n",
    "# add use the history info in target to sample\n",
    "\n",
    "# visualize the sample"
   ]
  },
  {
   "cell_type": "code",
   "execution_count": 241,
   "metadata": {},
   "outputs": [
    {
     "data": {
      "image/png": "[encoded data removed]",
      "text/plain": [
       "<Figure size 432x288 with 1 Axes>"
      ]
     },
     "metadata": {
      "needs_background": "light"
     },
     "output_type": "display_data"
    }
   ],
   "source": [
    "import matplotlib.pyplot as plt\n",
    "import numpy as np\n",
    "# reward_history = np.load('episode_history_collision_g2.npy', allow_pickle=True)\n",
    "# reward_history = np.load('simple_model2_episode_history.npy', allow_pickle=True) \n",
    "# reward_history = np.load('simple_model_episode_history_lowc.npy', allow_pickle=True)\n",
    "# reward_history = np.load('rightturn_episode_history.npy', allow_pickle=True)\n",
    "# reward_history = np.load('through_episode_history.npy', allow_pickle=True)\n",
    "# reward_history = np.load('through2_episode_history.npy', allow_pickle=True) \n",
    "# reward_history = np.load('guided_exp_episode_history.npy', allow_pickle=True)\n",
    "# reward_history = np.load('guided2_exp_episode_history.npy', allow_pickle=True)\n",
    "# reward_history = np.load('guided3_exp_episode_history.npy', allow_pickle=True)\n",
    "# reward_history = np.load('guided3x_exp_episode_history.npy', allow_pickle=True)\n",
    "# reward_history = np.load('guided3y_exp_episode_history.npy', allow_pickle=True)\n",
    "# reward_history = np.load('guided3a_exp_episode_history.npy', allow_pickle=True)\n",
    "# reward_history = np.load('guided3z_exp_episode_history.npy', allow_pickle=True)\n",
    "# reward_history = np.load('guided3y1_exp_episode_history.npy', allow_pickle=True)\n",
    "# reward_history = np.load('model4_thru_episode_history.npy', allow_pickle=True)\n",
    "# reward_history = np.load('model6_thru_episode_history.npy', allow_pickle=True)\n",
    "reward_history = np.load('model5_thru_episode_history.npy', allow_pickle=True)\n",
    "# reward_history = np.load('model7_thru_episode_history.npy', allow_pickle=True)\n",
    "# reward_history = np.load('model8_thru_episode_history.npy', allow_pickle=True)\n",
    "x=[]\n",
    "step=1000\n",
    "for i in range(0, len(reward_history), step):\n",
    "    x.append(sum(reward_history[i:i+step])/step)\n",
    "# print(x.shape)\n",
    "plt.plot(range(len(x)), x)\n",
    "plt.show()"
   ]
  },
  {
   "cell_type": "code",
   "execution_count": null,
   "metadata": {},
   "outputs": [],
   "source": []
  }
 ],
 "metadata": {
  "kernelspec": {
   "display_name": "Python 3",
   "language": "python",
   "name": "python3"
  },
  "language_info": {
   "codemirror_mode": {
    "name": "ipython",
    "version": 3
   },
   "file_extension": ".py",
   "mimetype": "text/x-python",
   "name": "python",
   "nbconvert_exporter": "python",
   "pygments_lexer": "ipython3",
   "version": "3.7.7"
  }
 },
 "nbformat": 4,
 "nbformat_minor": 4
}
