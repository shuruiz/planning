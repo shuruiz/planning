{
 "cells": [
  {
   "cell_type": "code",
   "execution_count": 1,
   "id": "instant-vermont",
   "metadata": {},
   "outputs": [
    {
     "name": "stderr",
     "output_type": "stream",
     "text": [
      "D:\\Anaconda\\lib\\site-packages\\l5kit\\dataset\\select_agents.py:31: UserWarning: Windows detected. BLOSC_NOLOCK has not been set as it causes memory leaks on Windows.However, writing the mask with this config may be inconsistent.\n",
      "  \"Windows detected. BLOSC_NOLOCK has not been set as it causes memory leaks on Windows.\"\n"
     ]
    }
   ],
   "source": [
    "import matplotlib.pyplot as plt\n",
    "\n",
    "import numpy as np\n",
    "\n",
    "\n",
    "from l5kit.data import ChunkedDataset, LocalDataManager\n",
    "from l5kit.dataset import EgoDataset, AgentDataset\n",
    "from l5kit.geometry.transform import *\n",
    "\n",
    "from l5kit.rasterization import build_rasterizer\n",
    "from l5kit.configs import load_config_data\n",
    "from l5kit.geometry import transform_points, rotation33_as_yaw\n",
    "from tqdm import tqdm\n",
    "from collections import Counter\n",
    "from l5kit.rasterization.rasterizer_builder import _load_metadata\n",
    "from prettytable import PrettyTable\n",
    "\n",
    "import os\n",
    "\n",
    "# from l5kit.visualization.visualizer.zarr_utils import zarr_to_visualizer_scene\n",
    "# from l5kit.visualization.visualizer.visualizer import visualize\n",
    "from bokeh.io import output_notebook, show\n",
    "from l5kit.data import MapAPI\n",
    "from IPython.display import display, clear_output\n",
    "import PIL\n",
    "\n",
    "from scenario import get_lanes, lane_check, current_lane\n",
    "\n",
    "\n",
    "import matlab\n",
    "import matlab.engine\n",
    "\n",
    "# eng = matlab.engine.start_matlab()"
   ]
  },
  {
   "cell_type": "code",
   "execution_count": 2,
   "id": "animal-affair",
   "metadata": {},
   "outputs": [
    {
     "name": "stdout",
     "output_type": "stream",
     "text": [
      "{'format_version': 4, 'model_params': {'model_architecture': 'resnet50', 'history_num_frames': 0, 'future_num_frames': 50, 'step_time': 0.1}, 'raster_params': {'raster_size': [320, 320], 'pixel_size': [0.5, 0.5], 'ego_center': [0.6, 0.5], 'map_type': 'py_semantic', 'satellite_map_key': 'aerial_map/aerial_map.png', 'semantic_map_key': 'semantic_map/semantic_map.pb', 'dataset_meta_key': 'meta.json', 'filter_agents_threshold': 0.5, 'disable_traffic_light_faces': False, 'set_origin_to_bottom': True}, 'val_data_loader': {'key': 'scenes/train.zarr', 'batch_size': 12, 'shuffle': False, 'num_workers': 16}}\n",
      "+------------+------------+------------+---------------+-----------------+----------------------+----------------------+----------------------+---------------------+\n",
      "| Num Scenes | Num Frames | Num Agents | Num TR lights | Total Time (hr) | Avg Frames per Scene | Avg Agents per Frame | Avg Scene Time (sec) | Avg Frame frequency |\n",
      "+------------+------------+------------+---------------+-----------------+----------------------+----------------------+----------------------+---------------------+\n",
      "|   16265    |  4039527   | 320124624  |    38735988   |      112.19     |        248.36        |        79.25         |        24.83         |        10.00        |\n",
      "+------------+------------+------------+---------------+-----------------+----------------------+----------------------+----------------------+---------------------+\n"
     ]
    }
   ],
   "source": [
    "# set env variable for data\n",
    "os.environ[\"L5KIT_DATA_FOLDER\"] = \"C:\\\\Users\\\\zheng\\\\Desktop\\\\UMich\\\\Independent Study\\\\prediction-dataset\"\n",
    "# get config\n",
    "cfg = load_config_data(\"C:\\\\Users\\\\zheng\\\\Desktop\\\\UMich\\\\Independent Study\\\\Codes\\\\python codes\\\\visualisation_config.yaml\")\n",
    "print(cfg)\n",
    "\n",
    "dm = LocalDataManager()\n",
    "dataset_path = dm.require(cfg[\"val_data_loader\"][\"key\"])\n",
    "zarr_dataset = ChunkedDataset(dataset_path)\n",
    "zarr_dataset.open()\n",
    "print(zarr_dataset)\n",
    "\n",
    "rast = build_rasterizer(cfg, dm)\n",
    "ego_dataset = EgoDataset(cfg, zarr_dataset, rast)\n",
    "# agent_dataset = AgentDataset(cfg, zarr_dataset, rast)\n",
    "# Obatin the information from semantic map\n",
    "\n",
    "semantic_map_filepath = dm.require(cfg[\"raster_params\"][\"semantic_map_key\"])\n",
    "dataset_meta = _load_metadata(cfg[\"raster_params\"][\"dataset_meta_key\"], dm)\n",
    "world_to_ecef = np.array(dataset_meta[\"world_to_ecef\"], dtype=np.float64)\n",
    "Map_Api = MapAPI(semantic_map_filepath, world_to_ecef)\n",
    "\n",
    "# Load all lane information into one dictionary\n",
    "all_lanes = get_lanes(Map_Api)\n",
    "Lane = {Map_Api.id_as_str(lane.id):lane.element.lane for lane in all_lanes}"
   ]
  },
  {
   "cell_type": "markdown",
   "id": "lesbian-hypothetical",
   "metadata": {},
   "source": [
    "## Now check the lane-junction relation"
   ]
  },
  {
   "cell_type": "code",
   "execution_count": 6,
   "id": "modified-google",
   "metadata": {},
   "outputs": [],
   "source": [
    "# first find all junctions and then find the corresponding scene by matching the lane information\n",
    "def is_junction(elem, map_api):\n",
    "    return elem.element.HasField(\"junction\")\n",
    "\n",
    "def get_junctions(map_api):\n",
    "    return [elem for elem in map_api.elements if is_junction(elem, map_api)]\n",
    "\n",
    "all_junctions = get_junctions(Map_Api)"
   ]
  },
  {
   "cell_type": "code",
   "execution_count": 225,
   "id": "alien-volunteer",
   "metadata": {},
   "outputs": [
    {
     "name": "stderr",
     "output_type": "stream",
     "text": [
      "100%|████████████████████████████████████████████████████████████████████████████████████████████████████████████████████████████████████████████| 50/50 [00:09<00:00,  5.13it/s]\n"
     ]
    }
   ],
   "source": [
    "# define the function which finds the passing lanes when AV was making a turn\n",
    "\n",
    "def turning_lanes():\n",
    "    \n",
    "    frames = list(range(zarr_dataset.scenes[scene][\"frame_index_interval\"][0],zarr_dataset.scenes[scene][\"frame_index_interval\"][1]))\n",
    "    yaw = [rotation33_as_yaw(rotation) for rotation in zarr_dataset.frames['ego_rotation'][frames]]\n",
    "    turning_frame = turning_frame(yaw, eng)\n",
    "    lanes = []\n",
    "\n",
    "\n",
    "\n",
    "    for frame in tqdm(turning_frame):\n",
    "        lanes.append(current_lane(zarr_dataset.frames[frame]['ego_translation'][:2], Lane, Map_Api))\n",
    "\n",
    "    lanes = set(lanes)\n",
    "    \n",
    "    return lanes"
   ]
  },
  {
   "cell_type": "code",
   "execution_count": 226,
   "id": "funny-opera",
   "metadata": {},
   "outputs": [],
   "source": [
    "# Now define the function which generates Junction-Lane dictionary\n",
    "\n",
    "def Junctiion_lane():\n",
    "    Junction_Lane = {}\n",
    "\n",
    "    for junction in all_junctions:\n",
    "\n",
    "        Junction_Lane[Map_Api.id_as_str(junction.id)] = []\n",
    "\n",
    "        for lane in junction.element.junction.lanes:\n",
    "            Junction_Lane[Map_Api.id_as_str(junction.id)].append(Map_Api.id_as_str(lane))\n",
    "\n",
    "        Junction_Lane[Map_Api.id_as_str(junction.id)] = set(Junction_Lane[Map_Api.id_as_str(junction.id)])\n",
    "    \n",
    "    \n",
    "    \n",
    "# define the function which finds the corresponding intersection containing the passing lanes\n",
    "\n",
    "def junction_id_find():\n",
    "    junction_id = []\n",
    "\n",
    "    for key in Junction_Lane.keys():\n",
    "\n",
    "        if len(Junction_Lane[key]&lanes) != 0:\n",
    "            junction_id.append(key)\n",
    "            \n",
    "            \n",
    "# define the function which classify the scenes into junction group\n",
    "\n",
    "def junction_scene(self, scene_idx, junction_id):\n",
    "    \n",
    "    self.junction_scene[junction_id] += [scene_idx]\n"
   ]
  },
  {
   "cell_type": "code",
   "execution_count": 35,
   "id": "decent-passport",
   "metadata": {},
   "outputs": [],
   "source": [
    "class Scene(object):\n",
    "    def __init__(self, dataset):\n",
    "        self.dataset = dataset\n",
    "        self.frames = self.dataset.frames\n",
    "        self.scene_num = len(self.dataset.scenes)\n",
    "        self.yaw_th = 1\n",
    "        self.distance_th = 10\n",
    "        self.eng = matlab.engine.start_matlab()\n",
    "        self.eng.cd(r'D:\\GitHub\\Clone\\planning\\utils') \n",
    "        self.turning_scenes = []\n",
    "        self.tunring_frames = []\n",
    "        \n",
    "        \n",
    "    def trajectory_visualize(self, turning_frames):\n",
    "        plt.figure(figsize=(18,18))\n",
    "        plt.scatter(self.frames[\"ego_translation\"][:,0], self.frames[\"ego_translation\"][:,1], marker='.')\n",
    "        plt.scatter(self.frames[\"ego_translation\"][self.tunring_frames,0], self.frames[\"ego_translation\"][self.tunring_frames,1], marker='.', color='r')\n",
    "        plt.axis(\"equal\")\n",
    "        plt.grid(which='both')\n",
    "        axes = plt.gca()\n",
    "        \n",
    "        \n",
    "        \n",
    "    def turning_scenes_finding(self):\n",
    "        \n",
    "        for scene in tqdm(range(self.scene_num)):\n",
    "\n",
    "            start_frame = self.frames[self.dataset.scenes[scene][\"frame_index_interval\"][0]]\n",
    "            finish_frame = self.frames[self.dataset.scenes[scene][\"frame_index_interval\"][1]-1]\n",
    "\n",
    "            start_yaw = rotation33_as_yaw(start_frame[\"ego_rotation\"])\n",
    "            finish_yaw = rotation33_as_yaw(finish_frame[\"ego_rotation\"])\n",
    "\n",
    "\n",
    "            if abs(start_yaw-finish_yaw) > self.yaw_th:\n",
    "                self.turning_scenes.append(scene)\n",
    "                self.tunring_frames += list(range(self.dataset.scenes[scene][\"frame_index_interval\"][0],self.dataset.scenes[scene][\"frame_index_interval\"][1]))\n",
    "                \n",
    "    \n",
    "    def scene_visualize(self, scene_idx):\n",
    "        \n",
    "        indexes = ego_dataset.get_scene_indices(scene_idx)\n",
    "        images = []\n",
    "\n",
    "        for idx in indexes:\n",
    "\n",
    "            data = ego_dataset[idx]\n",
    "            im = data[\"image\"].transpose(1, 2, 0)\n",
    "            im = ego_dataset.rasterizer.to_rgb(im)\n",
    "            target_positions_pixels = transform_points(data[\"target_positions\"], data[\"raster_from_agent\"])\n",
    "            center_in_pixels = np.asarray(cfg[\"raster_params\"][\"ego_center\"]) * cfg[\"raster_params\"][\"raster_size\"]\n",
    "        #     draw_trajectory(im, target_positions_pixels, TARGET_POINTS_COLOR, yaws=data[\"target_yaws\"])\n",
    "            clear_output(wait=True)\n",
    "            display(PIL.Image.fromarray(im))\n",
    "            \n",
    "            \n",
    "    \n",
    "    def chgpt_index_find(self, chgpt_loc, chgpt_dist, chgpt_num):\n",
    "        rel_d = np.diff(chgpt_loc)\n",
    "        \n",
    "        while True in (rel_d < self.distance_th):\n",
    "            for idx, d in enumerate(rel_d):\n",
    "                if d < self.distance_th:\n",
    "                    index = chgpt_loc[idx] if chgpt_dist[chgpt_loc[idx]]< chgpt_dist[chgpt_loc[idx+1]] else chgpt_loc[idx+1]\n",
    "                    chgpt_dist[index] = 0\n",
    "            chgpt_loc = np.argpartition(chgpt_dist, -chgpt_num)[-chgpt_num:]\n",
    "            chgpt_loc.sort()\n",
    "            # find the adjacent distance\n",
    "            rel_d = np.diff(chgpt_loc)\n",
    "            \n",
    "            \n",
    "        return chgpt_loc\n",
    "\n",
    "    \n",
    "            \n",
    "    def scene_turning_frames(self, scene_idx):\n",
    "        \n",
    "        frames = list(range(self.dataset.scenes[scene_idx][\"frame_index_interval\"][0],self.dataset.scenes[scene_idx][\"frame_index_interval\"][1]))\n",
    "        yaw = [rotation33_as_yaw(rotation) for rotation in self.dataset.frames['ego_rotation'][frames]]\n",
    "        \n",
    "        # extract key info from MATLAB results\n",
    "        output_yaw = self.eng.mat2py(matlab.double(yaw), nargout=2)\n",
    "\n",
    "        chgpt_dist_yaw = np.array(output_yaw[0])[0]\n",
    "        chgpt_num_dist_yaw = np.array(output_yaw[1]).flatten()\n",
    "\n",
    "        chgpt_num = np.argmax(chgpt_num_dist_yaw)\n",
    "        chgpt_index = np.argpartition(chgpt_dist_yaw, -chgpt_num)[-chgpt_num:]\n",
    "        chgpt_index.sort()\n",
    "        \n",
    "        chgpt_loc = self.chgpt_index_find(chgpt_index, chgpt_dist_yaw, chgpt_num)\n",
    "\n",
    "\n",
    "\n",
    "        return list(range(chgpt_loc[0],chgpt_loc[1]))\n",
    "    \n",
    "    \n",
    "    \n",
    "    \n",
    "    def "
   ]
  },
  {
   "cell_type": "code",
   "execution_count": 37,
   "id": "covered-presentation",
   "metadata": {},
   "outputs": [
    {
     "name": "stderr",
     "output_type": "stream",
     "text": [
      "100%|███████████████████████████████████████████████████████████████████████████████████████████████████████████████████████████████████████████████████████████████████████████████████████████████████████| 16265/16265 [00:32<00:00, 507.87it/s]\n"
     ]
    }
   ],
   "source": [
    "a.turning_scenes_finding()"
   ]
  },
  {
   "cell_type": "code",
   "execution_count": 38,
   "id": "psychological-adrian",
   "metadata": {
    "collapsed": true
   },
   "outputs": [
    {
     "data": {
      "text/plain": [
       "[32,\n",
       " 33,\n",
       " 34,\n",
       " 35,\n",
       " 36,\n",
       " 37,\n",
       " 38,\n",
       " 39,\n",
       " 40,\n",
       " 41,\n",
       " 42,\n",
       " 43,\n",
       " 44,\n",
       " 45,\n",
       " 46,\n",
       " 47,\n",
       " 48,\n",
       " 49,\n",
       " 50,\n",
       " 51,\n",
       " 52,\n",
       " 53,\n",
       " 54,\n",
       " 55,\n",
       " 56,\n",
       " 57,\n",
       " 58,\n",
       " 59,\n",
       " 60,\n",
       " 61,\n",
       " 62,\n",
       " 63,\n",
       " 64,\n",
       " 65,\n",
       " 66]"
      ]
     },
     "execution_count": 38,
     "metadata": {},
     "output_type": "execute_result"
    }
   ],
   "source": [
    "a.scene_turning_frames(8)"
   ]
  },
  {
   "cell_type": "code",
   "execution_count": 36,
   "id": "complimentary-branch",
   "metadata": {},
   "outputs": [],
   "source": [
    "a = Scene(zarr_dataset)"
   ]
  },
  {
   "cell_type": "code",
   "execution_count": 40,
   "id": "charming-month",
   "metadata": {},
   "outputs": [],
   "source": [
    "frames = list(range(zarr_dataset.scenes[8][\"frame_index_interval\"][0],zarr_dataset.scenes[8][\"frame_index_interval\"][1]))"
   ]
  },
  {
   "cell_type": "code",
   "execution_count": 41,
   "id": "according-scottish",
   "metadata": {},
   "outputs": [
    {
     "data": {
      "text/plain": [
       "[<matplotlib.lines.Line2D at 0x1deebe8aa08>]"
      ]
     },
     "execution_count": 41,
     "metadata": {},
     "output_type": "execute_result"
    },
    {
     "data": {
      "image/png": "[encoded data removed]",
      "text/plain": [
       "<Figure size 432x288 with 1 Axes>"
      ]
     },
     "metadata": {
      "needs_background": "light"
     },
     "output_type": "display_data"
    }
   ],
   "source": [
    "yaw = [rotation33_as_yaw(rotation) for rotation in zarr_dataset.frames['ego_rotation'][frames]]\n",
    "plt.plot(range(len(yaw)),yaw)\n",
    "plt.plot(range(len(yaw[32:67])),yaw[32:67],color='r',linewidth=3)"
   ]
  },
  {
   "cell_type": "code",
   "execution_count": 30,
   "id": "advance-running",
   "metadata": {},
   "outputs": [
    {
     "data": {
      "text/plain": [
       "'D:\\\\GitHub\\\\Clone\\\\planning'"
      ]
     },
     "execution_count": 30,
     "metadata": {},
     "output_type": "execute_result"
    }
   ],
   "source": [
    "eng = matlab.engine.start_matlab()\n",
    "eng.cd(r'D:\\GitHub\\Clone\\planning\\utils')"
   ]
  },
  {
   "cell_type": "code",
   "execution_count": 37,
   "id": "aggressive-recording",
   "metadata": {},
   "outputs": [
    {
     "data": {
      "text/plain": [
       "array([2.19926254e-302, 4.87629129e-020, 1.00000000e+000])"
      ]
     },
     "execution_count": 37,
     "metadata": {},
     "output_type": "execute_result"
    }
   ],
   "source": [
    "chgpt_num_dist_yaw"
   ]
  },
  {
   "cell_type": "code",
   "execution_count": 38,
   "id": "logical-season",
   "metadata": {},
   "outputs": [],
   "source": [
    "output_yaw = eng.mat2py(matlab.double(yaw), nargout=2)\n",
    "\n",
    "chgpt_dist_yaw = np.array(output_yaw[0])[0]\n",
    "chgpt_num_dist_yaw = np.array(output_yaw[1]).flatten()\n",
    "\n",
    "chgpt_num = np.argmax(chgpt_num_dist_yaw)\n",
    "chgpt_index = np.argpartition(chgpt_dist_yaw, -chgpt_num)[-chgpt_num:]\n",
    "chgpt_index.sort()"
   ]
  },
  {
   "cell_type": "code",
   "execution_count": 40,
   "id": "civic-subscription",
   "metadata": {},
   "outputs": [
    {
     "data": {
      "text/plain": [
       "array([0.000e+00, 0.000e+00, 0.000e+00, 0.000e+00, 0.000e+00, 0.000e+00,\n",
       "       0.000e+00, 0.000e+00, 0.000e+00, 0.000e+00, 0.000e+00, 0.000e+00,\n",
       "       0.000e+00, 0.000e+00, 0.000e+00, 0.000e+00, 0.000e+00, 0.000e+00,\n",
       "       0.000e+00, 0.000e+00, 0.000e+00, 0.000e+00, 2.000e-04, 4.000e-04,\n",
       "       1.600e-03, 3.600e-03, 1.180e-02, 3.160e-02, 5.760e-02, 8.880e-02,\n",
       "       1.248e-01, 1.380e-01, 1.408e-01, 1.338e-01, 1.072e-01, 8.020e-02,\n",
       "       4.960e-02, 1.760e-02, 9.600e-03, 2.200e-03, 6.000e-04, 0.000e+00,\n",
       "       0.000e+00, 0.000e+00, 0.000e+00, 0.000e+00, 0.000e+00, 0.000e+00,\n",
       "       0.000e+00, 0.000e+00, 0.000e+00, 0.000e+00, 0.000e+00, 0.000e+00,\n",
       "       0.000e+00, 0.000e+00, 0.000e+00, 0.000e+00, 0.000e+00, 0.000e+00,\n",
       "       0.000e+00, 0.000e+00, 0.000e+00, 0.000e+00, 0.000e+00, 1.500e-02,\n",
       "       3.184e-01, 5.122e-01, 1.426e-01, 1.140e-02, 4.000e-04, 0.000e+00,\n",
       "       0.000e+00, 0.000e+00, 0.000e+00, 0.000e+00, 0.000e+00, 0.000e+00,\n",
       "       0.000e+00, 0.000e+00, 0.000e+00, 0.000e+00, 0.000e+00, 0.000e+00,\n",
       "       0.000e+00, 0.000e+00, 0.000e+00, 0.000e+00, 0.000e+00, 0.000e+00,\n",
       "       0.000e+00, 0.000e+00, 0.000e+00, 0.000e+00, 0.000e+00, 0.000e+00,\n",
       "       0.000e+00, 0.000e+00, 0.000e+00, 0.000e+00, 0.000e+00, 0.000e+00,\n",
       "       0.000e+00, 0.000e+00, 0.000e+00, 0.000e+00, 0.000e+00, 0.000e+00,\n",
       "       0.000e+00, 0.000e+00, 0.000e+00, 0.000e+00, 0.000e+00, 0.000e+00,\n",
       "       0.000e+00, 0.000e+00, 0.000e+00, 0.000e+00, 0.000e+00, 0.000e+00,\n",
       "       0.000e+00, 0.000e+00, 0.000e+00, 0.000e+00, 0.000e+00, 0.000e+00,\n",
       "       0.000e+00, 0.000e+00, 0.000e+00, 0.000e+00, 0.000e+00, 0.000e+00,\n",
       "       0.000e+00, 0.000e+00, 0.000e+00, 0.000e+00, 0.000e+00, 0.000e+00,\n",
       "       0.000e+00, 0.000e+00, 0.000e+00, 0.000e+00, 0.000e+00, 0.000e+00,\n",
       "       0.000e+00, 0.000e+00, 0.000e+00, 0.000e+00, 0.000e+00, 0.000e+00,\n",
       "       0.000e+00, 0.000e+00, 0.000e+00, 0.000e+00, 0.000e+00, 0.000e+00,\n",
       "       0.000e+00, 0.000e+00, 0.000e+00, 0.000e+00, 0.000e+00, 0.000e+00,\n",
       "       0.000e+00, 0.000e+00, 0.000e+00, 0.000e+00, 0.000e+00, 0.000e+00,\n",
       "       0.000e+00, 0.000e+00, 0.000e+00, 0.000e+00, 0.000e+00, 0.000e+00,\n",
       "       0.000e+00, 0.000e+00, 0.000e+00, 0.000e+00, 0.000e+00, 0.000e+00,\n",
       "       0.000e+00, 0.000e+00, 0.000e+00, 0.000e+00, 0.000e+00, 0.000e+00,\n",
       "       0.000e+00, 0.000e+00, 0.000e+00, 0.000e+00, 0.000e+00, 0.000e+00,\n",
       "       0.000e+00, 0.000e+00, 0.000e+00, 0.000e+00, 0.000e+00, 0.000e+00,\n",
       "       0.000e+00, 0.000e+00, 0.000e+00, 0.000e+00, 0.000e+00, 0.000e+00,\n",
       "       0.000e+00, 0.000e+00, 0.000e+00, 0.000e+00, 0.000e+00, 0.000e+00,\n",
       "       0.000e+00, 0.000e+00, 0.000e+00, 0.000e+00, 0.000e+00, 0.000e+00,\n",
       "       0.000e+00, 0.000e+00, 0.000e+00, 0.000e+00, 0.000e+00, 0.000e+00,\n",
       "       0.000e+00, 0.000e+00, 0.000e+00, 0.000e+00, 0.000e+00, 0.000e+00,\n",
       "       0.000e+00, 0.000e+00, 0.000e+00, 0.000e+00, 0.000e+00, 0.000e+00,\n",
       "       0.000e+00, 0.000e+00, 0.000e+00, 0.000e+00, 0.000e+00, 0.000e+00,\n",
       "       0.000e+00, 0.000e+00, 0.000e+00, 0.000e+00, 0.000e+00, 0.000e+00,\n",
       "       0.000e+00, 0.000e+00, 0.000e+00])"
      ]
     },
     "execution_count": 40,
     "metadata": {},
     "output_type": "execute_result"
    }
   ],
   "source": [
    "chgpt_dist_yaw"
   ]
  },
  {
   "cell_type": "code",
   "execution_count": null,
   "id": "dated-discretion",
   "metadata": {},
   "outputs": [],
   "source": []
  }
 ],
 "metadata": {
  "kernelspec": {
   "display_name": "Python 3",
   "language": "python",
   "name": "python3"
  },
  "language_info": {
   "codemirror_mode": {
    "name": "ipython",
    "version": 3
   },
   "file_extension": ".py",
   "mimetype": "text/x-python",
   "name": "python",
   "nbconvert_exporter": "python",
   "pygments_lexer": "ipython3",
   "version": "3.7.4"
  }
 },
 "nbformat": 4,
 "nbformat_minor": 5
}
