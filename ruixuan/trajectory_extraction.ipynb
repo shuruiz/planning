{
 "cells": [
  {
   "cell_type": "code",
   "execution_count": 1,
   "id": "equivalent-bunch",
   "metadata": {},
   "outputs": [
    {
     "name": "stderr",
     "output_type": "stream",
     "text": [
      "D:\\Anaconda\\lib\\site-packages\\l5kit\\dataset\\select_agents.py:31: UserWarning: Windows detected. BLOSC_NOLOCK has not been set as it causes memory leaks on Windows.However, writing the mask with this config may be inconsistent.\n",
      "  \"Windows detected. BLOSC_NOLOCK has not been set as it causes memory leaks on Windows.\"\n"
     ]
    }
   ],
   "source": [
    "from turning_scene import *\n",
    "from l5kit.rasterization.rasterizer_builder import _load_metadata\n",
    "import time"
   ]
  },
  {
   "cell_type": "code",
   "execution_count": 2,
   "id": "cordless-belgium",
   "metadata": {},
   "outputs": [
    {
     "name": "stdout",
     "output_type": "stream",
     "text": [
      "{'format_version': 4, 'model_params': {'model_architecture': 'resnet50', 'history_num_frames': 0, 'future_num_frames': 50, 'step_time': 0.1}, 'raster_params': {'raster_size': [300, 300], 'pixel_size': [0.5, 0.5], 'ego_center': [0.6, 0.5], 'map_type': 'py_semantic', 'satellite_map_key': 'aerial_map/aerial_map.png', 'semantic_map_key': 'semantic_map/semantic_map.pb', 'dataset_meta_key': 'meta.json', 'filter_agents_threshold': 0.5, 'disable_traffic_light_faces': False, 'set_origin_to_bottom': True}, 'val_data_loader': {'key': 'scenes/train_full.zarr', 'batch_size': 12, 'shuffle': False, 'num_workers': 16}}\n",
      "+------------+------------+------------+---------------+-----------------+----------------------+----------------------+----------------------+---------------------+\n",
      "| Num Scenes | Num Frames | Num Agents | Num TR lights | Total Time (hr) | Avg Frames per Scene | Avg Agents per Frame | Avg Scene Time (sec) | Avg Frame frequency |\n",
      "+------------+------------+------------+---------------+-----------------+----------------------+----------------------+----------------------+---------------------+\n",
      "|   134622   |  33437057  | 2655096629 |   314473872   |      928.68     |        248.38        |        79.41         |        24.83         |        10.00        |\n",
      "+------------+------------+------------+---------------+-----------------+----------------------+----------------------+----------------------+---------------------+\n"
     ]
    }
   ],
   "source": [
    "# set env variable for data\n",
    "os.environ[\"L5KIT_DATA_FOLDER\"] = \"C:\\\\Users\\\\zheng\\\\Desktop\\\\UMich\\\\Independent Study\\\\prediction-dataset\"\n",
    "# get config\n",
    "cfg = load_config_data(\"C:\\\\Users\\\\zheng\\\\Desktop\\\\UMich\\\\Independent Study\\\\Codes\\\\python codes\\\\visualisation_config.yaml\")\n",
    "print(cfg)\n",
    "\n",
    "dm = LocalDataManager()\n",
    "dataset_path = dm.require(cfg[\"val_data_loader\"][\"key\"])\n",
    "zarr_dataset = ChunkedDataset(dataset_path)\n",
    "zarr_dataset.open()\n",
    "print(zarr_dataset)\n",
    "\n",
    "rast = build_rasterizer(cfg, dm)\n",
    "ego_dataset = EgoDataset(cfg, zarr_dataset, rast)\n",
    "# agent_dataset = AgentDataset(cfg, zarr_dataset, rast)\n",
    "# Obatin the information from semantic map\n",
    "\n",
    "semantic_map_filepath = dm.require(cfg[\"raster_params\"][\"semantic_map_key\"])\n",
    "dataset_meta = _load_metadata(cfg[\"raster_params\"][\"dataset_meta_key\"], dm)\n",
    "world_to_ecef = np.array(dataset_meta[\"world_to_ecef\"], dtype=np.float64)\n",
    "Map_Api = MapAPI(semantic_map_filepath, world_to_ecef)"
   ]
  },
  {
   "cell_type": "code",
   "execution_count": 413,
   "id": "charitable-accessory",
   "metadata": {},
   "outputs": [],
   "source": [
    "class Trajectory(Scene):\n",
    "    \n",
    "    def __init__(self, dataset, Map_Api):\n",
    "        super(Trajectory, self).__init__(dataset, Map_Api)\n",
    "        self.label_name = ['Car','Van','Tram','Bus','Truck','EV','OV','Bicycle','Motorcycle','Cyclist','Motorcyclist','Pedestrian']\n",
    "        self.label_idx = list(range(3,15))\n",
    "        self.label_dict = dict(zip(self.label_name, self.label_idx))\n",
    "        self.all_traffic_control = None\n",
    "        self.Traffic_Control = None\n",
    "\n",
    "    def generate_info_from_MAP(self):\n",
    "        self.all_junctions = self.get_elements(\"junction\")\n",
    "        self.all_lanes = self.get_elements(\"lane\")\n",
    "        self.all_traffic_control = self.get_elements(\"traffic_control_element\")\n",
    "        self.Lane = {self.map_api.id_as_str(lane.id):lane.element.lane for lane in self.all_lanes}\n",
    "        self.Junction = {self.map_api.id_as_str(junction.id):junction for junction in self.all_junctions}\n",
    "        self.Traffic_Control = {self.map_api.id_as_str(traffic_control.id):traffic_control.element for traffic_control in self.all_traffic_control}\n",
    "        \n",
    "        for junction in self.all_junctions:\n",
    "            self.Junction_Lane[self.map_api.id_as_str(junction.id)] = []\n",
    "\n",
    "            for lane in junction.element.junction.lanes:\n",
    "                self.Junction_Lane[self.map_api.id_as_str(junction.id)].append(self.map_api.id_as_str(lane))\n",
    "\n",
    "            self.Junction_Lane[self.map_api.id_as_str(junction.id)] = set(self.Junction_Lane[self.map_api.id_as_str(junction.id)])\n",
    "        \n",
    "        self.junction_scene = dict.fromkeys(list(self.Junction.keys()), [])\n",
    "        self.junction_turning_scene = dict.fromkeys(list(self.Junction.keys()), {})\n",
    "        for key in self.Junction.keys():\n",
    "            self.junction_turning_scene[key] = {'Turning Left': [], 'Turning Right': []}    \n",
    "        \n",
    "        \n",
    "    def label_loc_check(self, target_label):\n",
    "    \n",
    "        agent_id_list = self.agent_list[self.label_dict[target_label]-3]\n",
    "\n",
    "        for agent_id in agent_id_list:\n",
    "            agent_loc = self.agent_centroid[np.where(self.agent_id==agent_id)[0]]\n",
    "            for centroid in agent_loc:\n",
    "                if self.Junction_region.contains(Point(centroid[0],centroid[1])):\n",
    "                    return True\n",
    "    \n",
    "    def junction_lane_visualize(self, junction_id):\n",
    "        \n",
    "        plt.figure(figsize=(18,18))\n",
    "        \n",
    "        lane_list = self.Junction_Lane[junction_id]\n",
    "        \n",
    "        for lane in lane_list:\n",
    "            plt.plot(self.map_api.get_lane_coords(lane)['xyz_left'][:,0].tolist()+ self.map_api.get_lane_coords(lane)['xyz_right'][:,0].tolist(),\n",
    "                        self.map_api.get_lane_coords(lane)['xyz_left'][:,1].tolist()+ self.map_api.get_lane_coords(lane)['xyz_right'][:,1].tolist(),\n",
    "                        marker='x', label = lane)\n",
    "\n",
    "        plt.axis(\"equal\")\n",
    "        plt.grid(which='both')\n",
    "        plt.legend(fontsize=20)\n",
    "        axes = plt.gca()  \n",
    "    \n",
    "                \n",
    "    def agent_trajectory(self, scene, target_label, junction):\n",
    "\n",
    "        self.scene = scene\n",
    "        self.target_label = target_label\n",
    "        self.junction = junction\n",
    "        # region for junction \"sGK1\"\n",
    "#         junction_boundary = {junction:[(300,-1150),[300,-1100],(340,-1100),(340,-1150)]}\n",
    "\n",
    "        # region for junction \"8KfB\"\n",
    "        junction_boundary = {junction:[(500,-2420),(500,-2360),(560,-2360),(560,-2420)]}\n",
    "        \n",
    "        # region for lane merge\n",
    "#         junction_boundary = {junction:[(-940,1380),(-940,1480),(-880,1380),(-880,1480)]}\n",
    "\n",
    "        self.Junction_region = Polygon(junction_boundary[junction])\n",
    "\n",
    "        self.agent_list = []\n",
    "        frame_interval = self.dataset.scenes[scene]['frame_index_interval']\n",
    "        agent_interval_begin = self.dataset.frames[frame_interval[0]]['agent_index_interval'][0]\n",
    "        agent_interval_end = self.dataset.frames[frame_interval[1]-1]['agent_index_interval'][1]\n",
    "        self.agent_id = self.dataset.agents[agent_interval_begin:agent_interval_end]['track_id']\n",
    "        agent_label_prob = self.dataset.agents[agent_interval_begin:agent_interval_end]['label_probabilities']\n",
    "        self.agent_centroid = self.dataset.agents[agent_interval_begin:agent_interval_end]['centroid']\n",
    "\n",
    "        for label in self.label_idx:\n",
    "            valid_idx = np.where(agent_label_prob[:,label]>0.5)[0]\n",
    "            valid_id = set(self.agent_id[valid_idx])\n",
    "            self.agent_list.append(list(valid_id))\n",
    "\n",
    "        if len(self.agent_list[self.label_dict[target_label]-3])>0 and self.label_loc_check(target_label):\n",
    "            return [scene]\n",
    "        else:\n",
    "            # print('Not feasible scene')\n",
    "            return []\n",
    "            \n",
    "            \n",
    "            \n",
    "    def trajectory_junction_visualize(self, scene, target_label, junction):\n",
    "        \n",
    "        frame_interval = self.dataset.scenes[scene]['frame_index_interval']\n",
    "        \n",
    "        plt.figure(figsize=(18,18))\n",
    "#         lane_list = ['/24B','nXc0','TG2b',\"zHjP\",\"SxVb\",\"bH1o\",\"MV/U\",\"ZnUV\",\"FV1O\",\"dddQ\",\"TZZv\",\"6p63\",'vC8o','SD8o']\n",
    "        \n",
    "        lane_list = ['ADrl',\"oFEC\",'m0JU','iQgg','M5V5','/Pgg','FFEC','XHTU']\n",
    "\n",
    "\n",
    "        for lane in lane_list:\n",
    "            plt.plot(self.map_api.get_lane_coords(lane)['xyz_right'][:,0], self.map_api.get_lane_coords(lane)['xyz_right'][:,1],\n",
    "                     color='k',linewidth=5, alpha=0.2)\n",
    "            plt.plot(self.map_api.get_lane_coords(lane)['xyz_left'][:,0], self.map_api.get_lane_coords(lane)['xyz_left'][:,1],\n",
    "                     color='k',linewidth=5, alpha=0.2)\n",
    "\n",
    "        cmap = plt.get_cmap('gnuplot')    \n",
    "        colors = ['#1f77b4', '#ff7f0e', '#2ca02c', '#d62728', '#9467bd',\n",
    "         '#8c564b', '#e377c2', '#7f7f7f', '#bcbd22', '#17becf','maple','yellowgreen'] \n",
    "\n",
    "        for idx, agent_label in enumerate(self.agent_list):\n",
    "            for agent in agent_label:\n",
    "                agent_loc = self.agent_centroid[np.where(self.agent_id==agent)[0]]\n",
    "                if idx != self.label_dict[target_label]-3 and agent_loc.shape[0] > 30  and np.linalg.norm(agent_loc[0,:]-agent_loc[-1,:]) > 5:\n",
    "                    plt.plot(agent_loc[:,0],agent_loc[:,1],label='Agent ID '+str(agent)+': '+self.label_name[idx], color=colors[idx])\n",
    "\n",
    "                elif idx== self.label_dict[target_label]-3:\n",
    "                    plt.plot(agent_loc[:,0],agent_loc[:,1], color=colors[idx], marker='*')\n",
    "\n",
    "        ego_translation = self.frames[frame_interval[0]:frame_interval[1]]['ego_translation']\n",
    "        plt.plot(ego_translation[:,0],ego_translation[:,1],label='Ego',color='r')\n",
    "        turn = ' Left Turn' if rotation33_as_yaw(self.frames[frame_interval[0]]['ego_rotation']) - rotation33_as_yaw(self.frames[frame_interval[1]-1]['ego_rotation']) < 0 else ' Right Turn'\n",
    "\n",
    "        plt.axis(\"equal\")\n",
    "        plt.grid(which='both')\n",
    "        plt.legend(fontsize=20,loc='best')\n",
    "        plt.title('Trajectory : Scene '+str(scene)+turn+' at Junction '+junction, fontsize=30)\n",
    "        axes = plt.gca()"
   ]
  },
  {
   "cell_type": "code",
   "execution_count": 414,
   "id": "communist-reproduction",
   "metadata": {},
   "outputs": [],
   "source": [
    "Test = Trajectory(zarr_dataset, Map_Api)\n",
    "Test.generate_info_from_MAP()"
   ]
  },
  {
   "cell_type": "code",
   "execution_count": 401,
   "id": "labeled-duncan",
   "metadata": {},
   "outputs": [
    {
     "name": "stderr",
     "output_type": "stream",
     "text": [
      "100%|██████████████████████████████████████████████████████████████████████████████████████████████| 16265/16265 [01:22<00:00, 197.34it/s]\n"
     ]
    }
   ],
   "source": [
    "polygon = Polygon([(500,-2420),(500,-2360),(560,-2360),(560,-2420)])\n",
    "scene_list = []\n",
    "\n",
    "for scene in tqdm(range(len(zarr_dataset.scenes))):\n",
    "    \n",
    "    frame_start = zarr_dataset.scenes[scene]['frame_index_interval'][0]\n",
    "    frame_end = zarr_dataset.scenes[scene]['frame_index_interval'][1]-1\n",
    "    \n",
    "    yaw_start = rotation33_as_yaw(zarr_dataset.frames[frame_start]['ego_rotation'])\n",
    "    yaw_end = rotation33_as_yaw(zarr_dataset.frames[frame_end]['ego_rotation'])\n",
    "    \n",
    "    point_start = Point(zarr_dataset.frames[frame_start]['ego_translation'][0], zarr_dataset.frames[frame_start]['ego_translation'][1])\n",
    "    point_end = Point(zarr_dataset.frames[frame_end]['ego_translation'][0], zarr_dataset.frames[frame_end]['ego_translation'][1])\n",
    "    \n",
    "    if polygon.contains(point_start)or polygon.contains(point_end):\n",
    "        if abs(yaw_start-1.8465288407380713) <0.3 or abs(yaw_end+1.2950638127619287)<0.3:\n",
    "            scene_list.append(scene)"
   ]
  },
  {
   "cell_type": "code",
   "execution_count": 420,
   "id": "together-metro",
   "metadata": {},
   "outputs": [
    {
     "data": {
      "image/png": "[encoded data removed]",
      "text/plain": [
       "<Figure size 1296x1296 with 1 Axes>"
      ]
     },
     "metadata": {
      "needs_background": "light"
     },
     "output_type": "display_data"
    }
   ],
   "source": [
    "plt.figure(figsize=(18,18))\n",
    "plt.scatter(Test.frames[\"ego_translation\"][:,0], Test.frames[\"ego_translation\"][:,1], marker='.')\n",
    "plt.scatter(Test.frames[\"ego_translation\"][Test.tunring_frames,0], Test.frames[\"ego_translation\"][Test.tunring_frames,1], marker='.', color='r')\n",
    "plt.axis(\"equal\")\n",
    "plt.grid(which='both')\n",
    "plt.vlines(500, -2420, -2360)\n",
    "plt.vlines(560, -2420, -2360)\n",
    "plt.vlines(600, -500, -580)\n",
    "plt.vlines(670, -500, -580)\n",
    "# plt.vlines(-1000, 1300, 1380)\n",
    "# plt.vlines(-930, 1300, 1380)\n",
    "plt.vlines(-940, 1380, 1480, label = '8KfB',color='k',linewidth=5)\n",
    "plt.vlines(-880, 1380, 1480,color='k',linewidth=5)\n",
    "plt.legend(fontsize=20)\n",
    "axes = plt.gca()"
   ]
  },
  {
   "cell_type": "code",
   "execution_count": 417,
   "id": "close-least",
   "metadata": {},
   "outputs": [
    {
     "data": {
      "image/png": "[encoded data removed]",
      "text/plain": [
       "<PIL.Image.Image image mode=RGB size=300x300 at 0x240D1F9D688>"
      ]
     },
     "metadata": {},
     "output_type": "display_data"
    }
   ],
   "source": [
    "Test.scene_visualize(15646, ego_dataset, cfg)"
   ]
  },
  {
   "cell_type": "code",
   "execution_count": 415,
   "id": "auburn-plaza",
   "metadata": {
    "collapsed": true
   },
   "outputs": [
    {
     "name": "stderr",
     "output_type": "stream",
     "text": [
      "100%|███████████████████████████████████████████████████████████████████████████████████████████████████| 201/201 [00:08<00:00, 23.94it/s]\n"
     ]
    },
    {
     "data": {
      "text/plain": [
       "[82,\n",
       " 347,\n",
       " 380,\n",
       " 924,\n",
       " 978,\n",
       " 1041,\n",
       " 1274,\n",
       " 1571,\n",
       " 1656,\n",
       " 1861,\n",
       " 2024,\n",
       " 2046,\n",
       " 2097,\n",
       " 2148,\n",
       " 2208,\n",
       " 2209,\n",
       " 2387,\n",
       " 2582,\n",
       " 2725,\n",
       " 2838,\n",
       " 3080,\n",
       " 3134,\n",
       " 3193,\n",
       " 3435,\n",
       " 3470,\n",
       " 3518,\n",
       " 3608,\n",
       " 3609,\n",
       " 3657,\n",
       " 3658,\n",
       " 3716,\n",
       " 3774,\n",
       " 3775,\n",
       " 3873,\n",
       " 4990,\n",
       " 5021,\n",
       " 5022,\n",
       " 5081,\n",
       " 5082,\n",
       " 5366,\n",
       " 5367,\n",
       " 5423,\n",
       " 5532,\n",
       " 5582,\n",
       " 5781,\n",
       " 5844,\n",
       " 5900,\n",
       " 5958,\n",
       " 6014,\n",
       " 6095,\n",
       " 6328,\n",
       " 6409,\n",
       " 6472,\n",
       " 6730,\n",
       " 6731,\n",
       " 7032,\n",
       " 7033,\n",
       " 7092,\n",
       " 7154,\n",
       " 7192,\n",
       " 7244,\n",
       " 7356,\n",
       " 7411,\n",
       " 7463,\n",
       " 7485,\n",
       " 7539,\n",
       " 7639,\n",
       " 7641,\n",
       " 7828,\n",
       " 7920,\n",
       " 7980,\n",
       " 8071,\n",
       " 8121,\n",
       " 8170,\n",
       " 8328,\n",
       " 8434,\n",
       " 8486,\n",
       " 8538,\n",
       " 8952,\n",
       " 9006,\n",
       " 9063,\n",
       " 9115,\n",
       " 9211,\n",
       " 9250,\n",
       " 9351,\n",
       " 10106,\n",
       " 10292,\n",
       " 10446,\n",
       " 10949,\n",
       " 11177,\n",
       " 11233,\n",
       " 11462,\n",
       " 11593,\n",
       " 11639,\n",
       " 11691,\n",
       " 11859,\n",
       " 11971,\n",
       " 12034,\n",
       " 12160,\n",
       " 12284,\n",
       " 12606,\n",
       " 12926,\n",
       " 12980,\n",
       " 13043,\n",
       " 13066,\n",
       " 13390,\n",
       " 13448,\n",
       " 13449,\n",
       " 13544,\n",
       " 13597,\n",
       " 13712,\n",
       " 13811,\n",
       " 13812,\n",
       " 13916,\n",
       " 13965,\n",
       " 14013,\n",
       " 14168,\n",
       " 14221,\n",
       " 14275,\n",
       " 14371,\n",
       " 14423,\n",
       " 14670,\n",
       " 14726,\n",
       " 14776,\n",
       " 14823,\n",
       " 14881,\n",
       " 14934,\n",
       " 15023,\n",
       " 15073,\n",
       " 15198,\n",
       " 15246,\n",
       " 15291,\n",
       " 15449,\n",
       " 15497,\n",
       " 15599,\n",
       " 15600,\n",
       " 15646,\n",
       " 15647,\n",
       " 15877,\n",
       " 15956,\n",
       " 15957,\n",
       " 16213]"
      ]
     },
     "execution_count": 415,
     "metadata": {},
     "output_type": "execute_result"
    }
   ],
   "source": [
    "scene_pedestrian = []\n",
    "\n",
    "for scene in tqdm(scene_list):\n",
    "    scene_pedestrian += Test.agent_trajectory(scene, 'Pedestrian', '8KfB')\n",
    "    \n",
    "scene_pedestrian"
   ]
  },
  {
   "cell_type": "code",
   "execution_count": 316,
   "id": "beginning-circumstances",
   "metadata": {
    "collapsed": true
   },
   "outputs": [
    {
     "data": {
      "image/png": "[encoded data removed]",
      "text/plain": [
       "<PIL.Image.Image image mode=RGB size=300x300 at 0x240BD145B48>"
      ]
     },
     "metadata": {},
     "output_type": "display_data"
    },
    {
     "ename": "KeyboardInterrupt",
     "evalue": "",
     "output_type": "error",
     "traceback": [
      "\u001b[1;31m---------------------------------------------------------------------------\u001b[0m",
      "\u001b[1;31mKeyboardInterrupt\u001b[0m                         Traceback (most recent call last)",
      "\u001b[1;32m<ipython-input-316-58a2722bd56b>\u001b[0m in \u001b[0;36m<module>\u001b[1;34m\u001b[0m\n\u001b[0;32m      4\u001b[0m \u001b[0mstart\u001b[0m \u001b[1;33m=\u001b[0m \u001b[0mtime\u001b[0m\u001b[1;33m.\u001b[0m\u001b[0mtime\u001b[0m\u001b[1;33m(\u001b[0m\u001b[1;33m)\u001b[0m\u001b[1;33m\u001b[0m\u001b[1;33m\u001b[0m\u001b[0m\n\u001b[0;32m      5\u001b[0m \u001b[1;32mfor\u001b[0m \u001b[0midx\u001b[0m\u001b[1;33m,\u001b[0m \u001b[0mvalid_scene\u001b[0m \u001b[1;32min\u001b[0m \u001b[0menumerate\u001b[0m\u001b[1;33m(\u001b[0m\u001b[0mscene_pedestrian\u001b[0m\u001b[1;33m)\u001b[0m\u001b[1;33m:\u001b[0m\u001b[1;33m\u001b[0m\u001b[1;33m\u001b[0m\u001b[0m\n\u001b[1;32m----> 6\u001b[1;33m     \u001b[0mTest\u001b[0m\u001b[1;33m.\u001b[0m\u001b[0mscene_visualize\u001b[0m\u001b[1;33m(\u001b[0m\u001b[0mvalid_scene\u001b[0m\u001b[1;33m,\u001b[0m\u001b[0mego_dataset\u001b[0m\u001b[1;33m,\u001b[0m\u001b[0mcfg\u001b[0m\u001b[1;33m)\u001b[0m\u001b[1;33m\u001b[0m\u001b[1;33m\u001b[0m\u001b[0m\n\u001b[0m\u001b[0;32m      7\u001b[0m     \u001b[0mprint\u001b[0m\u001b[1;33m(\u001b[0m\u001b[1;34m'Current scene is '\u001b[0m\u001b[1;33m,\u001b[0m\u001b[0midx\u001b[0m\u001b[1;33m)\u001b[0m\u001b[1;33m\u001b[0m\u001b[1;33m\u001b[0m\u001b[0m\n\u001b[0;32m      8\u001b[0m     \u001b[0mtime\u001b[0m\u001b[1;33m.\u001b[0m\u001b[0msleep\u001b[0m\u001b[1;33m(\u001b[0m\u001b[1;36m1\u001b[0m\u001b[1;33m)\u001b[0m\u001b[1;33m\u001b[0m\u001b[1;33m\u001b[0m\u001b[0m\n",
      "\u001b[1;32mD:\\GitHub\\Clone\\planning\\ruixuan\\turning_scene.py\u001b[0m in \u001b[0;36mscene_visualize\u001b[1;34m(self, scene_idx, ego_dataset, cfg)\u001b[0m\n\u001b[0;32m    118\u001b[0m         \u001b[1;32mfor\u001b[0m \u001b[0midx\u001b[0m \u001b[1;32min\u001b[0m \u001b[0mindexes\u001b[0m\u001b[1;33m:\u001b[0m\u001b[1;33m\u001b[0m\u001b[1;33m\u001b[0m\u001b[0m\n\u001b[0;32m    119\u001b[0m \u001b[1;33m\u001b[0m\u001b[0m\n\u001b[1;32m--> 120\u001b[1;33m             \u001b[0mdata\u001b[0m \u001b[1;33m=\u001b[0m \u001b[0mego_dataset\u001b[0m\u001b[1;33m[\u001b[0m\u001b[0midx\u001b[0m\u001b[1;33m]\u001b[0m\u001b[1;33m\u001b[0m\u001b[1;33m\u001b[0m\u001b[0m\n\u001b[0m\u001b[0;32m    121\u001b[0m             \u001b[0mim\u001b[0m \u001b[1;33m=\u001b[0m \u001b[0mdata\u001b[0m\u001b[1;33m[\u001b[0m\u001b[1;34m\"image\"\u001b[0m\u001b[1;33m]\u001b[0m\u001b[1;33m.\u001b[0m\u001b[0mtranspose\u001b[0m\u001b[1;33m(\u001b[0m\u001b[1;36m1\u001b[0m\u001b[1;33m,\u001b[0m \u001b[1;36m2\u001b[0m\u001b[1;33m,\u001b[0m \u001b[1;36m0\u001b[0m\u001b[1;33m)\u001b[0m\u001b[1;33m\u001b[0m\u001b[1;33m\u001b[0m\u001b[0m\n\u001b[0;32m    122\u001b[0m             \u001b[0mim\u001b[0m \u001b[1;33m=\u001b[0m \u001b[0mego_dataset\u001b[0m\u001b[1;33m.\u001b[0m\u001b[0mrasterizer\u001b[0m\u001b[1;33m.\u001b[0m\u001b[0mto_rgb\u001b[0m\u001b[1;33m(\u001b[0m\u001b[0mim\u001b[0m\u001b[1;33m)\u001b[0m\u001b[1;33m\u001b[0m\u001b[1;33m\u001b[0m\u001b[0m\n",
      "\u001b[1;32mD:\\Anaconda\\lib\\site-packages\\l5kit\\dataset\\ego.py\u001b[0m in \u001b[0;36m__getitem__\u001b[1;34m(self, index)\u001b[0m\n\u001b[0;32m    136\u001b[0m         \u001b[1;32melse\u001b[0m\u001b[1;33m:\u001b[0m\u001b[1;33m\u001b[0m\u001b[1;33m\u001b[0m\u001b[0m\n\u001b[0;32m    137\u001b[0m             \u001b[0mstate_index\u001b[0m \u001b[1;33m=\u001b[0m \u001b[0mindex\u001b[0m \u001b[1;33m-\u001b[0m \u001b[0mself\u001b[0m\u001b[1;33m.\u001b[0m\u001b[0mcumulative_sizes\u001b[0m\u001b[1;33m[\u001b[0m\u001b[0mscene_index\u001b[0m \u001b[1;33m-\u001b[0m \u001b[1;36m1\u001b[0m\u001b[1;33m]\u001b[0m\u001b[1;33m\u001b[0m\u001b[1;33m\u001b[0m\u001b[0m\n\u001b[1;32m--> 138\u001b[1;33m         \u001b[1;32mreturn\u001b[0m \u001b[0mself\u001b[0m\u001b[1;33m.\u001b[0m\u001b[0mget_frame\u001b[0m\u001b[1;33m(\u001b[0m\u001b[0mscene_index\u001b[0m\u001b[1;33m,\u001b[0m \u001b[0mstate_index\u001b[0m\u001b[1;33m)\u001b[0m\u001b[1;33m\u001b[0m\u001b[1;33m\u001b[0m\u001b[0m\n\u001b[0m\u001b[0;32m    139\u001b[0m \u001b[1;33m\u001b[0m\u001b[0m\n\u001b[0;32m    140\u001b[0m     \u001b[1;32mdef\u001b[0m \u001b[0mget_scene_dataset\u001b[0m\u001b[1;33m(\u001b[0m\u001b[0mself\u001b[0m\u001b[1;33m,\u001b[0m \u001b[0mscene_index\u001b[0m\u001b[1;33m:\u001b[0m \u001b[0mint\u001b[0m\u001b[1;33m)\u001b[0m \u001b[1;33m->\u001b[0m \u001b[1;34m\"EgoDataset\"\u001b[0m\u001b[1;33m:\u001b[0m\u001b[1;33m\u001b[0m\u001b[1;33m\u001b[0m\u001b[0m\n",
      "\u001b[1;32mD:\\Anaconda\\lib\\site-packages\\l5kit\\dataset\\ego.py\u001b[0m in \u001b[0;36mget_frame\u001b[1;34m(self, scene_index, state_index, track_id)\u001b[0m\n\u001b[0;32m     98\u001b[0m                 \u001b[0mstacklevel\u001b[0m\u001b[1;33m=\u001b[0m\u001b[1;36m2\u001b[0m\u001b[1;33m,\u001b[0m\u001b[1;33m\u001b[0m\u001b[1;33m\u001b[0m\u001b[0m\n\u001b[0;32m     99\u001b[0m             )\n\u001b[1;32m--> 100\u001b[1;33m         \u001b[0mdata\u001b[0m \u001b[1;33m=\u001b[0m \u001b[0mself\u001b[0m\u001b[1;33m.\u001b[0m\u001b[0msample_function\u001b[0m\u001b[1;33m(\u001b[0m\u001b[0mstate_index\u001b[0m\u001b[1;33m,\u001b[0m \u001b[0mframes\u001b[0m\u001b[1;33m,\u001b[0m \u001b[0mself\u001b[0m\u001b[1;33m.\u001b[0m\u001b[0mdataset\u001b[0m\u001b[1;33m.\u001b[0m\u001b[0magents\u001b[0m\u001b[1;33m,\u001b[0m \u001b[0mtl_faces\u001b[0m\u001b[1;33m,\u001b[0m \u001b[0mtrack_id\u001b[0m\u001b[1;33m)\u001b[0m\u001b[1;33m\u001b[0m\u001b[1;33m\u001b[0m\u001b[0m\n\u001b[0m\u001b[0;32m    101\u001b[0m \u001b[1;33m\u001b[0m\u001b[0m\n\u001b[0;32m    102\u001b[0m         \u001b[1;31m# add information only, so that all data keys are always preserved\u001b[0m\u001b[1;33m\u001b[0m\u001b[1;33m\u001b[0m\u001b[1;33m\u001b[0m\u001b[0m\n",
      "\u001b[1;32mD:\\Anaconda\\lib\\site-packages\\l5kit\\sampling\\agent_sampling.py\u001b[0m in \u001b[0;36mgenerate_agent_sample\u001b[1;34m(state_index, frames, agents, tl_faces, selected_track_id, render_context, history_num_frames, future_num_frames, step_time, filter_agents_threshold, rasterizer, perturbation)\u001b[0m\n\u001b[0;32m    246\u001b[0m         \u001b[1;32mNone\u001b[0m\u001b[1;33m\u001b[0m\u001b[1;33m\u001b[0m\u001b[0m\n\u001b[0;32m    247\u001b[0m         \u001b[1;32mif\u001b[0m \u001b[1;32mnot\u001b[0m \u001b[0mrasterizer\u001b[0m\u001b[1;33m\u001b[0m\u001b[1;33m\u001b[0m\u001b[0m\n\u001b[1;32m--> 248\u001b[1;33m         \u001b[1;32melse\u001b[0m \u001b[0mrasterizer\u001b[0m\u001b[1;33m.\u001b[0m\u001b[0mrasterize\u001b[0m\u001b[1;33m(\u001b[0m\u001b[0mhistory_frames\u001b[0m\u001b[1;33m,\u001b[0m \u001b[0mhistory_agents\u001b[0m\u001b[1;33m,\u001b[0m \u001b[0mhistory_tl_faces\u001b[0m\u001b[1;33m,\u001b[0m \u001b[0mselected_agent\u001b[0m\u001b[1;33m)\u001b[0m\u001b[1;33m\u001b[0m\u001b[1;33m\u001b[0m\u001b[0m\n\u001b[0m\u001b[0;32m    249\u001b[0m     )\n\u001b[0;32m    250\u001b[0m \u001b[1;33m\u001b[0m\u001b[0m\n",
      "\u001b[1;32mD:\\Anaconda\\lib\\site-packages\\l5kit\\rasterization\\sem_box_rasterizer.py\u001b[0m in \u001b[0;36mrasterize\u001b[1;34m(self, history_frames, history_agents, history_tl_faces, agent)\u001b[0m\n\u001b[0;32m     40\u001b[0m     ) -> np.ndarray:\n\u001b[0;32m     41\u001b[0m         \u001b[0mim_out_box\u001b[0m \u001b[1;33m=\u001b[0m \u001b[0mself\u001b[0m\u001b[1;33m.\u001b[0m\u001b[0mbox_rast\u001b[0m\u001b[1;33m.\u001b[0m\u001b[0mrasterize\u001b[0m\u001b[1;33m(\u001b[0m\u001b[0mhistory_frames\u001b[0m\u001b[1;33m,\u001b[0m \u001b[0mhistory_agents\u001b[0m\u001b[1;33m,\u001b[0m \u001b[0mhistory_tl_faces\u001b[0m\u001b[1;33m,\u001b[0m \u001b[0magent\u001b[0m\u001b[1;33m)\u001b[0m\u001b[1;33m\u001b[0m\u001b[1;33m\u001b[0m\u001b[0m\n\u001b[1;32m---> 42\u001b[1;33m         \u001b[0mim_out_sem\u001b[0m \u001b[1;33m=\u001b[0m \u001b[0mself\u001b[0m\u001b[1;33m.\u001b[0m\u001b[0msem_rast\u001b[0m\u001b[1;33m.\u001b[0m\u001b[0mrasterize\u001b[0m\u001b[1;33m(\u001b[0m\u001b[0mhistory_frames\u001b[0m\u001b[1;33m,\u001b[0m \u001b[0mhistory_agents\u001b[0m\u001b[1;33m,\u001b[0m \u001b[0mhistory_tl_faces\u001b[0m\u001b[1;33m,\u001b[0m \u001b[0magent\u001b[0m\u001b[1;33m)\u001b[0m\u001b[1;33m\u001b[0m\u001b[1;33m\u001b[0m\u001b[0m\n\u001b[0m\u001b[0;32m     43\u001b[0m         \u001b[1;32mreturn\u001b[0m \u001b[0mnp\u001b[0m\u001b[1;33m.\u001b[0m\u001b[0mconcatenate\u001b[0m\u001b[1;33m(\u001b[0m\u001b[1;33m[\u001b[0m\u001b[0mim_out_box\u001b[0m\u001b[1;33m,\u001b[0m \u001b[0mim_out_sem\u001b[0m\u001b[1;33m]\u001b[0m\u001b[1;33m,\u001b[0m \u001b[1;33m-\u001b[0m\u001b[1;36m1\u001b[0m\u001b[1;33m)\u001b[0m\u001b[1;33m\u001b[0m\u001b[1;33m\u001b[0m\u001b[0m\n\u001b[0;32m     44\u001b[0m \u001b[1;33m\u001b[0m\u001b[0m\n",
      "\u001b[1;32mD:\\Anaconda\\lib\\site-packages\\l5kit\\rasterization\\semantic_rasterizer.py\u001b[0m in \u001b[0;36mrasterize\u001b[1;34m(self, history_frames, history_agents, history_tl_faces, agent)\u001b[0m\n\u001b[0;32m    110\u001b[0m         \u001b[0mcenter_in_world_m\u001b[0m \u001b[1;33m=\u001b[0m \u001b[0mtransform_point\u001b[0m\u001b[1;33m(\u001b[0m\u001b[0mcenter_in_raster_px\u001b[0m\u001b[1;33m,\u001b[0m \u001b[0mworld_from_raster\u001b[0m\u001b[1;33m)\u001b[0m\u001b[1;33m\u001b[0m\u001b[1;33m\u001b[0m\u001b[0m\n\u001b[0;32m    111\u001b[0m \u001b[1;33m\u001b[0m\u001b[0m\n\u001b[1;32m--> 112\u001b[1;33m         \u001b[0msem_im\u001b[0m \u001b[1;33m=\u001b[0m \u001b[0mself\u001b[0m\u001b[1;33m.\u001b[0m\u001b[0mrender_semantic_map\u001b[0m\u001b[1;33m(\u001b[0m\u001b[0mcenter_in_world_m\u001b[0m\u001b[1;33m,\u001b[0m \u001b[0mraster_from_world\u001b[0m\u001b[1;33m,\u001b[0m \u001b[0mhistory_tl_faces\u001b[0m\u001b[1;33m[\u001b[0m\u001b[1;36m0\u001b[0m\u001b[1;33m]\u001b[0m\u001b[1;33m)\u001b[0m\u001b[1;33m\u001b[0m\u001b[1;33m\u001b[0m\u001b[0m\n\u001b[0m\u001b[0;32m    113\u001b[0m         \u001b[1;32mreturn\u001b[0m \u001b[0msem_im\u001b[0m\u001b[1;33m.\u001b[0m\u001b[0mastype\u001b[0m\u001b[1;33m(\u001b[0m\u001b[0mnp\u001b[0m\u001b[1;33m.\u001b[0m\u001b[0mfloat32\u001b[0m\u001b[1;33m)\u001b[0m \u001b[1;33m/\u001b[0m \u001b[1;36m255\u001b[0m\u001b[1;33m\u001b[0m\u001b[1;33m\u001b[0m\u001b[0m\n\u001b[0;32m    114\u001b[0m \u001b[1;33m\u001b[0m\u001b[0m\n",
      "\u001b[1;32mD:\\Anaconda\\lib\\site-packages\\l5kit\\rasterization\\semantic_rasterizer.py\u001b[0m in \u001b[0;36mrender_semantic_map\u001b[1;34m(self, center_in_world, raster_from_world, tl_faces)\u001b[0m\n\u001b[0;32m    166\u001b[0m             \u001b[0mlanes_area\u001b[0m \u001b[1;33m=\u001b[0m \u001b[0mlanes_area\u001b[0m\u001b[1;33m.\u001b[0m\u001b[0mreshape\u001b[0m\u001b[1;33m(\u001b[0m\u001b[1;33m(\u001b[0m\u001b[1;33m-\u001b[0m\u001b[1;36m1\u001b[0m\u001b[1;33m,\u001b[0m \u001b[0mINTERPOLATION_POINTS\u001b[0m\u001b[1;33m,\u001b[0m \u001b[1;36m2\u001b[0m\u001b[1;33m)\u001b[0m\u001b[1;33m)\u001b[0m\u001b[1;33m\u001b[0m\u001b[1;33m\u001b[0m\u001b[0m\n\u001b[0;32m    167\u001b[0m             \u001b[1;32mfor\u001b[0m \u001b[0mname\u001b[0m\u001b[1;33m,\u001b[0m \u001b[0mmask\u001b[0m \u001b[1;32min\u001b[0m \u001b[0mlanes_mask\u001b[0m\u001b[1;33m.\u001b[0m\u001b[0mitems\u001b[0m\u001b[1;33m(\u001b[0m\u001b[1;33m)\u001b[0m\u001b[1;33m:\u001b[0m  \u001b[1;31m# draw each type of lane with its own color\u001b[0m\u001b[1;33m\u001b[0m\u001b[1;33m\u001b[0m\u001b[0m\n\u001b[1;32m--> 168\u001b[1;33m                 \u001b[0mcv2\u001b[0m\u001b[1;33m.\u001b[0m\u001b[0mpolylines\u001b[0m\u001b[1;33m(\u001b[0m\u001b[0mimg\u001b[0m\u001b[1;33m,\u001b[0m \u001b[0mlanes_area\u001b[0m\u001b[1;33m[\u001b[0m\u001b[0mmask\u001b[0m\u001b[1;33m]\u001b[0m\u001b[1;33m,\u001b[0m \u001b[1;32mFalse\u001b[0m\u001b[1;33m,\u001b[0m \u001b[0mCOLORS\u001b[0m\u001b[1;33m[\u001b[0m\u001b[0mname\u001b[0m\u001b[1;33m]\u001b[0m\u001b[1;33m,\u001b[0m \u001b[1;33m**\u001b[0m\u001b[0mCV2_SUB_VALUES\u001b[0m\u001b[1;33m)\u001b[0m\u001b[1;33m\u001b[0m\u001b[1;33m\u001b[0m\u001b[0m\n\u001b[0m\u001b[0;32m    169\u001b[0m \u001b[1;33m\u001b[0m\u001b[0m\n\u001b[0;32m    170\u001b[0m         \u001b[1;31m# plot crosswalks\u001b[0m\u001b[1;33m\u001b[0m\u001b[1;33m\u001b[0m\u001b[1;33m\u001b[0m\u001b[0m\n",
      "\u001b[1;31mKeyboardInterrupt\u001b[0m: "
     ]
    }
   ],
   "source": [
    "import time\n",
    "\n",
    "\n",
    "start = time.time()\n",
    "for idx, valid_scene in enumerate(scene_pedestrian):\n",
    "    Test.scene_visualize(valid_scene,ego_dataset,cfg)\n",
    "    print('Current scene is ',idx)\n",
    "    time.sleep(1)\n",
    "    \n",
    "end = time.time()\n",
    "print(end-start)"
   ]
  },
  {
   "cell_type": "code",
   "execution_count": 400,
   "id": "pediatric-presence",
   "metadata": {},
   "outputs": [
    {
     "data": {
      "image/png": "[encoded data removed]",
      "text/plain": [
       "<Figure size 1296x1296 with 1 Axes>"
      ]
     },
     "metadata": {
      "needs_background": "light"
     },
     "output_type": "display_data"
    }
   ],
   "source": [
    "scene = 7946\n",
    "\n",
    "Test.agent_trajectory(scene, 'Pedestrian', 'lane_merge')\n",
    "Test.trajectory_junction_visualize(scene, 'Pedestrian', 'lane_merge')"
   ]
  },
  {
   "cell_type": "code",
   "execution_count": 356,
   "id": "interested-conflict",
   "metadata": {},
   "outputs": [
    {
     "data": {
      "text/plain": [
       "Text(0.5, 1.0, 'Lane Merge')"
      ]
     },
     "execution_count": 356,
     "metadata": {},
     "output_type": "execute_result"
    },
    {
     "data": {
      "image/png": "[encoded data removed]",
      "text/plain": [
       "<Figure size 1296x1296 with 1 Axes>"
      ]
     },
     "metadata": {
      "needs_background": "light"
     },
     "output_type": "display_data"
    }
   ],
   "source": [
    "plt.figure(figsize=(18,18))\n",
    "lane_list = ['ADrl',\"oFEC\",'m0JU','iQgg','M5V5','/Pgg','FFEC','XHTU']\n",
    "\n",
    "\n",
    "\n",
    "for lane in lane_list:\n",
    "    plt.plot(Test.map_api.get_lane_coords(lane)['xyz_right'][:,0], Test.map_api.get_lane_coords(lane)['xyz_right'][:,1],\n",
    "             color='k',linewidth=5,label=lane)\n",
    "    plt.plot(Test.map_api.get_lane_coords(lane)['xyz_left'][:,0], Test.map_api.get_lane_coords(lane)['xyz_left'][:,1],\n",
    "             color='k',linewidth=5)\n",
    "    \n",
    "plt.title('Lane Merge',fontsize=30)"
   ]
  },
  {
   "cell_type": "markdown",
   "id": "revised-break",
   "metadata": {},
   "source": [
    "# Find the scene index which are at the intersection: 'sGK1'"
   ]
  },
  {
   "cell_type": "code",
   "execution_count": null,
   "id": "superior-watershed",
   "metadata": {},
   "outputs": [],
   "source": [
    "scene_pedestrian = []\n",
    "\n",
    "for scene in tqdm(target_junction):\n",
    "    scene_pedestrian += Test.agent_trajectory(scene, 'Pedestrian', 'sGK1', ego_dataset)\n",
    "    \n",
    "scene_pedestrian"
   ]
  },
  {
   "cell_type": "code",
   "execution_count": null,
   "id": "loved-satin",
   "metadata": {},
   "outputs": [],
   "source": [
    "import time\n",
    "\n",
    "\n",
    "start = time.time()\n",
    "for idx, valid_scene in enumerate(scene_pedestrian):\n",
    "    Test.scene_visualize(valid_scene,ego_dataset,cfg)\n",
    "    print('Current scene is ',idx)\n",
    "    time.sleep(1)\n",
    "    \n",
    "end = time.time()\n",
    "print(end-start)"
   ]
  },
  {
   "cell_type": "code",
   "execution_count": null,
   "id": "modified-browser",
   "metadata": {},
   "outputs": [],
   "source": [
    "invalid_scene_idx = [1,2,3,6,10,13,15,16,17,19,33,37,39,40,42,54,55,57,58,66,68,70,71,73,74,85,91,92,96,97,101,103,110,111,113,114,116,118,128,130,134,135,140,141,142,148,151,152,156,161,162,163,167,167,190]"
   ]
  },
  {
   "cell_type": "code",
   "execution_count": null,
   "id": "funky-services",
   "metadata": {},
   "outputs": [],
   "source": [
    "target_scene_index = []\n",
    "nontarget_scene_index = []\n",
    "for index, value in enumerate(scene_pedestrian):\n",
    "    \n",
    "    if index in invalid_scene_idx:\n",
    "        nontarget_scene_index.append(value)\n",
    "    else:\n",
    "        target_scene_index.append(value)"
   ]
  },
  {
   "cell_type": "code",
   "execution_count": null,
   "id": "official-maker",
   "metadata": {},
   "outputs": [],
   "source": [
    "scene_index = np.load(\"D:\\\\GitHub\\\\Clone\\\\planning\\\\ruixuan\\\\target_scene_index\\\\target_scene_index.npy\",allow_pickle=True)"
   ]
  },
  {
   "cell_type": "markdown",
   "id": "lightweight-detail",
   "metadata": {},
   "source": [
    "# Extract the vehicle type agents' trajectories"
   ]
  },
  {
   "cell_type": "code",
   "execution_count": 102,
   "id": "committed-services",
   "metadata": {
    "collapsed": true
   },
   "outputs": [
    {
     "name": "stderr",
     "output_type": "stream",
     "text": [
      "\r",
      "  0%| | 0/"
     ]
    },
    {
     "name": "stdout",
     "output_type": "stream",
     "text": [
      "0\n"
     ]
    },
    {
     "name": "stderr",
     "output_type": "stream",
     "text": [
      "  0%| | 10"
     ]
    },
    {
     "name": "stdout",
     "output_type": "stream",
     "text": [
      "1\n",
      "2\n",
      "3\n",
      "4\n",
      "5\n",
      "6\n",
      "7\n",
      "8\n",
      "9\n",
      "10\n",
      "11\n",
      "12\n",
      "13\n",
      "14\n"
     ]
    },
    {
     "name": "stderr",
     "output_type": "stream",
     "text": [
      "\r",
      "  1%| | 16"
     ]
    },
    {
     "name": "stdout",
     "output_type": "stream",
     "text": [
      "15\n",
      "16\n",
      "17\n",
      "18\n",
      "19\n",
      "20\n"
     ]
    },
    {
     "name": "stderr",
     "output_type": "stream",
     "text": [
      "  1%| | 27"
     ]
    },
    {
     "name": "stdout",
     "output_type": "stream",
     "text": [
      "21\n",
      "22\n",
      "23\n",
      "24\n",
      "25\n",
      "26\n",
      "27\n",
      "28\n",
      "29\n",
      "30\n",
      "31\n"
     ]
    },
    {
     "name": "stderr",
     "output_type": "stream",
     "text": [
      "  1%| | 37"
     ]
    },
    {
     "name": "stdout",
     "output_type": "stream",
     "text": [
      "32\n",
      "33\n",
      "34\n",
      "35\n",
      "36\n",
      "37\n",
      "38"
     ]
    },
    {
     "name": "stderr",
     "output_type": "stream",
     "text": [
      "\r",
      "  2%| | 41"
     ]
    },
    {
     "name": "stdout",
     "output_type": "stream",
     "text": [
      "\n",
      "39\n",
      "40\n",
      "41\n",
      "42\n",
      "43\n",
      "44\n",
      "45\n",
      "46\n",
      "47\n",
      "48\n",
      "49\n",
      "50\n",
      "51\n"
     ]
    },
    {
     "name": "stderr",
     "output_type": "stream",
     "text": [
      "  2%| | 59"
     ]
    },
    {
     "name": "stdout",
     "output_type": "stream",
     "text": [
      "52\n",
      "53\n",
      "54\n",
      "55\n",
      "56\n",
      "57\n",
      "58\n",
      "59\n",
      "60\n",
      "61\n"
     ]
    },
    {
     "name": "stderr",
     "output_type": "stream",
     "text": [
      "\r",
      "  3%| | 65"
     ]
    },
    {
     "name": "stdout",
     "output_type": "stream",
     "text": [
      "62\n",
      "63\n",
      "64\n",
      "65\n",
      "66\n",
      "67\n"
     ]
    },
    {
     "name": "stderr",
     "output_type": "stream",
     "text": [
      "\r",
      "  3%| | 70"
     ]
    },
    {
     "name": "stdout",
     "output_type": "stream",
     "text": [
      "68\n",
      "69\n",
      "70\n",
      "71\n",
      "72\n",
      "73\n",
      "74\n"
     ]
    },
    {
     "name": "stderr",
     "output_type": "stream",
     "text": [
      "  3%| | 85"
     ]
    },
    {
     "name": "stdout",
     "output_type": "stream",
     "text": [
      "75\n",
      "76\n",
      "77\n",
      "78\n",
      "79\n",
      "80\n",
      "81\n",
      "82\n",
      "83\n",
      "84\n",
      "85\n",
      "86\n",
      "87\n",
      "88\n",
      "89\n"
     ]
    },
    {
     "name": "stderr",
     "output_type": "stream",
     "text": [
      "  4%| | 98"
     ]
    },
    {
     "name": "stdout",
     "output_type": "stream",
     "text": [
      "90\n",
      "91\n",
      "92\n",
      "93\n",
      "94\n",
      "95\n",
      "96\n",
      "97\n",
      "98\n",
      "99\n"
     ]
    },
    {
     "name": "stderr",
     "output_type": "stream",
     "text": [
      "\r",
      "  4%| | 10"
     ]
    },
    {
     "name": "stdout",
     "output_type": "stream",
     "text": [
      "100\n",
      "101\n",
      "102\n",
      "103\n",
      "104\n",
      "105\n"
     ]
    },
    {
     "name": "stderr",
     "output_type": "stream",
     "text": [
      "  5%| | 11"
     ]
    },
    {
     "name": "stdout",
     "output_type": "stream",
     "text": [
      "106\n",
      "107\n",
      "108\n",
      "109\n",
      "110\n",
      "111\n",
      "112\n",
      "113\n"
     ]
    },
    {
     "name": "stderr",
     "output_type": "stream",
     "text": [
      "\r",
      "  5%| | 11"
     ]
    },
    {
     "name": "stdout",
     "output_type": "stream",
     "text": [
      "114\n",
      "115\n",
      "116\n",
      "117\n",
      "118\n",
      "119\n",
      "120\n",
      "121\n",
      "122\n"
     ]
    },
    {
     "name": "stderr",
     "output_type": "stream",
     "text": [
      "  5%| | 13"
     ]
    },
    {
     "name": "stdout",
     "output_type": "stream",
     "text": [
      "123\n",
      "124\n",
      "125\n",
      "126\n",
      "127\n",
      "128\n",
      "129\n",
      "130\n",
      "131\n",
      "132\n",
      "133\n",
      "134\n",
      "135\n",
      "136\n",
      "137\n"
     ]
    },
    {
     "name": "stderr",
     "output_type": "stream",
     "text": [
      "  6%| | 14"
     ]
    },
    {
     "name": "stdout",
     "output_type": "stream",
     "text": [
      "138\n",
      "139\n",
      "140\n",
      "141\n",
      "142\n",
      "143\n",
      "144\n",
      "145\n",
      "146\n",
      "147\n",
      "148\n"
     ]
    },
    {
     "name": "stderr",
     "output_type": "stream",
     "text": [
      "\r",
      "  6%| | 15"
     ]
    },
    {
     "name": "stdout",
     "output_type": "stream",
     "text": [
      "149\n",
      "150\n",
      "151\n",
      "152\n",
      "153\n",
      "154\n",
      "155"
     ]
    },
    {
     "name": "stderr",
     "output_type": "stream",
     "text": [
      "\r",
      "  6%| | 15"
     ]
    },
    {
     "name": "stdout",
     "output_type": "stream",
     "text": [
      "\n",
      "156\n",
      "157\n",
      "158\n",
      "159\n"
     ]
    },
    {
     "name": "stderr",
     "output_type": "stream",
     "text": [
      "\r",
      "  6%| | 16"
     ]
    },
    {
     "name": "stdout",
     "output_type": "stream",
     "text": [
      "160\n",
      "161\n",
      "162\n",
      "163\n",
      "164\n"
     ]
    },
    {
     "name": "stderr",
     "output_type": "stream",
     "text": [
      "  7%| | 16"
     ]
    },
    {
     "name": "stdout",
     "output_type": "stream",
     "text": [
      "165\n",
      "166\n",
      "167\n",
      "168\n",
      "169\n"
     ]
    },
    {
     "name": "stderr",
     "output_type": "stream",
     "text": [
      "\r",
      "  7%| | 17"
     ]
    },
    {
     "name": "stdout",
     "output_type": "stream",
     "text": [
      "170\n",
      "171\n",
      "172\n",
      "173\n",
      "174\n",
      "175\n",
      "176\n",
      "177\n",
      "178\n"
     ]
    },
    {
     "name": "stderr",
     "output_type": "stream",
     "text": [
      "  7%| | 18"
     ]
    },
    {
     "name": "stdout",
     "output_type": "stream",
     "text": [
      "179\n",
      "180\n",
      "181\n",
      "182\n",
      "183\n",
      "184\n",
      "185\n",
      "186\n",
      "187\n",
      "188\n",
      "189\n",
      "190\n",
      "191\n"
     ]
    },
    {
     "name": "stderr",
     "output_type": "stream",
     "text": [
      "  8%| | 19"
     ]
    },
    {
     "name": "stdout",
     "output_type": "stream",
     "text": [
      "192\n",
      "193\n",
      "194\n",
      "195\n",
      "196\n",
      "197\n",
      "198\n",
      "199\n"
     ]
    },
    {
     "name": "stderr",
     "output_type": "stream",
     "text": [
      "\r",
      "  8%| | 20"
     ]
    },
    {
     "name": "stdout",
     "output_type": "stream",
     "text": [
      "200\n",
      "201\n",
      "202\n",
      "203\n"
     ]
    },
    {
     "name": "stderr",
     "output_type": "stream",
     "text": [
      "  8%| | 21"
     ]
    },
    {
     "name": "stdout",
     "output_type": "stream",
     "text": [
      "204\n",
      "205\n",
      "206\n",
      "207\n",
      "208\n",
      "209\n"
     ]
    },
    {
     "name": "stderr",
     "output_type": "stream",
     "text": [
      "\r",
      "  9%| | 21"
     ]
    },
    {
     "name": "stdout",
     "output_type": "stream",
     "text": [
      "210\n",
      "211\n",
      "212\n",
      "213\n",
      "214\n",
      "215\n",
      "216\n"
     ]
    },
    {
     "name": "stderr",
     "output_type": "stream",
     "text": [
      "  9%| | 23"
     ]
    },
    {
     "name": "stdout",
     "output_type": "stream",
     "text": [
      "217\n",
      "218\n",
      "219\n",
      "220\n",
      "221\n",
      "222\n",
      "223\n",
      "224\n",
      "225\n",
      "226\n",
      "227\n",
      "228\n",
      "229\n",
      "230\n",
      "231\n",
      "232\n",
      "233\n"
     ]
    },
    {
     "name": "stderr",
     "output_type": "stream",
     "text": [
      " 10%| | 24"
     ]
    },
    {
     "name": "stdout",
     "output_type": "stream",
     "text": [
      "234\n",
      "235\n",
      "236\n",
      "237\n",
      "238\n",
      "239\n",
      "240\n",
      "241\n",
      "242\n",
      "243\n",
      "244\n",
      "245\n",
      "246\n",
      "247\n",
      "248\n"
     ]
    },
    {
     "name": "stderr",
     "output_type": "stream",
     "text": [
      " 10%| | 25"
     ]
    },
    {
     "name": "stdout",
     "output_type": "stream",
     "text": [
      "249\n",
      "250\n",
      "251\n",
      "252\n",
      "253\n",
      "254\n",
      "255\n"
     ]
    },
    {
     "name": "stderr",
     "output_type": "stream",
     "text": [
      "\r",
      " 10%| | 25"
     ]
    },
    {
     "name": "stdout",
     "output_type": "stream",
     "text": [
      "256\n",
      "257\n",
      "258\n",
      "259\n",
      "260\n"
     ]
    },
    {
     "name": "stderr",
     "output_type": "stream",
     "text": [
      " 11%| | 27"
     ]
    },
    {
     "name": "stdout",
     "output_type": "stream",
     "text": [
      "261\n",
      "262\n",
      "263\n",
      "264\n",
      "265\n",
      "266\n",
      "267\n",
      "268\n",
      "269\n",
      "270\n",
      "271\n",
      "272\n",
      "273\n",
      "274\n",
      "275\n",
      "276\n"
     ]
    },
    {
     "name": "stderr",
     "output_type": "stream",
     "text": [
      " 11%| | 28"
     ]
    },
    {
     "name": "stdout",
     "output_type": "stream",
     "text": [
      "277\n",
      "278\n",
      "279\n",
      "280\n",
      "281\n",
      "282\n",
      "283\n",
      "284\n",
      "285\n",
      "286\n",
      "287\n"
     ]
    },
    {
     "name": "stderr",
     "output_type": "stream",
     "text": [
      "\r",
      " 12%| | 29"
     ]
    },
    {
     "name": "stdout",
     "output_type": "stream",
     "text": [
      "288\n",
      "289\n",
      "290\n",
      "291\n",
      "292\n",
      "293\n"
     ]
    },
    {
     "name": "stderr",
     "output_type": "stream",
     "text": [
      "\r",
      " 12%| | 29"
     ]
    },
    {
     "name": "stdout",
     "output_type": "stream",
     "text": [
      "294\n",
      "295\n",
      "296\n",
      "297\n",
      "298\n",
      "299\n",
      "300\n",
      "301\n"
     ]
    },
    {
     "name": "stderr",
     "output_type": "stream",
     "text": [
      " 12%| | 30"
     ]
    },
    {
     "name": "stdout",
     "output_type": "stream",
     "text": [
      "302\n",
      "303\n",
      "304\n",
      "305\n",
      "306\n",
      "307\n",
      "308\n"
     ]
    },
    {
     "name": "stderr",
     "output_type": "stream",
     "text": [
      "\r",
      " 13%|▏| 31"
     ]
    },
    {
     "name": "stdout",
     "output_type": "stream",
     "text": [
      "309\n",
      "310\n",
      "311\n",
      "312\n",
      "313\n",
      "314\n",
      "315\n",
      "316\n",
      "317\n",
      "318\n",
      "319\n",
      "320\n",
      "321\n",
      "322\n"
     ]
    },
    {
     "name": "stderr",
     "output_type": "stream",
     "text": [
      "\r",
      " 13%|▏| 32"
     ]
    },
    {
     "name": "stdout",
     "output_type": "stream",
     "text": [
      "323\n",
      "324\n",
      "325\n",
      "326\n",
      "327\n",
      "328\n"
     ]
    },
    {
     "name": "stderr",
     "output_type": "stream",
     "text": [
      " 13%|▏| 33"
     ]
    },
    {
     "name": "stdout",
     "output_type": "stream",
     "text": [
      "329\n",
      "330\n",
      "331\n",
      "332\n",
      "333\n",
      "334\n",
      "335\n"
     ]
    },
    {
     "name": "stderr",
     "output_type": "stream",
     "text": [
      " 14%|▏| 34"
     ]
    },
    {
     "name": "stdout",
     "output_type": "stream",
     "text": [
      "336\n",
      "337\n",
      "338\n",
      "339\n",
      "340\n",
      "341\n",
      "342\n",
      "343\n",
      "344\n",
      "345\n",
      "346\n",
      "347\n",
      "348\n"
     ]
    },
    {
     "name": "stderr",
     "output_type": "stream",
     "text": [
      " 14%|▏| 36"
     ]
    },
    {
     "name": "stdout",
     "output_type": "stream",
     "text": [
      "349\n",
      "350\n",
      "351\n",
      "352\n",
      "353\n",
      "354\n",
      "355\n",
      "356\n",
      "357\n",
      "358\n",
      "359\n",
      "360\n",
      "361\n"
     ]
    },
    {
     "name": "stderr",
     "output_type": "stream",
     "text": [
      "\r",
      " 15%|▏| 36"
     ]
    },
    {
     "name": "stdout",
     "output_type": "stream",
     "text": [
      "362\n",
      "363\n",
      "364\n",
      "365\n",
      "366\n",
      "367\n"
     ]
    },
    {
     "name": "stderr",
     "output_type": "stream",
     "text": [
      "\r",
      " 15%|▏| 37"
     ]
    },
    {
     "name": "stdout",
     "output_type": "stream",
     "text": [
      "368\n",
      "369\n",
      "370\n",
      "371\n",
      "372\n",
      "373\n",
      "374\n",
      "375\n",
      "376\n"
     ]
    },
    {
     "name": "stderr",
     "output_type": "stream",
     "text": [
      " 15%|▏| 38"
     ]
    },
    {
     "name": "stdout",
     "output_type": "stream",
     "text": [
      "377\n",
      "378\n",
      "379\n",
      "380\n",
      "381\n",
      "382\n",
      "383\n",
      "384\n",
      "385\n",
      "386\n",
      "387\n"
     ]
    },
    {
     "name": "stderr",
     "output_type": "stream",
     "text": [
      "\r",
      " 16%|▏| 39"
     ]
    },
    {
     "name": "stdout",
     "output_type": "stream",
     "text": [
      "388\n",
      "389\n",
      "390\n",
      "391\n",
      "392\n",
      "393\n",
      "394\n",
      "395\n"
     ]
    },
    {
     "name": "stderr",
     "output_type": "stream",
     "text": [
      " 16%|▏| 40"
     ]
    },
    {
     "name": "stdout",
     "output_type": "stream",
     "text": [
      "396\n",
      "397\n",
      "398\n",
      "399\n",
      "400\n",
      "401\n"
     ]
    },
    {
     "name": "stderr",
     "output_type": "stream",
     "text": [
      "\r",
      " 16%|▏| 40"
     ]
    },
    {
     "name": "stdout",
     "output_type": "stream",
     "text": [
      "402\n",
      "403\n",
      "404\n",
      "405\n",
      "406\n",
      "407\n",
      "408\n"
     ]
    },
    {
     "name": "stderr",
     "output_type": "stream",
     "text": [
      "\r",
      " 16%|▏| 41"
     ]
    },
    {
     "name": "stdout",
     "output_type": "stream",
     "text": [
      "409\n",
      "410\n",
      "411\n"
     ]
    },
    {
     "name": "stderr",
     "output_type": "stream",
     "text": [
      " 17%|▏| 41"
     ]
    },
    {
     "name": "stdout",
     "output_type": "stream",
     "text": [
      "412\n",
      "413\n",
      "414\n",
      "415\n",
      "416\n",
      "417\n",
      "418\n",
      "419\n",
      "420\n"
     ]
    },
    {
     "name": "stderr",
     "output_type": "stream",
     "text": [
      "\r",
      " 17%|▏| 42"
     ]
    },
    {
     "name": "stdout",
     "output_type": "stream",
     "text": [
      "421\n",
      "422\n",
      "423\n",
      "424"
     ]
    },
    {
     "name": "stderr",
     "output_type": "stream",
     "text": [
      "\r",
      " 17%|▏| 42"
     ]
    },
    {
     "name": "stdout",
     "output_type": "stream",
     "text": [
      "\n",
      "425\n",
      "426\n",
      "427\n",
      "428\n"
     ]
    },
    {
     "name": "stderr",
     "output_type": "stream",
     "text": [
      " 17%|▏| 43"
     ]
    },
    {
     "name": "stdout",
     "output_type": "stream",
     "text": [
      "429\n",
      "430\n",
      "431\n",
      "432\n",
      "433\n",
      "434\n"
     ]
    },
    {
     "name": "stderr",
     "output_type": "stream",
     "text": [
      "\r",
      " 18%|▏| 44"
     ]
    },
    {
     "name": "stdout",
     "output_type": "stream",
     "text": [
      "435\n",
      "436\n",
      "437\n",
      "438\n",
      "439\n",
      "440\n",
      "441\n",
      "442\n",
      "443\n",
      "444\n",
      "445\n"
     ]
    },
    {
     "name": "stderr",
     "output_type": "stream",
     "text": [
      " 18%|▏| 45"
     ]
    },
    {
     "name": "stdout",
     "output_type": "stream",
     "text": [
      "446\n",
      "447\n",
      "448\n",
      "449\n",
      "450\n",
      "451\n"
     ]
    },
    {
     "name": "stderr",
     "output_type": "stream",
     "text": [
      " 18%|▏| 45"
     ]
    },
    {
     "name": "stdout",
     "output_type": "stream",
     "text": [
      "452\n",
      "453\n",
      "454\n",
      "455\n",
      "456\n",
      "457\n",
      "458\n",
      "459\n"
     ]
    },
    {
     "name": "stderr",
     "output_type": "stream",
     "text": [
      "\r",
      " 18%|▏| 46"
     ]
    },
    {
     "name": "stdout",
     "output_type": "stream",
     "text": [
      "460\n",
      "461\n",
      "462\n",
      "463\n"
     ]
    },
    {
     "name": "stderr",
     "output_type": "stream",
     "text": [
      " 19%|▏| 46"
     ]
    },
    {
     "name": "stdout",
     "output_type": "stream",
     "text": [
      "464\n",
      "465\n",
      "466\n",
      "467\n",
      "468\n"
     ]
    },
    {
     "name": "stderr",
     "output_type": "stream",
     "text": [
      "\r",
      " 19%|▏| 47"
     ]
    },
    {
     "name": "stdout",
     "output_type": "stream",
     "text": [
      "469\n",
      "470\n",
      "471\n",
      "472\n",
      "473\n",
      "474\n"
     ]
    },
    {
     "name": "stderr",
     "output_type": "stream",
     "text": [
      " 19%|▏| 48"
     ]
    },
    {
     "name": "stdout",
     "output_type": "stream",
     "text": [
      "475\n",
      "476\n",
      "477\n",
      "478\n",
      "479\n",
      "480\n",
      "481\n",
      "482\n",
      "483\n",
      "484\n",
      "485"
     ]
    },
    {
     "name": "stderr",
     "output_type": "stream",
     "text": [
      "\r",
      " 19%|▏| 48"
     ]
    },
    {
     "name": "stdout",
     "output_type": "stream",
     "text": [
      "\n",
      "486\n",
      "487\n",
      "488\n"
     ]
    },
    {
     "name": "stderr",
     "output_type": "stream",
     "text": [
      " 20%|▏| 49"
     ]
    },
    {
     "name": "stdout",
     "output_type": "stream",
     "text": [
      "489\n",
      "490\n",
      "491\n",
      "492\n",
      "493\n",
      "494\n"
     ]
    },
    {
     "name": "stderr",
     "output_type": "stream",
     "text": [
      "\r",
      " 20%|▏| 49"
     ]
    },
    {
     "name": "stdout",
     "output_type": "stream",
     "text": [
      "495\n",
      "496\n",
      "497\n",
      "498\n",
      "499\n"
     ]
    },
    {
     "name": "stderr",
     "output_type": "stream",
     "text": [
      "\r",
      " 20%|▏| 50"
     ]
    },
    {
     "name": "stdout",
     "output_type": "stream",
     "text": [
      "500\n",
      "501\n",
      "502\n",
      "503\n",
      "504\n",
      "505\n",
      "506\n"
     ]
    },
    {
     "name": "stderr",
     "output_type": "stream",
     "text": [
      " 20%|▏| 51"
     ]
    },
    {
     "name": "stdout",
     "output_type": "stream",
     "text": [
      "507\n",
      "508\n",
      "509\n",
      "510\n"
     ]
    },
    {
     "name": "stderr",
     "output_type": "stream",
     "text": [
      "\r",
      " 21%|▏| 51"
     ]
    },
    {
     "name": "stdout",
     "output_type": "stream",
     "text": [
      "511\n",
      "512\n",
      "513\n",
      "514\n",
      "515\n",
      "516\n",
      "517\n",
      "518\n"
     ]
    },
    {
     "name": "stderr",
     "output_type": "stream",
     "text": [
      " 21%|▏| 52"
     ]
    },
    {
     "name": "stdout",
     "output_type": "stream",
     "text": [
      "519\n",
      "520\n",
      "521\n",
      "522\n",
      "523\n",
      "524\n",
      "525\n",
      "526\n",
      "527\n",
      "528\n",
      "529\n",
      "530\n"
     ]
    },
    {
     "name": "stderr",
     "output_type": "stream",
     "text": [
      "\r",
      " 21%|▏| 53"
     ]
    },
    {
     "name": "stdout",
     "output_type": "stream",
     "text": [
      "531\n",
      "532\n",
      "533\n",
      "534\n",
      "535\n"
     ]
    },
    {
     "name": "stderr",
     "output_type": "stream",
     "text": [
      "\r",
      " 21%|▏| 53"
     ]
    },
    {
     "name": "stdout",
     "output_type": "stream",
     "text": [
      "536\n",
      "537\n",
      "538\n",
      "539\n",
      "540\n"
     ]
    },
    {
     "name": "stderr",
     "output_type": "stream",
     "text": [
      " 22%|▏| 54"
     ]
    },
    {
     "name": "stdout",
     "output_type": "stream",
     "text": [
      "541\n",
      "542\n",
      "543\n",
      "544\n",
      "545\n",
      "546\n",
      "547\n"
     ]
    },
    {
     "name": "stderr",
     "output_type": "stream",
     "text": [
      " 22%|▏| 55"
     ]
    },
    {
     "name": "stdout",
     "output_type": "stream",
     "text": [
      "548\n",
      "549\n",
      "550\n",
      "551\n",
      "552\n",
      "553\n",
      "554\n",
      "555\n",
      "556\n",
      "557\n",
      "558\n"
     ]
    },
    {
     "name": "stderr",
     "output_type": "stream",
     "text": [
      " 23%|▏| 56"
     ]
    },
    {
     "name": "stdout",
     "output_type": "stream",
     "text": [
      "559\n",
      "560\n",
      "561\n",
      "562\n",
      "563\n",
      "564\n",
      "565\n",
      "566\n"
     ]
    },
    {
     "name": "stderr",
     "output_type": "stream",
     "text": [
      "\r",
      " 23%|▏| 57"
     ]
    },
    {
     "name": "stdout",
     "output_type": "stream",
     "text": [
      "567\n",
      "568\n",
      "569\n",
      "570\n",
      "571\n"
     ]
    },
    {
     "name": "stderr",
     "output_type": "stream",
     "text": [
      "\r",
      " 23%|▏| 57"
     ]
    },
    {
     "name": "stdout",
     "output_type": "stream",
     "text": [
      "572\n",
      "573\n",
      "574\n",
      "575\n",
      "576\n",
      "577\n",
      "578\n",
      "579\n"
     ]
    },
    {
     "name": "stderr",
     "output_type": "stream",
     "text": [
      " 23%|▏| 58"
     ]
    },
    {
     "name": "stdout",
     "output_type": "stream",
     "text": [
      "580\n",
      "581\n",
      "582\n",
      "583\n",
      "584\n"
     ]
    },
    {
     "name": "stderr",
     "output_type": "stream",
     "text": [
      " 24%|▏| 58"
     ]
    },
    {
     "name": "stdout",
     "output_type": "stream",
     "text": [
      "585\n",
      "586\n",
      "587\n",
      "588\n",
      "589\n",
      "590\n"
     ]
    },
    {
     "name": "stderr",
     "output_type": "stream",
     "text": [
      " 24%|▏| 59"
     ]
    },
    {
     "name": "stdout",
     "output_type": "stream",
     "text": [
      "591\n",
      "592\n",
      "593\n",
      "594\n",
      "595\n",
      "596\n",
      "597\n",
      "598\n",
      "599\n",
      "600\n",
      "601\n"
     ]
    },
    {
     "name": "stderr",
     "output_type": "stream",
     "text": [
      "\r",
      " 24%|▏| 60"
     ]
    },
    {
     "name": "stdout",
     "output_type": "stream",
     "text": [
      "602\n",
      "603\n",
      "604\n",
      "605\n",
      "606\n",
      "607\n"
     ]
    },
    {
     "name": "stderr",
     "output_type": "stream",
     "text": [
      " 24%|▏| 61"
     ]
    },
    {
     "name": "stdout",
     "output_type": "stream",
     "text": [
      "608\n",
      "609\n",
      "610\n",
      "611\n",
      "612\n",
      "613\n",
      "614\n",
      "615\n",
      "616\n"
     ]
    },
    {
     "name": "stderr",
     "output_type": "stream",
     "text": [
      " 25%|▏| 62"
     ]
    },
    {
     "name": "stdout",
     "output_type": "stream",
     "text": [
      "617\n",
      "618\n",
      "619\n",
      "620\n",
      "621\n",
      "622\n"
     ]
    },
    {
     "name": "stderr",
     "output_type": "stream",
     "text": [
      " 25%|▎| 63"
     ]
    },
    {
     "name": "stdout",
     "output_type": "stream",
     "text": [
      "623\n",
      "624\n",
      "625\n",
      "626\n",
      "627\n",
      "628\n",
      "629\n",
      "630\n",
      "631\n",
      "632\n",
      "633\n",
      "634\n",
      "635\n",
      "636\n",
      "637\n"
     ]
    },
    {
     "name": "stderr",
     "output_type": "stream",
     "text": [
      "\r",
      " 26%|▎| 64"
     ]
    },
    {
     "name": "stdout",
     "output_type": "stream",
     "text": [
      "638\n",
      "639\n",
      "640\n",
      "641\n",
      "642\n",
      "643\n",
      "644\n"
     ]
    },
    {
     "name": "stderr",
     "output_type": "stream",
     "text": [
      "\r",
      " 26%|▎| 64"
     ]
    },
    {
     "name": "stdout",
     "output_type": "stream",
     "text": [
      "645\n",
      "646\n",
      "647\n",
      "648\n",
      "649\n",
      "650\n"
     ]
    },
    {
     "name": "stderr",
     "output_type": "stream",
     "text": [
      " 26%|▎| 65"
     ]
    },
    {
     "name": "stdout",
     "output_type": "stream",
     "text": [
      "651\n",
      "652\n",
      "653\n",
      "654\n",
      "655\n",
      "656\n",
      "657\n",
      "658\n",
      "659\n"
     ]
    },
    {
     "name": "stderr",
     "output_type": "stream",
     "text": [
      "\r",
      " 27%|▎| 66"
     ]
    },
    {
     "name": "stdout",
     "output_type": "stream",
     "text": [
      "660\n",
      "661\n",
      "662\n",
      "663\n",
      "664\n"
     ]
    },
    {
     "name": "stderr",
     "output_type": "stream",
     "text": [
      " 27%|▎| 67"
     ]
    },
    {
     "name": "stdout",
     "output_type": "stream",
     "text": [
      "665\n",
      "666\n",
      "667\n",
      "668\n",
      "669\n",
      "670\n",
      "671\n",
      "672\n",
      "673\n",
      "674\n",
      "675\n",
      "676\n"
     ]
    },
    {
     "name": "stderr",
     "output_type": "stream",
     "text": [
      "\r",
      " 27%|▎| 67"
     ]
    },
    {
     "name": "stdout",
     "output_type": "stream",
     "text": [
      "677\n",
      "678\n",
      "679\n",
      "680\n",
      "681\n",
      "682\n"
     ]
    },
    {
     "name": "stderr",
     "output_type": "stream",
     "text": [
      " 28%|▎| 68"
     ]
    },
    {
     "name": "stdout",
     "output_type": "stream",
     "text": [
      "683\n",
      "684\n",
      "685\n",
      "686\n",
      "687\n",
      "688\n"
     ]
    },
    {
     "name": "stderr",
     "output_type": "stream",
     "text": [
      "\r",
      " 28%|▎| 69"
     ]
    },
    {
     "name": "stdout",
     "output_type": "stream",
     "text": [
      "689\n",
      "690\n",
      "691\n"
     ]
    },
    {
     "name": "stderr",
     "output_type": "stream",
     "text": [
      "\r",
      " 28%|▎| 69"
     ]
    },
    {
     "name": "stdout",
     "output_type": "stream",
     "text": [
      "692\n",
      "693\n",
      "694\n",
      "695\n",
      "696\n",
      "697\n",
      "698\n",
      "699\n",
      "700\n",
      "701\n"
     ]
    },
    {
     "name": "stderr",
     "output_type": "stream",
     "text": [
      " 28%|▎| 70"
     ]
    },
    {
     "name": "stdout",
     "output_type": "stream",
     "text": [
      "702\n",
      "703\n",
      "704\n",
      "705\n",
      "706\n",
      "707\n",
      "708\n",
      "709\n",
      "710\n"
     ]
    },
    {
     "name": "stderr",
     "output_type": "stream",
     "text": [
      " 29%|▎| 72"
     ]
    },
    {
     "name": "stdout",
     "output_type": "stream",
     "text": [
      "711\n",
      "712\n",
      "713\n",
      "714\n",
      "715\n",
      "716\n",
      "717\n",
      "718\n",
      "719\n",
      "720\n",
      "721\n",
      "722\n",
      "723\n"
     ]
    },
    {
     "name": "stderr",
     "output_type": "stream",
     "text": [
      "\r",
      " 29%|▎| 72"
     ]
    },
    {
     "name": "stdout",
     "output_type": "stream",
     "text": [
      "724\n",
      "725\n",
      "726\n",
      "727\n",
      "728\n",
      "729\n",
      "730\n"
     ]
    },
    {
     "name": "stderr",
     "output_type": "stream",
     "text": [
      "\r",
      " 29%|▎| 73"
     ]
    },
    {
     "name": "stdout",
     "output_type": "stream",
     "text": [
      "731\n",
      "732\n",
      "733\n",
      "734\n"
     ]
    },
    {
     "name": "stderr",
     "output_type": "stream",
     "text": [
      " 30%|▎| 74"
     ]
    },
    {
     "name": "stdout",
     "output_type": "stream",
     "text": [
      "735\n",
      "736\n",
      "737\n",
      "738\n",
      "739\n",
      "740\n",
      "741\n",
      "742\n",
      "743\n"
     ]
    },
    {
     "name": "stderr",
     "output_type": "stream",
     "text": [
      "\r",
      " 30%|▎| 74"
     ]
    },
    {
     "name": "stdout",
     "output_type": "stream",
     "text": [
      "744\n",
      "745\n",
      "746\n",
      "747\n",
      "748\n",
      "749\n"
     ]
    },
    {
     "name": "stderr",
     "output_type": "stream",
     "text": [
      " 30%|▎| 76"
     ]
    },
    {
     "name": "stdout",
     "output_type": "stream",
     "text": [
      "750\n",
      "751\n",
      "752\n",
      "753\n",
      "754\n",
      "755\n",
      "756\n",
      "757\n",
      "758\n",
      "759\n",
      "760\n",
      "761\n",
      "762\n"
     ]
    },
    {
     "name": "stderr",
     "output_type": "stream",
     "text": [
      "\r",
      " 31%|▎| 76"
     ]
    },
    {
     "name": "stdout",
     "output_type": "stream",
     "text": [
      "763\n",
      "764\n",
      "765\n",
      "766\n",
      "767\n",
      "768\n",
      "769\n",
      "770\n",
      "771\n",
      "772\n"
     ]
    },
    {
     "name": "stderr",
     "output_type": "stream",
     "text": [
      " 31%|▎| 77"
     ]
    },
    {
     "name": "stdout",
     "output_type": "stream",
     "text": [
      "773\n",
      "774\n",
      "775\n",
      "776\n",
      "777\n",
      "778\n",
      "779\n"
     ]
    },
    {
     "name": "stderr",
     "output_type": "stream",
     "text": [
      "\r",
      " 31%|▎| 78"
     ]
    },
    {
     "name": "stdout",
     "output_type": "stream",
     "text": [
      "780\n",
      "781\n",
      "782\n"
     ]
    },
    {
     "name": "stderr",
     "output_type": "stream",
     "text": [
      "\r",
      " 32%|▎| 78"
     ]
    },
    {
     "name": "stdout",
     "output_type": "stream",
     "text": [
      "783\n",
      "784\n",
      "785\n",
      "786\n",
      "787\n",
      "788\n",
      "789\n",
      "790\n",
      "791\n",
      "792\n",
      "793\n"
     ]
    },
    {
     "name": "stderr",
     "output_type": "stream",
     "text": [
      "\r",
      " 32%|▎| 79"
     ]
    },
    {
     "name": "stdout",
     "output_type": "stream",
     "text": [
      "794\n",
      "795\n",
      "796\n",
      "797\n",
      "798\n"
     ]
    },
    {
     "name": "stderr",
     "output_type": "stream",
     "text": [
      " 32%|▎| 80"
     ]
    },
    {
     "name": "stdout",
     "output_type": "stream",
     "text": [
      "799\n",
      "800\n",
      "801\n",
      "802\n",
      "803\n",
      "804\n",
      "805\n",
      "806\n",
      "807\n",
      "808\n"
     ]
    },
    {
     "name": "stderr",
     "output_type": "stream",
     "text": [
      " 33%|▎| 81"
     ]
    },
    {
     "name": "stdout",
     "output_type": "stream",
     "text": [
      "809\n",
      "810\n",
      "811\n",
      "812\n",
      "813\n",
      "814\n",
      "815\n",
      "816\n",
      "817\n",
      "818\n",
      "819\n",
      "820\n",
      "821\n"
     ]
    },
    {
     "name": "stderr",
     "output_type": "stream",
     "text": [
      " 33%|▎| 83"
     ]
    },
    {
     "name": "stdout",
     "output_type": "stream",
     "text": [
      "822\n",
      "823\n",
      "824\n",
      "825\n",
      "826\n",
      "827\n",
      "828\n",
      "829\n",
      "830\n",
      "831\n"
     ]
    },
    {
     "name": "stderr",
     "output_type": "stream",
     "text": [
      "\r",
      " 33%|▎| 83"
     ]
    },
    {
     "name": "stdout",
     "output_type": "stream",
     "text": [
      "832\n",
      "833\n",
      "834\n",
      "835\n",
      "836\n",
      "837\n",
      "838\n",
      "839\n",
      "840\n"
     ]
    },
    {
     "name": "stderr",
     "output_type": "stream",
     "text": [
      " 34%|▎| 84"
     ]
    },
    {
     "name": "stdout",
     "output_type": "stream",
     "text": [
      "841\n",
      "842\n",
      "843\n",
      "844\n",
      "845\n",
      "846\n",
      "847\n",
      "848\n",
      "849\n",
      "850\n",
      "851\n",
      "852\n",
      "853\n"
     ]
    },
    {
     "name": "stderr",
     "output_type": "stream",
     "text": [
      " 34%|▎| 86"
     ]
    },
    {
     "name": "stdout",
     "output_type": "stream",
     "text": [
      "854\n",
      "855\n",
      "856\n",
      "857\n",
      "858\n",
      "859\n",
      "860\n",
      "861\n",
      "862\n",
      "863\n",
      "864\n"
     ]
    },
    {
     "name": "stderr",
     "output_type": "stream",
     "text": [
      " 35%|▎| 87"
     ]
    },
    {
     "name": "stdout",
     "output_type": "stream",
     "text": [
      "865\n",
      "866\n",
      "867\n",
      "868\n",
      "869\n",
      "870\n",
      "871\n",
      "872\n",
      "873\n",
      "874\n",
      "875\n",
      "876\n",
      "877\n",
      "878\n",
      "879\n",
      "880\n"
     ]
    },
    {
     "name": "stderr",
     "output_type": "stream",
     "text": [
      "\r",
      " 35%|▎| 88"
     ]
    },
    {
     "name": "stdout",
     "output_type": "stream",
     "text": [
      "881\n",
      "882\n",
      "883\n",
      "884\n",
      "885\n",
      "886\n",
      "887\n"
     ]
    },
    {
     "name": "stderr",
     "output_type": "stream",
     "text": [
      "\r",
      " 36%|▎| 89"
     ]
    },
    {
     "name": "stdout",
     "output_type": "stream",
     "text": [
      "888\n",
      "889\n",
      "890\n",
      "891\n",
      "892\n",
      "893\n",
      "894\n",
      "895\n"
     ]
    },
    {
     "name": "stderr",
     "output_type": "stream",
     "text": [
      " 36%|▎| 90"
     ]
    },
    {
     "name": "stdout",
     "output_type": "stream",
     "text": [
      "896\n",
      "897\n",
      "898\n",
      "899\n",
      "900\n",
      "901\n",
      "902\n",
      "903\n",
      "904\n",
      "905\n",
      "906\n",
      "907\n",
      "908\n"
     ]
    },
    {
     "name": "stderr",
     "output_type": "stream",
     "text": [
      "\r",
      " 36%|▎| 91"
     ]
    },
    {
     "name": "stdout",
     "output_type": "stream",
     "text": [
      "909\n",
      "910\n",
      "911\n",
      "912\n",
      "913\n",
      "914\n",
      "915\n",
      "916\n"
     ]
    },
    {
     "name": "stderr",
     "output_type": "stream",
     "text": [
      " 37%|▎| 92"
     ]
    },
    {
     "name": "stdout",
     "output_type": "stream",
     "text": [
      "917\n",
      "918\n",
      "919\n",
      "920\n",
      "921\n",
      "922\n",
      "923\n",
      "924\n",
      "925\n",
      "926\n",
      "927\n",
      "928\n",
      "929\n",
      "930\n",
      "931\n",
      "932\n",
      "933\n"
     ]
    },
    {
     "name": "stderr",
     "output_type": "stream",
     "text": [
      "\r",
      " 37%|▎| 93"
     ]
    },
    {
     "name": "stdout",
     "output_type": "stream",
     "text": [
      "934\n",
      "935\n",
      "936\n",
      "937\n",
      "938\n",
      "939\n",
      "940\n",
      "941\n",
      "942\n"
     ]
    },
    {
     "name": "stderr",
     "output_type": "stream",
     "text": [
      " 38%|▍| 94"
     ]
    },
    {
     "name": "stdout",
     "output_type": "stream",
     "text": [
      "943\n",
      "944\n",
      "945\n",
      "946\n",
      "947\n",
      "948\n",
      "949\n",
      "950\n"
     ]
    },
    {
     "name": "stderr",
     "output_type": "stream",
     "text": [
      "\r",
      " 38%|▍| 95"
     ]
    },
    {
     "name": "stdout",
     "output_type": "stream",
     "text": [
      "951\n",
      "952\n",
      "953\n",
      "954\n",
      "955\n",
      "956\n",
      "957\n",
      "958\n",
      "959\n"
     ]
    },
    {
     "name": "stderr",
     "output_type": "stream",
     "text": [
      " 39%|▍| 96"
     ]
    },
    {
     "name": "stdout",
     "output_type": "stream",
     "text": [
      "960\n",
      "961\n",
      "962\n",
      "963\n",
      "964\n",
      "965\n",
      "966\n",
      "967\n"
     ]
    },
    {
     "name": "stderr",
     "output_type": "stream",
     "text": [
      " 39%|▍| 98"
     ]
    },
    {
     "name": "stdout",
     "output_type": "stream",
     "text": [
      "968\n",
      "969\n",
      "970\n",
      "971\n",
      "972\n",
      "973\n",
      "974\n",
      "975\n",
      "976\n",
      "977\n",
      "978\n",
      "979\n",
      "980\n",
      "981\n",
      "982\n",
      "983\n",
      "984\n",
      "985\n"
     ]
    },
    {
     "name": "stderr",
     "output_type": "stream",
     "text": [
      "\r",
      " 40%|▍| 99"
     ]
    },
    {
     "name": "stdout",
     "output_type": "stream",
     "text": [
      "986\n",
      "987\n",
      "988\n",
      "989\n",
      "990\n",
      "991\n",
      "992\n",
      "993\n",
      "994\n",
      "995\n",
      "996\n"
     ]
    },
    {
     "name": "stderr",
     "output_type": "stream",
     "text": [
      "\r",
      " 40%|▍| 99"
     ]
    },
    {
     "name": "stdout",
     "output_type": "stream",
     "text": [
      "997\n",
      "998\n",
      "999\n",
      "1000\n",
      "1001\n",
      "1002\n",
      "1003\n"
     ]
    },
    {
     "name": "stderr",
     "output_type": "stream",
     "text": [
      " 40%|▍| 10"
     ]
    },
    {
     "name": "stdout",
     "output_type": "stream",
     "text": [
      "1004\n",
      "1005\n",
      "1006\n",
      "1007\n",
      "1008\n",
      "1009\n",
      "1010\n",
      "1011\n",
      "1012\n",
      "1013\n",
      "1014\n",
      "1015\n",
      "1016\n"
     ]
    },
    {
     "name": "stderr",
     "output_type": "stream",
     "text": [
      " 41%|▍| 10"
     ]
    },
    {
     "name": "stdout",
     "output_type": "stream",
     "text": [
      "1017\n",
      "1018\n",
      "1019\n",
      "1020\n",
      "1021\n",
      "1022\n",
      "1023\n"
     ]
    },
    {
     "name": "stderr",
     "output_type": "stream",
     "text": [
      "\r",
      " 41%|▍| 10"
     ]
    },
    {
     "name": "stdout",
     "output_type": "stream",
     "text": [
      "1024\n",
      "1025\n",
      "1026\n",
      "1027\n",
      "1028\n",
      "1029\n",
      "1030\n",
      "1031\n",
      "1032\n",
      "1033\n"
     ]
    },
    {
     "name": "stderr",
     "output_type": "stream",
     "text": [
      " 42%|▍| 10"
     ]
    },
    {
     "name": "stdout",
     "output_type": "stream",
     "text": [
      "1034\n",
      "1035\n",
      "1036\n",
      "1037\n",
      "1038\n",
      "1039\n",
      "1040\n",
      "1041\n",
      "1042\n",
      "1043\n",
      "1044\n",
      "1045\n",
      "1046\n",
      "1047\n",
      "1048\n",
      "1049\n",
      "1050\n",
      "1051\n",
      "1052\n"
     ]
    },
    {
     "name": "stderr",
     "output_type": "stream",
     "text": [
      "\r",
      " 42%|▍| 10"
     ]
    },
    {
     "name": "stdout",
     "output_type": "stream",
     "text": [
      "1053\n",
      "1054\n",
      "1055\n",
      "1056\n",
      "1057\n",
      "1058\n",
      "1059\n"
     ]
    },
    {
     "name": "stderr",
     "output_type": "stream",
     "text": [
      "\r",
      " 43%|▍| 10"
     ]
    },
    {
     "name": "stdout",
     "output_type": "stream",
     "text": [
      "1060\n",
      "1061\n",
      "1062\n",
      "1063\n",
      "1064\n",
      "1065\n",
      "1066\n"
     ]
    },
    {
     "name": "stderr",
     "output_type": "stream",
     "text": [
      "\r",
      " 43%|▍| 10"
     ]
    },
    {
     "name": "stdout",
     "output_type": "stream",
     "text": [
      "1067\n",
      "1068\n",
      "1069\n",
      "1070\n",
      "1071\n",
      "1072\n",
      "1073\n",
      "1074\n",
      "1075\n",
      "1076\n"
     ]
    },
    {
     "name": "stderr",
     "output_type": "stream",
     "text": [
      " 43%|▍| 10"
     ]
    },
    {
     "name": "stdout",
     "output_type": "stream",
     "text": [
      "1077\n",
      "1078\n",
      "1079\n",
      "1080\n",
      "1081\n",
      "1082\n",
      "1083\n"
     ]
    },
    {
     "name": "stderr",
     "output_type": "stream",
     "text": [
      " 44%|▍| 10"
     ]
    },
    {
     "name": "stdout",
     "output_type": "stream",
     "text": [
      "1084\n",
      "1085\n",
      "1086\n",
      "1087\n",
      "1088\n",
      "1089\n",
      "1090\n",
      "1091\n",
      "1092\n",
      "1093\n",
      "1094\n",
      "1095\n",
      "1096\n",
      "1097\n",
      "1098\n",
      "1099\n",
      "1100\n",
      "1101"
     ]
    },
    {
     "name": "stderr",
     "output_type": "stream",
     "text": [
      "\r",
      " 44%|▍| 11"
     ]
    },
    {
     "name": "stdout",
     "output_type": "stream",
     "text": [
      "\n",
      "1102\n",
      "1103\n",
      "1104\n",
      "1105\n",
      "1106\n"
     ]
    },
    {
     "name": "stderr",
     "output_type": "stream",
     "text": [
      "\r",
      " 44%|▍| 11"
     ]
    },
    {
     "name": "stdout",
     "output_type": "stream",
     "text": [
      "1107\n",
      "1108\n",
      "1109\n",
      "1110\n",
      "1111\n",
      "1112\n",
      "1113\n",
      "1114\n",
      "1115\n"
     ]
    },
    {
     "name": "stderr",
     "output_type": "stream",
     "text": [
      " 45%|▍| 11"
     ]
    },
    {
     "name": "stdout",
     "output_type": "stream",
     "text": [
      "1116\n",
      "1117\n",
      "1118\n",
      "1119\n",
      "1120\n",
      "1121\n",
      "1122\n",
      "1123\n",
      "1124\n",
      "1125\n"
     ]
    },
    {
     "name": "stderr",
     "output_type": "stream",
     "text": [
      " 45%|▍| 11"
     ]
    },
    {
     "name": "stdout",
     "output_type": "stream",
     "text": [
      "1126\n",
      "1127\n",
      "1128\n",
      "1129\n",
      "1130\n",
      "1131\n"
     ]
    },
    {
     "name": "stderr",
     "output_type": "stream",
     "text": [
      " 46%|▍| 11"
     ]
    },
    {
     "name": "stdout",
     "output_type": "stream",
     "text": [
      "1132\n",
      "1133\n",
      "1134\n",
      "1135\n",
      "1136\n",
      "1137\n",
      "1138\n",
      "1139\n",
      "1140\n",
      "1141\n",
      "1142\n",
      "1143\n",
      "1144\n",
      "1145\n"
     ]
    },
    {
     "name": "stderr",
     "output_type": "stream",
     "text": [
      "\r",
      " 46%|▍| 11"
     ]
    },
    {
     "name": "stdout",
     "output_type": "stream",
     "text": [
      "1146\n",
      "1147\n",
      "1148\n",
      "1149\n",
      "1150\n",
      "1151\n",
      "1152\n",
      "1153\n"
     ]
    },
    {
     "name": "stderr",
     "output_type": "stream",
     "text": [
      "\r",
      " 46%|▍| 11"
     ]
    },
    {
     "name": "stdout",
     "output_type": "stream",
     "text": [
      "1154\n",
      "1155\n",
      "1156\n",
      "1157\n",
      "1158\n"
     ]
    },
    {
     "name": "stderr",
     "output_type": "stream",
     "text": [
      "\r",
      " 46%|▍| 11"
     ]
    },
    {
     "name": "stdout",
     "output_type": "stream",
     "text": [
      "1159\n",
      "1160\n",
      "1161\n",
      "1162\n",
      "1163\n",
      "1164\n",
      "1165\n",
      "1166\n",
      "1167\n"
     ]
    },
    {
     "name": "stderr",
     "output_type": "stream",
     "text": [
      " 47%|▍| 11"
     ]
    },
    {
     "name": "stdout",
     "output_type": "stream",
     "text": [
      "1168\n",
      "1169\n",
      "1170\n",
      "1171\n",
      "1172\n"
     ]
    },
    {
     "name": "stderr",
     "output_type": "stream",
     "text": [
      "\r",
      " 47%|▍| 11"
     ]
    },
    {
     "name": "stdout",
     "output_type": "stream",
     "text": [
      "1173\n",
      "1174\n",
      "1175\n",
      "1176\n",
      "1177\n",
      "1178\n",
      "1179\n",
      "1180\n",
      "1181\n",
      "1182\n",
      "1183\n",
      "1184\n",
      "1185\n",
      "1186\n",
      "1187\n",
      "1188\n"
     ]
    },
    {
     "name": "stderr",
     "output_type": "stream",
     "text": [
      " 48%|▍| 12"
     ]
    },
    {
     "name": "stdout",
     "output_type": "stream",
     "text": [
      "1189\n",
      "1190\n",
      "1191\n",
      "1192\n",
      "1193\n",
      "1194\n",
      "1195\n",
      "1196\n",
      "1197\n",
      "1198\n",
      "1199\n",
      "1200\n",
      "1201\n",
      "1202\n"
     ]
    },
    {
     "name": "stderr",
     "output_type": "stream",
     "text": [
      "\r",
      " 48%|▍| 12"
     ]
    },
    {
     "name": "stdout",
     "output_type": "stream",
     "text": [
      "1203\n",
      "1204\n",
      "1205\n",
      "1206\n",
      "1207\n",
      "1208\n"
     ]
    },
    {
     "name": "stderr",
     "output_type": "stream",
     "text": [
      "\r",
      " 49%|▍| 12"
     ]
    },
    {
     "name": "stdout",
     "output_type": "stream",
     "text": [
      "1209\n",
      "1210\n",
      "1211\n",
      "1212\n",
      "1213\n",
      "1214\n",
      "1215\n",
      "1216\n",
      "1217\n",
      "1218\n"
     ]
    },
    {
     "name": "stderr",
     "output_type": "stream",
     "text": [
      " 49%|▍| 12"
     ]
    },
    {
     "name": "stdout",
     "output_type": "stream",
     "text": [
      "1219\n",
      "1220\n",
      "1221\n",
      "1222\n",
      "1223\n",
      "1224\n",
      "1225\n"
     ]
    },
    {
     "name": "stderr",
     "output_type": "stream",
     "text": [
      "\r",
      " 49%|▍| 12"
     ]
    },
    {
     "name": "stdout",
     "output_type": "stream",
     "text": [
      "1226\n",
      "1227\n",
      "1228\n",
      "1229\n",
      "1230\n",
      "1231\n",
      "1232\n",
      "1233\n",
      "1234\n",
      "1235\n",
      "1236\n"
     ]
    },
    {
     "name": "stderr",
     "output_type": "stream",
     "text": [
      " 50%|▍| 12"
     ]
    },
    {
     "name": "stdout",
     "output_type": "stream",
     "text": [
      "1237\n",
      "1238\n",
      "1239\n",
      "1240\n",
      "1241\n",
      "1242\n",
      "1243\n",
      "1244\n",
      "1245\n",
      "1246\n"
     ]
    },
    {
     "name": "stderr",
     "output_type": "stream",
     "text": [
      "\r",
      " 50%|▌| 12"
     ]
    },
    {
     "name": "stdout",
     "output_type": "stream",
     "text": [
      "1247\n",
      "1248\n",
      "1249\n",
      "1250\n",
      "1251\n",
      "1252\n",
      "1253\n",
      "1254\n"
     ]
    },
    {
     "name": "stderr",
     "output_type": "stream",
     "text": [
      "\r",
      " 50%|▌| 12"
     ]
    },
    {
     "name": "stdout",
     "output_type": "stream",
     "text": [
      "1255\n",
      "1256\n",
      "1257\n",
      "1258\n",
      "1259\n"
     ]
    },
    {
     "name": "stderr",
     "output_type": "stream",
     "text": [
      "\r",
      " 50%|▌| 12"
     ]
    },
    {
     "name": "stdout",
     "output_type": "stream",
     "text": [
      "1260\n",
      "1261\n",
      "1262\n"
     ]
    },
    {
     "name": "stderr",
     "output_type": "stream",
     "text": [
      "\r",
      " 51%|▌| 12"
     ]
    },
    {
     "name": "stdout",
     "output_type": "stream",
     "text": [
      "1263\n",
      "1264\n"
     ]
    },
    {
     "name": "stderr",
     "output_type": "stream",
     "text": [
      "\r",
      " 51%|▌| 12"
     ]
    },
    {
     "name": "stdout",
     "output_type": "stream",
     "text": [
      "1265\n",
      "1266\n",
      "1267\n",
      "1268\n",
      "1269\n",
      "1270\n"
     ]
    },
    {
     "name": "stderr",
     "output_type": "stream",
     "text": [
      " 51%|▌| 12"
     ]
    },
    {
     "name": "stdout",
     "output_type": "stream",
     "text": [
      "1271\n",
      "1272\n",
      "1273\n",
      "1274\n",
      "1275\n",
      "1276\n",
      "1277\n",
      "1278\n"
     ]
    },
    {
     "name": "stderr",
     "output_type": "stream",
     "text": [
      "\r",
      " 51%|▌| 12"
     ]
    },
    {
     "name": "stdout",
     "output_type": "stream",
     "text": [
      "1279\n",
      "1280\n",
      "1281\n",
      "1282\n",
      "1283\n",
      "1284\n"
     ]
    },
    {
     "name": "stderr",
     "output_type": "stream",
     "text": [
      " 52%|▌| 12"
     ]
    },
    {
     "name": "stdout",
     "output_type": "stream",
     "text": [
      "1285\n",
      "1286\n",
      "1287\n",
      "1288\n",
      "1289\n",
      "1290\n",
      "1291\n",
      "1292\n"
     ]
    },
    {
     "name": "stderr",
     "output_type": "stream",
     "text": [
      "\r",
      " 52%|▌| 12"
     ]
    },
    {
     "name": "stdout",
     "output_type": "stream",
     "text": [
      "1293\n",
      "1294\n",
      "1295\n",
      "1296\n"
     ]
    },
    {
     "name": "stderr",
     "output_type": "stream",
     "text": [
      "\r",
      " 52%|▌| 12"
     ]
    },
    {
     "name": "stdout",
     "output_type": "stream",
     "text": [
      "1297\n",
      "1298\n",
      "1299\n"
     ]
    },
    {
     "name": "stderr",
     "output_type": "stream",
     "text": [
      " 52%|▌| 13"
     ]
    },
    {
     "name": "stdout",
     "output_type": "stream",
     "text": [
      "1300\n",
      "1301\n",
      "1302\n",
      "1303\n",
      "1304\n",
      "1305\n",
      "1306\n"
     ]
    },
    {
     "name": "stderr",
     "output_type": "stream",
     "text": [
      "\r",
      " 52%|▌| 13"
     ]
    },
    {
     "name": "stdout",
     "output_type": "stream",
     "text": [
      "1307\n",
      "1308\n",
      "1309\n",
      "1310\n",
      "1311\n",
      "1312\n",
      "1313\n",
      "1314\n",
      "1315\n",
      "1316\n"
     ]
    },
    {
     "name": "stderr",
     "output_type": "stream",
     "text": [
      " 53%|▌| 13"
     ]
    },
    {
     "name": "stdout",
     "output_type": "stream",
     "text": [
      "1317\n",
      "1318\n",
      "1319\n",
      "1320\n"
     ]
    },
    {
     "name": "stderr",
     "output_type": "stream",
     "text": [
      "\r",
      " 53%|▌| 13"
     ]
    },
    {
     "name": "stdout",
     "output_type": "stream",
     "text": [
      "1321\n",
      "1322\n",
      "1323\n",
      "1324\n",
      "1325\n",
      "1326\n",
      "1327\n",
      "1328\n"
     ]
    },
    {
     "name": "stderr",
     "output_type": "stream",
     "text": [
      "\r",
      " 53%|▌| 13"
     ]
    },
    {
     "name": "stdout",
     "output_type": "stream",
     "text": [
      "1329\n",
      "1330\n",
      "1331\n",
      "1332\n",
      "1333\n",
      "1334\n",
      "1335\n",
      "1336\n"
     ]
    },
    {
     "name": "stderr",
     "output_type": "stream",
     "text": [
      " 54%|▌| 13"
     ]
    },
    {
     "name": "stdout",
     "output_type": "stream",
     "text": [
      "1337\n",
      "1338\n",
      "1339\n",
      "1340\n",
      "1341\n",
      "1342\n",
      "1343\n"
     ]
    },
    {
     "name": "stderr",
     "output_type": "stream",
     "text": [
      " 54%|▌| 13"
     ]
    },
    {
     "name": "stdout",
     "output_type": "stream",
     "text": [
      "1344\n",
      "1345\n",
      "1346\n",
      "1347\n",
      "1348\n",
      "1349\n",
      "1350\n",
      "1351\n",
      "1352\n",
      "1353\n"
     ]
    },
    {
     "name": "stderr",
     "output_type": "stream",
     "text": [
      "\r",
      " 54%|▌| 13"
     ]
    },
    {
     "name": "stdout",
     "output_type": "stream",
     "text": [
      "1354\n",
      "1355\n",
      "1356\n",
      "1357\n",
      "1358\n",
      "1359\n",
      "1360\n",
      "1361\n",
      "1362\n",
      "1363\n",
      "1364"
     ]
    },
    {
     "name": "stderr",
     "output_type": "stream",
     "text": [
      "\r",
      " 55%|▌| 13"
     ]
    },
    {
     "name": "stdout",
     "output_type": "stream",
     "text": [
      "\n",
      "1365\n",
      "1366\n",
      "1367\n"
     ]
    },
    {
     "name": "stderr",
     "output_type": "stream",
     "text": [
      "\r",
      " 55%|▌| 13"
     ]
    },
    {
     "name": "stdout",
     "output_type": "stream",
     "text": [
      "1368\n",
      "1369\n",
      "1370\n",
      "1371\n",
      "1372\n",
      "1373\n",
      "1374\n",
      "1375\n",
      "1376\n",
      "1377\n"
     ]
    },
    {
     "name": "stderr",
     "output_type": "stream",
     "text": [
      "\r",
      " 55%|▌| 13"
     ]
    },
    {
     "name": "stdout",
     "output_type": "stream",
     "text": [
      "1378\n",
      "1379\n",
      "1380\n",
      "1381\n",
      "1382\n",
      "1383\n"
     ]
    },
    {
     "name": "stderr",
     "output_type": "stream",
     "text": [
      " 56%|▌| 13"
     ]
    },
    {
     "name": "stdout",
     "output_type": "stream",
     "text": [
      "1384\n",
      "1385\n",
      "1386\n",
      "1387\n",
      "1388\n",
      "1389\n",
      "1390\n",
      "1391\n",
      "1392\n"
     ]
    },
    {
     "name": "stderr",
     "output_type": "stream",
     "text": [
      " 56%|▌| 13"
     ]
    },
    {
     "name": "stdout",
     "output_type": "stream",
     "text": [
      "1393\n",
      "1394\n",
      "1395\n",
      "1396\n",
      "1397\n",
      "1398\n",
      "1399\n"
     ]
    },
    {
     "name": "stderr",
     "output_type": "stream",
     "text": [
      " 56%|▌| 14"
     ]
    },
    {
     "name": "stdout",
     "output_type": "stream",
     "text": [
      "1400\n",
      "1401\n",
      "1402\n",
      "1403\n",
      "1404\n",
      "1405\n",
      "1406\n",
      "1407\n"
     ]
    },
    {
     "name": "stderr",
     "output_type": "stream",
     "text": [
      "\r",
      " 57%|▌| 14"
     ]
    },
    {
     "name": "stdout",
     "output_type": "stream",
     "text": [
      "1408\n",
      "1409\n",
      "1410\n",
      "1411\n",
      "1412\n",
      "1413\n",
      "1414\n",
      "1415\n",
      "1416\n",
      "1417\n",
      "1418\n",
      "1419\n",
      "1420\n"
     ]
    },
    {
     "name": "stderr",
     "output_type": "stream",
     "text": [
      " 57%|▌| 14"
     ]
    },
    {
     "name": "stdout",
     "output_type": "stream",
     "text": [
      "1421\n",
      "1422\n",
      "1423\n",
      "1424\n",
      "1425\n",
      "1426\n",
      "1427\n",
      "1428\n",
      "1429\n",
      "1430\n",
      "1431\n",
      "1432\n",
      "1433\n"
     ]
    },
    {
     "name": "stderr",
     "output_type": "stream",
     "text": [
      "\r",
      " 57%|▌| 14"
     ]
    },
    {
     "name": "stdout",
     "output_type": "stream",
     "text": [
      "1434\n",
      "1435\n",
      "1436\n",
      "1437\n",
      "1438\n",
      "1439\n",
      "1440\n",
      "1441\n",
      "1442\n"
     ]
    },
    {
     "name": "stderr",
     "output_type": "stream",
     "text": [
      "\r",
      " 58%|▌| 14"
     ]
    },
    {
     "name": "stdout",
     "output_type": "stream",
     "text": [
      "1443\n",
      "1444\n",
      "1445\n"
     ]
    },
    {
     "name": "stderr",
     "output_type": "stream",
     "text": [
      "\r",
      " 58%|▌| 14"
     ]
    },
    {
     "name": "stdout",
     "output_type": "stream",
     "text": [
      "1446\n",
      "1447\n",
      "1448\n",
      "1449\n",
      "1450\n",
      "1451\n",
      "1452\n",
      "1453\n",
      "1454\n",
      "1455\n"
     ]
    },
    {
     "name": "stderr",
     "output_type": "stream",
     "text": [
      "\r",
      " 58%|▌| 14"
     ]
    },
    {
     "name": "stdout",
     "output_type": "stream",
     "text": [
      "1456\n",
      "1457\n",
      "1458\n",
      "1459\n",
      "1460\n",
      "1461\n"
     ]
    },
    {
     "name": "stderr",
     "output_type": "stream",
     "text": [
      " 59%|▌| 14"
     ]
    },
    {
     "name": "stdout",
     "output_type": "stream",
     "text": [
      "1462\n",
      "1463\n",
      "1464\n",
      "1465\n",
      "1466\n",
      "1467\n",
      "1468\n",
      "1469\n",
      "1470\n",
      "1471\n",
      "1472\n",
      "1473\n",
      "1474\n",
      "1475\n"
     ]
    },
    {
     "name": "stderr",
     "output_type": "stream",
     "text": [
      "\r",
      " 59%|▌| 14"
     ]
    },
    {
     "name": "stdout",
     "output_type": "stream",
     "text": [
      "1476\n",
      "1477\n",
      "1478\n",
      "1479\n",
      "1480\n",
      "1481\n",
      "1482\n"
     ]
    },
    {
     "name": "stderr",
     "output_type": "stream",
     "text": [
      "\r",
      " 59%|▌| 14"
     ]
    },
    {
     "name": "stdout",
     "output_type": "stream",
     "text": [
      "1483\n",
      "1484\n",
      "1485\n",
      "1486\n",
      "1487\n"
     ]
    },
    {
     "name": "stderr",
     "output_type": "stream",
     "text": [
      " 60%|▌| 14"
     ]
    },
    {
     "name": "stdout",
     "output_type": "stream",
     "text": [
      "1488\n",
      "1489\n",
      "1490\n",
      "1491\n",
      "1492\n",
      "1493\n",
      "1494\n",
      "1495\n",
      "1496\n"
     ]
    },
    {
     "name": "stderr",
     "output_type": "stream",
     "text": [
      " 60%|▌| 15"
     ]
    },
    {
     "name": "stdout",
     "output_type": "stream",
     "text": [
      "1497\n",
      "1498\n",
      "1499\n",
      "1500\n",
      "1501\n",
      "1502\n",
      "1503\n"
     ]
    },
    {
     "name": "stderr",
     "output_type": "stream",
     "text": [
      " 61%|▌| 15"
     ]
    },
    {
     "name": "stdout",
     "output_type": "stream",
     "text": [
      "1504\n",
      "1505\n",
      "1506\n",
      "1507\n",
      "1508\n",
      "1509\n",
      "1510\n",
      "1511\n",
      "1512\n",
      "1513\n",
      "1514\n",
      "1515\n",
      "1516\n",
      "1517\n",
      "1518\n",
      "1519\n",
      "1520\n"
     ]
    },
    {
     "name": "stderr",
     "output_type": "stream",
     "text": [
      "\r",
      " 61%|▌| 15"
     ]
    },
    {
     "name": "stdout",
     "output_type": "stream",
     "text": [
      "1521\n",
      "1522\n",
      "1523\n",
      "1524\n",
      "1525\n",
      "1526\n",
      "1527\n",
      "1528\n"
     ]
    },
    {
     "name": "stderr",
     "output_type": "stream",
     "text": [
      "\r",
      " 61%|▌| 15"
     ]
    },
    {
     "name": "stdout",
     "output_type": "stream",
     "text": [
      "1529\n",
      "1530\n",
      "1531\n",
      "1532\n",
      "1533\n",
      "1534\n",
      "1535\n"
     ]
    },
    {
     "name": "stderr",
     "output_type": "stream",
     "text": [
      "\r",
      " 62%|▌| 15"
     ]
    },
    {
     "name": "stdout",
     "output_type": "stream",
     "text": [
      "1536\n",
      "1537\n",
      "1538\n",
      "1539\n",
      "1540\n",
      "1541\n",
      "1542\n"
     ]
    },
    {
     "name": "stderr",
     "output_type": "stream",
     "text": [
      " 62%|▌| 15"
     ]
    },
    {
     "name": "stdout",
     "output_type": "stream",
     "text": [
      "1543\n",
      "1544\n",
      "1545\n",
      "1546\n",
      "1547\n",
      "1548\n",
      "1549\n"
     ]
    },
    {
     "name": "stderr",
     "output_type": "stream",
     "text": [
      "\r",
      " 62%|▌| 15"
     ]
    },
    {
     "name": "stdout",
     "output_type": "stream",
     "text": [
      "1550\n",
      "1551\n",
      "1552\n",
      "1553\n"
     ]
    },
    {
     "name": "stderr",
     "output_type": "stream",
     "text": [
      "\r",
      " 62%|▌| 15"
     ]
    },
    {
     "name": "stdout",
     "output_type": "stream",
     "text": [
      "1554\n",
      "1555\n",
      "1556\n",
      "1557\n",
      "1558\n"
     ]
    },
    {
     "name": "stderr",
     "output_type": "stream",
     "text": [
      " 63%|▋| 15"
     ]
    },
    {
     "name": "stdout",
     "output_type": "stream",
     "text": [
      "1559\n",
      "1560\n",
      "1561\n",
      "1562\n",
      "1563\n",
      "1564\n",
      "1565\n",
      "1566\n",
      "1567\n",
      "1568\n",
      "1569\n"
     ]
    },
    {
     "name": "stderr",
     "output_type": "stream",
     "text": [
      " 63%|▋| 15"
     ]
    },
    {
     "name": "stdout",
     "output_type": "stream",
     "text": [
      "1570\n",
      "1571\n",
      "1572\n",
      "1573\n",
      "1574\n",
      "1575\n",
      "1576\n",
      "1577\n",
      "1578\n",
      "1579\n",
      "1580\n",
      "1581\n",
      "1582\n",
      "1583\n",
      "1584\n",
      "1585\n",
      "1586\n",
      "1587\n",
      "1588\n"
     ]
    },
    {
     "name": "stderr",
     "output_type": "stream",
     "text": [
      " 64%|▋| 15"
     ]
    },
    {
     "name": "stdout",
     "output_type": "stream",
     "text": [
      "1589\n",
      "1590\n",
      "1591\n",
      "1592\n",
      "1593\n",
      "1594\n",
      "1595\n",
      "1596\n",
      "1597\n",
      "1598\n"
     ]
    },
    {
     "name": "stderr",
     "output_type": "stream",
     "text": [
      "\r",
      " 64%|▋| 16"
     ]
    },
    {
     "name": "stdout",
     "output_type": "stream",
     "text": [
      "1599\n",
      "1600\n",
      "1601\n",
      "1602\n"
     ]
    },
    {
     "name": "stderr",
     "output_type": "stream",
     "text": [
      " 64%|▋| 16"
     ]
    },
    {
     "name": "stdout",
     "output_type": "stream",
     "text": [
      "1603\n",
      "1604\n",
      "1605\n",
      "1606\n",
      "1607\n",
      "1608\n",
      "1609\n",
      "1610\n"
     ]
    },
    {
     "name": "stderr",
     "output_type": "stream",
     "text": [
      " 65%|▋| 16"
     ]
    },
    {
     "name": "stdout",
     "output_type": "stream",
     "text": [
      "1611\n",
      "1612\n",
      "1613\n",
      "1614\n",
      "1615\n",
      "1616\n",
      "1617\n"
     ]
    },
    {
     "name": "stderr",
     "output_type": "stream",
     "text": [
      "\r",
      " 65%|▋| 16"
     ]
    },
    {
     "name": "stdout",
     "output_type": "stream",
     "text": [
      "1618\n",
      "1619\n",
      "1620\n",
      "1621\n",
      "1622\n",
      "1623\n"
     ]
    },
    {
     "name": "stderr",
     "output_type": "stream",
     "text": [
      "\r",
      " 65%|▋| 16"
     ]
    },
    {
     "name": "stdout",
     "output_type": "stream",
     "text": [
      "1624\n",
      "1625\n",
      "1626\n",
      "1627\n",
      "1628\n",
      "1629\n"
     ]
    },
    {
     "name": "stderr",
     "output_type": "stream",
     "text": [
      " 65%|▋| 16"
     ]
    },
    {
     "name": "stdout",
     "output_type": "stream",
     "text": [
      "1630\n",
      "1631\n",
      "1632\n",
      "1633\n",
      "1634\n",
      "1635\n",
      "1636\n",
      "1637\n",
      "1638\n"
     ]
    },
    {
     "name": "stderr",
     "output_type": "stream",
     "text": [
      " 66%|▋| 16"
     ]
    },
    {
     "name": "stdout",
     "output_type": "stream",
     "text": [
      "1639\n",
      "1640\n",
      "1641\n",
      "1642\n",
      "1643\n",
      "1644\n",
      "1645\n"
     ]
    },
    {
     "name": "stderr",
     "output_type": "stream",
     "text": [
      " 66%|▋| 16"
     ]
    },
    {
     "name": "stdout",
     "output_type": "stream",
     "text": [
      "1646\n",
      "1647\n",
      "1648\n",
      "1649\n",
      "1650\n",
      "1651\n",
      "1652\n"
     ]
    },
    {
     "name": "stderr",
     "output_type": "stream",
     "text": [
      "\r",
      " 66%|▋| 16"
     ]
    },
    {
     "name": "stdout",
     "output_type": "stream",
     "text": [
      "1653\n",
      "1654\n",
      "1655\n",
      "1656\n",
      "1657\n",
      "1658\n",
      "1659\n",
      "1660\n",
      "1661\n",
      "1662\n"
     ]
    },
    {
     "name": "stderr",
     "output_type": "stream",
     "text": [
      " 67%|▋| 16"
     ]
    },
    {
     "name": "stdout",
     "output_type": "stream",
     "text": [
      "1663\n",
      "1664\n",
      "1665\n",
      "1666\n",
      "1667\n",
      "1668\n",
      "1669\n",
      "1670\n",
      "1671\n",
      "1672\n"
     ]
    },
    {
     "name": "stderr",
     "output_type": "stream",
     "text": [
      "\r",
      " 67%|▋| 16"
     ]
    },
    {
     "name": "stdout",
     "output_type": "stream",
     "text": [
      "1673\n",
      "1674\n",
      "1675\n",
      "1676\n",
      "1677\n",
      "1678\n",
      "1679\n",
      "1680\n"
     ]
    },
    {
     "name": "stderr",
     "output_type": "stream",
     "text": [
      "\r",
      " 67%|▋| 16"
     ]
    },
    {
     "name": "stdout",
     "output_type": "stream",
     "text": [
      "1681\n",
      "1682\n",
      "1683\n"
     ]
    },
    {
     "name": "stderr",
     "output_type": "stream",
     "text": [
      " 68%|▋| 16"
     ]
    },
    {
     "name": "stdout",
     "output_type": "stream",
     "text": [
      "1684\n",
      "1685\n",
      "1686\n",
      "1687\n",
      "1688\n",
      "1689\n",
      "1690\n",
      "1691\n",
      "1692"
     ]
    },
    {
     "name": "stderr",
     "output_type": "stream",
     "text": [
      "\r",
      " 68%|▋| 16"
     ]
    },
    {
     "name": "stdout",
     "output_type": "stream",
     "text": [
      "\n",
      "1693\n",
      "1694\n",
      "1695\n",
      "1696\n",
      "1697\n"
     ]
    },
    {
     "name": "stderr",
     "output_type": "stream",
     "text": [
      " 68%|▋| 17"
     ]
    },
    {
     "name": "stdout",
     "output_type": "stream",
     "text": [
      "1698\n",
      "1699\n",
      "1700\n",
      "1701\n",
      "1702\n",
      "1703\n",
      "1704\n",
      "1705\n",
      "1706\n"
     ]
    },
    {
     "name": "stderr",
     "output_type": "stream",
     "text": [
      " 69%|▋| 17"
     ]
    },
    {
     "name": "stdout",
     "output_type": "stream",
     "text": [
      "1707\n",
      "1708\n",
      "1709\n",
      "1710\n",
      "1711\n",
      "1712\n",
      "1713\n",
      "1714\n",
      "1715\n",
      "1716\n",
      "1717\n",
      "1718\n",
      "1719\n",
      "1720\n",
      "1721\n",
      "1722\n",
      "1723\n"
     ]
    },
    {
     "name": "stderr",
     "output_type": "stream",
     "text": [
      "\r",
      " 69%|▋| 17"
     ]
    },
    {
     "name": "stdout",
     "output_type": "stream",
     "text": [
      "1724\n",
      "1725\n",
      "1726\n",
      "1727\n",
      "1728\n",
      "1729\n",
      "1730\n"
     ]
    },
    {
     "name": "stderr",
     "output_type": "stream",
     "text": [
      "\r",
      " 69%|▋| 17"
     ]
    },
    {
     "name": "stdout",
     "output_type": "stream",
     "text": [
      "1731\n",
      "1732\n",
      "1733\n",
      "1734\n",
      "1735\n"
     ]
    },
    {
     "name": "stderr",
     "output_type": "stream",
     "text": [
      " 70%|▋| 17"
     ]
    },
    {
     "name": "stdout",
     "output_type": "stream",
     "text": [
      "1736\n",
      "1737\n",
      "1738\n",
      "1739\n",
      "1740\n",
      "1741\n",
      "1742\n",
      "1743\n",
      "1744\n"
     ]
    },
    {
     "name": "stderr",
     "output_type": "stream",
     "text": [
      " 70%|▋| 17"
     ]
    },
    {
     "name": "stdout",
     "output_type": "stream",
     "text": [
      "1745\n",
      "1746\n",
      "1747\n",
      "1748\n",
      "1749\n",
      "1750\n",
      "1751\n",
      "1752\n",
      "1753"
     ]
    },
    {
     "name": "stderr",
     "output_type": "stream",
     "text": [
      " 71%|▋| 17"
     ]
    },
    {
     "name": "stdout",
     "output_type": "stream",
     "text": [
      "\n",
      "1754\n",
      "1755\n",
      "1756\n",
      "1757\n",
      "1758\n",
      "1759\n",
      "1760\n",
      "1761\n",
      "1762\n",
      "1763\n",
      "1764\n",
      "1765\n",
      "1766\n",
      "1767\n",
      "1768\n",
      "1769\n",
      "1770\n",
      "1771\n",
      "1772\n",
      "1773\n",
      "1774\n",
      "1775\n",
      "1776\n"
     ]
    },
    {
     "name": "stderr",
     "output_type": "stream",
     "text": [
      "\r",
      " 71%|▋| 17"
     ]
    },
    {
     "name": "stdout",
     "output_type": "stream",
     "text": [
      "1777\n",
      "1778\n",
      "1779\n",
      "1780\n",
      "1781\n"
     ]
    },
    {
     "name": "stderr",
     "output_type": "stream",
     "text": [
      "\r",
      " 71%|▋| 17"
     ]
    },
    {
     "name": "stdout",
     "output_type": "stream",
     "text": [
      "1782\n",
      "1783\n",
      "1784\n",
      "1785\n",
      "1786\n",
      "1787\n",
      "1788\n",
      "1789\n",
      "1790\n",
      "1791\n"
     ]
    },
    {
     "name": "stderr",
     "output_type": "stream",
     "text": [
      " 72%|▋| 17"
     ]
    },
    {
     "name": "stdout",
     "output_type": "stream",
     "text": [
      "1792\n",
      "1793\n",
      "1794\n",
      "1795\n",
      "1796\n",
      "1797\n",
      "1798\n"
     ]
    },
    {
     "name": "stderr",
     "output_type": "stream",
     "text": [
      "\r",
      " 72%|▋| 18"
     ]
    },
    {
     "name": "stdout",
     "output_type": "stream",
     "text": [
      "1799\n",
      "1800\n",
      "1801\n",
      "1802\n",
      "1803\n",
      "1804\n",
      "1805\n"
     ]
    },
    {
     "name": "stderr",
     "output_type": "stream",
     "text": [
      " 73%|▋| 18"
     ]
    },
    {
     "name": "stdout",
     "output_type": "stream",
     "text": [
      "1806\n",
      "1807\n",
      "1808\n",
      "1809\n",
      "1810\n",
      "1811\n",
      "1812\n",
      "1813\n",
      "1814\n",
      "1815\n",
      "1816\n",
      "1817\n",
      "1818\n"
     ]
    },
    {
     "name": "stderr",
     "output_type": "stream",
     "text": [
      "\r",
      " 73%|▋| 18"
     ]
    },
    {
     "name": "stdout",
     "output_type": "stream",
     "text": [
      "1819\n",
      "1820\n",
      "1821\n",
      "1822\n",
      "1823\n",
      "1824\n",
      "1825\n",
      "1826\n",
      "1827\n"
     ]
    },
    {
     "name": "stderr",
     "output_type": "stream",
     "text": [
      "\r",
      " 73%|▋| 18"
     ]
    },
    {
     "name": "stdout",
     "output_type": "stream",
     "text": [
      "1828\n",
      "1829\n",
      "1830\n",
      "1831\n"
     ]
    },
    {
     "name": "stderr",
     "output_type": "stream",
     "text": [
      " 74%|▋| 18"
     ]
    },
    {
     "name": "stdout",
     "output_type": "stream",
     "text": [
      "1832\n",
      "1833\n",
      "1834\n",
      "1835\n",
      "1836\n",
      "1837\n",
      "1838\n",
      "1839\n",
      "1840\n",
      "1841\n",
      "1842\n"
     ]
    },
    {
     "name": "stderr",
     "output_type": "stream",
     "text": [
      "\r",
      " 74%|▋| 18"
     ]
    },
    {
     "name": "stdout",
     "output_type": "stream",
     "text": [
      "1843\n",
      "1844\n",
      "1845\n",
      "1846\n",
      "1847\n",
      "1848\n",
      "1849\n"
     ]
    },
    {
     "name": "stderr",
     "output_type": "stream",
     "text": [
      " 74%|▋| 18"
     ]
    },
    {
     "name": "stdout",
     "output_type": "stream",
     "text": [
      "1850\n",
      "1851\n",
      "1852\n",
      "1853\n",
      "1854\n",
      "1855\n",
      "1856\n"
     ]
    },
    {
     "name": "stderr",
     "output_type": "stream",
     "text": [
      " 75%|▋| 18"
     ]
    },
    {
     "name": "stdout",
     "output_type": "stream",
     "text": [
      "1857\n",
      "1858\n",
      "1859\n",
      "1860\n",
      "1861\n",
      "1862\n",
      "1863\n",
      "1864\n",
      "1865\n",
      "1866\n",
      "1867\n",
      "1868\n",
      "1869\n",
      "1870\n",
      "1871\n",
      "1872\n",
      "1873\n"
     ]
    },
    {
     "name": "stderr",
     "output_type": "stream",
     "text": [
      "\r",
      " 75%|▊| 18"
     ]
    },
    {
     "name": "stdout",
     "output_type": "stream",
     "text": [
      "1874\n",
      "1875\n",
      "1876\n",
      "1877\n",
      "1878\n",
      "1879\n",
      "1880\n",
      "1881\n",
      "1882\n",
      "1883\n",
      "1884\n"
     ]
    },
    {
     "name": "stderr",
     "output_type": "stream",
     "text": [
      " 76%|▊| 18"
     ]
    },
    {
     "name": "stdout",
     "output_type": "stream",
     "text": [
      "1885\n",
      "1886\n",
      "1887\n",
      "1888\n",
      "1889\n",
      "1890\n",
      "1891\n",
      "1892\n",
      "1893\n",
      "1894\n"
     ]
    },
    {
     "name": "stderr",
     "output_type": "stream",
     "text": [
      " 76%|▊| 19"
     ]
    },
    {
     "name": "stdout",
     "output_type": "stream",
     "text": [
      "1895\n",
      "1896\n",
      "1897\n",
      "1898\n",
      "1899\n",
      "1900\n",
      "1901\n"
     ]
    },
    {
     "name": "stderr",
     "output_type": "stream",
     "text": [
      "\r",
      " 76%|▊| 19"
     ]
    },
    {
     "name": "stdout",
     "output_type": "stream",
     "text": [
      "1902\n",
      "1903\n",
      "1904\n",
      "1905\n",
      "1906\n",
      "1907\n",
      "1908\n",
      "1909\n",
      "1910\n",
      "1911\n",
      "1912\n"
     ]
    },
    {
     "name": "stderr",
     "output_type": "stream",
     "text": [
      " 77%|▊| 19"
     ]
    },
    {
     "name": "stdout",
     "output_type": "stream",
     "text": [
      "1913\n",
      "1914\n",
      "1915\n",
      "1916\n",
      "1917\n",
      "1918\n",
      "1919\n",
      "1920\n",
      "1921\n"
     ]
    },
    {
     "name": "stderr",
     "output_type": "stream",
     "text": [
      " 77%|▊| 19"
     ]
    },
    {
     "name": "stdout",
     "output_type": "stream",
     "text": [
      "1922\n",
      "1923\n",
      "1924\n",
      "1925\n",
      "1926\n",
      "1927\n",
      "1928\n",
      "1929\n",
      "1930\n",
      "1931\n",
      "1932\n",
      "1933\n"
     ]
    },
    {
     "name": "stderr",
     "output_type": "stream",
     "text": [
      "\r",
      " 77%|▊| 19"
     ]
    },
    {
     "name": "stdout",
     "output_type": "stream",
     "text": [
      "1934\n",
      "1935\n",
      "1936\n",
      "1937\n",
      "1938\n",
      "1939\n"
     ]
    },
    {
     "name": "stderr",
     "output_type": "stream",
     "text": [
      " 78%|▊| 19"
     ]
    },
    {
     "name": "stdout",
     "output_type": "stream",
     "text": [
      "1940\n",
      "1941\n",
      "1942\n",
      "1943\n",
      "1944\n",
      "1945\n",
      "1946\n",
      "1947\n"
     ]
    },
    {
     "name": "stderr",
     "output_type": "stream",
     "text": [
      " 78%|▊| 19"
     ]
    },
    {
     "name": "stdout",
     "output_type": "stream",
     "text": [
      "1948\n",
      "1949\n",
      "1950\n",
      "1951\n",
      "1952\n",
      "1953\n",
      "1954\n",
      "1955\n",
      "1956\n"
     ]
    },
    {
     "name": "stderr",
     "output_type": "stream",
     "text": [
      "\r",
      " 78%|▊| 19"
     ]
    },
    {
     "name": "stdout",
     "output_type": "stream",
     "text": [
      "1957\n",
      "1958\n",
      "1959\n",
      "1960\n",
      "1961\n",
      "1962\n",
      "1963\n"
     ]
    },
    {
     "name": "stderr",
     "output_type": "stream",
     "text": [
      " 79%|▊| 19"
     ]
    },
    {
     "name": "stdout",
     "output_type": "stream",
     "text": [
      "1964\n",
      "1965\n",
      "1966\n",
      "1967\n",
      "1968\n",
      "1969\n",
      "1970\n",
      "1971\n",
      "1972\n",
      "1973\n",
      "1974\n",
      "1975\n",
      "1976\n",
      "1977"
     ]
    },
    {
     "name": "stderr",
     "output_type": "stream",
     "text": [
      "\r",
      " 79%|▊| 19"
     ]
    },
    {
     "name": "stdout",
     "output_type": "stream",
     "text": [
      "\n",
      "1978\n",
      "1979\n",
      "1980\n",
      "1981\n",
      "1982\n",
      "1983\n",
      "1984\n",
      "1985\n",
      "1986\n"
     ]
    },
    {
     "name": "stderr",
     "output_type": "stream",
     "text": [
      "\r",
      " 80%|▊| 19"
     ]
    },
    {
     "name": "stdout",
     "output_type": "stream",
     "text": [
      "1987\n",
      "1988\n",
      "1989\n",
      "1990\n",
      "1991\n"
     ]
    },
    {
     "name": "stderr",
     "output_type": "stream",
     "text": [
      " 80%|▊| 20"
     ]
    },
    {
     "name": "stdout",
     "output_type": "stream",
     "text": [
      "1992\n",
      "1993\n",
      "1994\n",
      "1995\n",
      "1996\n",
      "1997\n",
      "1998\n",
      "1999\n",
      "2000\n",
      "2001\n"
     ]
    },
    {
     "name": "stderr",
     "output_type": "stream",
     "text": [
      "\r",
      " 80%|▊| 20"
     ]
    },
    {
     "name": "stdout",
     "output_type": "stream",
     "text": [
      "2002\n",
      "2003\n",
      "2004\n",
      "2005\n",
      "2006\n",
      "2007\n",
      "2008\n"
     ]
    },
    {
     "name": "stderr",
     "output_type": "stream",
     "text": [
      "\r",
      " 80%|▊| 20"
     ]
    },
    {
     "name": "stdout",
     "output_type": "stream",
     "text": [
      "2009\n",
      "2010\n",
      "2011\n",
      "2012\n",
      "2013\n",
      "2014\n"
     ]
    },
    {
     "name": "stderr",
     "output_type": "stream",
     "text": [
      " 81%|▊| 20"
     ]
    },
    {
     "name": "stdout",
     "output_type": "stream",
     "text": [
      "2015\n",
      "2016\n",
      "2017\n",
      "2018\n",
      "2019\n",
      "2020\n",
      "2021\n",
      "2022\n",
      "2023\n",
      "2024\n",
      "2025\n",
      "2026\n",
      "2027\n",
      "2028\n",
      "2029\n",
      "2030\n",
      "2031\n"
     ]
    },
    {
     "name": "stderr",
     "output_type": "stream",
     "text": [
      " 82%|▊| 20"
     ]
    },
    {
     "name": "stdout",
     "output_type": "stream",
     "text": [
      "2032\n",
      "2033\n",
      "2034\n",
      "2035\n",
      "2036\n",
      "2037\n",
      "2038\n",
      "2039\n",
      "2040\n",
      "2041\n",
      "2042\n",
      "2043\n",
      "2044\n",
      "2045\n",
      "2046\n",
      "2047\n",
      "2048\n"
     ]
    },
    {
     "name": "stderr",
     "output_type": "stream",
     "text": [
      " 82%|▊| 20"
     ]
    },
    {
     "name": "stdout",
     "output_type": "stream",
     "text": [
      "2049\n",
      "2050\n",
      "2051\n",
      "2052\n",
      "2053\n",
      "2054\n",
      "2055\n",
      "2056\n",
      "2057\n",
      "2058\n",
      "2059\n",
      "2060\n",
      "2061\n",
      "2062\n",
      "2063\n"
     ]
    },
    {
     "name": "stderr",
     "output_type": "stream",
     "text": [
      "\r",
      " 83%|▊| 20"
     ]
    },
    {
     "name": "stdout",
     "output_type": "stream",
     "text": [
      "2064\n",
      "2065\n",
      "2066\n",
      "2067\n"
     ]
    },
    {
     "name": "stderr",
     "output_type": "stream",
     "text": [
      "\r",
      " 83%|▊| 20"
     ]
    },
    {
     "name": "stdout",
     "output_type": "stream",
     "text": [
      "2068\n",
      "2069\n",
      "2070\n",
      "2071\n",
      "2072\n",
      "2073\n",
      "2074\n"
     ]
    },
    {
     "name": "stderr",
     "output_type": "stream",
     "text": [
      " 83%|▊| 20"
     ]
    },
    {
     "name": "stdout",
     "output_type": "stream",
     "text": [
      "2075\n",
      "2076\n",
      "2077\n",
      "2078\n",
      "2079\n",
      "2080\n",
      "2081\n"
     ]
    },
    {
     "name": "stderr",
     "output_type": "stream",
     "text": [
      "\r",
      " 83%|▊| 20"
     ]
    },
    {
     "name": "stdout",
     "output_type": "stream",
     "text": [
      "2082\n",
      "2083\n",
      "2084\n",
      "2085\n",
      "2086\n",
      "2087\n",
      "2088\n",
      "2089\n"
     ]
    },
    {
     "name": "stderr",
     "output_type": "stream",
     "text": [
      " 84%|▊| 20"
     ]
    },
    {
     "name": "stdout",
     "output_type": "stream",
     "text": [
      "2090\n",
      "2091\n",
      "2092\n",
      "2093\n",
      "2094\n",
      "2095\n",
      "2096\n",
      "2097\n",
      "2098\n",
      "2099\n",
      "2100\n",
      "2101\n",
      "2102\n"
     ]
    },
    {
     "name": "stderr",
     "output_type": "stream",
     "text": [
      " 84%|▊| 21"
     ]
    },
    {
     "name": "stdout",
     "output_type": "stream",
     "text": [
      "2103\n",
      "2104\n",
      "2105\n",
      "2106\n",
      "2107\n",
      "2108\n",
      "2109\n",
      "2110\n",
      "2111\n"
     ]
    },
    {
     "name": "stderr",
     "output_type": "stream",
     "text": [
      " 85%|▊| 21"
     ]
    },
    {
     "name": "stdout",
     "output_type": "stream",
     "text": [
      "2112\n",
      "2113\n",
      "2114\n",
      "2115\n",
      "2116\n",
      "2117\n",
      "2118\n",
      "2119\n",
      "2120\n"
     ]
    },
    {
     "name": "stderr",
     "output_type": "stream",
     "text": [
      "\r",
      " 85%|▊| 21"
     ]
    },
    {
     "name": "stdout",
     "output_type": "stream",
     "text": [
      "2121\n",
      "2122\n",
      "2123\n",
      "2124\n",
      "2125\n",
      "2126\n",
      "2127\n"
     ]
    },
    {
     "name": "stderr",
     "output_type": "stream",
     "text": [
      "\r",
      " 85%|▊| 21"
     ]
    },
    {
     "name": "stdout",
     "output_type": "stream",
     "text": [
      "2128\n",
      "2129\n",
      "2130\n",
      "2131\n",
      "2132\n"
     ]
    },
    {
     "name": "stderr",
     "output_type": "stream",
     "text": [
      " 86%|▊| 21"
     ]
    },
    {
     "name": "stdout",
     "output_type": "stream",
     "text": [
      "2133\n",
      "2134\n",
      "2135\n",
      "2136\n",
      "2137\n",
      "2138\n",
      "2139\n",
      "2140\n",
      "2141\n",
      "2142\n",
      "2143\n"
     ]
    },
    {
     "name": "stderr",
     "output_type": "stream",
     "text": [
      " 86%|▊| 21"
     ]
    },
    {
     "name": "stdout",
     "output_type": "stream",
     "text": [
      "2144\n",
      "2145\n",
      "2146\n",
      "2147\n",
      "2148\n",
      "2149\n",
      "2150\n",
      "2151\n",
      "2152\n",
      "2153\n",
      "2154\n",
      "2155\n",
      "2156\n",
      "2157\n"
     ]
    },
    {
     "name": "stderr",
     "output_type": "stream",
     "text": [
      "\r",
      " 86%|▊| 21"
     ]
    },
    {
     "name": "stdout",
     "output_type": "stream",
     "text": [
      "2158\n",
      "2159\n",
      "2160\n",
      "2161\n",
      "2162\n"
     ]
    },
    {
     "name": "stderr",
     "output_type": "stream",
     "text": [
      " 87%|▊| 21"
     ]
    },
    {
     "name": "stdout",
     "output_type": "stream",
     "text": [
      "2163\n",
      "2164\n",
      "2165\n",
      "2166\n",
      "2167\n",
      "2168\n",
      "2169\n",
      "2170\n"
     ]
    },
    {
     "name": "stderr",
     "output_type": "stream",
     "text": [
      "\r",
      " 87%|▊| 21"
     ]
    },
    {
     "name": "stdout",
     "output_type": "stream",
     "text": [
      "2171\n",
      "2172\n",
      "2173\n",
      "2174\n"
     ]
    },
    {
     "name": "stderr",
     "output_type": "stream",
     "text": [
      "\r",
      " 87%|▊| 21"
     ]
    },
    {
     "name": "stdout",
     "output_type": "stream",
     "text": [
      "2175\n",
      "2176\n",
      "2177\n",
      "2178\n",
      "2179\n",
      "2180\n",
      "2181\n",
      "2182\n"
     ]
    },
    {
     "name": "stderr",
     "output_type": "stream",
     "text": [
      " 88%|▉| 21"
     ]
    },
    {
     "name": "stdout",
     "output_type": "stream",
     "text": [
      "2183\n",
      "2184\n",
      "2185\n",
      "2186\n",
      "2187\n",
      "2188\n",
      "2189\n",
      "2190\n"
     ]
    },
    {
     "name": "stderr",
     "output_type": "stream",
     "text": [
      " 88%|▉| 21"
     ]
    },
    {
     "name": "stdout",
     "output_type": "stream",
     "text": [
      "2191\n",
      "2192\n",
      "2193\n",
      "2194\n",
      "2195\n",
      "2196\n",
      "2197\n"
     ]
    },
    {
     "name": "stderr",
     "output_type": "stream",
     "text": [
      " 88%|▉| 22"
     ]
    },
    {
     "name": "stdout",
     "output_type": "stream",
     "text": [
      "2198\n",
      "2199\n",
      "2200\n",
      "2201\n",
      "2202\n",
      "2203\n",
      "2204\n",
      "2205\n",
      "2206\n",
      "2207\n",
      "2208\n",
      "2209\n",
      "2210\n"
     ]
    },
    {
     "name": "stderr",
     "output_type": "stream",
     "text": [
      "\r",
      " 89%|▉| 22"
     ]
    },
    {
     "name": "stdout",
     "output_type": "stream",
     "text": [
      "2211\n",
      "2212\n",
      "2213\n",
      "2214\n",
      "2215\n",
      "2216\n",
      "2217\n",
      "2218\n"
     ]
    },
    {
     "name": "stderr",
     "output_type": "stream",
     "text": [
      " 89%|▉| 22"
     ]
    },
    {
     "name": "stdout",
     "output_type": "stream",
     "text": [
      "2219\n",
      "2220\n",
      "2221\n",
      "2222\n",
      "2223\n",
      "2224\n",
      "2225\n",
      "2226\n",
      "2227\n",
      "2228\n"
     ]
    },
    {
     "name": "stderr",
     "output_type": "stream",
     "text": [
      "\r",
      " 89%|▉| 22"
     ]
    },
    {
     "name": "stdout",
     "output_type": "stream",
     "text": [
      "2229\n",
      "2230\n",
      "2231\n",
      "2232\n",
      "2233\n"
     ]
    },
    {
     "name": "stderr",
     "output_type": "stream",
     "text": [
      "\r",
      " 89%|▉| 22"
     ]
    },
    {
     "name": "stdout",
     "output_type": "stream",
     "text": [
      "2234\n",
      "2235\n",
      "2236\n",
      "2237\n",
      "2238\n",
      "2239\n",
      "2240\n",
      "2241\n",
      "2242\n"
     ]
    },
    {
     "name": "stderr",
     "output_type": "stream",
     "text": [
      " 90%|▉| 22"
     ]
    },
    {
     "name": "stdout",
     "output_type": "stream",
     "text": [
      "2243\n",
      "2244\n",
      "2245\n",
      "2246\n",
      "2247\n",
      "2248\n",
      "2249\n",
      "2250\n"
     ]
    },
    {
     "name": "stderr",
     "output_type": "stream",
     "text": [
      "\r",
      " 90%|▉| 22"
     ]
    },
    {
     "name": "stdout",
     "output_type": "stream",
     "text": [
      "2251\n",
      "2252\n",
      "2253\n",
      "2254\n",
      "2255\n"
     ]
    },
    {
     "name": "stderr",
     "output_type": "stream",
     "text": [
      "\r",
      " 90%|▉| 22"
     ]
    },
    {
     "name": "stdout",
     "output_type": "stream",
     "text": [
      "2256\n",
      "2257\n",
      "2258\n",
      "2259\n"
     ]
    },
    {
     "name": "stderr",
     "output_type": "stream",
     "text": [
      "\r",
      " 90%|▉| 22"
     ]
    },
    {
     "name": "stdout",
     "output_type": "stream",
     "text": [
      "2260\n",
      "2261\n",
      "2262\n"
     ]
    },
    {
     "name": "stderr",
     "output_type": "stream",
     "text": [
      " 91%|▉| 22"
     ]
    },
    {
     "name": "stdout",
     "output_type": "stream",
     "text": [
      "2263\n",
      "2264\n",
      "2265\n",
      "2266\n"
     ]
    },
    {
     "name": "stderr",
     "output_type": "stream",
     "text": [
      " 91%|▉| 22"
     ]
    },
    {
     "name": "stdout",
     "output_type": "stream",
     "text": [
      "2267\n",
      "2268\n"
     ]
    },
    {
     "name": "stderr",
     "output_type": "stream",
     "text": [
      "\r",
      " 91%|▉| 22"
     ]
    },
    {
     "name": "stdout",
     "output_type": "stream",
     "text": [
      "2269\n",
      "2270\n",
      "2271\n",
      "2272\n"
     ]
    },
    {
     "name": "stderr",
     "output_type": "stream",
     "text": [
      " 91%|▉| 22"
     ]
    },
    {
     "name": "stdout",
     "output_type": "stream",
     "text": [
      "2273\n",
      "2274\n",
      "2275\n"
     ]
    },
    {
     "name": "stderr",
     "output_type": "stream",
     "text": [
      "\r",
      " 91%|▉| 22"
     ]
    },
    {
     "name": "stdout",
     "output_type": "stream",
     "text": [
      "2276\n",
      "2277\n",
      "2278\n"
     ]
    },
    {
     "name": "stderr",
     "output_type": "stream",
     "text": [
      " 91%|▉| 22"
     ]
    },
    {
     "name": "stdout",
     "output_type": "stream",
     "text": [
      "2279\n",
      "2280\n",
      "2281\n"
     ]
    },
    {
     "name": "stderr",
     "output_type": "stream",
     "text": [
      "\r",
      " 91%|▉| 22"
     ]
    },
    {
     "name": "stdout",
     "output_type": "stream",
     "text": [
      "2282\n",
      "2283\n",
      "2284\n",
      "2285\n"
     ]
    },
    {
     "name": "stderr",
     "output_type": "stream",
     "text": [
      "\r",
      " 91%|▉| 22"
     ]
    },
    {
     "name": "stdout",
     "output_type": "stream",
     "text": [
      "2286\n",
      "2287\n",
      "2288\n",
      "2289\n"
     ]
    },
    {
     "name": "stderr",
     "output_type": "stream",
     "text": [
      "\r",
      " 92%|▉| 22"
     ]
    },
    {
     "name": "stdout",
     "output_type": "stream",
     "text": [
      "2290\n",
      "2291\n"
     ]
    },
    {
     "name": "stderr",
     "output_type": "stream",
     "text": [
      "\r",
      " 92%|▉| 22"
     ]
    },
    {
     "name": "stdout",
     "output_type": "stream",
     "text": [
      "2292\n"
     ]
    },
    {
     "name": "stderr",
     "output_type": "stream",
     "text": [
      "\r",
      " 92%|▉| 22"
     ]
    },
    {
     "name": "stdout",
     "output_type": "stream",
     "text": [
      "2293\n",
      "2294\n"
     ]
    },
    {
     "name": "stderr",
     "output_type": "stream",
     "text": [
      " 92%|▉| 22"
     ]
    },
    {
     "name": "stdout",
     "output_type": "stream",
     "text": [
      "2295\n",
      "2296\n"
     ]
    },
    {
     "name": "stderr",
     "output_type": "stream",
     "text": [
      " 92%|▉| 22"
     ]
    },
    {
     "name": "stdout",
     "output_type": "stream",
     "text": [
      "2297\n",
      "2298\n"
     ]
    },
    {
     "name": "stderr",
     "output_type": "stream",
     "text": [
      "\r",
      " 92%|▉| 23"
     ]
    },
    {
     "name": "stdout",
     "output_type": "stream",
     "text": [
      "2299\n",
      "2300\n"
     ]
    },
    {
     "name": "stderr",
     "output_type": "stream",
     "text": [
      "\r",
      " 92%|▉| 23"
     ]
    },
    {
     "name": "stdout",
     "output_type": "stream",
     "text": [
      "2301\n",
      "2302\n",
      "2303\n"
     ]
    },
    {
     "name": "stderr",
     "output_type": "stream",
     "text": [
      "\r",
      " 92%|▉| 23"
     ]
    },
    {
     "name": "stdout",
     "output_type": "stream",
     "text": [
      "2304\n",
      "2305\n"
     ]
    },
    {
     "name": "stderr",
     "output_type": "stream",
     "text": [
      "\r",
      " 92%|▉| 23"
     ]
    },
    {
     "name": "stdout",
     "output_type": "stream",
     "text": [
      "2306\n",
      "2307\n"
     ]
    },
    {
     "name": "stderr",
     "output_type": "stream",
     "text": [
      "\r",
      " 92%|▉| 23"
     ]
    },
    {
     "name": "stdout",
     "output_type": "stream",
     "text": [
      "2308\n",
      "2309\n"
     ]
    },
    {
     "name": "stderr",
     "output_type": "stream",
     "text": [
      "\r",
      " 92%|▉| 23"
     ]
    },
    {
     "name": "stdout",
     "output_type": "stream",
     "text": [
      "2310\n",
      "2311\n",
      "2312\n"
     ]
    },
    {
     "name": "stderr",
     "output_type": "stream",
     "text": [
      " 93%|▉| 23"
     ]
    },
    {
     "name": "stdout",
     "output_type": "stream",
     "text": [
      "2313\n",
      "2314\n",
      "2315\n",
      "2316\n"
     ]
    },
    {
     "name": "stderr",
     "output_type": "stream",
     "text": [
      "\r",
      " 93%|▉| 23"
     ]
    },
    {
     "name": "stdout",
     "output_type": "stream",
     "text": [
      "2317\n",
      "2318\n"
     ]
    },
    {
     "name": "stderr",
     "output_type": "stream",
     "text": [
      "\r",
      " 93%|▉| 23"
     ]
    },
    {
     "name": "stdout",
     "output_type": "stream",
     "text": [
      "2319\n",
      "2320\n",
      "2321\n"
     ]
    },
    {
     "name": "stderr",
     "output_type": "stream",
     "text": [
      " 93%|▉| 23"
     ]
    },
    {
     "name": "stdout",
     "output_type": "stream",
     "text": [
      "2322\n",
      "2323\n",
      "2324\n"
     ]
    },
    {
     "name": "stderr",
     "output_type": "stream",
     "text": [
      " 93%|▉| 23"
     ]
    },
    {
     "name": "stdout",
     "output_type": "stream",
     "text": [
      "2325\n",
      "2326\n",
      "2327\n",
      "2328\n"
     ]
    },
    {
     "name": "stderr",
     "output_type": "stream",
     "text": [
      "\r",
      " 93%|▉| 23"
     ]
    },
    {
     "name": "stdout",
     "output_type": "stream",
     "text": [
      "2329\n",
      "2330\n",
      "2331\n"
     ]
    },
    {
     "name": "stderr",
     "output_type": "stream",
     "text": [
      "\r",
      " 93%|▉| 23"
     ]
    },
    {
     "name": "stdout",
     "output_type": "stream",
     "text": [
      "2332\n",
      "2333\n"
     ]
    },
    {
     "name": "stderr",
     "output_type": "stream",
     "text": [
      "\r",
      " 93%|▉| 23"
     ]
    },
    {
     "name": "stdout",
     "output_type": "stream",
     "text": [
      "2334\n"
     ]
    },
    {
     "name": "stderr",
     "output_type": "stream",
     "text": [
      "\r",
      " 93%|▉| 23"
     ]
    },
    {
     "name": "stdout",
     "output_type": "stream",
     "text": [
      "2335\n",
      "2336\n",
      "2337\n",
      "2338\n"
     ]
    },
    {
     "name": "stderr",
     "output_type": "stream",
     "text": [
      "\r",
      " 94%|▉| 23"
     ]
    },
    {
     "name": "stdout",
     "output_type": "stream",
     "text": [
      "2339\n",
      "2340\n",
      "2341\n"
     ]
    },
    {
     "name": "stderr",
     "output_type": "stream",
     "text": [
      "\r",
      " 94%|▉| 23"
     ]
    },
    {
     "name": "stdout",
     "output_type": "stream",
     "text": [
      "2342\n"
     ]
    },
    {
     "name": "stderr",
     "output_type": "stream",
     "text": [
      "\r",
      " 94%|▉| 23"
     ]
    },
    {
     "name": "stdout",
     "output_type": "stream",
     "text": [
      "2343\n",
      "2344\n",
      "2345\n"
     ]
    },
    {
     "name": "stderr",
     "output_type": "stream",
     "text": [
      " 94%|▉| 23"
     ]
    },
    {
     "name": "stdout",
     "output_type": "stream",
     "text": [
      "2346\n",
      "2347\n",
      "2348\n"
     ]
    },
    {
     "name": "stderr",
     "output_type": "stream",
     "text": [
      "\r",
      " 94%|▉| 23"
     ]
    },
    {
     "name": "stdout",
     "output_type": "stream",
     "text": [
      "2349\n",
      "2350\n"
     ]
    },
    {
     "name": "stderr",
     "output_type": "stream",
     "text": [
      "\r",
      " 94%|▉| 23"
     ]
    },
    {
     "name": "stdout",
     "output_type": "stream",
     "text": [
      "2351\n"
     ]
    },
    {
     "name": "stderr",
     "output_type": "stream",
     "text": [
      "\r",
      " 94%|▉| 23"
     ]
    },
    {
     "name": "stdout",
     "output_type": "stream",
     "text": [
      "2352\n",
      "2353\n"
     ]
    },
    {
     "name": "stderr",
     "output_type": "stream",
     "text": [
      " 94%|▉| 23"
     ]
    },
    {
     "name": "stdout",
     "output_type": "stream",
     "text": [
      "2354\n",
      "2355\n",
      "2356\n"
     ]
    },
    {
     "name": "stderr",
     "output_type": "stream",
     "text": [
      " 94%|▉| 23"
     ]
    },
    {
     "name": "stdout",
     "output_type": "stream",
     "text": [
      "2357\n",
      "2358\n",
      "2359\n"
     ]
    },
    {
     "name": "stderr",
     "output_type": "stream",
     "text": [
      " 94%|▉| 23"
     ]
    },
    {
     "name": "stdout",
     "output_type": "stream",
     "text": [
      "2360\n",
      "2361\n",
      "2362\n"
     ]
    },
    {
     "name": "stderr",
     "output_type": "stream",
     "text": [
      " 95%|▉| 23"
     ]
    },
    {
     "name": "stdout",
     "output_type": "stream",
     "text": [
      "2363\n",
      "2364\n",
      "2365\n",
      "2366\n"
     ]
    },
    {
     "name": "stderr",
     "output_type": "stream",
     "text": [
      "\r",
      " 95%|▉| 23"
     ]
    },
    {
     "name": "stdout",
     "output_type": "stream",
     "text": [
      "2367\n",
      "2368\n",
      "2369\n"
     ]
    },
    {
     "name": "stderr",
     "output_type": "stream",
     "text": [
      " 95%|▉| 23"
     ]
    },
    {
     "name": "stdout",
     "output_type": "stream",
     "text": [
      "2370\n",
      "2371\n"
     ]
    },
    {
     "name": "stderr",
     "output_type": "stream",
     "text": [
      "\r",
      " 95%|▉| 23"
     ]
    },
    {
     "name": "stdout",
     "output_type": "stream",
     "text": [
      "2372\n",
      "2373\n",
      "2374\n"
     ]
    },
    {
     "name": "stderr",
     "output_type": "stream",
     "text": [
      "\r",
      " 95%|▉| 23"
     ]
    },
    {
     "name": "stdout",
     "output_type": "stream",
     "text": [
      "2375\n",
      "2376\n"
     ]
    },
    {
     "name": "stderr",
     "output_type": "stream",
     "text": [
      " 95%|▉| 23"
     ]
    },
    {
     "name": "stdout",
     "output_type": "stream",
     "text": [
      "2377\n",
      "2378\n",
      "2379\n"
     ]
    },
    {
     "name": "stderr",
     "output_type": "stream",
     "text": [
      "\r",
      " 95%|▉| 23"
     ]
    },
    {
     "name": "stdout",
     "output_type": "stream",
     "text": [
      "2380\n",
      "2381\n",
      "2382\n"
     ]
    },
    {
     "name": "stderr",
     "output_type": "stream",
     "text": [
      " 95%|▉| 23"
     ]
    },
    {
     "name": "stdout",
     "output_type": "stream",
     "text": [
      "2383\n",
      "2384\n",
      "2385"
     ]
    },
    {
     "name": "stderr",
     "output_type": "stream",
     "text": [
      "\r",
      " 95%|▉| 23"
     ]
    },
    {
     "name": "stdout",
     "output_type": "stream",
     "text": [
      "\n",
      "2386\n",
      "2387\n"
     ]
    },
    {
     "name": "stderr",
     "output_type": "stream",
     "text": [
      " 96%|▉| 23"
     ]
    },
    {
     "name": "stdout",
     "output_type": "stream",
     "text": [
      "2388\n",
      "2389\n",
      "2390\n",
      "2391\n"
     ]
    },
    {
     "name": "stderr",
     "output_type": "stream",
     "text": [
      "\r",
      " 96%|▉| 23"
     ]
    },
    {
     "name": "stdout",
     "output_type": "stream",
     "text": [
      "2392\n",
      "2393\n",
      "2394\n",
      "2395\n"
     ]
    },
    {
     "name": "stderr",
     "output_type": "stream",
     "text": [
      "\r",
      " 96%|▉| 23"
     ]
    },
    {
     "name": "stdout",
     "output_type": "stream",
     "text": [
      "2396\n",
      "2397\n"
     ]
    },
    {
     "name": "stderr",
     "output_type": "stream",
     "text": [
      "\r",
      " 96%|▉| 23"
     ]
    },
    {
     "name": "stdout",
     "output_type": "stream",
     "text": [
      "2398\n",
      "2399\n"
     ]
    },
    {
     "name": "stderr",
     "output_type": "stream",
     "text": [
      " 96%|▉| 24"
     ]
    },
    {
     "name": "stdout",
     "output_type": "stream",
     "text": [
      "2400\n",
      "2401\n"
     ]
    },
    {
     "name": "stderr",
     "output_type": "stream",
     "text": [
      "\r",
      " 96%|▉| 24"
     ]
    },
    {
     "name": "stdout",
     "output_type": "stream",
     "text": [
      "2402\n",
      "2403\n",
      "2404\n"
     ]
    },
    {
     "name": "stderr",
     "output_type": "stream",
     "text": [
      "\r",
      " 96%|▉| 24"
     ]
    },
    {
     "name": "stdout",
     "output_type": "stream",
     "text": [
      "2405\n"
     ]
    },
    {
     "name": "stderr",
     "output_type": "stream",
     "text": [
      " 96%|▉| 24"
     ]
    },
    {
     "name": "stdout",
     "output_type": "stream",
     "text": [
      "2406\n",
      "2407\n"
     ]
    },
    {
     "name": "stderr",
     "output_type": "stream",
     "text": [
      "\r",
      " 96%|▉| 24"
     ]
    },
    {
     "name": "stdout",
     "output_type": "stream",
     "text": [
      "2408\n",
      "2409\n"
     ]
    },
    {
     "name": "stderr",
     "output_type": "stream",
     "text": [
      "\r",
      " 96%|▉| 24"
     ]
    },
    {
     "name": "stdout",
     "output_type": "stream",
     "text": [
      "2410\n",
      "2411\n"
     ]
    },
    {
     "name": "stderr",
     "output_type": "stream",
     "text": [
      "\r",
      " 96%|▉| 24"
     ]
    },
    {
     "name": "stdout",
     "output_type": "stream",
     "text": [
      "2412\n"
     ]
    },
    {
     "name": "stderr",
     "output_type": "stream",
     "text": [
      " 97%|▉| 24"
     ]
    },
    {
     "name": "stdout",
     "output_type": "stream",
     "text": [
      "2413\n",
      "2414\n"
     ]
    },
    {
     "name": "stderr",
     "output_type": "stream",
     "text": [
      "\r",
      " 97%|▉| 24"
     ]
    },
    {
     "name": "stdout",
     "output_type": "stream",
     "text": [
      "2415\n"
     ]
    },
    {
     "name": "stderr",
     "output_type": "stream",
     "text": [
      " 97%|▉| 24"
     ]
    },
    {
     "name": "stdout",
     "output_type": "stream",
     "text": [
      "2416\n",
      "2417\n",
      "2418\n"
     ]
    },
    {
     "name": "stderr",
     "output_type": "stream",
     "text": [
      " 97%|▉| 24"
     ]
    },
    {
     "name": "stdout",
     "output_type": "stream",
     "text": [
      "2419\n",
      "2420\n",
      "2421\n"
     ]
    },
    {
     "name": "stderr",
     "output_type": "stream",
     "text": [
      " 97%|▉| 24"
     ]
    },
    {
     "name": "stdout",
     "output_type": "stream",
     "text": [
      "2422\n",
      "2423\n"
     ]
    },
    {
     "name": "stderr",
     "output_type": "stream",
     "text": [
      "\r",
      " 97%|▉| 24"
     ]
    },
    {
     "name": "stdout",
     "output_type": "stream",
     "text": [
      "2424\n",
      "2425\n",
      "2426\n",
      "2427\n"
     ]
    },
    {
     "name": "stderr",
     "output_type": "stream",
     "text": [
      "\r",
      " 97%|▉| 24"
     ]
    },
    {
     "name": "stdout",
     "output_type": "stream",
     "text": [
      "2428\n",
      "2429\n"
     ]
    },
    {
     "name": "stderr",
     "output_type": "stream",
     "text": [
      "\r",
      " 97%|▉| 24"
     ]
    },
    {
     "name": "stdout",
     "output_type": "stream",
     "text": [
      "2430\n",
      "2431\n",
      "2432\n"
     ]
    },
    {
     "name": "stderr",
     "output_type": "stream",
     "text": [
      " 97%|▉| 24"
     ]
    },
    {
     "name": "stdout",
     "output_type": "stream",
     "text": [
      "2433\n",
      "2434\n",
      "2435\n"
     ]
    },
    {
     "name": "stderr",
     "output_type": "stream",
     "text": [
      "\r",
      " 97%|▉| 24"
     ]
    },
    {
     "name": "stdout",
     "output_type": "stream",
     "text": [
      "2436\n",
      "2437\n"
     ]
    },
    {
     "name": "stderr",
     "output_type": "stream",
     "text": [
      "\r",
      " 98%|▉| 24"
     ]
    },
    {
     "name": "stdout",
     "output_type": "stream",
     "text": [
      "2438\n",
      "2439\n",
      "2440\n"
     ]
    },
    {
     "name": "stderr",
     "output_type": "stream",
     "text": [
      " 98%|▉| 24"
     ]
    },
    {
     "name": "stdout",
     "output_type": "stream",
     "text": [
      "2441\n",
      "2442\n",
      "2443\n"
     ]
    },
    {
     "name": "stderr",
     "output_type": "stream",
     "text": [
      "\r",
      " 98%|▉| 24"
     ]
    },
    {
     "name": "stdout",
     "output_type": "stream",
     "text": [
      "2444\n",
      "2445\n",
      "2446\n"
     ]
    },
    {
     "name": "stderr",
     "output_type": "stream",
     "text": [
      " 98%|▉| 24"
     ]
    },
    {
     "name": "stdout",
     "output_type": "stream",
     "text": [
      "2447\n",
      "2448\n"
     ]
    },
    {
     "name": "stderr",
     "output_type": "stream",
     "text": [
      "\r",
      " 98%|▉| 24"
     ]
    },
    {
     "name": "stdout",
     "output_type": "stream",
     "text": [
      "2449\n",
      "2450\n"
     ]
    },
    {
     "name": "stderr",
     "output_type": "stream",
     "text": [
      " 98%|▉| 24"
     ]
    },
    {
     "name": "stdout",
     "output_type": "stream",
     "text": [
      "2451\n",
      "2452\n"
     ]
    },
    {
     "name": "stderr",
     "output_type": "stream",
     "text": [
      "\r",
      " 98%|▉| 24"
     ]
    },
    {
     "name": "stdout",
     "output_type": "stream",
     "text": [
      "2453\n"
     ]
    },
    {
     "name": "stderr",
     "output_type": "stream",
     "text": [
      " 98%|▉| 24"
     ]
    },
    {
     "name": "stdout",
     "output_type": "stream",
     "text": [
      "2454\n",
      "2455\n",
      "2456\n"
     ]
    },
    {
     "name": "stderr",
     "output_type": "stream",
     "text": [
      " 98%|▉| 24"
     ]
    },
    {
     "name": "stdout",
     "output_type": "stream",
     "text": [
      "2457\n",
      "2458\n",
      "2459\n",
      "2460\n"
     ]
    },
    {
     "name": "stderr",
     "output_type": "stream",
     "text": [
      " 99%|▉| 24"
     ]
    },
    {
     "name": "stdout",
     "output_type": "stream",
     "text": [
      "2461\n",
      "2462\n"
     ]
    },
    {
     "name": "stderr",
     "output_type": "stream",
     "text": [
      "\r",
      " 99%|▉| 24"
     ]
    },
    {
     "name": "stdout",
     "output_type": "stream",
     "text": [
      "2463\n",
      "2464\n",
      "2465\n"
     ]
    },
    {
     "name": "stderr",
     "output_type": "stream",
     "text": [
      "\r",
      " 99%|▉| 24"
     ]
    },
    {
     "name": "stdout",
     "output_type": "stream",
     "text": [
      "2466\n",
      "2467\n"
     ]
    },
    {
     "name": "stderr",
     "output_type": "stream",
     "text": [
      "\r",
      " 99%|▉| 24"
     ]
    },
    {
     "name": "stdout",
     "output_type": "stream",
     "text": [
      "2468\n",
      "2469\n",
      "2470\n"
     ]
    },
    {
     "name": "stderr",
     "output_type": "stream",
     "text": [
      "\r",
      " 99%|▉| 24"
     ]
    },
    {
     "name": "stdout",
     "output_type": "stream",
     "text": [
      "2471\n"
     ]
    },
    {
     "name": "stderr",
     "output_type": "stream",
     "text": [
      " 99%|▉| 24"
     ]
    },
    {
     "name": "stdout",
     "output_type": "stream",
     "text": [
      "2472\n",
      "2473\n"
     ]
    },
    {
     "name": "stderr",
     "output_type": "stream",
     "text": [
      "\r",
      " 99%|▉| 24"
     ]
    },
    {
     "name": "stdout",
     "output_type": "stream",
     "text": [
      "2474\n",
      "2475\n",
      "2476\n"
     ]
    },
    {
     "name": "stderr",
     "output_type": "stream",
     "text": [
      "\r",
      " 99%|▉| 24"
     ]
    },
    {
     "name": "stdout",
     "output_type": "stream",
     "text": [
      "2477\n",
      "2478\n"
     ]
    },
    {
     "name": "stderr",
     "output_type": "stream",
     "text": [
      "\r",
      " 99%|▉| 24"
     ]
    },
    {
     "name": "stdout",
     "output_type": "stream",
     "text": [
      "2479\n",
      "2480\n"
     ]
    },
    {
     "name": "stderr",
     "output_type": "stream",
     "text": [
      " 99%|▉| 24"
     ]
    },
    {
     "name": "stdout",
     "output_type": "stream",
     "text": [
      "2481\n",
      "2482\n"
     ]
    },
    {
     "name": "stderr",
     "output_type": "stream",
     "text": [
      "\r",
      " 99%|▉| 24"
     ]
    },
    {
     "name": "stdout",
     "output_type": "stream",
     "text": [
      "2483\n",
      "2484\n",
      "2485\n"
     ]
    },
    {
     "name": "stderr",
     "output_type": "stream",
     "text": [
      "\r",
      " 99%|▉| 24"
     ]
    },
    {
     "name": "stdout",
     "output_type": "stream",
     "text": [
      "2486\n",
      "2487\n",
      "2488\n"
     ]
    },
    {
     "name": "stderr",
     "output_type": "stream",
     "text": [
      "100%|▉| 24"
     ]
    },
    {
     "name": "stdout",
     "output_type": "stream",
     "text": [
      "2489\n",
      "2490\n",
      "2491\n"
     ]
    },
    {
     "name": "stderr",
     "output_type": "stream",
     "text": [
      "\r",
      "100%|▉| 24"
     ]
    },
    {
     "name": "stdout",
     "output_type": "stream",
     "text": [
      "2492\n",
      "2493\n"
     ]
    },
    {
     "name": "stderr",
     "output_type": "stream",
     "text": [
      "\r",
      "100%|▉| 24"
     ]
    },
    {
     "name": "stdout",
     "output_type": "stream",
     "text": [
      "2494\n",
      "2495\n"
     ]
    },
    {
     "name": "stderr",
     "output_type": "stream",
     "text": [
      "\r",
      "100%|▉| 24"
     ]
    },
    {
     "name": "stdout",
     "output_type": "stream",
     "text": [
      "2496\n",
      "2497\n",
      "2498\n"
     ]
    },
    {
     "name": "stderr",
     "output_type": "stream",
     "text": [
      "100%|█| 25\n"
     ]
    },
    {
     "name": "stdout",
     "output_type": "stream",
     "text": [
      "2499\n"
     ]
    }
   ],
   "source": [
    "from tqdm import tqdm\n",
    "vehicle_trajectory = []\n",
    "\n",
    "for scene_idx in tqdm(range(2500)):\n",
    "    \n",
    "    scene = zarr_dataset.scenes[scene_idx]\n",
    "    frames = scene['frame_index_interval']\n",
    "    frame_begin = zarr_dataset.frames[frames[0]]\n",
    "    frame_end = zarr_dataset.frames[frames[1]-1]\n",
    "    agents = zarr_dataset.agents[frame_begin['agent_index_interval'][0]:frame_end['agent_index_interval'][1]]\n",
    "\n",
    "    # filter out the agents that are sastified the demand\n",
    "\n",
    "    agents = agents[agents['label_probabilities'][:,[3,5,6,7,8,9]].sum(axis=1) == 1]\n",
    "    agents_id = set(agents['track_id'])\n",
    "    \n",
    "    for idx in agents_id:\n",
    "    \n",
    "        # the reason to use 6:-5 is because some perception results are strange\n",
    "        if agents[agents['track_id']==idx][6:-5].shape[0] >= 50:\n",
    "            agent_info = agents[agents['track_id']==idx][5:-5]\n",
    "            agent_centroid = agent_info[1:]['centroid'][::5]\n",
    "            agent_velocity = np.linalg.norm(agent_info['velocity'], axis =1)\n",
    "            agent_acceleration = np.diff(agent_velocity)[::5]/0.1\n",
    "            agent_velocity = agent_velocity[1:][::5]\n",
    "\n",
    "            num = agent_info[1:][::5].shape[0]//10\n",
    "\n",
    "            for i in range(num):\n",
    "                centroid = agent_centroid[i:i+10]\n",
    "                velocity = agent_velocity[i:i+10][:,np.newaxis]\n",
    "                acceleration = agent_acceleration[i:i+10][:,np.newaxis]\n",
    "                instance = np.hstack((centroid,velocity,acceleration))\n",
    "\n",
    "                vehicle_trajectory.append(instance)\n",
    "                \n",
    "vehicle_trajectory = np.array(vehicle_trajectory)"
   ]
  },
  {
   "cell_type": "code",
   "execution_count": 110,
   "id": "cardiac-morgan",
   "metadata": {},
   "outputs": [],
   "source": [
    "np.save('Vehicle_trajectory.npy',vehicle_trajectory)"
   ]
  },
  {
   "cell_type": "code",
   "execution_count": 109,
   "id": "antique-columbia",
   "metadata": {},
   "outputs": [],
   "source": [
    "import pickle\n",
    "\n",
    "output = open('Vehicle_trajectory.pickle', 'wb')\n",
    "\n",
    "# Pickle dictionary using protocol 0.\n",
    "pickle.dump(vehicle_trajectory, output)"
   ]
  },
  {
   "cell_type": "code",
   "execution_count": null,
   "id": "organizational-capital",
   "metadata": {},
   "outputs": [],
   "source": []
  }
 ],
 "metadata": {
  "kernelspec": {
   "display_name": "Python 3",
   "language": "python",
   "name": "python3"
  },
  "language_info": {
   "codemirror_mode": {
    "name": "ipython",
    "version": 3
   },
   "file_extension": ".py",
   "mimetype": "text/x-python",
   "name": "python",
   "nbconvert_exporter": "python",
   "pygments_lexer": "ipython3",
   "version": "3.7.4"
  }
 },
 "nbformat": 4,
 "nbformat_minor": 5
}
