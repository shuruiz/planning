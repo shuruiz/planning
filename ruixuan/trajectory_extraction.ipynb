{
 "cells": [
  {
   "cell_type": "code",
   "execution_count": 1,
   "id": "equivalent-bunch",
   "metadata": {},
   "outputs": [
    {
     "name": "stderr",
     "output_type": "stream",
     "text": [
      "D:\\Anaconda\\lib\\site-packages\\l5kit\\dataset\\select_agents.py:31: UserWarning: Windows detected. BLOSC_NOLOCK has not been set as it causes memory leaks on Windows.However, writing the mask with this config may be inconsistent.\n",
      "  \"Windows detected. BLOSC_NOLOCK has not been set as it causes memory leaks on Windows.\"\n"
     ]
    }
   ],
   "source": [
    "from turning_scene import *\n",
    "from l5kit.rasterization.rasterizer_builder import _load_metadata"
   ]
  },
  {
   "cell_type": "code",
   "execution_count": 2,
   "id": "cordless-belgium",
   "metadata": {},
   "outputs": [
    {
     "name": "stdout",
     "output_type": "stream",
     "text": [
      "{'format_version': 4, 'model_params': {'model_architecture': 'resnet50', 'history_num_frames': 0, 'future_num_frames': 50, 'step_time': 0.1}, 'raster_params': {'raster_size': [300, 300], 'pixel_size': [0.5, 0.5], 'ego_center': [0.6, 0.5], 'map_type': 'py_semantic', 'satellite_map_key': 'aerial_map/aerial_map.png', 'semantic_map_key': 'semantic_map/semantic_map.pb', 'dataset_meta_key': 'meta.json', 'filter_agents_threshold': 0.5, 'disable_traffic_light_faces': False, 'set_origin_to_bottom': True}, 'val_data_loader': {'key': 'scenes/train.zarr', 'batch_size': 12, 'shuffle': False, 'num_workers': 16}}\n",
      "+------------+------------+------------+---------------+-----------------+----------------------+----------------------+----------------------+---------------------+\n",
      "| Num Scenes | Num Frames | Num Agents | Num TR lights | Total Time (hr) | Avg Frames per Scene | Avg Agents per Frame | Avg Scene Time (sec) | Avg Frame frequency |\n",
      "+------------+------------+------------+---------------+-----------------+----------------------+----------------------+----------------------+---------------------+\n",
      "|   16265    |  4039527   | 320124624  |    38735988   |      112.19     |        248.36        |        79.25         |        24.83         |        10.00        |\n",
      "+------------+------------+------------+---------------+-----------------+----------------------+----------------------+----------------------+---------------------+\n"
     ]
    }
   ],
   "source": [
    "# set env variable for data\n",
    "os.environ[\"L5KIT_DATA_FOLDER\"] = \"C:\\\\Users\\\\zheng\\\\Desktop\\\\UMich\\\\Independent Study\\\\prediction-dataset\"\n",
    "# get config\n",
    "cfg = load_config_data(\"C:\\\\Users\\\\zheng\\\\Desktop\\\\UMich\\\\Independent Study\\\\Codes\\\\python codes\\\\visualisation_config.yaml\")\n",
    "print(cfg)\n",
    "\n",
    "dm = LocalDataManager()\n",
    "dataset_path = dm.require(cfg[\"val_data_loader\"][\"key\"])\n",
    "zarr_dataset = ChunkedDataset(dataset_path)\n",
    "zarr_dataset.open()\n",
    "print(zarr_dataset)\n",
    "\n",
    "rast = build_rasterizer(cfg, dm)\n",
    "ego_dataset = EgoDataset(cfg, zarr_dataset, rast)\n",
    "# agent_dataset = AgentDataset(cfg, zarr_dataset, rast)\n",
    "# Obatin the information from semantic map\n",
    "\n",
    "semantic_map_filepath = dm.require(cfg[\"raster_params\"][\"semantic_map_key\"])\n",
    "dataset_meta = _load_metadata(cfg[\"raster_params\"][\"dataset_meta_key\"], dm)\n",
    "world_to_ecef = np.array(dataset_meta[\"world_to_ecef\"], dtype=np.float64)\n",
    "Map_Api = MapAPI(semantic_map_filepath, world_to_ecef)"
   ]
  },
  {
   "cell_type": "code",
   "execution_count": 3,
   "id": "charitable-accessory",
   "metadata": {},
   "outputs": [],
   "source": [
    "class Trajectory(Scene):\n",
    "    \n",
    "    def __init__(self, dataset, Map_Api):\n",
    "        super(Trajectory, self).__init__(dataset, Map_Api)\n",
    "        self.label_name = ['Car','Van','Tram','Bus','Truck','EV','OV','Bicycle','Motorcycle','Cyclist','Motorcyclist','Pedestrian']\n",
    "        self.label_idx = list(range(3,15))\n",
    "        self.label_dict = dict(zip(self.label_name, self.label_idx))\n",
    "\n",
    "    def label_loc_check(self, target_label):\n",
    "    \n",
    "        agent_id_list = self.agent_list[self.label_dict[target_label]-3]\n",
    "\n",
    "        for agent_id in agent_id_list:\n",
    "            agent_loc = self.agent_centroid[np.where(agent_id==agent_id)[0]]\n",
    "            for centroid in agent_loc:\n",
    "                if self.Junction_region.contains(Point(centroid[0],centroid[1])):\n",
    "#                     print(agent_id)\n",
    "                    return True\n",
    "    \n",
    "    def junction_lane_visualize(self, junction_id):\n",
    "        \n",
    "        plt.figure(figsize=(18,18))\n",
    "        \n",
    "        lane_list = self.Junction_Lane[junction_id]\n",
    "        \n",
    "        for lane in lane_list:\n",
    "            plt.plot(self.map_api.get_lane_coords(lane)['xyz_left'][:,0].tolist()+ self.map_api.get_lane_coords(lane)['xyz_right'][:,0].tolist(),\n",
    "                        self.map_api.get_lane_coords(lane)['xyz_left'][:,1].tolist()+ self.map_api.get_lane_coords(lane)['xyz_right'][:,1].tolist(),\n",
    "                        marker='x', label = lane)\n",
    "\n",
    "        plt.axis(\"equal\")\n",
    "        plt.grid(which='both')\n",
    "        plt.legend(fontsize=20)\n",
    "        axes = plt.gca()  \n",
    "    \n",
    "                \n",
    "    def agent_trajectory(self, scene, target_label, junction, ego_dataset):\n",
    "\n",
    "        self.scene = scene\n",
    "        self.target_label = target_label\n",
    "        self.junction = junction\n",
    "        junction_boundary = {junction:[(300,-1150),[300,-1100],(340,-1100),(340,-1150)]}\n",
    "        self.Junction_region = Polygon(junction_boundary[junction])\n",
    "\n",
    "        self.agent_list = []\n",
    "        frame_interval = self.dataset.scenes[scene]['frame_index_interval']\n",
    "        agent_interval_begin = self.dataset.frames[frame_interval[0]]['agent_index_interval'][0]\n",
    "        agent_interval_end = self.dataset.frames[frame_interval[1]-1]['agent_index_interval'][1]\n",
    "        self.agent_id = self.dataset.agents[agent_interval_begin:agent_interval_end]['track_id']\n",
    "        agent_label_prob = self.dataset.agents[agent_interval_begin:agent_interval_end]['label_probabilities']\n",
    "        self.agent_centroid = self.dataset.agents[agent_interval_begin:agent_interval_end]['centroid']\n",
    "\n",
    "        for label in self.label_idx:\n",
    "            valid_idx = np.where(agent_label_prob[:,label]>0.5)[0]\n",
    "            valid_id = set(self.agent_id[valid_idx])\n",
    "            self.agent_list.append(list(valid_id))\n",
    "\n",
    "\n",
    "        if len(self.agent_list[self.label_dict[target_label]-3])>0 and self.label_loc_check(target_label):\n",
    "            # self.trajectory_junction_visualize(scene, junction, frame_interval, target_label, ego_dataset)\n",
    "            return [scene]\n",
    "        else:\n",
    "            # print('Not feasible scene')\n",
    "            return []\n",
    "            \n",
    "            \n",
    "            \n",
    "    def trajectory_junction_visualize(self, scene, junction, frame_interval, target_label, ego_dataset):\n",
    "        \n",
    "        plt.figure(figsize=(18,18))\n",
    "        lane_list = ['F/RY','AcOB','N3wG']\n",
    "\n",
    "\n",
    "        plt.plot(self.map_api.get_lane_coords(lane_list[0])['xyz_right'][:,0], self.map_api.get_lane_coords(lane_list[0])['xyz_right'][:,1],\n",
    "                     label='Junction: '+junction, color='k',linewidth=5)\n",
    "        for lane in lane_list[1:]:\n",
    "            plt.plot(self.map_api.get_lane_coords(lane)['xyz_right'][:,0], self.map_api.get_lane_coords(lane)['xyz_right'][:,1],\n",
    "                     color='k',linewidth=5)\n",
    "\n",
    "        cmap = plt.get_cmap('gnuplot')    \n",
    "        colors = ['#1f77b4', '#ff7f0e', '#2ca02c', '#d62728', '#9467bd',\n",
    "         '#8c564b', '#e377c2', '#7f7f7f', '#bcbd22', '#17becf','maple','yellowgreen'] \n",
    "\n",
    "        for idx, agent_label in enumerate(self.agent_list):\n",
    "            for agent in agent_label:\n",
    "                agent_loc = self.agent_centroid[np.where(self.agent_id==agent)[0]]\n",
    "                if idx != self.label_dict[target_label]-3 and agent_loc.shape[0] > 30  and np.linalg.norm(agent_loc[0,:]-agent_loc[-1,:]) > 5:\n",
    "                    plt.plot(agent_loc[:,0],agent_loc[:,1],label='Agent ID '+str(agent)+': '+self.label_name[idx], color=colors[idx])\n",
    "\n",
    "                elif idx== self.label_dict[target_label]-3:\n",
    "                    plt.plot(agent_loc[:,0],agent_loc[:,1],label='Agent ID '+str(agent)+': '+self.label_name[idx], color=colors[idx], marker='*')\n",
    "\n",
    "        ego_translation = self.frames[frame_interval[0]:frame_interval[1]]['ego_translation']\n",
    "        plt.plot(ego_translation[:,0],ego_translation[:,1],label='Ego',color='k')\n",
    "        turn = ' Left Turn' if ego_dataset[frame_interval[0]]['yaw']-ego_dataset[frame_interval[1]-1]['yaw'] < 0 else ' Right Turn'\n",
    "\n",
    "        plt.axis(\"equal\")\n",
    "        plt.grid(which='both')\n",
    "        plt.legend(fontsize=20,loc='best')\n",
    "        plt.title('Trajectory : Scene '+str(scene)+turn, fontsize=30)\n",
    "        axes = plt.gca()"
   ]
  },
  {
   "cell_type": "code",
   "execution_count": 4,
   "id": "communist-reproduction",
   "metadata": {},
   "outputs": [],
   "source": [
    "Test = Trajectory(zarr_dataset, Map_Api)\n",
    "Test.generate_info_from_MAP()"
   ]
  },
  {
   "cell_type": "code",
   "execution_count": null,
   "id": "together-metro",
   "metadata": {},
   "outputs": [],
   "source": [
    "junction_scene = np.load('train_junction_scene.npy', allow_pickle=True).item()\n",
    "target_junction = junction_scene['sGK1']"
   ]
  },
  {
   "cell_type": "code",
   "execution_count": null,
   "id": "beginning-circumstances",
   "metadata": {},
   "outputs": [],
   "source": [
    "Test.scene_visualize(13861,ego_dataset,cfg)"
   ]
  },
  {
   "cell_type": "markdown",
   "id": "revised-break",
   "metadata": {},
   "source": [
    "# Find the scene index which are at the intersection: 'sGK1'"
   ]
  },
  {
   "cell_type": "code",
   "execution_count": null,
   "id": "superior-watershed",
   "metadata": {},
   "outputs": [],
   "source": [
    "scene_pedestrian = []\n",
    "\n",
    "for scene in tqdm(target_junction):\n",
    "    scene_pedestrian += Test.agent_trajectory(scene, 'Pedestrian', 'sGK1', ego_dataset)\n",
    "    \n",
    "scene_pedestrian"
   ]
  },
  {
   "cell_type": "code",
   "execution_count": null,
   "id": "loved-satin",
   "metadata": {},
   "outputs": [],
   "source": [
    "import time\n",
    "\n",
    "\n",
    "start = time.time()\n",
    "for idx, valid_scene in enumerate(scene_pedestrian):\n",
    "    Test.scene_visualize(valid_scene,ego_dataset,cfg)\n",
    "    print('Current scene is ',idx)\n",
    "    time.sleep(1)\n",
    "    \n",
    "end = time.time()\n",
    "print(end-start)"
   ]
  },
  {
   "cell_type": "code",
   "execution_count": null,
   "id": "modified-browser",
   "metadata": {},
   "outputs": [],
   "source": [
    "invalid_scene_idx = [1,2,3,6,10,13,15,16,17,19,33,37,39,40,42,54,55,57,58,66,68,70,71,73,74,85,91,92,96,97,101,103,110,111,113,114,116,118,128,130,134,135,140,141,142,148,151,152,156,161,162,163,167,167,190]"
   ]
  },
  {
   "cell_type": "code",
   "execution_count": null,
   "id": "funky-services",
   "metadata": {},
   "outputs": [],
   "source": [
    "target_scene_index = []\n",
    "nontarget_scene_index = []\n",
    "for index, value in enumerate(scene_pedestrian):\n",
    "    \n",
    "    if index in invalid_scene_idx:\n",
    "        nontarget_scene_index.append(value)\n",
    "    else:\n",
    "        target_scene_index.append(value)"
   ]
  },
  {
   "cell_type": "code",
   "execution_count": null,
   "id": "official-maker",
   "metadata": {},
   "outputs": [],
   "source": [
    "scene_index = np.load(\"D:\\\\GitHub\\\\Clone\\\\planning\\\\ruixuan\\\\target_scene_index\\\\target_scene_index.npy\",allow_pickle=True)"
   ]
  }
 ],
 "metadata": {
  "kernelspec": {
   "display_name": "Python 3",
   "language": "python",
   "name": "python3"
  },
  "language_info": {
   "codemirror_mode": {
    "name": "ipython",
    "version": 3
   },
   "file_extension": ".py",
   "mimetype": "text/x-python",
   "name": "python",
   "nbconvert_exporter": "python",
   "pygments_lexer": "ipython3",
   "version": "3.7.4"
  }
 },
 "nbformat": 4,
 "nbformat_minor": 5
}
