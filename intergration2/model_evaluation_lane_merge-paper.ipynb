{
 "cells": [
  {
   "cell_type": "code",
   "execution_count": 1,
   "metadata": {},
   "outputs": [
    {
     "name": "stdout",
     "output_type": "stream",
     "text": [
      "[LogicalDevice(name='/device:GPU:0', device_type='GPU')]\n"
     ]
    }
   ],
   "source": [
    "import numpy as np\n",
    "import tensorflow as tf\n",
    "from tensorflow import keras\n",
    "from tensorflow.keras import layers\n",
    "# from model import _build_model, _build_simple_model, _build_simple_model2\n",
    "from model_reduced import _build_model, _build_simple_model, _build_simple_model2, _build_reduced_model, _build_reduced_model2\n",
    "from core_eval import Graph\n",
    "import itertools\n",
    "import os\n",
    "os.environ[\"CUDA_DEVICE_ORDER\"]=\"PCI_BUS_ID\"   \n",
    "os.environ[\"CUDA_VISIBLE_DEVICES\"]=\"3\"\n",
    "\n",
    "gpus = tf.config.experimental.list_logical_devices('GPU')\n",
    "print(gpus)"
   ]
  },
  {
   "cell_type": "code",
   "execution_count": 2,
   "metadata": {},
   "outputs": [],
   "source": [
    "import scipy.stats\n",
    "import matplotlib.pyplot as plt \n",
    "import math"
   ]
  },
  {
   "cell_type": "code",
   "execution_count": 3,
   "metadata": {},
   "outputs": [
    {
     "name": "stdout",
     "output_type": "stream",
     "text": [
      "WARNING:tensorflow:No training configuration found in save file, so the model was *not* compiled. Compile it manually.\n"
     ]
    }
   ],
   "source": [
    "model =keras.models.load_model('reduced_modelxIII_universal_lm') \n",
    "# initialize env\n",
    "# model =keras.models.load_model('/home/lab1/repo/planning/intergration/reduced_modelxIII_universal') \n",
    "\n",
    "action_dict = list(itertools.product(np.round(np.arange(-0.2,0.21,0.01), decimals=2), \\\n",
    "                                     np.round(np.arange(-5,6,1), decimals=0)))"
   ]
  },
  {
   "cell_type": "code",
   "execution_count": 4,
   "metadata": {},
   "outputs": [
    {
     "name": "stderr",
     "output_type": "stream",
     "text": [
      "/home/lab1/miniconda3/lib/python3.7/site-packages/sklearn/base.py:334: UserWarning: Trying to unpickle estimator BayesianGaussianMixture from version 0.24.1 when using version 0.23.1. This might lead to breaking code or invalid results. Use at your own risk.\n",
      "  UserWarning)\n"
     ]
    },
    {
     "name": "stdout",
     "output_type": "stream",
     "text": [
      "--------------\n",
      "0 236 (0.01, 0) 0.7245768778922984 False feasible inf\n",
      "====================\n",
      "--------------\n",
      "1 236 (0.01, 0) 0.2532045608870958 False feasible inf\n",
      "====================\n",
      "--------------\n",
      "2 236 (0.01, 0) 0.12290747583639351 False feasible inf\n",
      "====================\n",
      "--------------\n",
      "3 236 (0.01, 0) 0.06887717462140132 False feasible inf\n",
      "====================\n",
      "--------------\n",
      "4 236 (0.01, 0) 0.08897399023771681 False feasible inf\n",
      "====================\n",
      "--------------\n",
      "5 236 (0.01, 0) 0.08521731095921736 False feasible inf\n",
      "====================\n",
      "--------------\n",
      "6 236 (0.01, 0) 0.08249838645473502 False feasible inf\n",
      "====================\n",
      "--------------\n",
      "7 236 (0.01, 0) 0.06617280630747992 False feasible inf\n",
      "====================\n",
      "--------------\n",
      "8 236 (0.01, 0) 0.08245055049803852 False feasible inf\n",
      "====================\n",
      "--------------\n",
      "9 236 (0.01, 0) 0.09614448541967123 True reach_goal 5.065807142006104\n",
      "[[0, -915.835, 1430.178, 0.004630304376044947, 31.905136826610086], [1, -913.2109388446158, 1431.8116606430583, 0.014630304376044947, 31.905136826610086], [2, -910.5903143755428, 1433.6946634725796, 1.072835016635196, 35.69845887490501], [3, -908.0487389024534, 1435.7889298511302, -0.5425654450710178, 39.48863253283918], [4, -905.5706884578333, 1438.1367567012305, 1.5057119518900743, 43.45428060087387], [5, -903.0634423876475, 1440.8888965736203, 0.9688811674129776, 47.66594883807282], [6, -900.743956511704, 1443.9212148569484, -0.2109539981445001, 52.58684368329083], [7, -898.6243018202375, 1446.850269096602, -1.406285256663718, 54.10804827390561], [8, -896.7100455235573, 1449.7960366349828, 0.5866415756142198, 56.982868448534305], [9, -894.8862408430425, 1452.9390203000967, 0.3790174890382316, 59.87434400295942], [10, -893.0936573366951, 1456.1656706115223, 0.07970714193661109, 60.9453959009232]]\n",
      "5.065807142006104\n",
      "5.161923961273742\n"
     ]
    }
   ],
   "source": [
    "env2=Graph()\n",
    "timesteps = 10\n",
    "state = env2.reset()\n",
    "for timestep in range(timesteps):\n",
    "    subject_tensor = tf.convert_to_tensor(state[0])\n",
    "    subject_tensor = tf.expand_dims(subject_tensor, 0)\n",
    "\n",
    "    veh_tensor = tf.convert_to_tensor(state[1])  \n",
    "    veh_tensor = tf.expand_dims(veh_tensor, 0)\n",
    "\n",
    "    ped_tensor = tf.convert_to_tensor(state[2])  \n",
    "    ped_tensor = tf.expand_dims(ped_tensor, 0)\n",
    "\n",
    "    cyc_tensor = tf.convert_to_tensor(state[3])  \n",
    "    cyc_tensor = tf.expand_dims(cyc_tensor, 0)\n",
    "\n",
    "    edge_tensor = tf.convert_to_tensor(state[4])   \n",
    "    edge_tensor = tf.expand_dims(edge_tensor, 0) \n",
    "\n",
    "    # state_tensor = tf.expand_dims(state_tensor, 0)\n",
    "    state_tensor = [subject_tensor, veh_tensor, ped_tensor, cyc_tensor, edge_tensor]\n",
    "    action_probs = model(state_tensor, training=False)\n",
    "    # Take best action\n",
    "#     print(action_probs)\n",
    "    print('--------------')\n",
    "    action = tf.argmax(action_probs[0]).numpy()\n",
    "    state_next, reward, done,_, hs, ms, d_min = env2.step(action)\n",
    "   \n",
    "    print(timestep, action, action_dict[action], reward,done, _, d_min)\n",
    "    if done:\n",
    "        break\n",
    "    state = state_next\n",
    "#     print(state)\n",
    "    print(\"====================\")\n",
    "#     if timestep>2:break\n",
    "print(env2.target.history)\n",
    "print(hs)\n",
    "print(ms)"
   ]
  },
  {
   "cell_type": "code",
   "execution_count": 5,
   "metadata": {},
   "outputs": [
    {
     "name": "stdout",
     "output_type": "stream",
     "text": [
      "(10, 2) (11, 2)\n"
     ]
    }
   ],
   "source": [
    "sample = env2.sample\n",
    "# print(sample)\n",
    "target_obs = env2.target.traj[:10]\n",
    "target_planned = np.array(env2.target.history)[:,1:3]\n",
    "print(target_obs.shape, target_planned.shape)"
   ]
  },
  {
   "cell_type": "markdown",
   "metadata": {},
   "source": [
    "# visualization"
   ]
  },
  {
   "cell_type": "code",
   "execution_count": 6,
   "metadata": {},
   "outputs": [],
   "source": [
    "import sys \n",
    "from ruixuan.turning_scene import *\n",
    "from l5kit.rasterization.rasterizer_builder import _load_metadata\n",
    "import time\n",
    "import pickle\n",
    "import math\n",
    "from collections import deque"
   ]
  },
  {
   "cell_type": "code",
   "execution_count": 7,
   "metadata": {},
   "outputs": [
    {
     "name": "stdout",
     "output_type": "stream",
     "text": [
      "{'format_version': 4, 'model_params': {'model_architecture': 'resnet50', 'history_num_frames': 0, 'future_num_frames': 50, 'step_time': 0.1}, 'raster_params': {'raster_size': [320, 320], 'pixel_size': [0.5, 0.5], 'ego_center': [0.6, 0.5], 'map_type': 'py_semantic', 'satellite_map_key': 'aerial_map/aerial_map.png', 'semantic_map_key': 'semantic_map/semantic_map.pb', 'dataset_meta_key': 'meta.json', 'filter_agents_threshold': 0.5, 'disable_traffic_light_faces': False, 'set_origin_to_bottom': True}, 'val_data_loader': {'key': 'scenes/train.zarr', 'batch_size': 12, 'shuffle': False, 'num_workers': 16}}\n",
      "+------------+------------+------------+---------------+-----------------+----------------------+----------------------+----------------------+---------------------+\n",
      "| Num Scenes | Num Frames | Num Agents | Num TR lights | Total Time (hr) | Avg Frames per Scene | Avg Agents per Frame | Avg Scene Time (sec) | Avg Frame frequency |\n",
      "+------------+------------+------------+---------------+-----------------+----------------------+----------------------+----------------------+---------------------+\n",
      "|   16265    |  4039527   | 320124624  |    38735988   |      112.19     |        248.36        |        79.25         |        24.83         |        10.00        |\n",
      "+------------+------------+------------+---------------+-----------------+----------------------+----------------------+----------------------+---------------------+\n"
     ]
    }
   ],
   "source": [
    "# set env variable for data\n",
    "os.environ[\"L5KIT_DATA_FOLDER\"] = \"/home/lab1/repo/planning/prediction-dataset\"\n",
    "# get config\n",
    "cfg = load_config_data(\"/home/lab1/repo/planning/ruixuan/visualisation_config.yaml\")\n",
    "print(cfg)\n",
    "\n",
    "dm = LocalDataManager()\n",
    "dataset_path = dm.require(cfg[\"val_data_loader\"][\"key\"])\n",
    "zarr_dataset = ChunkedDataset(dataset_path)\n",
    "zarr_dataset.open()\n",
    "print(zarr_dataset)\n",
    "\n",
    "rast = build_rasterizer(cfg, dm)\n",
    "ego_dataset = EgoDataset(cfg, zarr_dataset, rast)\n",
    "\n",
    "semantic_map_filepath = dm.require(cfg[\"raster_params\"][\"semantic_map_key\"])\n",
    "dataset_meta = _load_metadata(cfg[\"raster_params\"][\"dataset_meta_key\"], dm)\n",
    "world_to_ecef = np.array(dataset_meta[\"world_to_ecef\"], dtype=np.float64)\n",
    "Map_Api = MapAPI(semantic_map_filepath, world_to_ecef)"
   ]
  },
  {
   "cell_type": "code",
   "execution_count": 8,
   "metadata": {},
   "outputs": [],
   "source": [
    "class Trajectory(Scene):\n",
    "    \n",
    "    def __init__(self, dataset, Map_Api):\n",
    "        super(Trajectory, self).__init__(dataset, Map_Api)\n",
    "        self.label_name = ['Car','Van','Tram','Bus','Truck','EV','OV','Bicycle',\\\n",
    "                           'Motorcycle','Cyclist','Motorcyclist','Pedestrian']\n",
    "        self.label_idx = list(range(3,15))\n",
    "        self.label_dict = dict(zip(self.label_name, self.label_idx))\n",
    "        self.all_traffic_control = None\n",
    "        self.Traffic_Control = None\n",
    "\n",
    "    def generate_info_from_MAP(self):\n",
    "        self.all_junctions = self.get_elements(\"junction\")\n",
    "        self.all_lanes = self.get_elements(\"lane\")\n",
    "        self.all_traffic_control = self.get_elements(\"traffic_control_element\")\n",
    "        self.Lane = {self.map_api.id_as_str(lane.id):lane.element.lane for lane in self.all_lanes}\n",
    "        self.Junction = {self.map_api.id_as_str(junction.id):junction for junction in self.all_junctions}\n",
    "        self.Traffic_Control = {self.map_api.id_as_str(traffic_control.id):traffic_control.element for traffic_control in self.all_traffic_control}\n",
    "        \n",
    "        for junction in self.all_junctions:\n",
    "            self.Junction_Lane[self.map_api.id_as_str(junction.id)] = []\n",
    "\n",
    "            for lane in junction.element.junction.lanes:\n",
    "                self.Junction_Lane[self.map_api.id_as_str(junction.id)].append(self.map_api.id_as_str(lane))\n",
    "\n",
    "            self.Junction_Lane[self.map_api.id_as_str(junction.id)] = set(self.Junction_Lane[self.map_api.id_as_str(junction.id)])\n",
    "        \n",
    "        self.junction_scene = dict.fromkeys(list(self.Junction.keys()), [])\n",
    "        self.junction_turning_scene = dict.fromkeys(list(self.Junction.keys()), {})\n",
    "        for key in self.Junction.keys():\n",
    "            self.junction_turning_scene[key] = {'Turning Left': [], 'Turning Right': []}    \n",
    "        \n",
    "        \n",
    "    def label_loc_check(self, target_label):\n",
    "    \n",
    "        agent_id_list = self.agent_list[self.label_dict[target_label]-3]\n",
    "\n",
    "        for agent_id in agent_id_list:\n",
    "            agent_loc = self.agent_centroid[np.where(self.agent_id==agent_id)[0]]\n",
    "            for centroid in agent_loc:\n",
    "                if self.Junction_region.contains(Point(centroid[0],centroid[1])):\n",
    "                    return True\n",
    "    \n",
    "    def junction_lane_visualize(self, junction_id):\n",
    "        \n",
    "        plt.figure(figsize=(18,18))\n",
    "        \n",
    "        lane_list = self.Junction_Lane[junction_id]\n",
    "        \n",
    "        for lane in lane_list:\n",
    "            plt.plot(self.map_api.get_lane_coords(lane)['xyz_left'][:,0].tolist()+ self.map_api.get_lane_coords(lane)['xyz_right'][:,0].tolist(),\n",
    "                        self.map_api.get_lane_coords(lane)['xyz_left'][:,1].tolist()+ self.map_api.get_lane_coords(lane)['xyz_right'][:,1].tolist(),\n",
    "                        marker='x', label = lane)\n",
    "\n",
    "        plt.axis(\"equal\")\n",
    "        plt.grid(which='both')\n",
    "        plt.legend(fontsize=20)\n",
    "        axes = plt.gca()  \n",
    "    \n",
    "                \n",
    "    def agent_trajectory(self, scene, target_label, junction_boundary):\n",
    "\n",
    "        self.scene = scene\n",
    "        self.target_label = target_label\n",
    "#         self.junction = junction\n",
    "        # region for junction \"sGK1\"\n",
    "#         junction_boundary = {junction:[(300,-1150),[300,-1100],(340,-1100),(340,-1150)]}\n",
    "\n",
    "        # region for junction \"8KfB\"\n",
    "#         junction_boundary = {junction:[(500,-2420),(500,-2360),(560,-2360),(560,-2420)]}\n",
    "        \n",
    "        # region for lane merge\n",
    "#         junction_boundary = {junction:[(-940,1380),(-940,1480),(-880,1380),(-880,1480)]}\n",
    "\n",
    "        self.Junction_region = Polygon(junction_boundary)\n",
    "\n",
    "        self.agent_list = []\n",
    "        frame_interval = self.dataset.scenes[scene]['frame_index_interval']\n",
    "        agent_interval_begin = self.dataset.frames[frame_interval[0]]['agent_index_interval'][0]\n",
    "        agent_interval_end = self.dataset.frames[frame_interval[1]-1]['agent_index_interval'][1]\n",
    "        self.agent_id = self.dataset.agents[agent_interval_begin:agent_interval_end]['track_id']\n",
    "        agent_label_prob = self.dataset.agents[agent_interval_begin:agent_interval_end]['label_probabilities']\n",
    "        self.agent_centroid = self.dataset.agents[agent_interval_begin:agent_interval_end]['centroid']\n",
    "\n",
    "        for label in self.label_idx:\n",
    "            valid_idx = np.where(agent_label_prob[:,label]>0.5)[0]\n",
    "            valid_id = set(self.agent_id[valid_idx])\n",
    "            self.agent_list.append(list(valid_id))\n",
    "\n",
    "        if len(self.agent_list[self.label_dict[target_label]-3])>0 and self.label_loc_check(target_label):\n",
    "            return [scene]\n",
    "        else:\n",
    "            # print('Not feasible scene')\n",
    "            return []\n",
    "        \n",
    "    def get_agent_traj(self, scene, target_label, junction, lane_list):\n",
    "        veh_traj, ped_traj, cyclist_traj=[], [], [] \n",
    "        print(self.label_dict, self.label_dict[target_label])\n",
    "        for idx, agent_label in enumerate(self.agent_list):\n",
    "            print(\"xxx\", idx, agent_label)\n",
    "            for agent in agent_label:\n",
    "                agent_loc = self.agent_centroid[np.where(self.agent_id==agent)[0]]\n",
    "                if idx != self.label_dict[target_label]-3 and agent_loc.shape[0] > 200  \\\n",
    "                and np.linalg.norm(agent_loc[0,:]-agent_loc[-1,:]) > 5:\n",
    "                    veh_traj.append(agent_loc)\n",
    "#                     plt.plot(agent_loc[:,0],agent_loc[:,1],label='Agent ID '+str(agent)+': '\\\n",
    "#                              +self.label_name[idx], color=colors[idx])\n",
    "\n",
    "                elif idx== self.label_dict[target_label]-3 and agent_loc.shape[0] > 100:\n",
    "                    ped_traj.append(agent_loc)\n",
    "        veh_traj, ped_traj, cyclist_traj = np.array(veh_traj), np.array(ped_traj), np.array(cyclist_traj)\n",
    "        return veh_traj, ped_traj,cyclist_traj\n",
    "#                     plt.plot(agent_loc[:,0],agent_loc[:,1], color=colors[idx], marker='*')\n",
    "            \n",
    "            \n",
    "            \n",
    "    def trajectory_junction_visualize(self, scene, target_label, junction, lane_list):\n",
    "        \n",
    "        frame_interval = self.dataset.scenes[scene]['frame_index_interval']\n",
    "        \n",
    "        plt.figure(figsize=(18,18))\n",
    "\n",
    "        for lane in lane_list:\n",
    "            plt.plot(self.map_api.get_lane_coords(lane)['xyz_right'][:,0], self.map_api.get_lane_coords(lane)['xyz_right'][:,1],\n",
    "                     color='k',linewidth=5, alpha=0.2)\n",
    "            plt.plot(self.map_api.get_lane_coords(lane)['xyz_left'][:,0], self.map_api.get_lane_coords(lane)['xyz_left'][:,1],\n",
    "                     color='k',linewidth=5, alpha=0.2)\n",
    "\n",
    "        cmap = plt.get_cmap('gnuplot')    \n",
    "        colors = ['#1f77b4', '#ff7f0e', '#2ca02c', '#d62728', '#9467bd',\n",
    "         '#8c564b', '#e377c2', '#7f7f7f', '#bcbd22', '#17becf','maple','yellowgreen'] \n",
    "\n",
    "        for idx, agent_label in enumerate(self.agent_list):\n",
    "            for agent in agent_label:\n",
    "                agent_loc = self.agent_centroid[np.where(self.agent_id==agent)[0]]\n",
    "                if idx != self.label_dict[target_label]-3 and agent_loc.shape[0] > 100  and np.linalg.norm(agent_loc[0,:]-agent_loc[-1,:]) > 5:\n",
    "                    plt.plot(agent_loc[:,0],agent_loc[:,1],label='Agent ID '+str(agent)+': '+self.label_name[idx], color=colors[idx])\n",
    "\n",
    "                elif idx== self.label_dict[target_label]-3 and  agent_loc.shape[0] > 100:\n",
    "                    plt.plot(agent_loc[:,0],agent_loc[:,1], color=colors[idx], marker='*')\n",
    "\n",
    "        ego_translation = self.frames[frame_interval[0]:frame_interval[1]]['ego_translation']\n",
    "        plt.plot(ego_translation[:,0],ego_translation[:,1],label='Ego',color='r')\n",
    "        turn = ' Left Turn' if rotation33_as_yaw(self.frames[frame_interval[0]]['ego_rotation']) - rotation33_as_yaw(self.frames[frame_interval[1]-1]['ego_rotation']) < 0 else ' Right Turn'\n",
    "\n",
    "        plt.axis(\"equal\")\n",
    "        plt.grid(which='both')\n",
    "        plt.legend(fontsize=20,loc='best')\n",
    "        plt.title('Trajectory : Scene '+str(scene)+turn+' at Junction '+junction, fontsize=30)\n",
    "        axes = plt.gca()\n"
   ]
  },
  {
   "cell_type": "code",
   "execution_count": 9,
   "metadata": {},
   "outputs": [],
   "source": [
    "junction_lane_merge = np.load('ruixuan/target_scene_index/lane_merge/scene_index(lane_merge)_Pedestrian.npy',allow_pickle = True)\n",
    "junction_8KfB = np.load('ruixuan/target_scene_index/8KfB/scene_index(8KfB)_Pedestrian.npy',allow_pickle = True)"
   ]
  },
  {
   "cell_type": "code",
   "execution_count": 10,
   "metadata": {},
   "outputs": [],
   "source": [
    "lane_list = {}\n",
    "junction_boundary = {}\n",
    "# extend lane sequences\n",
    "lane_list['lane_merge'] = ['ADrl',\"oFEC\",'m0JU','iQgg','M5V5','/Pgg','FFEC','XHTU']\n",
    "lane_list['8KfB'] = ['/24B','6p63','FV1O','MV/U','SxVb','TG2b','TZZv','ZnUV','bH1o','dddQ','nXc0','zHjP','SD8o','vC8o']\n",
    "junction_boundary['lane_merge'] = [(-940,1380),(-940,1480),(-880,1380),(-880,1480)]\n",
    "junction_boundary['8KfB'] = [(500,-2420),(500,-2360),(560,-2360),(560,-2420)]\n",
    "# junction_boundary['8KfB'] = [(450,-2400),(500,-2360),(560,-2360),(560,-2420)]\n",
    "grid_boundary={}\n",
    "grid_boundary['lane_merge']={'X':[-990, -850], 'Y':[1390, 1490]}\n",
    "grid_boundary['8KfB']={'X':[450,600], 'Y':[-2450, -2300]}"
   ]
  },
  {
   "cell_type": "code",
   "execution_count": 11,
   "metadata": {},
   "outputs": [],
   "source": [
    "Test = Trajectory(zarr_dataset, Map_Api)\n",
    "Test.generate_info_from_MAP()"
   ]
  },
  {
   "cell_type": "code",
   "execution_count": 12,
   "metadata": {},
   "outputs": [],
   "source": [
    "def get_grid(intersection_id,grid_boundary):\n",
    "    x = grid_boundary[intersection_id]['X']\n",
    "    y = grid_boundary[intersection_id]['Y']\n",
    "    x_ = np.linspace(x[0], x[1],150)\n",
    "    y_ = np.linspace(y[0], y[1],150)\n",
    "    x_mesh, y_mesh = np.meshgrid(x_, y_)\n",
    "    return x_mesh, y_mesh\n",
    "\n",
    "def locate_in_mesh(x_mesh, y_mesh, point):\n",
    "    x, y = point[0], point[1]\n",
    "    result=[]\n",
    "#     print(x, y, x_mesh[0], x_mesh[-1], y_mesh[0], y_mesh[-1])\n",
    "    if x>x_mesh[-1] or x<x_mesh[0] or y>y_mesh[-1] or y<y_mesh[0]:\n",
    "        return None\n",
    "    result = [math.floor(x-x_mesh[0]), math.floor(y-y_mesh[0])]\n",
    "    return result\n",
    "\n",
    "def plot_scene_on_grid(intersection_id, lane_list, grid_boundary, veh=None, ped=None, cyc=None):\n",
    "    \"\"\"\n",
    "    plt agent trajectories in the grid map for a scene\n",
    "    \"\"\"\n",
    "    plt.figure(figsize=(18,18))\n",
    "    plt.xlim(grid_boundary[intersection_id]['X'][0],grid_boundary[intersection_id]['X'][1])\n",
    "    plt.ylim(grid_boundary[intersection_id]['Y'][0],grid_boundary[intersection_id]['Y'][1])\n",
    "    for lane in lane_list[intersection_id]:\n",
    "        plt.plot(Test.map_api.get_lane_coords(lane)['xyz_right'][:,0], Test.map_api.get_lane_coords(lane)['xyz_right'][:,1],\n",
    "                 color='g',linewidth=1,label=lane)\n",
    "        plt.plot(Test.map_api.get_lane_coords(lane)['xyz_left'][:,0], Test.map_api.get_lane_coords(lane)['xyz_left'][:,1],\n",
    "                 color='g',linewidth=1)\n",
    "#         print(\"lane coordinates right\", Test.map_api.get_lane_coords(lane)['xyz_right'][:,0])\n",
    "    x_mesh, y_mesh = get_grid(intersection_id, grid_boundary)\n",
    "#     print(x_mesh.shape, y_mesh[:,1])\n",
    "    plt.plot(x_mesh, y_mesh, c='grey', linewidth=0.1) # use plot, not scatter\n",
    "    plt.plot(np.transpose(x_mesh), np.transpose(y_mesh),c='grey', linewidth=0.1) # add this here\n",
    "#     plt.title(intersection_id,fontsize=30)\n",
    "\n",
    "    if veh is not None:\n",
    "        for traj in veh: plt.plot(traj[:,0],traj[:,1], c='b',linewidth=0.5)\n",
    "    if ped is not None:\n",
    "        for traj in ped: plt.scatter(traj[:,0],traj[:,1], c='orange',linewidth=0.5)\n",
    "    if cyc is not None:\n",
    "        for traj in cyc: plt.plot(traj[:,0],traj[:,1], c='cyan',linewidth=0.5)\n",
    "    plt.axis('off')\n",
    "    plt.show()\n",
    "    \n",
    "def plot_planned_on_grid(intersection_id, lane_list, grid_boundary, veh=None, ped=None, cyc=None,\\\n",
    "                        target_obs=None, planned=None, other_planned=None):\n",
    "    \"\"\"\n",
    "    plt agent trajectories in the grid map for a scene\n",
    "    \"\"\"\n",
    "    plt.figure(figsize=(18,18))\n",
    "    plt.xlim(grid_boundary[intersection_id]['X'][0],grid_boundary[intersection_id]['X'][1])\n",
    "    plt.ylim(grid_boundary[intersection_id]['Y'][0],grid_boundary[intersection_id]['Y'][1])\n",
    "    for lane in lane_list[intersection_id]:\n",
    "        plt.plot(Test.map_api.get_lane_coords(lane)['xyz_right'][:,0], Test.map_api.get_lane_coords(lane)['xyz_right'][:,1],\n",
    "                 color='g',linewidth=1,label=lane)\n",
    "        plt.plot(Test.map_api.get_lane_coords(lane)['xyz_left'][:,0], Test.map_api.get_lane_coords(lane)['xyz_left'][:,1],\n",
    "                 color='g',linewidth=1)\n",
    "#         print(\"lane coordinates right\", Test.map_api.get_lane_coords(lane)['xyz_right'][:,0])\n",
    "    x_mesh, y_mesh = get_grid(intersection_id, grid_boundary)\n",
    "#     print(x_mesh.shape, y_mesh[:,1])\n",
    "    plt.plot(x_mesh, y_mesh, c='grey', linewidth=0.1) # use plot, not scatter\n",
    "    plt.plot(np.transpose(x_mesh), np.transpose(y_mesh),c='grey', linewidth=0.1) # add this here\n",
    "#     plt.title(intersection_id,fontsize=30)\n",
    "\n",
    "    if veh is not None:\n",
    "        for traj in veh: plt.plot(traj[:,0],traj[:,1], c='b',linewidth=0.5)\n",
    "    if ped is not None:\n",
    "        for traj in ped: plt.scatter(traj[:,0],traj[:,1], c='orange',linewidth=0.5)\n",
    "    if cyc is not None:\n",
    "        for traj in cyc: plt.plot(traj[:,0],traj[:,1], c='cyan',linewidth=0.5)\n",
    "    if target_obs is not None:\n",
    "        plt.plot(target_obs[:,0],target_obs[:,1], c='green',linewidth=1)\n",
    "    if planned is not None:\n",
    "        plt.plot(planned[:,0],planned[:,1], c='red',linewidth=1)\n",
    "    if other_planned is not None:\n",
    "        plt.plot(planned[:,0],planned[:,1], c='pink',linewidth=1)\n",
    "    plt.axis('off')\n",
    "    plt.show()\n",
    "    "
   ]
  },
  {
   "cell_type": "code",
   "execution_count": 13,
   "metadata": {},
   "outputs": [],
   "source": [
    "def animate_planned_on_grid(intersection_id, lane_list, grid_boundary, veh=None, ped=None,\\\n",
    "                            cyc=None, target_obs=None, planned=None):\n",
    "    \"\"\"\n",
    "    plt agent trajectories in the grid map for a scene\n",
    "    \"\"\"\n",
    "    for idx in range(20):\n",
    "        plt.figure(figsize=(18,18),frameon=False)\n",
    "        plt.xlim(grid_boundary[intersection_id]['X'][0],grid_boundary[intersection_id]['X'][1])\n",
    "        plt.ylim(grid_boundary[intersection_id]['Y'][0],grid_boundary[intersection_id]['Y'][1])\n",
    "        for lane in lane_list[intersection_id]:\n",
    "            plt.plot(Test.map_api.get_lane_coords(lane)['xyz_right'][:,0], Test.map_api.get_lane_coords(lane)['xyz_right'][:,1],\n",
    "                     color='g',linewidth=1,label=lane)\n",
    "            plt.plot(Test.map_api.get_lane_coords(lane)['xyz_left'][:,0], Test.map_api.get_lane_coords(lane)['xyz_left'][:,1],\n",
    "                     color='g',linewidth=1)\n",
    "    #         print(\"lane coordinates right\", Test.map_api.get_lane_coords(lane)['xyz_right'][:,0])\n",
    "        x_mesh, y_mesh = get_grid(intersection_id, grid_boundary)\n",
    "    #     print(x_mesh.shape, y_mesh[:,1])\n",
    "        plt.plot(x_mesh, y_mesh, c='grey', linewidth=0.1) # use plot, not scatter\n",
    "        plt.plot(np.transpose(x_mesh), np.transpose(y_mesh),c='grey', linewidth=0.1) # add this here\n",
    "    #     plt.title(intersection_id,fontsize=30)\n",
    "\n",
    "    \n",
    "        if veh is not None:\n",
    "            for traj in veh: \n",
    "                plt.plot(traj[:idx,0],traj[:idx,1], c='b',linewidth=1)\n",
    "        if ped is not None:\n",
    "            for traj in ped: \n",
    "                plt.plot(traj[:idx,0],traj[:idx,1], c='orange',linewidth=1)\n",
    "        if cyc is not None:\n",
    "            for traj in cyc: \n",
    "                plt.plot(traj[:idx,0],traj[:idx,1], c='cyan',linewidth=1)\n",
    "                \n",
    "        if target_obs is not None and planned is not None:\n",
    "            if idx<10:\n",
    "                plt.plot(target_obs[:idx,0],target_obs[:idx,1], c='green',linewidth=1)\n",
    "            else:\n",
    "                plt.plot(target_obs[:10,0],target_obs[:10,1], c='green',linewidth=1)\n",
    "                plt.plot(planned[:idx-9,0],planned[:idx-9,1], c='red',linewidth=2)\n",
    "\n",
    "        plt.axis('off')\n",
    "        plt.ioff()\n",
    "#         plt.savefig(\"animation_fig/%s.png\" %(str(idx)),  bbox_inches='tight',pad_inches = 0)\n",
    "        plt.show()"
   ]
  },
  {
   "cell_type": "code",
   "execution_count": 14,
   "metadata": {},
   "outputs": [],
   "source": [
    "\n",
    "    \n",
    "def get_aseq(traj):\n",
    "    aseq=[]\n",
    "    vseq=[]\n",
    "    for i in range(9,len(traj)-1):\n",
    "        curr = traj[i+1]\n",
    "        prev = traj[i]\n",
    "        prev2= traj[i-1]\n",
    "        v10 = np.linalg.norm(curr - prev)/0.5\n",
    "        v9 = np.linalg.norm(prev - prev2)/0.5\n",
    "        a = (v10-v9)/0.5\n",
    "        aseq.append(a)\n",
    "        vseq.append((v10+v9)/2)\n",
    "    return aseq, vseq\n",
    "    \n",
    "def get_jerkness(traj):\n",
    "    \"\"\"\n",
    "    compute the jerkness of the trajectory of 20 points\n",
    "    \"\"\"\n",
    "   \n",
    "    history_a,history_v = get_aseq(traj)\n",
    "    jerk=[]\n",
    "    for i in range(1,len(history_a)):\n",
    "        jerk.append(abs((history_a[i]-history_a[i-1])/0.5))\n",
    "    return jerk\n",
    "\n",
    "def get_energy_consumption(vseq, aseq):\n",
    "    # ref: https://www.sciencedirect.com/science/article/pii/S1361920915301280?casa_token=8cxvEOX36HEAAAAA:pb0MizZnGEW4ZMZKnRPgURXOsd6COFG_IuWO-8oVWkXSLcY3D0t9oFXuRogrHWTsnW_jFKgYtw\n",
    "    E=[]\n",
    "    accumulated_e=[0]\n",
    "    for t in range(len(vseq)):\n",
    "        v, a=vseq[t], aseq[t]\n",
    "        if a<=0:\n",
    "            accumulated_e.append(accumulated_e[-1])\n",
    "            continue # break, no energy consumed\n",
    "        #ford\n",
    "        p = 1110*v-96.61*(v**2)+2.745*(v**3) + 1439*v*a\n",
    "        E.append(p*0.5)\n",
    "        accumulated_e.append(accumulated_e[-1] + p*0.5)\n",
    "#         E.append(accumulated_e)\n",
    "    return accumulated_e"
   ]
  },
  {
   "cell_type": "code",
   "execution_count": null,
   "metadata": {},
   "outputs": [],
   "source": []
  },
  {
   "cell_type": "code",
   "execution_count": 16,
   "metadata": {},
   "outputs": [
    {
     "data": {
      "image/png": "[encoded data removed]",
      "text/plain": [
       "<Figure size 432x288 with 1 Axes>"
      ]
     },
     "metadata": {
      "needs_background": "light"
     },
     "output_type": "display_data"
    },
    {
     "data": {
      "image/png": "[encoded data removed]",
      "text/plain": [
       "<Figure size 432x288 with 1 Axes>"
      ]
     },
     "metadata": {
      "needs_background": "light"
     },
     "output_type": "display_data"
    },
    {
     "data": {
      "image/png": "[encoded data removed]",
      "text/plain": [
       "<Figure size 432x288 with 1 Axes>"
      ]
     },
     "metadata": {
      "needs_background": "light"
     },
     "output_type": "display_data"
    },
    {
     "name": "stdout",
     "output_type": "stream",
     "text": [
      "Total energy consumed for human/model 278742.8181997854 197239.7515522429\n"
     ]
    }
   ],
   "source": [
    "jerk_human = get_jerkness(env2.target.traj)\n",
    "# print(\"jerk_human\",jerk_human)\n",
    "jerk_planned = get_jerkness(np.vstack((target_obs, target_planned[1:])))\n",
    "# print(\"jerk_planned\",jerk_planned)\n",
    "x = np.arange(len(jerk_human))\n",
    "plt.title('Jerkiness overtime')\n",
    "plt.plot(np.arange(len(jerk_human)), jerk_human, label='Human driver (simulated)')\n",
    "plt.plot(np.arange(len(jerk_planned)), jerk_planned, label= \"Predictive planned\")\n",
    "plt.legend()\n",
    "# plt.savefig('result_fig/jerk')\n",
    "plt.show()\n",
    "\n",
    "\n",
    "acc_human, v_human = get_aseq(env2.target.traj)\n",
    "acc_planned, v_planned = get_aseq(np.vstack((target_obs, target_planned[1:])))\n",
    "# print(\"acc_human\", acc_human)\n",
    "# print(\"v_human\", v_human)\n",
    "# print(\"acc_planned\", acc_planned)\n",
    "# print(\"v_planned\", v_planned)\n",
    "x = np.arange(len(acc_human))\n",
    "plt.title(\"Acceleration over time\")\n",
    "plt.plot(np.arange(len(acc_human)), acc_human, label='Human driver (simulated)')\n",
    "plt.plot(np.arange(len(acc_planned)), acc_planned, label= \"Predictive planned\")\n",
    "plt.legend()\n",
    "# plt.savefig('result_fig/acc')\n",
    "plt.show()\n",
    "\n",
    "e_human  = get_energy_consumption(v_human, acc_human)\n",
    "e_planned = get_energy_consumption(v_planned, acc_planned)\n",
    "# print(\"e_human\", e_human)\n",
    "# print(\"e_planned\", e_planned)\n",
    "# print(\"energy consumption by human/planned\",e_human, e_planned)\n",
    "plt.plot(np.arange(len(e_planned)),e_human ,label='Human driver (simulated)')\n",
    "plt.plot(np.arange(len(e_planned)),e_planned, label= \"Predictive planned\" )\n",
    "plt.legend()\n",
    "plt.title(\"Accumulated energy consumption\")\n",
    "plt.show()\n",
    "print('Total energy consumed for human/model', sum(e_human), sum(e_planned))"
   ]
  },
  {
   "cell_type": "code",
   "execution_count": 17,
   "metadata": {},
   "outputs": [
    {
     "data": {
      "image/png": "[encoded data removed]",
      "text/plain": [
       "<Figure size 1296x1296 with 1 Axes>"
      ]
     },
     "metadata": {
      "needs_background": "light"
     },
     "output_type": "display_data"
    }
   ],
   "source": [
    "plot_planned_on_grid('lane_merge', lane_list=lane_list, \\\n",
    "                           grid_boundary=grid_boundary, veh=sample['veh'][:], ped=sample['ped'], cyc=sample['cyc'],\n",
    "                    target_obs=target_obs, planned=target_planned, other_planned=None)"
   ]
  },
  {
   "cell_type": "code",
   "execution_count": 18,
   "metadata": {},
   "outputs": [],
   "source": [
    "# pickle.dump(sample, open(\"some_scenes/collision_with_ped_scene\", 'wb'))\n",
    "# pickle.dump(target_obs, open(\"some_scenes/collision_with_ped_target_obs\", 'wb'))\n",
    "# pickle.dump(target_planned, open(\"some_scenes/collision_with_ped_target_planned\", 'wb'))"
   ]
  },
  {
   "cell_type": "markdown",
   "metadata": {},
   "source": [
    "# investigate group behavior"
   ]
  },
  {
   "cell_type": "code",
   "execution_count": 282,
   "metadata": {},
   "outputs": [
    {
     "name": "stderr",
     "output_type": "stream",
     "text": [
      "/home/lab1/miniconda3/lib/python3.7/site-packages/sklearn/base.py:334: UserWarning: Trying to unpickle estimator BayesianGaussianMixture from version 0.24.1 when using version 0.23.1. This might lead to breaking code or invalid results. Use at your own risk.\n",
      "  UserWarning)\n"
     ]
    },
    {
     "name": "stdout",
     "output_type": "stream",
     "text": [
      "0 out of 1000\n",
      "100 out of 1000\n",
      "100 out of 1000\n",
      "200 out of 1000\n",
      "200 out of 1000\n",
      "300 out of 1000\n",
      "400 out of 1000\n",
      "500 out of 1000\n",
      "600 out of 1000\n",
      "700 out of 1000\n",
      "800 out of 1000\n",
      "900 out of 1000\n",
      "Done\n"
     ]
    }
   ],
   "source": [
    "env2=Graph()\n",
    "num_scenes = 1000\n",
    "hjerkiness_all=[]\n",
    "hacceleration_all=[]\n",
    "henergy_all =[]\n",
    "mjerkiness_all=[]\n",
    "macceleration_all=[]\n",
    "menergy_all =[]\n",
    "\n",
    "hs_all=[]\n",
    "ms_all=[]\n",
    "total_time=[]\n",
    "nscenes=0\n",
    "dmin=[]\n",
    "\n",
    "while nscenes < num_scenes:\n",
    "    if nscenes%100==0: print(nscenes, \"out of\", num_scenes)\n",
    "    \n",
    "    timesteps = 10\n",
    "    state = env2.reset()\n",
    "    tt=0\n",
    "    series_hs, series_ms=[],[]\n",
    "    for timestep in range(timesteps):\n",
    "        tt+=1\n",
    "        subject_tensor = tf.convert_to_tensor(state[0])\n",
    "        subject_tensor = tf.expand_dims(subject_tensor, 0)\n",
    "\n",
    "        veh_tensor = tf.convert_to_tensor(state[1])  \n",
    "        veh_tensor = tf.expand_dims(veh_tensor, 0)\n",
    "\n",
    "        ped_tensor = tf.convert_to_tensor(state[2])  \n",
    "        ped_tensor = tf.expand_dims(ped_tensor, 0)\n",
    "\n",
    "        cyc_tensor = tf.convert_to_tensor(state[3])  \n",
    "        cyc_tensor = tf.expand_dims(cyc_tensor, 0)\n",
    "\n",
    "        edge_tensor = tf.convert_to_tensor(state[4])   \n",
    "        edge_tensor = tf.expand_dims(edge_tensor, 0) \n",
    "\n",
    "        # state_tensor = tf.expand_dims(state_tensor, 0)\n",
    "        state_tensor = [subject_tensor, veh_tensor, ped_tensor, cyc_tensor, edge_tensor]\n",
    "        action_probs = model(state_tensor, training=False)\n",
    "        # Take best action\n",
    "    #     print(action_probs)\n",
    "#         print('--------------')\n",
    "        action = tf.argmax(action_probs[0]).numpy()\n",
    "        state_next, reward, done,_, hs, ms, d_min = env2.step(action)\n",
    "        series_hs.append(hs)\n",
    "        series_ms.append(ms)\n",
    "#         print(timestep, action, action_dict[action], reward,done, _)\n",
    "        if done:\n",
    "#             print(\"stressor\",hs, ms)\n",
    "            break\n",
    "        state = state_next\n",
    "    #     print(state)\n",
    "#         print(\"====================\")\n",
    "    #     if timestep>2:break\n",
    "#     print(env2.target.history)\n",
    "#     print(tt)\n",
    "    if tt<5: \n",
    "        del series_hs[-1]\n",
    "        del series_ms[-1]\n",
    "        continue # too short, not the kind of task we want to investigate\n",
    "    dmin.append(d_min)\n",
    "    nscenes+=1\n",
    "    total_time.append(tt) # time for planning, human is always 5s \n",
    "#     print(hs)\n",
    "#     print(ms)\n",
    "    \n",
    "    hs_all.append(series_hs)\n",
    "    ms_all.append(series_ms)\n",
    "    \n",
    "    sample = env2.sample\n",
    "    # print(sample)\n",
    "    target_obs = env2.target.traj[:10]\n",
    "    target_planned = np.array(env2.target.history)[:,1:3]\n",
    "    \n",
    "    jerk_human = get_jerkness(env2.target.traj)\n",
    "    jerk_planned = get_jerkness(np.vstack((target_obs, target_planned[1:])))\n",
    "    \n",
    "    hjerkiness_all.append(jerk_human)\n",
    "    mjerkiness_all.append(jerk_planned)\n",
    "    \n",
    "    acc_human, v_human = get_aseq(env2.target.traj)\n",
    "    acc_planned, v_planned = get_aseq(np.vstack((target_obs, target_planned[1:])))\n",
    "    \n",
    "    hacceleration_all.append(acc_human)\n",
    "    macceleration_all.append(acc_planned)\n",
    "    \n",
    "    e_human  = get_energy_consumption(v_human, acc_human)\n",
    "    e_planned = get_energy_consumption(v_planned, acc_planned)\n",
    "    \n",
    "    henergy_all.append(e_human)\n",
    "    menergy_all.append(e_planned)\n",
    "print(\"Done\")\n",
    "\n",
    "    "
   ]
  },
  {
   "cell_type": "code",
   "execution_count": 283,
   "metadata": {},
   "outputs": [
    {
     "name": "stdout",
     "output_type": "stream",
     "text": [
      "5.834466776830994 5.768643729300144 5.782459628439562\n"
     ]
    }
   ],
   "source": [
    "hs_ele=[]\n",
    "ms_ele=[]\n",
    "for s in hs_all:\n",
    "    hs_ele.append(np.min(s))\n",
    "for s in ms_all:\n",
    "    ms_ele.append(np.min(s))\n",
    "print(sum(hs_ele)/len(hs_ele), sum(ms_ele)/len(ms_ele), sum(dmin)/len(dmin))"
   ]
  },
  {
   "cell_type": "code",
   "execution_count": 284,
   "metadata": {},
   "outputs": [
    {
     "name": "stdout",
     "output_type": "stream",
     "text": [
      "18.25186089142693 18.252797681367557\n",
      "24 0\n"
     ]
    }
   ],
   "source": [
    "ms3=0\n",
    "ds3=0\n",
    "print(max(dmin), max(ms_ele))\n",
    "for ele in ms_ele:\n",
    "    if ele<3:\n",
    "        ms3+=1\n",
    "for ele in dmin:\n",
    "    if ele <3:\n",
    "        ds3+=1\n",
    "print(ms3, ds3)"
   ]
  },
  {
   "cell_type": "code",
   "execution_count": 285,
   "metadata": {},
   "outputs": [
    {
     "name": "stdout",
     "output_type": "stream",
     "text": [
      "1000 2.297053353985355 2.43514688859408\n"
     ]
    }
   ],
   "source": [
    "import scipy\n",
    "print(len(ms_ele), np.std(hs_ele), np.std(ms_ele))"
   ]
  },
  {
   "cell_type": "code",
   "execution_count": 286,
   "metadata": {},
   "outputs": [
    {
     "name": "stdout",
     "output_type": "stream",
     "text": [
      "Ttest_relResult(statistic=2.899497370987562, pvalue=0.003819442721926672)\n"
     ]
    }
   ],
   "source": [
    "ttest_score = scipy.stats.ttest_rel(hs_ele, ms_ele)\n",
    "print(ttest_score)"
   ]
  },
  {
   "cell_type": "code",
   "execution_count": 287,
   "metadata": {},
   "outputs": [
    {
     "name": "stdout",
     "output_type": "stream",
     "text": [
      "5.834466776830994 5.768643729300144\n"
     ]
    }
   ],
   "source": [
    "print(sum(hs_ele)/len(hs_ele), sum(ms_ele)/len(ms_ele))"
   ]
  },
  {
   "cell_type": "code",
   "execution_count": 288,
   "metadata": {},
   "outputs": [],
   "source": [
    "def fill_array(arr, length=11):\n",
    "    res=[]\n",
    "    for ele in arr:\n",
    "#         if len(ele)<1:continue\n",
    "        if len(ele)<length: # energy\n",
    "#             print(len(ele), ele)\n",
    "            ele = ele + [ele[-1]]*(length-len(ele))\n",
    "        res.append(ele)\n",
    "    return np.array(res)\n",
    "\n",
    "henergy_all= np.array(henergy_all)\n",
    "menergy_all = fill_array(menergy_all)\n",
    "# menergy_all=np.array(menergy_all)\n",
    "\n",
    "hjerkiness_all = np.array(hjerkiness_all)\n",
    "hacceleration_all = np.array(hacceleration_all)\n",
    "\n"
   ]
  },
  {
   "cell_type": "code",
   "execution_count": 289,
   "metadata": {},
   "outputs": [
    {
     "name": "stdout",
     "output_type": "stream",
     "text": [
      "(1000, 11) (1000, 10) (1000, 9)\n"
     ]
    }
   ],
   "source": [
    "\n",
    "macceleration_all = fill_array(macceleration_all, 10)\n",
    "mjerkiness_all = fill_array(mjerkiness_all,9)\n",
    "print(menergy_all.shape, macceleration_all.shape, mjerkiness_all.shape)"
   ]
  },
  {
   "cell_type": "code",
   "execution_count": 290,
   "metadata": {},
   "outputs": [
    {
     "name": "stdout",
     "output_type": "stream",
     "text": [
      "(1000, 9) (1000, 9)\n",
      "3.9676246086374567 1.8663318105972757\n",
      "Ttest_relResult(statistic=14.704922970255247, pvalue=1.8626615844656796e-44)\n"
     ]
    }
   ],
   "source": [
    "print(hjerkiness_all.shape, mjerkiness_all.shape)\n",
    "ttest_score_j = scipy.stats.ttest_rel(hjerkiness_all[:,-1], mjerkiness_all[:,-1])\n",
    "print(sum(hjerkiness_all[:,-1])/len(hjerkiness_all[:,-1]), sum(mjerkiness_all[:,-1])/len(mjerkiness_all[:,-1]))\n",
    "print(ttest_score_j)"
   ]
  },
  {
   "cell_type": "code",
   "execution_count": null,
   "metadata": {},
   "outputs": [],
   "source": []
  },
  {
   "cell_type": "code",
   "execution_count": 291,
   "metadata": {},
   "outputs": [
    {
     "name": "stdout",
     "output_type": "stream",
     "text": [
      "Average human/mode energy consumption per timestep (0.5s):  3403.612348231383 2746.0897057675966\n"
     ]
    }
   ],
   "source": [
    "henergy_per_timestep=np.sum(henergy_all[:,-1])/(len(menergy_all)*10)\n",
    "menergy_per_timestep=np.sum(menergy_all[:,-1])/sum(total_time)\n",
    "print(\"Average human/mode energy consumption per timestep (0.5s): \" ,henergy_per_timestep, menergy_per_timestep)"
   ]
  },
  {
   "cell_type": "code",
   "execution_count": 292,
   "metadata": {},
   "outputs": [
    {
     "name": "stdout",
     "output_type": "stream",
     "text": [
      "(1000, 11) (1000, 11)\n",
      "34036.12348231385 26771.62854152826\n",
      "Ttest_relResult(statistic=20.31755169080706, pvalue=4.35344580144081e-77)\n"
     ]
    }
   ],
   "source": [
    "print(henergy_all.shape, menergy_all.shape)\n",
    "ttest_score_j = scipy.stats.ttest_rel(henergy_all[:,-1], menergy_all[:,-1])\n",
    "print(sum(henergy_all[:,-1])/len(henergy_all[:,-1]), sum(menergy_all[:,-1])/len(menergy_all[:,-1]))\n",
    "print(ttest_score_j)"
   ]
  },
  {
   "cell_type": "code",
   "execution_count": 19,
   "metadata": {},
   "outputs": [
    {
     "ename": "NameError",
     "evalue": "name 'menergy_all' is not defined",
     "output_type": "error",
     "traceback": [
      "\u001b[0;31m---------------------------------------------------------------------------\u001b[0m",
      "\u001b[0;31mNameError\u001b[0m                                 Traceback (most recent call last)",
      "\u001b[0;32m<ipython-input-19-207854e754e1>\u001b[0m in \u001b[0;36m<module>\u001b[0;34m\u001b[0m\n\u001b[1;32m     66\u001b[0m \u001b[0;34m\u001b[0m\u001b[0m\n\u001b[1;32m     67\u001b[0m \u001b[0;31m#     return low, high, mean, m_low, m_high, m_mean\u001b[0m\u001b[0;34m\u001b[0m\u001b[0;34m\u001b[0m\u001b[0;34m\u001b[0m\u001b[0m\n\u001b[0;32m---> 68\u001b[0;31m \u001b[0mprint\u001b[0m\u001b[0;34m(\u001b[0m\u001b[0mmenergy_all\u001b[0m\u001b[0;34m.\u001b[0m\u001b[0mshape\u001b[0m\u001b[0;34m,\u001b[0m \u001b[0mmacceleration_all\u001b[0m\u001b[0;34m.\u001b[0m\u001b[0mshape\u001b[0m\u001b[0;34m,\u001b[0m \u001b[0mmjerkiness_all\u001b[0m\u001b[0;34m.\u001b[0m\u001b[0mshape\u001b[0m\u001b[0;34m)\u001b[0m\u001b[0;34m\u001b[0m\u001b[0;34m\u001b[0m\u001b[0m\n\u001b[0m\u001b[1;32m     69\u001b[0m \u001b[0mconf_plot\u001b[0m\u001b[0;34m(\u001b[0m\u001b[0mhjerkiness_all\u001b[0m\u001b[0;34m,\u001b[0m \u001b[0mmjerkiness_all\u001b[0m\u001b[0;34m,\u001b[0m \u001b[0;36m9\u001b[0m\u001b[0;34m)\u001b[0m\u001b[0;34m\u001b[0m\u001b[0;34m\u001b[0m\u001b[0m\n\u001b[1;32m     70\u001b[0m \u001b[0mconf_plot\u001b[0m\u001b[0;34m(\u001b[0m\u001b[0mhenergy_all\u001b[0m\u001b[0;34m,\u001b[0m \u001b[0mmenergy_all\u001b[0m\u001b[0;34m,\u001b[0m \u001b[0;36m11\u001b[0m\u001b[0;34m,\u001b[0m \u001b[0;34m'Energy consumption'\u001b[0m\u001b[0;34m,\u001b[0m \u001b[0mfilename\u001b[0m\u001b[0;34m=\u001b[0m\u001b[0;34m'energy_lm'\u001b[0m\u001b[0;34m)\u001b[0m\u001b[0;34m\u001b[0m\u001b[0;34m\u001b[0m\u001b[0m\n",
      "\u001b[0;31mNameError\u001b[0m: name 'menergy_all' is not defined"
     ]
    },
    {
     "data": {
      "text/plain": [
       "<Figure size 720x576 with 0 Axes>"
      ]
     },
     "metadata": {},
     "output_type": "display_data"
    }
   ],
   "source": [
    "import scipy.stats\n",
    "import matplotlib.pyplot as plt \n",
    "fig=plt.figure(figsize=(10,8))\n",
    "plt.rcParams.update({'font.size': 12})\n",
    "def mean_confidence_interval(data, confidence=0.95):\n",
    "    a = np.array(data)\n",
    "#     print(a.shape)\n",
    "    n = len(a)\n",
    "    m, se = np.mean(a,axis=0), scipy.stats.sem(a)\n",
    "    h = se * scipy.stats.t.ppf((1 + confidence) / 2., n-1)\n",
    "    return m, m-h, m+h\n",
    "\n",
    "\n",
    "def conf_plot(arr1, arr2, timerange, catagory = 'Jerkiness', savefig=None, filename = 'jerkiness_lm'):\n",
    "    low, high, mean = [],[],[]\n",
    "    m_low, m_high, m_mean = [], [],[]\n",
    "    for j in range(timerange):\n",
    "        m,l,h=mean_confidence_interval(arr1[:,j])\n",
    "        low.append(l)\n",
    "        high.append(h)\n",
    "        mean.append(m)\n",
    "\n",
    "        m,l,h=mean_confidence_interval(arr2[:,j])\n",
    "        m_low.append(l)\n",
    "        m_high.append(h)\n",
    "        m_mean.append(m)\n",
    "        \n",
    "    fig, ax1 = plt.subplots(1, 1, sharex=True)\n",
    "    \n",
    "    x = np.arange(0,(timerange)*0.5,0.5)\n",
    "    xx = np.arange(0,timerange)\n",
    "    ax1.fill_between(x, low, high,facecolor='gray',alpha=0.3)\n",
    "    plt.plot(x, mean,c='blue', label='Human driver')\n",
    "\n",
    "    ax1.fill_between(x, m_low, m_high,facecolor='cyan',alpha=0.3)\n",
    "\n",
    "    if catagory =='Jerkiness':\n",
    "        plt.xticks(np.arange(0,(timerange)*0.5,0.5), np.arange(0.5,(timerange)*0.5+0.5,0.5))\n",
    "        \n",
    "    else:\n",
    "        plt.xticks(np.arange(0,(timerange)*0.5,0.5))\n",
    "                   \n",
    "    plt.plot(x, m_mean,c='green', label='Model')\n",
    "\n",
    "    ax1.set_ylabel(catagory,fontsize=16)\n",
    "    ax1.set_xlabel('Planning horizon (s)', fontsize=16)\n",
    "\n",
    "    plt.plot(x, mean,c='blue')\n",
    "    plt.legend(loc='upper left')\n",
    "    plt.tight_layout()\n",
    "    pth = 'paper/'+filename\n",
    "    plt.savefig(pth,dpi=100)\n",
    "    # plt.savefig(\"ade_wconf.png\",dpi=100)\n",
    "    plt.show()\n",
    "\n",
    "\n",
    "def all_plot(arr1, arr2, timerange, catagory = 'Jerkiness'):\n",
    "    x = np.arange(0,(timerange)*0.5,0.5)\n",
    "    xx = np.arange(0,timerange)\n",
    "    for ele in arr1:\n",
    "        plt.plot(x, ele, c='green', alpha=0.3)\n",
    "    plt.show()\n",
    "    for ele in arr2:\n",
    "        plt.plot(x, ele, c='gray', alpha=0.3)\n",
    "    plt.show()\n",
    "    \n",
    "#     return low, high, mean, m_low, m_high, m_mean\n",
    "print(menergy_all.shape, macceleration_all.shape, mjerkiness_all.shape)\n",
    "conf_plot(hjerkiness_all, mjerkiness_all, 9)\n",
    "conf_plot(henergy_all, menergy_all, 11, 'Energy consumption', filename='energy_lm')\n",
    "conf_plot(hacceleration_all, macceleration_all, 10, 'Acceleration', filename='acceleration_lm')\n",
    "# all_plot(hjerkiness_all, mjerkiness_all, 9)\n",
    "# fig, ax1 = plt.subplots(1, 1, sharex=True)\n",
    "# x = np.arange(0.5,5,0.5)\n",
    "# print(len(x))\n",
    "# ax1.fill_between(x, low, high,facecolor='gray',alpha=0.3)\n",
    "# # plt.xticks(np.arange(0.5, 5.5, step=0.5))\n",
    "# # ax1.set_ylabel('Jerkiness',fontsize=14)\n",
    "# # ax1.set_xlabel('Planning time', fontsize=14)\n",
    "\n",
    "# plt.plot(x, mean,c='blue', label='Human driver')\n",
    "\n",
    "# ax1.fill_between(x, m_low, m_high,facecolor='gray',alpha=0.3)\n",
    "# plt.xticks(np.arange(0.5, 5.5, step=0.5))\n",
    "\n",
    "# plt.plot(x, m_mean,c='green', label='Planned')\n",
    "\n",
    "\n",
    "# ax1.set_ylabel('Jerkiness',fontsize=14)\n",
    "# ax1.set_xlabel('Planning time', fontsize=14)\n",
    "\n",
    "# plt.plot(x, mean,c='blue')\n",
    "# plt.legend()\n",
    "# # plt.savefig(\"ade_wconf.png\",dpi=100)\n",
    "# plt.show()"
   ]
  },
  {
   "cell_type": "code",
   "execution_count": null,
   "metadata": {},
   "outputs": [],
   "source": []
  },
  {
   "cell_type": "code",
   "execution_count": null,
   "metadata": {},
   "outputs": [],
   "source": []
  },
  {
   "cell_type": "code",
   "execution_count": null,
   "metadata": {},
   "outputs": [],
   "source": []
  },
  {
   "cell_type": "code",
   "execution_count": 366,
   "metadata": {},
   "outputs": [],
   "source": []
  },
  {
   "cell_type": "markdown",
   "metadata": {},
   "source": [
    "# visualize action space"
   ]
  },
  {
   "cell_type": "code",
   "execution_count": null,
   "metadata": {},
   "outputs": [],
   "source": []
  },
  {
   "cell_type": "code",
   "execution_count": 15,
   "metadata": {},
   "outputs": [],
   "source": [
    "def _get_av2( prev2, prev, curr):\n",
    "    v10 = np.linalg.norm(curr - prev)/0.5\n",
    "    v9 = np.linalg.norm(prev - prev2)/0.5\n",
    "    a = (v10-v9)/0.5\n",
    "    return a, (v10+v9)/2\n",
    "    \n",
    "def _get_theta2(prev,curr):\n",
    "    diff_x = curr[0]-prev[0] \n",
    "    diff_y = curr[1]-prev[1]\n",
    "\n",
    "    if diff_x>0 and diff_y>0:\n",
    "        indicator=1\n",
    "    elif diff_x<=0 and diff_y>=0:\n",
    "        indicator=2\n",
    "    elif diff_x<=0 and diff_y<=0:\n",
    "        indicator = 3\n",
    "    else:\n",
    "        indicator=4\n",
    "    try:\n",
    "        if diff_x !=0:\n",
    "            tan = diff_y/diff_x\n",
    "            # print(\"tan\", tan, math.atan(tan)*180/math.pi)\n",
    "            return math.atan(tan)*180/math.pi, indicator\n",
    "        else:\n",
    "            return 90, indicator\n",
    "    except:\n",
    "        return 90, indicator\n",
    "    \n",
    "        \n",
    "        \n",
    "def _get_guide(traj):\n",
    "    guide=[]\n",
    "    for i in range(9,19):\n",
    "        a,_ = _get_av2(traj[i-1], traj[i], traj[i+1])\n",
    "        theta, indicator = _get_theta2(traj[i], traj[i+1])\n",
    "        guide.append([a, theta, indicator])\n",
    "    return guide\n",
    "    \n",
    "\n",
    "def max_move(traj, guide, unit=5):\n",
    "    # [0.1, -3] [0.1, 3]\n",
    "    traj_max=[]\n",
    "    v1 =  np.linalg.norm(traj[10] - traj[9])/0.5\n",
    "    v2 = np.linalg.norm(traj[9] - traj[8])/0.5\n",
    "    v = (v1+v2)/2\n",
    "    pos = traj[9]\n",
    "    for t in range(10):\n",
    "        traj_max.append(pos)\n",
    "        guide_a, guide_theta, guide_indicator  = guide[t]\n",
    "\n",
    "        a = guide_a+0.2\n",
    "        theta=guide_theta+unit # 5 is the max\n",
    "\n",
    "\n",
    "        distance = v*0.5+0.5*a*0.25\n",
    "        radian = theta*math.pi/180\n",
    "        dx, dy = abs(distance*math.cos(radian)), abs(distance*math.sin(radian))\n",
    "        #update state\n",
    "        if guide_indicator==1: # zone 1\n",
    "            pos =[pos[0]+dx, pos[1]+dy]\n",
    "        elif guide_indicator==2:\n",
    "            pos =[pos[0]-dx, pos[1]+dy]\n",
    "        elif guide_indicator==3:\n",
    "            pos =[pos[0]-dx, pos[1]-dy]\n",
    "        else:\n",
    "            pos =[pos[0]+dx, pos[1]-dy]\n",
    "\n",
    "\n",
    "        v = v+a*0.5\n",
    "    traj_max.append(pos)\n",
    "    return np.array(traj_max)\n",
    "\n",
    "def min_move(traj, guide, unit=-5):\n",
    "    # [0.1, -3] [0.1, 3]\n",
    "    traj_min=[]\n",
    "    v1 =  np.linalg.norm(traj[10] - traj[9])/0.5\n",
    "    v2 = np.linalg.norm(traj[9] - traj[8])/0.5\n",
    "    v = (v1+v2)/2\n",
    "    pos = traj[9]\n",
    "    for t in range(10):\n",
    "        traj_min.append(pos)\n",
    "        guide_a, guide_theta, guide_indicator  = guide[t]\n",
    "\n",
    "        a = guide_a-0.2\n",
    "        theta=guide_theta+unit\n",
    "\n",
    "\n",
    "        distance = v*0.5+0.5*a*0.25\n",
    "        radian = theta*math.pi/180\n",
    "        dx, dy = abs(distance*math.cos(radian)), abs(distance*math.sin(radian))\n",
    "        #update state\n",
    "        if guide_indicator==1: # zone 1\n",
    "            pos =[pos[0]+dx, pos[1]+dy]\n",
    "        elif guide_indicator==2:\n",
    "            pos =[pos[0]-dx, pos[1]+dy]\n",
    "        elif guide_indicator==3:\n",
    "            pos =[pos[0]-dx, pos[1]-dy]\n",
    "        else:\n",
    "            pos =[pos[0]+dx, pos[1]-dy]\n",
    "\n",
    "\n",
    "        v = v+a*0.5\n",
    "    traj_min.append(pos)\n",
    "    return np.array(traj_min)\n",
    "\n",
    "def show_move(traj, guide, unit_a = -0.2, unit=-5):\n",
    "    # [0.1, -3] [0.1, 3]\n",
    "    traj_min=[]\n",
    "    v1 =  np.linalg.norm(traj[10] - traj[9])/0.5\n",
    "    v2 = np.linalg.norm(traj[9] - traj[8])/0.5\n",
    "    v = (v1+v2)/2\n",
    "    pos = traj[9]\n",
    "    for t in range(10):\n",
    "        traj_min.append(pos)\n",
    "        guide_a, guide_theta, guide_indicator  = guide[t]\n",
    "\n",
    "        a = guide_a+unit_a\n",
    "        theta=guide_theta+unit\n",
    "\n",
    "\n",
    "        distance = v*0.5+0.5*a*0.25\n",
    "        radian = theta*math.pi/180\n",
    "        dx, dy = abs(distance*math.cos(radian)), abs(distance*math.sin(radian))\n",
    "        #update state\n",
    "        if guide_indicator==1: # zone 1\n",
    "            pos =[pos[0]+dx, pos[1]+dy]\n",
    "        elif guide_indicator==2:\n",
    "            pos =[pos[0]-dx, pos[1]+dy]\n",
    "        elif guide_indicator==3:\n",
    "            pos =[pos[0]-dx, pos[1]-dy]\n",
    "        else:\n",
    "            pos =[pos[0]+dx, pos[1]-dy]\n",
    "\n",
    "\n",
    "        v = v+a*0.5\n",
    "    traj_min.append(pos)\n",
    "    return np.array(traj_min)\n",
    "\n",
    "def action_move(traj, guide, unit =5):\n",
    "    traj_min=[]\n",
    "    \n",
    "    for t in range(10):\n",
    "        v1 =  np.linalg.norm(traj[t+10] - traj[t+9])/0.5\n",
    "        v2 = np.linalg.norm(traj[t+9] - traj[t+8])/0.5\n",
    "        v = (v1+v2)/2\n",
    "        ref_pos = traj[t+9]\n",
    "        guide_a, guide_theta, guide_indicator  = guide[t]\n",
    "        traj_min.append(ref_pos)\n",
    "        for unit_a in np.arange(-0.2,0.21,0.01):\n",
    "            \n",
    "            a = guide_a+unit_a\n",
    "            theta=guide_theta+unit\n",
    "            distance = v*0.5+0.5*a*0.25\n",
    "            radian = theta*math.pi/180\n",
    "            dx, dy = abs(distance*math.cos(radian)), abs(distance*math.sin(radian))\n",
    "            #update state\n",
    "            if guide_indicator==1: # zone 1\n",
    "                pos =[ref_pos[0]+dx, ref_pos[1]+dy]\n",
    "            elif guide_indicator==2:\n",
    "                pos =[ref_pos[0]-dx, ref_pos[1]+dy]\n",
    "            elif guide_indicator==3:\n",
    "                pos =[ref_pos[0]-dx, ref_pos[1]-dy]\n",
    "            else:\n",
    "                pos =[ref_pos[0]+dx, ref_pos[1]-dy]\n",
    "            traj_min.append(pos)\n",
    "#         v = v+a*0.5\n",
    "#     traj_min.append(ref_pos)\n",
    "    traj_min = np.array(traj_min)\n",
    "#     print(traj_min.shape)\n",
    "    return traj_min\n"
   ]
  },
  {
   "cell_type": "code",
   "execution_count": 21,
   "metadata": {},
   "outputs": [
    {
     "ename": "NameError",
     "evalue": "name 'task' is not defined",
     "output_type": "error",
     "traceback": [
      "\u001b[0;31m---------------------------------------------------------------------------\u001b[0m",
      "\u001b[0;31mNameError\u001b[0m                                 Traceback (most recent call last)",
      "\u001b[0;32m<ipython-input-21-3975dda27dfe>\u001b[0m in \u001b[0;36m<module>\u001b[0;34m\u001b[0m\n\u001b[0;32m----> 1\u001b[0;31m \u001b[0mguide\u001b[0m \u001b[0;34m=\u001b[0m\u001b[0m_get_guide\u001b[0m\u001b[0;34m(\u001b[0m\u001b[0mtask\u001b[0m\u001b[0;34m)\u001b[0m\u001b[0;34m\u001b[0m\u001b[0;34m\u001b[0m\u001b[0m\n\u001b[0m\u001b[1;32m      2\u001b[0m \u001b[0mprint\u001b[0m\u001b[0;34m(\u001b[0m\u001b[0mlen\u001b[0m\u001b[0;34m(\u001b[0m\u001b[0mguide\u001b[0m\u001b[0;34m)\u001b[0m\u001b[0;34m)\u001b[0m\u001b[0;34m\u001b[0m\u001b[0;34m\u001b[0m\u001b[0m\n\u001b[1;32m      3\u001b[0m \u001b[0mmove1\u001b[0m \u001b[0;34m=\u001b[0m \u001b[0mmax_move\u001b[0m\u001b[0;34m(\u001b[0m\u001b[0mtask\u001b[0m\u001b[0;34m,\u001b[0m \u001b[0mguide\u001b[0m\u001b[0;34m)\u001b[0m\u001b[0;34m\u001b[0m\u001b[0;34m\u001b[0m\u001b[0m\n\u001b[1;32m      4\u001b[0m \u001b[0mmove2\u001b[0m \u001b[0;34m=\u001b[0m \u001b[0mmin_move\u001b[0m\u001b[0;34m(\u001b[0m\u001b[0mtask\u001b[0m\u001b[0;34m,\u001b[0m \u001b[0mguide\u001b[0m\u001b[0;34m)\u001b[0m\u001b[0;34m\u001b[0m\u001b[0;34m\u001b[0m\u001b[0m\n\u001b[1;32m      5\u001b[0m \u001b[0;31m# move1.shape\u001b[0m\u001b[0;34m\u001b[0m\u001b[0;34m\u001b[0m\u001b[0;34m\u001b[0m\u001b[0m\n",
      "\u001b[0;31mNameError\u001b[0m: name 'task' is not defined"
     ]
    }
   ],
   "source": [
    "guide =_get_guide(task)\n",
    "print(len(guide))\n",
    "move1 = max_move(task, guide)\n",
    "move2 = min_move(task, guide)\n",
    "# move1.shape\n",
    "for i in range(10):\n",
    "    print(move1[i], move2[i])"
   ]
  },
  {
   "cell_type": "code",
   "execution_count": 33,
   "metadata": {},
   "outputs": [],
   "source": [
    "# # for unit in np.arange(-5,5.05, 0.05):\n",
    "# #     move = max_move(task, guide, unit)\n",
    "# #     plt.plot(move[:,0], move[:,1], color='cyan', alpha=0.3)\n",
    "# # # plt.plot(task[9:,0], task[9:,1], color='g')\n",
    "# # # # plt.show()\n",
    "\n",
    "# # for unit in np.arange(-5,5.05, 0.05):\n",
    "# #     move = min_move(task, guide, unit)\n",
    "# #     plt.plot(move[:,0], move[:,1], color='cyan', alpha=0.3)\n",
    "# # plt.plot(task[9:,0], task[9:,1], color='g')\n",
    "# # plt.show()\n",
    "\n",
    "# # for unit in np.arange(-5,5.05, 0.05):\n",
    "# #     move = action_move(task, guide, unit)\n",
    "# # #     print(move.shape)\n",
    "# #     plt.scatter(move[:,0], move[:,1], color='cyan', alpha=0.3)\n",
    "# # plt.plot(task[9:,0], task[9:,1], color='g')\n",
    "# # plt.show()\n",
    "\n",
    "# # visualize action space \n",
    "# for ua in np.arange(-0.2, 0.21, 0.01):\n",
    "#     for unit in np.arange(-5,5.05, 0.05):\n",
    "#         move = show_move(task, guide, ua, unit)\n",
    "#     #     print(move.shape)\n",
    "#         plt.plot(move[:,0], move[:,1], color='cyan', alpha=0.3)\n",
    "# plt.plot(task[9:,0], task[9:,1], color='g')\n",
    "# plt.show()"
   ]
  },
  {
   "cell_type": "code",
   "execution_count": 16,
   "metadata": {},
   "outputs": [],
   "source": [
    "\n",
    "def plot_action_with_bound(intersection_id, lane_list, grid_boundary, veh=None, ped=None, cyc=None,\\\n",
    "                        target_obs=None, planned=None, task=None):\n",
    "    \"\"\"\n",
    "    plt action space on the scene\n",
    "    \"\"\"\n",
    "    plt.figure(figsize=(18,18))\n",
    "    plt.xlim(grid_boundary[intersection_id]['X'][0],grid_boundary[intersection_id]['X'][1])\n",
    "    plt.ylim(grid_boundary[intersection_id]['Y'][0],grid_boundary[intersection_id]['Y'][1])\n",
    "    for lane in lane_list[intersection_id]:\n",
    "        plt.plot(Test.map_api.get_lane_coords(lane)['xyz_right'][:,0], Test.map_api.get_lane_coords(lane)['xyz_right'][:,1],\n",
    "                 color='g',linewidth=1, alpha=0.3, label=lane)\n",
    "        plt.plot(Test.map_api.get_lane_coords(lane)['xyz_left'][:,0], Test.map_api.get_lane_coords(lane)['xyz_left'][:,1],\n",
    "                 color='g',alpha =0.3, linewidth=1)\n",
    "#         print(\"lane coordinates right\", Test.map_api.get_lane_coords(lane)['xyz_right'][:,0])\n",
    "    x_mesh, y_mesh = get_grid(intersection_id, grid_boundary)\n",
    "#     print(x_mesh.shape, y_mesh[:,1])\n",
    "#     plt.plot(x_mesh, y_mesh, c='grey', linewidth=0.1) # use plot, not scatter\n",
    "#     plt.plot(np.transpose(x_mesh), np.transpose(y_mesh),c='grey', linewidth=0.1) # add this here\n",
    "#     plt.title(intersection_id,fontsize=30)\n",
    "    \n",
    "    guide =_get_guide(task)\n",
    "    \n",
    "    for ua in np.arange(-0.2, 0.21, 0.01):\n",
    "        for unit in np.arange(-5,5.05, 0.01):\n",
    "            move = show_move(task, guide, ua, unit)\n",
    "            plt.plot(move[:,0], move[:,1], color='cyan', alpha=0.1)\n",
    "            \n",
    "    if veh is not None:\n",
    "        for traj in veh: \n",
    "            plt.plot(traj[:10,0],traj[:10,1], c='b',alpha=0.3, linewidth=1)\n",
    "            plt.scatter(traj[9][0], traj[9][1], marker='o', color='b')\n",
    "    if ped is not None:\n",
    "        for traj in ped: \n",
    "            plt.plot(traj[:10,0],traj[:10,1], c='orange',linewidth=1)\n",
    "            plt.scatter(traj[9][0], traj[9][1], marker='o', color='orange')\n",
    "    if cyc is not None:\n",
    "        for traj in cyc: \n",
    "            plt.plot(traj[:10,0],traj[:10,1], c='gray',linewidth=1)\n",
    "            plt.scatter(traj[9][0], traj[9][1], marker='o',  color='gray')\n",
    "    if target_obs is not None:\n",
    "        plt.plot(target_obs[:,0],target_obs[:,1], c='red',linewidth=1)\n",
    "        plt.scatter(target_obs[-1][0], target_obs[-1][1], marker='o', color='red')\n",
    "    if planned is not None:\n",
    "        plt.plot(planned[:,0],planned[:,1], c='k',linewidth=1)\n",
    "        \n",
    "    \n",
    "#     plt.plot(task[9:,0], task[9:,1], color='g')  # human driving trajectory\n",
    "    # old action space plot \n",
    "#     for unit in np.arange(-5,6, 0.05):\n",
    "#         move = min_move(task, guide, unit)\n",
    "#         plt.plot(move[:,0], move[:,1], color='gray', alpha=0.1)\n",
    "#     plt.plot(task[9:,0], task[9:,1], color='k', alpha=0.5) # reference line \n",
    "\n",
    "#     if planned is not None:\n",
    "#         plt.plot(planned[:,0],planned[:,1], c='red',linewidth=1)\n",
    "        \n",
    "        \n",
    "        \n",
    "    plt.axis('off')\n",
    "#     plt.savefig(\"paper/action_space_lm\")\n",
    "    plt.show()\n",
    "    \n",
    "def plot_planning_result(intersection_id, lane_list, grid_boundary, veh=None, ped=None, cyc=None,\\\n",
    "                        target_obs=None, planned=None, task=None):\n",
    "    \"\"\"\n",
    "    plt action space on the scene\n",
    "    \"\"\"\n",
    "    plt.figure(figsize=(18,18))\n",
    "    plt.xlim(grid_boundary[intersection_id]['X'][0],grid_boundary[intersection_id]['X'][1])\n",
    "    plt.ylim(grid_boundary[intersection_id]['Y'][0],grid_boundary[intersection_id]['Y'][1])\n",
    "    for lane in lane_list[intersection_id]:\n",
    "        plt.plot(Test.map_api.get_lane_coords(lane)['xyz_right'][:,0], Test.map_api.get_lane_coords(lane)['xyz_right'][:,1],\n",
    "                 color='g',linewidth=1, alpha=0.3, label=lane)\n",
    "        plt.plot(Test.map_api.get_lane_coords(lane)['xyz_left'][:,0], Test.map_api.get_lane_coords(lane)['xyz_left'][:,1],\n",
    "                 color='g',alpha =0.3, linewidth=1)\n",
    "#         print(\"lane coordinates right\", Test.map_api.get_lane_coords(lane)['xyz_right'][:,0])\n",
    "    x_mesh, y_mesh = get_grid(intersection_id, grid_boundary)\n",
    "#     print(x_mesh.shape, y_mesh[:,1])\n",
    "#     plt.plot(x_mesh, y_mesh, c='grey', linewidth=0.1) # use plot, not scatter\n",
    "#     plt.plot(np.transpose(x_mesh), np.transpose(y_mesh),c='grey', linewidth=0.1) # add this here\n",
    "#     plt.title(intersection_id,fontsize=30)\n",
    "    \n",
    "    guide =_get_guide(task)\n",
    "    \n",
    "   \n",
    "        \n",
    "    if veh is not None:\n",
    "        for traj in veh: \n",
    "            plt.plot(traj[9:,0],traj[9:,1], c='b',alpha=0.3, linewidth=1)\n",
    "            plt.scatter(traj[9][0], traj[9][1], marker='o', color='b')\n",
    "    if ped is not None:\n",
    "        for traj in ped: \n",
    "            plt.plot(traj[9:,0],traj[9:,1], c='orange',linewidth=1)\n",
    "            plt.scatter(traj[9][0], traj[9][1], marker='o', color='orange')\n",
    "    if cyc is not None:\n",
    "        for traj in cyc: \n",
    "            plt.plot(traj[9:,0],traj[9:,1], c='gray',linewidth=1)\n",
    "            plt.scatter(traj[9][0], traj[9][1], marker='o',  color='gray')\n",
    "    if target_obs is not None:\n",
    "        plt.plot(target_obs[:,0],target_obs[:,1], c='red',linewidth=1)\n",
    "        plt.scatter(target_obs[-1][0], target_obs[-1][1], marker='o', color='red')\n",
    "    if planned is not None:\n",
    "        plt.plot(planned[:,0],planned[:,1], c='k',linewidth=1)\n",
    "        \n",
    "    \n",
    "#     plt.plot(task[9:,0], task[9:,1], color='g')  # human driving trajectory\n",
    "    # old action space plot \n",
    "#     for unit in np.arange(-5,6, 0.05):\n",
    "#         move = min_move(task, guide, unit)\n",
    "#         plt.plot(move[:,0], move[:,1], color='gray', alpha=0.1)\n",
    "#     plt.plot(task[9:,0], task[9:,1], color='k', alpha=0.5) # reference line \n",
    "\n",
    "#     if planned is not None:\n",
    "#         plt.plot(planned[:,0],planned[:,1], c='red',linewidth=1)\n",
    "        \n",
    "        \n",
    "        \n",
    "    plt.axis('off')\n",
    "#     plt.savefig(\"paper/action_space_lm\")\n",
    "    plt.show()\n",
    "    \n",
    "def plot_action_space(intersection_id, lane_list, grid_boundary, task):\n",
    "    \"\"\"\n",
    "    plt action space with target veh only\n",
    "    \"\"\"\n",
    "    plt.figure(figsize=(18,18))\n",
    "#     plt.xlim(grid_boundary[intersection_id]['X'][0],grid_boundary[intersection_id]['X'][1])\n",
    "#     plt.ylim(grid_boundary[intersection_id]['Y'][0],grid_boundary[intersection_id]['Y'][1])\n",
    "    for lane in lane_list[intersection_id]:\n",
    "        plt.plot(Test.map_api.get_lane_coords(lane)['xyz_right'][:,0], Test.map_api.get_lane_coords(lane)['xyz_right'][:,1],\n",
    "                 color='g',linewidth=1,alpha =0.3,label=lane)\n",
    "        plt.plot(Test.map_api.get_lane_coords(lane)['xyz_left'][:,0], Test.map_api.get_lane_coords(lane)['xyz_left'][:,1],\n",
    "                 color='g',alpha =0.3,linewidth=1)\n",
    "#         print(\"lane coordinates right\", Test.map_api.get_lane_coords(lane)['xyz_right'][:,0])\n",
    "    x_mesh, y_mesh = get_grid(intersection_id, grid_boundary)\n",
    "#     print(x_mesh.shape, y_mesh[:,1])\n",
    "    plt.plot(x_mesh, y_mesh, c='grey', linewidth=0.1) # use plot, not scatter\n",
    "    plt.plot(np.transpose(x_mesh), np.transpose(y_mesh),c='grey', linewidth=0.1) # add this here\n",
    "#     plt.title(intersection_id,fontsize=30)\n",
    "\n",
    "    guide =_get_guide(task)\n",
    "    \n",
    "    for ua in np.arange(-0.2, 0.21, 0.01):\n",
    "        for unit in np.arange(-5,5.05, 0.01):\n",
    "            move = show_move(task, guide, ua, unit)\n",
    "            plt.plot(move[:,0], move[:,1], color='cyan', alpha=0.1)\n",
    "            \n",
    "#     for unit in np.arange(-5,6, 0.05):\n",
    "#         move = min_move(task, guide, unit)\n",
    "#         plt.plot(move[:,0], move[:,1], color='cyan', alpha=0.3)\n",
    "    plt.plot(task[:,0], task[:,1], color='orange')\n",
    "\n",
    "    plt.axis('off')\n",
    "#     plt.savefig(\"result_fig/action_space\")\n",
    "    plt.show()\n",
    "    "
   ]
  },
  {
   "cell_type": "markdown",
   "metadata": {},
   "source": [
    "# plot sample "
   ]
  },
  {
   "cell_type": "code",
   "execution_count": 195,
   "metadata": {},
   "outputs": [
    {
     "name": "stdout",
     "output_type": "stream",
     "text": [
      "--------------\n",
      "0 236 (0.01, 0) 0.7172754937653526 False feasible inf\n",
      "====================\n",
      "--------------\n",
      "1 236 (0.01, 0) 0.7014921826432361 False feasible inf\n",
      "====================\n",
      "--------------\n",
      "2 236 (0.01, 0) 0.7096973501673493 False feasible inf\n",
      "====================\n",
      "--------------\n",
      "3 236 (0.01, 0) 0.6298763452594833 False feasible inf\n",
      "====================\n",
      "--------------\n",
      "4 236 (0.01, 0) 0.5941357802910844 False feasible inf\n",
      "====================\n",
      "--------------\n",
      "5 236 (0.01, 0) 0.6095896874454858 False feasible inf\n",
      "====================\n",
      "--------------\n",
      "6 236 (0.01, 0) 0.5944607159422776 False feasible inf\n",
      "====================\n",
      "--------------\n",
      "7 236 (0.01, 0) 0.5951290095909165 False feasible inf\n",
      "====================\n",
      "--------------\n",
      "8 236 (0.01, 0) 0.4800143102130678 False feasible inf\n",
      "====================\n",
      "--------------\n",
      "9 236 (0.01, 0) 0.46815530660001936 True reach_goal 5.145987271651576\n",
      "[[0, -925.721, 1401.437, -0.2917007415159709, -58.73901679897256], [1, -927.0426486714116, 1403.6140685155121, -0.2817007415159709, -58.73901679897256], [2, -928.267545755493, 1405.7708872994822, -0.25003353430351516, -60.406959755367055], [3, -929.1792699954127, 1408.010666497002, -0.24706837977426566, -67.85073384538751], [4, -929.7477770103119, 1410.3301751177905, 0.006503130573385576, -76.22840028291655], [5, -930.0221281356764, 1412.6761776241015, -0.2158844823946351, -83.32989378411536], [6, -930.032168483797, 1414.9804375177687, -0.24578059408435826, -89.75034676727533], [7, -929.6789029895148, 1417.2184490576017, -0.06270464562776269, 81.02998986968967], [8, -929.0306534330914, 1419.3595762632842, -0.16619847987835512, 73.15574080427048], [9, -928.075806363803, 1421.4845139815316, 0.9062306959369357, 65.80309144773258], [10, -926.6306242921189, 1423.6438302368829, 1.2433252230948926, 56.206489855093814]]\n",
      "6.01896643951439\n",
      "6.291036091858237\n"
     ]
    },
    {
     "name": "stderr",
     "output_type": "stream",
     "text": [
      "/home/lab1/miniconda3/lib/python3.7/site-packages/sklearn/base.py:334: UserWarning: Trying to unpickle estimator BayesianGaussianMixture from version 0.24.1 when using version 0.23.1. This might lead to breaking code or invalid results. Use at your own risk.\n",
      "  UserWarning)\n"
     ]
    }
   ],
   "source": [
    "env2=Graph()\n",
    "timesteps = 10\n",
    "state = env2.reset()\n",
    "for timestep in range(timesteps):\n",
    "    subject_tensor = tf.convert_to_tensor(state[0])\n",
    "    subject_tensor = tf.expand_dims(subject_tensor, 0)\n",
    "\n",
    "    veh_tensor = tf.convert_to_tensor(state[1])  \n",
    "    veh_tensor = tf.expand_dims(veh_tensor, 0)\n",
    "\n",
    "    ped_tensor = tf.convert_to_tensor(state[2])  \n",
    "    ped_tensor = tf.expand_dims(ped_tensor, 0)\n",
    "\n",
    "    cyc_tensor = tf.convert_to_tensor(state[3])  \n",
    "    cyc_tensor = tf.expand_dims(cyc_tensor, 0)\n",
    "\n",
    "    edge_tensor = tf.convert_to_tensor(state[4])   \n",
    "    edge_tensor = tf.expand_dims(edge_tensor, 0) \n",
    "\n",
    "    # state_tensor = tf.expand_dims(state_tensor, 0)\n",
    "    state_tensor = [subject_tensor, veh_tensor, ped_tensor, cyc_tensor, edge_tensor]\n",
    "    action_probs = model(state_tensor, training=False)\n",
    "    # Take best action\n",
    "#     print(action_probs)\n",
    "    print('--------------')\n",
    "    action = tf.argmax(action_probs[0]).numpy()\n",
    "    state_next, reward, done,_, hs, ms, d_min = env2.step(action)\n",
    "   \n",
    "    print(timestep, action, action_dict[action], reward,done, _, d_min)\n",
    "    if done:\n",
    "        break\n",
    "    state = state_next\n",
    "#     print(state)\n",
    "    print(\"====================\")\n",
    "#     if timestep>2:break\n",
    "print(env2.target.history)\n",
    "print(hs)\n",
    "print(ms)"
   ]
  },
  {
   "cell_type": "code",
   "execution_count": 196,
   "metadata": {},
   "outputs": [
    {
     "name": "stdout",
     "output_type": "stream",
     "text": [
      "(10, 2) (11, 2)\n"
     ]
    }
   ],
   "source": [
    "sample = env2.sample\n",
    "# print(sample)\n",
    "target_obs = env2.target.traj[:10]\n",
    "target_planned = np.array(env2.target.history)[:,1:3]\n",
    "print(target_obs.shape, target_planned.shape)"
   ]
  },
  {
   "cell_type": "code",
   "execution_count": 197,
   "metadata": {},
   "outputs": [
    {
     "data": {
      "image/png": "[encoded data removed]",
      "text/plain": [
       "<Figure size 1296x1296 with 1 Axes>"
      ]
     },
     "metadata": {
      "needs_background": "light"
     },
     "output_type": "display_data"
    }
   ],
   "source": [
    "# task= pickle.load(open(\"/home/lab1/repo/planning/tasks/task.pickle\",'rb'))[0]\n",
    "task = sample['veh'][0]\n",
    "# plot_action_space('8KfB', lane_list=lane_list, grid_boundary=grid_boundary,task=task)\n",
    "# plot_action_with_bound('lane_merge', lane_list=lane_list, \\\n",
    "#                            grid_boundary=grid_boundary, veh=sample['veh'][1:], ped=sample['ped'], cyc=sample['cyc'],\n",
    "#                     target_obs=target_obs, planned=target_planned, task=task)\n",
    "plot_planning_result('lane_merge', lane_list=lane_list, \\\n",
    "                           grid_boundary=grid_boundary, veh=sample['veh'][1:], ped=sample['ped'], cyc=sample['cyc'],\n",
    "                    target_obs=target_obs, planned=target_planned, task=task)"
   ]
  },
  {
   "cell_type": "code",
   "execution_count": 198,
   "metadata": {},
   "outputs": [
    {
     "data": {
      "image/png": "[encoded data removed]",
      "text/plain": [
       "<Figure size 432x288 with 1 Axes>"
      ]
     },
     "metadata": {
      "needs_background": "light"
     },
     "output_type": "display_data"
    },
    {
     "data": {
      "text/plain": [
       "[<matplotlib.lines.Line2D at 0x7f01b668a790>]"
      ]
     },
     "execution_count": 198,
     "metadata": {},
     "output_type": "execute_result"
    },
    {
     "data": {
      "image/png": "[encoded data removed]",
      "text/plain": [
       "<Figure size 432x288 with 1 Axes>"
      ]
     },
     "metadata": {
      "needs_background": "light"
     },
     "output_type": "display_data"
    }
   ],
   "source": [
    "acc_human, v_human = get_aseq(env2.target.traj)\n",
    "acc_planned, v_planned = get_aseq(np.vstack((target_obs, target_planned[1:])))\n",
    "# print(\"acc_human\", acc_human)\n",
    "# print(\"v_human\", v_human)\n",
    "# print(\"acc_planned\", acc_planned)\n",
    "# print(\"v_planned\", v_planned)\n",
    "x = np.arange(len(acc_human))\n",
    "plt.title(\"Velocity over time\")\n",
    "plt.plot(np.arange(len(v_human)), v_human, label='Human driver (simulated)')\n",
    "plt.plot(np.arange(len(v_planned)), v_planned, label= \"Predictive planned\")\n",
    "plt.legend()\n",
    "# plt.savefig('result_fig/acc')\n",
    "plt.show()\n",
    "\n",
    "plt.title(\"Acceleration over time\")\n",
    "plt.plot(np.arange(len(acc_human)), acc_human, label='Human driver (simulated)')\n",
    "plt.plot(np.arange(len(acc_planned)), acc_planned, label= \"Predictive planned\")"
   ]
  },
  {
   "cell_type": "code",
   "execution_count": 98,
   "metadata": {},
   "outputs": [],
   "source": [
    "pickle.dump(env2, open(\"/home/lab1/repo/planning/intergration2/paper/new_env_merge_merge2.pickle\",'wb'))"
   ]
  },
  {
   "cell_type": "code",
   "execution_count": null,
   "metadata": {},
   "outputs": [],
   "source": []
  }
 ],
 "metadata": {
  "kernelspec": {
   "display_name": "Python 3",
   "language": "python",
   "name": "python3"
  },
  "language_info": {
   "codemirror_mode": {
    "name": "ipython",
    "version": 3
   },
   "file_extension": ".py",
   "mimetype": "text/x-python",
   "name": "python",
   "nbconvert_exporter": "python",
   "pygments_lexer": "ipython3",
   "version": "3.7.7"
  }
 },
 "nbformat": 4,
 "nbformat_minor": 4
}
