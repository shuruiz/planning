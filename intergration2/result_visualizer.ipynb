{
 "cells": [
  {
   "cell_type": "code",
   "execution_count": 1,
   "metadata": {},
   "outputs": [
    {
     "ename": "ModuleNotFoundError",
     "evalue": "No module named 'model'",
     "output_type": "error",
     "traceback": [
      "\u001b[0;31m---------------------------------------------------------------------------\u001b[0m",
      "\u001b[0;31mModuleNotFoundError\u001b[0m                       Traceback (most recent call last)",
      "\u001b[0;32m<ipython-input-1-ae83b9a336ac>\u001b[0m in \u001b[0;36m<module>\u001b[0;34m\u001b[0m\n\u001b[1;32m      3\u001b[0m \u001b[0;32mfrom\u001b[0m \u001b[0mtensorflow\u001b[0m \u001b[0;32mimport\u001b[0m \u001b[0mkeras\u001b[0m\u001b[0;34m\u001b[0m\u001b[0;34m\u001b[0m\u001b[0m\n\u001b[1;32m      4\u001b[0m \u001b[0;32mfrom\u001b[0m \u001b[0mtensorflow\u001b[0m\u001b[0;34m.\u001b[0m\u001b[0mkeras\u001b[0m \u001b[0;32mimport\u001b[0m \u001b[0mlayers\u001b[0m\u001b[0;34m\u001b[0m\u001b[0;34m\u001b[0m\u001b[0m\n\u001b[0;32m----> 5\u001b[0;31m \u001b[0;32mfrom\u001b[0m \u001b[0mmodel\u001b[0m \u001b[0;32mimport\u001b[0m \u001b[0m_build_model\u001b[0m\u001b[0;34m\u001b[0m\u001b[0;34m\u001b[0m\u001b[0m\n\u001b[0m\u001b[1;32m      6\u001b[0m \u001b[0;31m# from corex import Graph\u001b[0m\u001b[0;34m\u001b[0m\u001b[0;34m\u001b[0m\u001b[0;34m\u001b[0m\u001b[0m\n\u001b[1;32m      7\u001b[0m \u001b[0;34m\u001b[0m\u001b[0m\n",
      "\u001b[0;31mModuleNotFoundError\u001b[0m: No module named 'model'"
     ]
    }
   ],
   "source": [
    "import numpy as np\n",
    "import tensorflow as tf\n",
    "from tensorflow import keras\n",
    "from tensorflow.keras import layers\n",
    "from model import _build_model\n",
    "# from corex import Graph\n",
    "\n",
    "import sys \n",
    "from ruixuan.turning_scene import *\n",
    "from l5kit.rasterization.rasterizer_builder import _load_metadata\n",
    "import time\n",
    "import pickle\n",
    "import math\n",
    "from collections import deque\n",
    "import numpy as np\n",
    "from sklearn.mixture import BayesianGaussianMixture\n",
    "from tabulate import tabulate\n",
    "from utils import Gibbs_sampling, get_smoothness, get_distance_pt\n",
    "from config import Config\n",
    "from visualizer import plot_scene_on_grid\n",
    "import itertools"
   ]
  },
  {
   "cell_type": "code",
   "execution_count": 5,
   "metadata": {},
   "outputs": [],
   "source": [
    "# new a graph  \n",
    "env = Graph()\n",
    "sample = env.sample\n",
    "# act/plan the 10 steps\n",
    "\n",
    "# add use the history info in target to sample\n",
    "\n",
    "# visualize the sample"
   ]
  },
  {
   "cell_type": "code",
   "execution_count": 643,
   "metadata": {},
   "outputs": [],
   "source": [
    "# human driving reward\n",
    "import pickle\n",
    "tasks = pickle.load(open(\"/home/lab1/repo/planning/tasks/task.pickle\",'rb'))\n",
    "task = tasks[0]\n",
    "\n",
    "\n",
    "\n",
    "#accumulateed jerkiness (smoothness), propasitional stress"
   ]
  },
  {
   "cell_type": "code",
   "execution_count": 36,
   "metadata": {},
   "outputs": [
    {
     "data": {
      "image/png": "[encoded data removed]",
      "text/plain": [
       "<Figure size 432x288 with 1 Axes>"
      ]
     },
     "metadata": {
      "needs_background": "light"
     },
     "output_type": "display_data"
    }
   ],
   "source": [
    "import matplotlib.pyplot as plt\n",
    "import numpy as np\n",
    "# reward_history = np.load('episode_history_collision_g2.npy', allow_pickle=True)\n",
    "# reward_history = np.load('simple_model2_episode_history.npy', allow_pickle=True) \n",
    "# reward_history = np.load('simple_model_episode_history_lowc.npy', allow_pickle=True)\n",
    "# reward_history = np.load('rightturn_episode_history.npy', allow_pickle=True)\n",
    "# reward_history = np.load('through_episode_history.npy', allow_pickle=True)\n",
    "# reward_history = np.load('through2_episode_history.npy', allow_pickle=True) \n",
    "# reward_history = np.load('guided_exp_episode_history.npy', allow_pickle=True)\n",
    "# reward_history = np.load('guided2_exp_episode_history.npy', allow_pickle=True)\n",
    "# reward_history = np.load('guided3_exp_episode_history.npy', allow_pickle=True)\n",
    "# reward_history = np.load('guided3x_exp_episode_history.npy', allow_pickle=True)\n",
    "# reward_history = np.load('guided3y_exp_episode_history.npy', allow_pickle=True)\n",
    "# reward_history = np.load('guided3a_exp_episode_history.npy', allow_pickle=True)\n",
    "# reward_history = np.load('guided3z_exp_episode_history.npy', allow_pickle=True)\n",
    "# reward_history = np.load('guided3y1_exp_episode_history.npy', allow_pickle=True)\n",
    "# reward_history = np.load('model4_thru_episode_history.npy', allow_pickle=True)\n",
    "# reward_history = np.load('model6_thru_episode_history.npy', allow_pickle=True)\n",
    "# reward_history = np.load('model5_thru_episode_history.npy', allow_pickle=True)\n",
    "# reward_history = np.load('model7_thru_episode_history.npy', allow_pickle=True)\n",
    "# reward_history = np.load('model8_thru_episode_history.npy', allow_pickle=True)\n",
    "# reward_history = np.load('model9_all_episode_history.npy', allow_pickle=True)[1000:]\n",
    "# reward_history = np.load('model8a_thru_episode_history.npy', allow_pickle=True)\n",
    "# reward_history = np.load('model8b_thru_episode_history.npy', allow_pickle=True)\n",
    "# reward_history = np.load('modelx_thru_episode_history.npy', allow_pickle=True)\n",
    "reward_history = np.load('modelxa_thru_episode_history.npy', allow_pickle=True)[:700000]\n",
    "# reward_history = np.load('modelxb_all_episode_history.npy', allow_pickle=True)\n",
    "# reward_history = np.load('modelxc_universal_episode_history.npy', allow_pickle=True)\n",
    "# reward_history = np.load('modelxd_universal_episode_history.npy', allow_pickle=True)\n",
    "reward_history =np.load('modelxe_universal_episode_history.npy',allow_pickle=True)[:700000]\n",
    "# reward_history =np.load('modelxf_universal_episode_history.npy',allow_pickle=True)\n",
    "# reward_history =np.load('modelxj_universal_episode_history.npy',allow_pickle=True)\n",
    "# reward_history =np.load('modelxg_universal_episode_history.npy',allow_pickle=True)\n",
    "reward_history =np.load('modelxI_universal_episode_history.npy',allow_pickle=True)[:800000]\n",
    "reward_history =np.load('modelxII_universal_episode_history.npy',allow_pickle=True)[:1400000]\n",
    "reward_history =np.load('modelxIII_universal_episode_history.npy',allow_pickle=True)\n",
    "x=[]\n",
    "# step=10000\n",
    "for i in range(0, len(reward_history), step):\n",
    "    x.append(sum(reward_history[i:i+step])/step)\n",
    "# print(x.shape)\n",
    "plt.plot(range(len(x)), x)\n",
    "# plt.savefig(\"modelxa_thru_history\")\n",
    "# plt.savefig('modelxe_universal')\n",
    "plt.show()"
   ]
  },
  {
   "cell_type": "code",
   "execution_count": 351,
   "metadata": {},
   "outputs": [],
   "source": [
    "# import itertools\n",
    "# a=list(itertools.product(np.round(np.arange(-0.1,0.15,0.05), decimals=2), np.round(np.arange(-3,4,1), decimals=0)))\n",
    "# print(len(a),'\\n' ,a)"
   ]
  },
  {
   "cell_type": "code",
   "execution_count": 439,
   "metadata": {},
   "outputs": [
    {
     "name": "stdout",
     "output_type": "stream",
     "text": [
      "0.9\n",
      "0.37000000001272343\n",
      "0.37000000001272343 0.7209946046574617\n"
     ]
    }
   ],
   "source": [
    "epsilon_min = 0.1\n",
    "epsilon_max = 1.0  # Maximum epsilon greedy parameter\n",
    "epsilon = 1\n",
    "epsilon_interval = (\n",
    "    epsilon_max - epsilon_min\n",
    ")\n",
    "print(epsilon_interval)\n",
    "i=0\n",
    "while i<700000: \n",
    "    epsilon -= epsilon_interval / 1000000\n",
    "    i+=1\n",
    "print(epsilon)\n",
    "epsilon = max(epsilon, epsilon_min)\n",
    "print(epsilon , np.random.rand(1)[0])"
   ]
  },
  {
   "cell_type": "code",
   "execution_count": null,
   "metadata": {},
   "outputs": [],
   "source": []
  }
 ],
 "metadata": {
  "kernelspec": {
   "display_name": "Python 3",
   "language": "python",
   "name": "python3"
  },
  "language_info": {
   "codemirror_mode": {
    "name": "ipython",
    "version": 3
   },
   "file_extension": ".py",
   "mimetype": "text/x-python",
   "name": "python",
   "nbconvert_exporter": "python",
   "pygments_lexer": "ipython3",
   "version": "3.7.7"
  }
 },
 "nbformat": 4,
 "nbformat_minor": 4
}
