{
 "cells": [
  {
   "cell_type": "code",
   "execution_count": 56,
   "metadata": {},
   "outputs": [],
   "source": [
    "import numpy as np\n",
    "import matplotlib.pyplot as plt\n",
    "from keras.layers.merge import concatenate\n",
    "from keras.models import Model, Sequential\n",
    "from keras.layers import Dense, Input, Flatten, Conv2D\n",
    "from keras.layers import LSTM\n",
    "from keras.layers import GRU\n",
    "from keras.callbacks import ModelCheckpoint,EarlyStopping\n",
    "import tensorflow as tf"
   ]
  },
  {
   "cell_type": "code",
   "execution_count": 40,
   "metadata": {},
   "outputs": [
    {
     "name": "stdout",
     "output_type": "stream",
     "text": [
      "[LogicalDevice(name='/device:GPU:0', device_type='GPU'), LogicalDevice(name='/device:GPU:1', device_type='GPU'), LogicalDevice(name='/device:GPU:2', device_type='GPU'), LogicalDevice(name='/device:GPU:3', device_type='GPU')]\n",
      "checking gpu error\n",
      "checking GPUs\n",
      "Device mapping:\n",
      "/job:localhost/replica:0/task:0/device:XLA_CPU:0 -> device: XLA_CPU device\n",
      "/job:localhost/replica:0/task:0/device:XLA_GPU:0 -> device: XLA_GPU device\n",
      "/job:localhost/replica:0/task:0/device:XLA_GPU:1 -> device: XLA_GPU device\n",
      "/job:localhost/replica:0/task:0/device:XLA_GPU:2 -> device: XLA_GPU device\n",
      "/job:localhost/replica:0/task:0/device:XLA_GPU:3 -> device: XLA_GPU device\n",
      "/job:localhost/replica:0/task:0/device:GPU:0 -> device: 0, name: TITAN X (Pascal), pci bus id: 0000:05:00.0, compute capability: 6.1\n",
      "/job:localhost/replica:0/task:0/device:GPU:1 -> device: 1, name: TITAN X (Pascal), pci bus id: 0000:06:00.0, compute capability: 6.1\n",
      "/job:localhost/replica:0/task:0/device:GPU:2 -> device: 2, name: TITAN X (Pascal), pci bus id: 0000:09:00.0, compute capability: 6.1\n",
      "/job:localhost/replica:0/task:0/device:GPU:3 -> device: 3, name: TITAN X (Pascal), pci bus id: 0000:0a:00.0, compute capability: 6.1\n",
      "\n"
     ]
    }
   ],
   "source": [
    "import os\n",
    "os.environ[\"CUDA_DEVICE_ORDER\"]=\"PCI_BUS_ID\"   \n",
    "os.environ[\"CUDA_VISIBLE_DEVICES\"]=\"3\"\n",
    "gpus = tf.config.experimental.list_logical_devices('GPU')\n",
    "print(gpus)\n",
    "if gpus:\n",
    "    try:\n",
    "        for gpu in gpus:\n",
    "            tf.config.experimental.set_memory_growth(gpu,True)\n",
    "    except:\n",
    "        print('checking gpu error')\n",
    "print('checking GPUs')\n",
    "\n",
    "from tensorflow.compat.v1 import ConfigProto\n",
    "from tensorflow.compat.v1 import InteractiveSession\n",
    "config=tf.compat.v1.ConfigProto()\n",
    "# config.gpu_options.visible_device_list= '0,1'\n",
    "config.gpu_options.allow_growth=True\n",
    "config.log_device_placement=True\n",
    "# config.visible_device_list =2\n",
    "sess=tf.compat.v1.Session(config=config)\n",
    "tf.compat.v1.keras.backend.set_session(sess)"
   ]
  },
  {
   "cell_type": "code",
   "execution_count": 72,
   "metadata": {},
   "outputs": [],
   "source": [
    "def _build_model():\n",
    "    model_sub_in = Input(shape=(1, 7))\n",
    "    # goalx,goaly, posx, posy, v, a, theta\n",
    "    model_sub_flatten = Flatten()(model_sub_in)\n",
    "    model_sub_mid = Dense(128, activation='relu', name='layer_sub_mid')(model_sub_flatten)\n",
    "    model_sub_out = Dense(256, activation='elu', name='layer_sub_out')(model_sub_mid)\n",
    "    model_sub = Model(model_sub_in, model_sub_out)\n",
    "\n",
    "    model_veh_in = Input(shape=(3, 10, 2))\n",
    "    # history traj veh\n",
    "    model_veh_conv1 = Conv2D(128,(2,2),  activation='relu', name='layer_veh_conv1')(model_veh_in)\n",
    "    model_veh_conv2 = Conv2D(256,(2,2),  activation='relu', name='layer_veh_conv2')(model_veh_conv1)\n",
    "    model_veh_flatten = Flatten()(model_veh_conv2)\n",
    "    model_veh_out = Dense(128,  activation='relu', name='layer_veh_out')(model_veh_flatten)\n",
    "    model_veh = Model(model_veh_in, model_veh_out)\n",
    "    \n",
    "    model_ped_in = Input(shape=(3, 10, 2))\n",
    "    # history traj ped\n",
    "    model_ped_conv1 = Conv2D(128,(2,2),  activation='relu', name='layer_ped_conv1')(model_ped_in)\n",
    "    model_ped_conv2 = Conv2D(256,(2,2),  activation='relu', name='layer_ped_conv2')(model_ped_conv1)\n",
    "    model_ped_flatten = Flatten()(model_ped_conv2)\n",
    "    model_ped_out = Dense(128,  activation='elu', name='layer_ped_out')(model_ped_flatten)\n",
    "    model_ped = Model(model_ped_in, model_ped_out)\n",
    "    \n",
    "    \n",
    "    model_cyc_in = Input(shape=(3, 10, 2))\n",
    "    # history traj cyc\n",
    "    model_cyc_conv1 = Conv2D(128,(2,2),  activation='relu', name='layer_cyc_conv1')(model_cyc_in)\n",
    "    model_cyc_conv2 = Conv2D(128,(2,2),  activation='relu', name='layer_cyc_conv2')(model_cyc_conv1)\n",
    "    model_cyc_flatten = Flatten()(model_cyc_conv2)\n",
    "    model_cyc_out = Dense(128,  activation='elu', name='layer_cyc_out')(model_cyc_flatten)\n",
    "    model_cyc = Model(model_cyc_in, model_cyc_out)\n",
    "    \n",
    "    \n",
    "    \n",
    "    model_edge_in = Input(shape=(1, 9))\n",
    "    # edges connected to subject\n",
    "    model_edge_flatten = Flatten()(model_edge_in)\n",
    "    model_edge_mid = Dense(128,  activation='relu', name='layer_edge_mid')(model_edge_flatten)\n",
    "    model_edge_out = Dense(256,  activation='relu', name='layer_edge_output')(model_edge_mid)\n",
    "    model_edge = Model(model_edge_in, model_edge_out)\n",
    "\n",
    "\n",
    "    concatenated = concatenate([model_sub_out, model_veh_out,model_ped_out,model_cyc_out,model_edge_out])\n",
    "    out = Dense(1800, activation='softmax', name='output_layer')(concatenated)\n",
    "    \n",
    "    # define the deep RL model below.\n",
    "    \n",
    "    # \n",
    "    merged_model = Model([model_sub_in, model_veh_in,model_ped_in,model_cyc_in,model_edge_in], out)\n",
    "    return merged_model\n"
   ]
  },
  {
   "cell_type": "code",
   "execution_count": 77,
   "metadata": {},
   "outputs": [
    {
     "name": "stdout",
     "output_type": "stream",
     "text": [
      "Model: \"model_96\"\n",
      "__________________________________________________________________________________________________\n",
      "Layer (type)                    Output Shape         Param #     Connected to                     \n",
      "==================================================================================================\n",
      "input_93 (InputLayer)           [(None, 3, 10, 2)]   0                                            \n",
      "__________________________________________________________________________________________________\n",
      "input_94 (InputLayer)           [(None, 3, 10, 2)]   0                                            \n",
      "__________________________________________________________________________________________________\n",
      "input_95 (InputLayer)           [(None, 3, 10, 2)]   0                                            \n",
      "__________________________________________________________________________________________________\n",
      "input_92 (InputLayer)           [(None, 1, 7)]       0                                            \n",
      "__________________________________________________________________________________________________\n",
      "layer_veh_conv1 (Conv2D)        (None, 2, 9, 128)    1152        input_93[0][0]                   \n",
      "__________________________________________________________________________________________________\n",
      "layer_ped_conv1 (Conv2D)        (None, 2, 9, 128)    1152        input_94[0][0]                   \n",
      "__________________________________________________________________________________________________\n",
      "layer_cyc_conv1 (Conv2D)        (None, 2, 9, 128)    1152        input_95[0][0]                   \n",
      "__________________________________________________________________________________________________\n",
      "input_96 (InputLayer)           [(None, 1, 9)]       0                                            \n",
      "__________________________________________________________________________________________________\n",
      "flatten_61 (Flatten)            (None, 7)            0           input_92[0][0]                   \n",
      "__________________________________________________________________________________________________\n",
      "layer_veh_conv2 (Conv2D)        (None, 1, 8, 256)    131328      layer_veh_conv1[0][0]            \n",
      "__________________________________________________________________________________________________\n",
      "layer_ped_conv2 (Conv2D)        (None, 1, 8, 256)    131328      layer_ped_conv1[0][0]            \n",
      "__________________________________________________________________________________________________\n",
      "layer_cyc_conv2 (Conv2D)        (None, 1, 8, 128)    65664       layer_cyc_conv1[0][0]            \n",
      "__________________________________________________________________________________________________\n",
      "flatten_65 (Flatten)            (None, 9)            0           input_96[0][0]                   \n",
      "__________________________________________________________________________________________________\n",
      "layer_sub_mid (Dense)           (None, 128)          1024        flatten_61[0][0]                 \n",
      "__________________________________________________________________________________________________\n",
      "flatten_62 (Flatten)            (None, 2048)         0           layer_veh_conv2[0][0]            \n",
      "__________________________________________________________________________________________________\n",
      "flatten_63 (Flatten)            (None, 2048)         0           layer_ped_conv2[0][0]            \n",
      "__________________________________________________________________________________________________\n",
      "flatten_64 (Flatten)            (None, 1024)         0           layer_cyc_conv2[0][0]            \n",
      "__________________________________________________________________________________________________\n",
      "layer_edge_mid (Dense)          (None, 128)          1280        flatten_65[0][0]                 \n",
      "__________________________________________________________________________________________________\n",
      "layer_sub_out (Dense)           (None, 256)          33024       layer_sub_mid[0][0]              \n",
      "__________________________________________________________________________________________________\n",
      "layer_veh_out (Dense)           (None, 128)          262272      flatten_62[0][0]                 \n",
      "__________________________________________________________________________________________________\n",
      "layer_ped_out (Dense)           (None, 128)          262272      flatten_63[0][0]                 \n",
      "__________________________________________________________________________________________________\n",
      "layer_cyc_out (Dense)           (None, 128)          131200      flatten_64[0][0]                 \n",
      "__________________________________________________________________________________________________\n",
      "layer_edge_output (Dense)       (None, 256)          33024       layer_edge_mid[0][0]             \n",
      "__________________________________________________________________________________________________\n",
      "concatenate_14 (Concatenate)    (None, 896)          0           layer_sub_out[0][0]              \n",
      "                                                                 layer_veh_out[0][0]              \n",
      "                                                                 layer_ped_out[0][0]              \n",
      "                                                                 layer_cyc_out[0][0]              \n",
      "                                                                 layer_edge_output[0][0]          \n",
      "__________________________________________________________________________________________________\n",
      "output_layer (Dense)            (None, 1800)         1614600     concatenate_14[0][0]             \n",
      "==================================================================================================\n",
      "Total params: 2,670,472\n",
      "Trainable params: 2,670,472\n",
      "Non-trainable params: 0\n",
      "__________________________________________________________________________________________________\n"
     ]
    }
   ],
   "source": [
    "merged_model = _build_model()\n",
    "merged_model.compile(loss='binary_crossentropy', optimizer='adagrad', \n",
    "metrics=['accuracy'])\n",
    "merged_model.summary()\n",
    "\n",
    "checkpoint = ModelCheckpoint('weights.h5', monitor='val_acc',\n",
    "                             save_best_only=True, verbose=2)\n",
    "early_stopping = EarlyStopping(monitor=\"val_loss\", patience=10)\n"
   ]
  },
  {
   "cell_type": "code",
   "execution_count": 78,
   "metadata": {},
   "outputs": [
    {
     "data": {
      "text/plain": [
       "(320000, 1, 9)"
      ]
     },
     "execution_count": 78,
     "metadata": {},
     "output_type": "execute_result"
    }
   ],
   "source": [
    "#synthetic data\n",
    "sub = np.random.rand(320000, 1,7)\n",
    "veh =np.random.rand(320000,3,10,2)\n",
    "ped =np.random.rand(320000,3,10,2)\n",
    "cyc =np.random.rand(320000,3,10,2)\n",
    "edge =np.random.rand(320000,1,9)\n",
    "y=np.random.randint(0,20000,size=1800)\n",
    "edge.shape"
   ]
  },
  {
   "cell_type": "code",
   "execution_count": 79,
   "metadata": {
    "scrolled": true
   },
   "outputs": [
    {
     "name": "stdout",
     "output_type": "stream",
     "text": [
      "Epoch 1/10\n",
      "9000/9000 [==============================] - 53s 6ms/step - loss: 460.6199 - accuracy: 1.0417e-05 - val_loss: 5.5560e-04 - val_accuracy: 0.0000e+00\n",
      "Epoch 2/10\n",
      "9000/9000 [==============================] - 53s 6ms/step - loss: 460.6173 - accuracy: 0.0000e+00 - val_loss: 5.5560e-04 - val_accuracy: 0.0000e+00\n",
      "Epoch 3/10\n",
      "9000/9000 [==============================] - 53s 6ms/step - loss: 460.6171 - accuracy: 6.9444e-06 - val_loss: 5.5560e-04 - val_accuracy: 0.0000e+00\n",
      "Epoch 4/10\n",
      "9000/9000 [==============================] - 53s 6ms/step - loss: 460.6169 - accuracy: 3.4722e-06 - val_loss: 5.5560e-04 - val_accuracy: 0.0000e+00\n",
      "Epoch 5/10\n",
      "9000/9000 [==============================] - 53s 6ms/step - loss: 460.6168 - accuracy: 2.4306e-05 - val_loss: 5.5560e-04 - val_accuracy: 0.0000e+00\n",
      "Epoch 6/10\n",
      "9000/9000 [==============================] - 53s 6ms/step - loss: 460.6168 - accuracy: 1.3889e-05 - val_loss: 5.5560e-04 - val_accuracy: 0.0000e+00\n",
      "Epoch 7/10\n",
      "9000/9000 [==============================] - 53s 6ms/step - loss: 460.6163 - accuracy: 3.1250e-05 - val_loss: 5.5560e-04 - val_accuracy: 0.0000e+00\n",
      "Epoch 8/10\n",
      "9000/9000 [==============================] - 53s 6ms/step - loss: 460.6162 - accuracy: 1.7361e-05 - val_loss: 5.5560e-04 - val_accuracy: 0.0000e+00\n",
      "Epoch 9/10\n",
      "9000/9000 [==============================] - 53s 6ms/step - loss: 460.6164 - accuracy: 1.7361e-05 - val_loss: 5.5560e-04 - val_accuracy: 0.0000e+00\n",
      "Epoch 10/10\n",
      "9000/9000 [==============================] - 52s 6ms/step - loss: 460.6163 - accuracy: 1.3889e-05 - val_loss: 5.5560e-04 - val_accuracy: 0.0000e+00\n"
     ]
    },
    {
     "data": {
      "text/plain": [
       "<tensorflow.python.keras.callbacks.History at 0x7f4ca056b210>"
      ]
     },
     "execution_count": 79,
     "metadata": {},
     "output_type": "execute_result"
    }
   ],
   "source": [
    "\n",
    "merged_model.fit([sub, veh, ped, cyc, edge], y=y, batch_size=32, epochs=10,\n",
    "             verbose=1, validation_split=0.1, shuffle=True\n",
    "# callbacks=[early_stopping, checkpoint]\n",
    "                )"
   ]
  },
  {
   "cell_type": "code",
   "execution_count": null,
   "metadata": {},
   "outputs": [],
   "source": []
  }
 ],
 "metadata": {
  "kernelspec": {
   "display_name": "Python 3",
   "language": "python",
   "name": "python3"
  },
  "language_info": {
   "codemirror_mode": {
    "name": "ipython",
    "version": 3
   },
   "file_extension": ".py",
   "mimetype": "text/x-python",
   "name": "python",
   "nbconvert_exporter": "python",
   "pygments_lexer": "ipython3",
   "version": "3.7.7"
  }
 },
 "nbformat": 4,
 "nbformat_minor": 4
}
