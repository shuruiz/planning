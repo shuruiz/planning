{
 "cells": [
  {
   "cell_type": "code",
   "execution_count": 1,
   "metadata": {},
   "outputs": [],
   "source": [
    "import numpy as np\n",
    "import warnings\n",
    "warnings.filterwarnings(\"ignore\")\n",
    "import pandas as pd\n",
    "import matplotlib.pyplot as plt\n",
    "from sklearn import decomposition\n",
    "from sklearn.preprocessing import StandardScaler\n",
    "import glob\n",
    "import os\n",
    "from tslearn.clustering import TimeSeriesKMeans\n",
    "import copy as cp\n",
    "import random\n",
    "import pickle\n",
    "import multiprocessing\n",
    "import time\n",
    "from collections import Counter\n",
    "import math\n",
    "from sklearn.ensemble import IsolationForest\n",
    "from collections import defaultdict, Counter"
   ]
  },
  {
   "cell_type": "code",
   "execution_count": 2,
   "metadata": {},
   "outputs": [
    {
     "name": "stdout",
     "output_type": "stream",
     "text": [
      "(153031, 20, 2)\n"
     ]
    }
   ],
   "source": [
    "prefix ='/home/lab1/repo/planning/traj_pred/data/'\n",
    "data=None\n",
    "for i in range(3):\n",
    "    name_te= prefix+'veh_test_set_'+str(i)+'.npy'\n",
    "    te = np.load(name_te,allow_pickle=True).astype(float)\n",
    "    if data is None:\n",
    "        data=te\n",
    "    else:\n",
    "        data= np.vstack((data, te))\n",
    "data=data[:,:,:2]\n",
    "print(data.shape)"
   ]
  },
  {
   "cell_type": "code",
   "execution_count": 3,
   "metadata": {},
   "outputs": [],
   "source": [
    "def extract_feature(ele):\n",
    "    \"\"\"\n",
    "    extract feature for a single trajectory\n",
    "    f = [x, y, a,v, delta_a, delta_v]\n",
    "    \"\"\"\n",
    "    fe=[]\n",
    "    for i in range(3, len(ele)):\n",
    "        prev3, prev2, prev, curr = ele[i-3], ele[i-2], ele[i-1], ele[i]\n",
    "        v = np.linalg.norm(curr - prev)/0.5\n",
    "        v_prev = np.linalg.norm(prev - prev2)/0.5\n",
    "        v_prev2 = np.linalg.norm(prev2 - prev3)/0.5\n",
    "        a = (v-v_prev)/0.5\n",
    "        a_prev = (v_prev-v_prev2)/0.5\n",
    "        \n",
    "        energy = v**2-v_prev**2\n",
    "        force = a-a_prev\n",
    "        f = [ele[i][0], ele[i][1], v, a, energy, force]\n",
    "        fe.append(f)\n",
    "    return np.array(fe)\n",
    "\n",
    "def isolation_f(feature):\n",
    "    iso_f =[]\n",
    "    for seq in feature:\n",
    "        iso_f.append(seq[:,3].flatten())\n",
    "    return np.array(iso_f)\n",
    "        \n",
    "\n",
    "    "
   ]
  },
  {
   "cell_type": "code",
   "execution_count": 4,
   "metadata": {},
   "outputs": [
    {
     "name": "stdout",
     "output_type": "stream",
     "text": [
      "(153031, 17, 6)\n"
     ]
    }
   ],
   "source": [
    "feature = []\n",
    "for ele in data:\n",
    "    fe= extract_feature(ele)\n",
    "    feature.append(fe)\n",
    "feature=np.array(feature)\n",
    "print(feature.shape)"
   ]
  },
  {
   "cell_type": "code",
   "execution_count": 5,
   "metadata": {},
   "outputs": [
    {
     "name": "stdout",
     "output_type": "stream",
     "text": [
      "(153031, 17)\n"
     ]
    }
   ],
   "source": [
    "iso_feature = isolation_f(feature)\n",
    "print(iso_feature.shape)"
   ]
  },
  {
   "cell_type": "code",
   "execution_count": 18,
   "metadata": {},
   "outputs": [
    {
     "name": "stdout",
     "output_type": "stream",
     "text": [
      "[ 663.27612305 -397.70214844] [ 659.54040527 -393.78775024]\n",
      "5.410924181593378\n",
      "5.410924181593378\n"
     ]
    }
   ],
   "source": [
    "# curr=data[0][0]\n",
    "# prev=data[0][1]\n",
    "# print(curr, prev)\n",
    "# print(math.sqrt((curr[0]-prev[0])**2+(curr[1]-prev[1])**2))\n",
    "# print(np.linalg.norm(curr - prev))"
   ]
  },
  {
   "cell_type": "code",
   "execution_count": 6,
   "metadata": {},
   "outputs": [],
   "source": [
    "def clustering(feature, k, metrics=\"dtw\"):\n",
    "\n",
    "    n_jobs=multiprocessing.cpu_count()\n",
    "    print(\"start training clustering on\",n_jobs, \"cpus\")\n",
    "    start_time = time.time()\n",
    "    km_dba = TimeSeriesKMeans(n_clusters=k, metric=metric, max_iter=30, max_iter_barycenter=5, n_jobs=-1, verbose=False, \\\n",
    "                                      random_state=np.random.randint(low=0,high=20,size=2)[0]).fit(feature)\n",
    "    print(\"---used  %s seconds ---\" % (time.time() - start_time))\n",
    "    return km_dba"
   ]
  },
  {
   "cell_type": "code",
   "execution_count": null,
   "metadata": {},
   "outputs": [],
   "source": [
    "\n",
    "\n",
    "\n",
    "if __name__ == \"__main__\":\n",
    "    if not os.path.exists(\"risk_model\"):\n",
    "        os.makedirs(\"risk_model\")\n",
    "#     if not os.path.exists(\"saved_centers\"):\n",
    "#         os.makedirs(\"saved_centers\")\n",
    "\n",
    "#     feature = np.load(\"data/Vehicle_trajectory.npy\", allow_pickle=True)\n",
    "    print(feature.shape)\n",
    "\n",
    "    metric=\"dtw\"\n",
    "    n_initial = 10 # how many times to re-initial the run\n",
    "    CENTERS=[]\n",
    "    LABELS=[]\n",
    "    k_min = 6\n",
    "    k_max= 12\n",
    "    elbow = []\n",
    "    \n",
    "    models={}\n",
    "    for k in range(k_min, k_max+1):\n",
    "        print(\"runing number of clusters:\", k)\n",
    "        best_in_a_k=[]\n",
    "        for i in range(0,n_initial):\n",
    "            print(\"running re-initialization:\", i, \"out of\", n_initial)\n",
    "            km_dba = clustering(feature, k, metrics=metric)\n",
    "            CENTERS.append(km_dba.cluster_centers_)\n",
    "            LABELS.append(km_dba.labels_)\n",
    "            best_in_a_k.append(km_dba.inertia_)\n",
    "#             pickle.dump(km_dba, open(\"saved_centers/cluster_model_k\"+str(k)+\"_i\"+str(i)+\".pkl\", 'wb'))\n",
    "        models[k]=km_dba\n",
    "        elbow.append(min(best_in_a_k))\n",
    "    pickle.dump(models, open(\"risk_model/models.pkl\", 'wb'))\n",
    "    pickle.dump(elbow, open(\"risk_model/elbow_list.pkl\", 'wb'))\n",
    "        \n",
    "    plt.plot(range(k_min, k_max+1), elbow)\n",
    "    plt.xlabel('Number of centroids')\n",
    "    plt.ylabel('Elbow score')\n",
    "    plt.title(\"Elbow score on vehicle features\")\n",
    "    plt.savefig(\"risk_model/elbow_plot.png\")\n",
    "    plt.show()"
   ]
  },
  {
   "cell_type": "code",
   "execution_count": 53,
   "metadata": {},
   "outputs": [
    {
     "name": "stdout",
     "output_type": "stream",
     "text": [
      "start training clustering on 12 cpus\n",
      "---used  24646.594158172607 seconds ---\n"
     ]
    }
   ],
   "source": [
    "k=12\n",
    "metric='dtw'\n",
    "km_dba = clustering(feature, k, metrics=metric)\n"
   ]
  },
  {
   "cell_type": "code",
   "execution_count": 54,
   "metadata": {},
   "outputs": [],
   "source": [
    "pickle.dump(km_dba, open(\"risk_model/model_12.pkl\", 'wb'))"
   ]
  },
  {
   "cell_type": "code",
   "execution_count": 55,
   "metadata": {},
   "outputs": [
    {
     "data": {
      "text/plain": [
       "array([[[ 6.22129912e+02, -2.26553950e+03,  7.73475409e+00,\n",
       "          7.33950677e-02, -3.46928464e-01,  2.10915187e-01],\n",
       "        [ 5.78880114e+02, -2.33620326e+03,  6.46573453e+00,\n",
       "         -5.99671486e-02, -7.92785692e-01,  1.08267923e-01],\n",
       "        [ 5.82978600e+02, -2.33052834e+03,  7.78410682e+00,\n",
       "         -2.68309387e-01, -2.44877278e+00, -5.53158786e-02],\n",
       "        ...,\n",
       "        [ 5.83613501e+02, -2.33274361e+03,  6.40501325e+00,\n",
       "          2.11640447e-01,  1.74155918e+00,  3.90075912e-01],\n",
       "        [ 5.82168200e+02, -2.33471458e+03,  6.45450409e+00,\n",
       "         -2.61200193e-01, -2.40812998e+00, -2.55452505e-01],\n",
       "        [ 5.58426975e+02, -2.36011918e+03,  6.20528555e+00,\n",
       "         -2.09250090e-01, -9.79001600e-01,  3.61430965e-02]],\n",
       "\n",
       "       [[-5.18064779e+02,  8.96125346e+02,  7.56206083e+00,\n",
       "          3.87499199e-01,  3.03312956e+00,  3.98671129e-01],\n",
       "        [-5.58155313e+02,  9.24792617e+02,  6.55929332e+00,\n",
       "         -3.60026705e-01, -3.19616750e+00, -2.08921821e-01],\n",
       "        [-5.45893488e+02,  9.09522285e+02,  5.88252710e+00,\n",
       "          2.55075494e-01,  2.19144533e+00,  5.86596373e-01],\n",
       "        ...,\n",
       "        [-5.72215968e+02,  9.47688330e+02,  9.40594638e+00,\n",
       "          1.28964980e-01,  1.23565741e+00,  7.12864754e-03],\n",
       "        [-5.56718030e+02,  9.14179916e+02,  6.09094750e+00,\n",
       "          2.08011993e-01,  9.87406743e-01,  4.98097569e-02],\n",
       "        [-5.39070492e+02,  9.00781539e+02,  6.29745119e+00,\n",
       "          4.96473222e-01,  3.85159235e+00, -5.06761720e-04]],\n",
       "\n",
       "       [[ 7.20684280e+02, -4.68698331e+02,  5.12684955e+00,\n",
       "          2.07573090e-02, -6.37702369e-02,  2.67121424e-01],\n",
       "        [ 7.31938041e+02, -5.01263401e+02,  4.04581297e+00,\n",
       "         -1.57543168e-03, -3.47233819e-01, -2.28124023e-03],\n",
       "        [ 7.38819283e+02, -4.86575408e+02,  3.90333540e+00,\n",
       "         -3.60473934e-01, -1.67279816e+00, -2.97022668e-01],\n",
       "        ...,\n",
       "        [ 7.36313191e+02, -4.79519053e+02,  4.58014641e+00,\n",
       "          3.10325423e-01,  2.06881823e+00,  2.07260397e-01],\n",
       "        [ 7.30281343e+02, -4.95843594e+02,  5.06741625e+00,\n",
       "          9.40587656e-02,  6.18797698e-01, -1.29716186e-01],\n",
       "        [ 7.53674547e+02, -4.91206838e+02,  6.92979926e+00,\n",
       "          3.00251078e-01,  2.67769254e+00,  4.24117871e-02]],\n",
       "\n",
       "       ...,\n",
       "\n",
       "       [[-4.80552116e+02,  8.48394452e+02,  9.75532705e+00,\n",
       "          6.25092153e-01,  6.95519465e+00,  3.82169811e-01],\n",
       "        [-4.31196725e+02,  8.09190679e+02,  7.66543626e+00,\n",
       "         -1.82220061e-01, -2.25670574e+00, -6.26372755e-02],\n",
       "        [-4.52508698e+02,  8.30433084e+02,  7.06602761e+00,\n",
       "          4.21419771e-01,  3.35154354e+00,  5.63952130e-01],\n",
       "        ...,\n",
       "        [-4.51443160e+02,  8.29479391e+02,  7.38906494e+00,\n",
       "          6.98427417e-02, -1.71601406e-01, -1.95143299e-01],\n",
       "        [-4.11875727e+02,  7.75360191e+02,  1.26196169e+01,\n",
       "          2.62722383e-01,  2.82458644e+00,  1.51738665e-01],\n",
       "        [-4.69644956e+02,  8.51797302e+02,  7.16396489e+00,\n",
       "          2.00624696e-01,  1.52748376e+00, -2.99756244e-02]],\n",
       "\n",
       "       [[ 6.20953368e+02, -3.70103391e+02,  8.15187614e+00,\n",
       "         -1.31875451e-01, -1.88703514e+00,  2.10909757e-01],\n",
       "        [ 6.53300959e+02, -4.02685023e+02,  5.87411612e+00,\n",
       "          5.49076038e-02, -3.80496204e-02,  1.87207439e-01],\n",
       "        [ 6.61943268e+02, -4.07846229e+02,  5.31472819e+00,\n",
       "         -3.00224142e-01, -2.12988511e+00, -2.86468951e-01],\n",
       "        ...,\n",
       "        [ 6.55434272e+02, -4.01104674e+02,  6.11571646e+00,\n",
       "         -4.25897195e-03, -2.98551126e-01, -1.28835742e-01],\n",
       "        [ 6.55715286e+02, -4.01412852e+02,  6.35519154e+00,\n",
       "          4.88136619e-01,  3.27493673e+00,  4.88858930e-01],\n",
       "        [ 6.78133668e+02, -4.28762376e+02,  6.68898478e+00,\n",
       "         -1.14675197e-01, -6.05309812e-01, -8.74793639e-02]],\n",
       "\n",
       "       [[ 3.25361484e+02, -4.01848817e+01,  1.52687148e+01,\n",
       "         -3.38860542e-02, -6.34956595e-01,  5.37710231e-01],\n",
       "        [ 3.71306020e+02, -8.79045999e+01,  1.42180288e+01,\n",
       "         -6.90294692e-02, -1.41772173e+00,  2.84507863e-01],\n",
       "        [ 4.06788278e+02, -1.16210281e+02,  1.32969233e+01,\n",
       "          3.49775032e-01,  4.29756942e+00,  3.58311747e-01],\n",
       "        ...,\n",
       "        [ 3.40419672e+02, -4.01032645e+01,  1.44428431e+01,\n",
       "          5.61195009e-02,  8.98555584e-01,  1.67672330e-01],\n",
       "        [ 3.57162656e+02, -6.83248127e+01,  1.42732374e+01,\n",
       "          1.70375384e-01,  2.06738319e+00,  3.19403638e-01],\n",
       "        [ 4.03782128e+02, -1.27489179e+02,  1.44351366e+01,\n",
       "         -9.09940534e-02, -1.30272894e+00, -3.33761072e-02]]])"
      ]
     },
     "execution_count": 55,
     "metadata": {},
     "output_type": "execute_result"
    }
   ],
   "source": [
    "km_dba.cluster_centers_"
   ]
  },
  {
   "cell_type": "code",
   "execution_count": 61,
   "metadata": {},
   "outputs": [],
   "source": [
    "### isolation forest\n",
    "iso_clf = IsolationForest(n_estimators=100, contamination=0.3, warm_start=True)\n",
    "iso_clf.fit(iso_feature)\n",
    "pickle.dump(iso_clf, open('risk_model/iforest_model.pkl', 'wb'))"
   ]
  },
  {
   "cell_type": "code",
   "execution_count": 62,
   "metadata": {},
   "outputs": [],
   "source": [
    "############  run below after above is finished"
   ]
  },
  {
   "cell_type": "code",
   "execution_count": 63,
   "metadata": {},
   "outputs": [],
   "source": [
    "# compute prob after finding the best k and its model\n",
    "n_cls = 12 # <- manually select\n",
    "kmeans =km_dba\n",
    "total = Counter(kmeans.labels_)\n",
    "clustering_labels = kmeans.labels_\n",
    "labels = iso_clf.predict(iso_feature)\n",
    "abnormal = defaultdict(int)\n",
    "for i, ele in enumerate(labels):\n",
    "    c=clustering_labels[i]\n",
    "    if ele ==-1:\n",
    "        abnormal[c]+=1\n",
    "prob = defaultdict(float)\n",
    "for n in range(n_cls):\n",
    "    if total[n]==0:\n",
    "        prob[n]=0\n",
    "    else:\n",
    "        prob[n] = round(abnormal[n]/total[n], 3)\n",
    "pickle.dump(prob, open('risk_model/prob_12.pkl', 'wb'))"
   ]
  },
  {
   "cell_type": "markdown",
   "metadata": {},
   "source": [
    "# fix prob and models"
   ]
  },
  {
   "cell_type": "code",
   "execution_count": 64,
   "metadata": {},
   "outputs": [
    {
     "name": "stdout",
     "output_type": "stream",
     "text": [
      "defaultdict(<class 'float'>, {0: 0.364, 1: 0.307, 2: 0.278, 3: 0.286, 4: 0.317, 5: 0.278, 6: 0.369, 7: 0.308, 8: 0.263, 9: 0.281, 10: 0.302, 11: 0.289})\n"
     ]
    }
   ],
   "source": [
    "print(prob)"
   ]
  },
  {
   "cell_type": "code",
   "execution_count": null,
   "metadata": {},
   "outputs": [],
   "source": []
  }
 ],
 "metadata": {
  "kernelspec": {
   "display_name": "Python 3",
   "language": "python",
   "name": "python3"
  },
  "language_info": {
   "codemirror_mode": {
    "name": "ipython",
    "version": 3
   },
   "file_extension": ".py",
   "mimetype": "text/x-python",
   "name": "python",
   "nbconvert_exporter": "python",
   "pygments_lexer": "ipython3",
   "version": "3.7.7"
  }
 },
 "nbformat": 4,
 "nbformat_minor": 4
}
